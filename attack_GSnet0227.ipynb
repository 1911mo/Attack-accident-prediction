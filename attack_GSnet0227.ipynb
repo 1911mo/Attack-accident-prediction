{
 "cells": [
  {
   "cell_type": "code",
   "execution_count": 1,
   "metadata": {},
   "outputs": [],
   "source": [
    "%load_ext autoreload\n",
    "%autoreload 2"
   ]
  },
  {
   "cell_type": "code",
   "execution_count": 2,
   "metadata": {},
   "outputs": [],
   "source": [
    "import os\n",
    "os.environ[\"CUDA_VISIBLE_DEVICES\"] = '1'"
   ]
  },
  {
   "cell_type": "code",
   "execution_count": 3,
   "metadata": {},
   "outputs": [
    {
     "name": "stderr",
     "output_type": "stream",
     "text": [
      "/home/wyb/miniconda3/lib/python3.10/site-packages/tqdm/auto.py:22: TqdmWarning: IProgress not found. Please update jupyter and ipywidgets. See https://ipywidgets.readthedocs.io/en/stable/user_install.html\n",
      "  from .autonotebook import tqdm as notebook_tqdm\n",
      "/home/wyb/miniconda3/lib/python3.10/site-packages/mmcv/__init__.py:20: UserWarning: On January 1, 2023, MMCV will release v2.0.0, in which it will remove components related to the training process and add a data transformation module. In addition, it will rename the package names mmcv to mmcv-lite and mmcv-full to mmcv. See https://github.com/open-mmlab/mmcv/blob/master/docs/en/compatibility.md for more details.\n",
      "  warnings.warn(\n"
     ]
    }
   ],
   "source": [
    "#依赖的包\n",
    "from lib.dataloader import normal_and_generate_dataset_time, get_mask, get_adjacent, get_grid_node_map_maxtrix\n",
    "#攻击函数import\n",
    "from lib.utils_new import mask_loss, compute_loss, predict_and_evaluate, attack, random_attack, fgsm_attack, min_attack\n",
    "from lib.utils_new import saliency, saliency_loss, attack_js, attack_js,attack_saliency,rand_attack\n",
    "from model.GSNet import GSNet\n",
    "from lib.early_stop import EarlyStopping\n",
    "import torch\n",
    "import torch.nn as nn\n",
    "import torch.utils.data as Data\n",
    "import torch.optim as optim\n",
    "import torch.nn.functional as F\n",
    "\n",
    "import numpy as np\n",
    "import json\n",
    "import configparser\n",
    "import pickle as pkl\n",
    "from time import time\n",
    "from datetime import datetime\n",
    "import shutil\n",
    "import argparse\n",
    "import random\n",
    "import math\n",
    "\n",
    "import sys\n",
    "import os\n"
   ]
  },
  {
   "cell_type": "code",
   "execution_count": 4,
   "metadata": {},
   "outputs": [],
   "source": [
    "#完整运行时会生成txt日志记录#\n",
    "train_log_filename = \"test_log.txt\"\n",
    "train_log_filepath = os.path.join(\"./\", train_log_filename)\n",
    "now = datetime.now()\n",
    "date_time = now.strftime(\"|%Y-%m-%d, %H:%M:%S| \")\n",
    "\n",
    "#以命令方式运行时会自动设置工作空间\n",
    "#file会报错，应该家’‘\n",
    "curPath = os.path.abspath(os.path.dirname('__file__'))\n",
    "rootPath = os.path.split(curPath)[0]\n",
    "sys.path.append(rootPath)"
   ]
  },
  {
   "cell_type": "code",
   "execution_count": 6,
   "metadata": {},
   "outputs": [
    {
     "name": "stdout",
     "output_type": "stream",
     "text": [
      "True\n"
     ]
    }
   ],
   "source": [
    "#配置文件载入，初始参数记录\n",
    "\n",
    "config_filename = \"config/nyc/GSNet_NYC_Config.json\"\n",
    "with open(config_filename, 'r') as f:\n",
    "    config = json.loads(f.read())\n",
    "# 写入测试超参数\n",
    "with open(train_log_filepath, \"a\") as f:\n",
    "    f.write('测试文件运行时间：'+date_time)\n",
    "    f.write('\\r\\n')\n",
    "    f.write('超参数设置：')\n",
    "    f.write('\\r\\n')\n",
    "    f.write(json.dumps(config, sort_keys=True, indent=4))\n",
    "    f.write('\\r\\n')\n",
    "f.close\n",
    "#GPU设置\n",
    "device = torch.device('cuda:0' if torch.cuda.is_available() else 'cpu')\n",
    "print(torch.cuda.is_available())\n",
    "\n",
    "#文件读取\n",
    "#命令行参数实质上就是赋初始值的作用，可以删除直接赋值就好\n",
    "north_south_map = config['north_south_map']\n",
    "west_east_map = config['west_east_map']\n",
    "\n",
    "all_data_filename = config['all_data_filename']\n",
    "mask_filename = config['mask_filename']\n",
    "\n",
    "road_adj_filename = config['road_adj_filename']\n",
    "risk_adj_filename = config['risk_adj_filename']\n",
    "poi_adj_filename = config['poi_adj_filename']\n",
    "grid_node_filename = config['grid_node_filename']\n",
    "grid_node_map = get_grid_node_map_maxtrix(grid_node_filename)\n",
    "num_of_vertices = grid_node_map.shape[1]\n",
    "\n",
    "\n",
    "patience = config['patience']#用处：\n",
    "delta = config['delta']\n",
    "\n",
    "if config['seed'] is not None:\n",
    "    seed = config['seed']\n",
    "    torch.manual_seed(seed)\n",
    "    torch.cuda.manual_seed(seed)\n",
    "    torch.backends.cudnn.deterministic = True\n",
    "    np.random.seed(seed)\n",
    "    random.seed(seed)\n",
    "\n",
    "\n",
    "train_rate = config['train_rate']\n",
    "valid_rate = config['valid_rate']\n",
    "\n",
    "recent_prior = config['recent_prior']\n",
    "week_prior = config['week_prior']\n",
    "one_day_period = config['one_day_period']\n",
    "days_of_week = config['days_of_week']\n",
    "pre_len = config['pre_len']\n",
    "seq_len = recent_prior + week_prior\n",
    "\n",
    "training_epoch = config['training_epoch']\n"
   ]
  },
  {
   "attachments": {},
   "cell_type": "markdown",
   "metadata": {},
   "source": [
    "# 原始数据处理\n",
    "all_data.pkl       (8760, 48, 20, 20) 8760=365*24\n",
    "grid_node_map.pkl  (400, 243)  映射矩阵\n",
    "输出特征大小\n",
    "训练集：4584*7*48*20*20\n",
    "验证集：1080*7*48*20*20\n",
    "测试集：1080*7*48*20*20\n",
    "7的含义：t =673时刻是，输入7个时间片，[1, 169, 337, 505, 670, 671, 672]"
   ]
  },
  {
   "cell_type": "code",
   "execution_count": 7,
   "metadata": {},
   "outputs": [
    {
     "name": "stdout",
     "output_type": "stream",
     "text": [
      "feature: (4584, 7, 48, 20, 20) label: (4584, 1, 20, 20) time: (4584, 32) high feature: (1337, 7, 48, 20, 20) high label: (1337, 1, 20, 20)\n",
      "graph_x: (4584, 7, 3, 243) high_graph_x: (1337, 7, 3, 243)\n",
      "feature: (1080, 7, 48, 20, 20) label: (1080, 1, 20, 20) time: (1080, 32) high feature: (315, 7, 48, 20, 20) high label: (315, 1, 20, 20)\n",
      "graph_x: (1080, 7, 3, 243) high_graph_x: (315, 7, 3, 243)\n",
      "x的最大值:7\n",
      "x的最小值:0.0\n",
      "feature: (1080, 7, 48, 20, 20) label: (1080, 1, 20, 20) time: (1080, 32) high feature: (315, 7, 48, 20, 20) high label: (315, 1, 20, 20)\n",
      "graph_x: (1080, 7, 3, 243) high_graph_x: (315, 7, 3, 243)\n",
      "x的最大值:3\n",
      "x的最小值:0.0\n",
      "模型参数---------------------------------------------\n",
      "48 5 7 1 256 32 3 [64, 64]\n",
      "模型加载成功！\n",
      "Number of Parameters: 6278578\n"
     ]
    }
   ],
   "source": [
    "batch_size = config['batch_size']\n",
    "learning_rate = config['learning_rate']\n",
    "\n",
    "#模型结构\n",
    "num_of_gru_layers = config['num_of_gru_layers']\n",
    "gru_hidden_size = config['gru_hidden_size']\n",
    "gcn_num_filter = config['gcn_num_filter']\n",
    "\n",
    "loaders = []\n",
    "scaler = \"\"\n",
    "train_data_shape = \"\"\n",
    "graph_feature_shape = \"\"\n",
    "   ################## 获取测试数据#########################\n",
    "for idx, (x, y, target_times, high_x, high_y, high_target_times, scaler) in enumerate(normal_and_generate_dataset_time(\n",
    "        all_data_filename,\n",
    "        train_rate=train_rate,\n",
    "        valid_rate=valid_rate,\n",
    "        recent_prior=recent_prior,\n",
    "        week_prior=week_prior,\n",
    "        one_day_period=one_day_period,\n",
    "        days_of_week=days_of_week,\n",
    "        pre_len=pre_len)):\n",
    "    if False:#前100个，没写默认是false\n",
    "        x = x[:100]\n",
    "        y = y[:100]\n",
    "        target_times = target_times[:100]\n",
    "        high_x = high_x[:100]\n",
    "        high_y = high_y[:100]\n",
    "        high_target_times = high_target_times[:100]\n",
    "\n",
    "    if 'nyc' in all_data_filename:\n",
    "        graph_x = x[:, :, [0, 46, 47], :, :].reshape(\n",
    "            (x.shape[0], x.shape[1], -1, north_south_map*west_east_map))#4584*7*3*400,注意reshape和交换维度的不同\n",
    "        high_graph_x = high_x[:, :, [0, 46, 47], :, :].reshape(\n",
    "            (high_x.shape[0], high_x.shape[1], -1, north_south_map*west_east_map))#1337*7*3*400\n",
    "        graph_x = np.dot(graph_x, grid_node_map)#4584*7*3*243\n",
    "        high_graph_x = np.dot(high_graph_x, grid_node_map)\n",
    "    if 'chicago' in all_data_filename:\n",
    "        graph_x = x[:, :, [0, 39, 40], :, :].reshape(\n",
    "            (x.shape[0], x.shape[1], -1, north_south_map*west_east_map))\n",
    "        high_graph_x = high_x[:, :, [0, 39, 40], :, :].reshape(\n",
    "            (high_x.shape[0], high_x.shape[1], -1, north_south_map*west_east_map))\n",
    "        graph_x = np.dot(graph_x, grid_node_map)\n",
    "        high_graph_x = np.dot(high_graph_x, grid_node_map)\n",
    "\n",
    "    print(\"feature:\", str(x.shape), \"label:\", str(y.shape), \"time:\", str(target_times.shape),\n",
    "            \"high feature:\", str(high_x.shape), \"high label:\", str(high_y.shape))\n",
    "    print(\"graph_x:\", str(graph_x.shape),\n",
    "            \"high_graph_x:\", str(high_graph_x.shape))\n",
    "    if x.shape[0] ==1080:\n",
    "        b = np.ones_like(x)\n",
    "        b = np.where(x>1,1,0)\n",
    "        print('x的最大值:{}'.format(np.sum(b)))\n",
    "        print('x的最小值:{}'.format(np.min(x)))\n",
    "    if idx == 0:\n",
    "        scaler = scaler\n",
    "        train_data_shape = x.shape\n",
    "        time_shape = target_times.shape\n",
    "        graph_feature_shape = graph_x.shape\n",
    "    loaders.append(Data.DataLoader(\n",
    "        Data.TensorDataset(\n",
    "            torch.from_numpy(x),\n",
    "            torch.from_numpy(target_times),#4584*32\n",
    "            torch.from_numpy(graph_x),\n",
    "            torch.from_numpy(y)\n",
    "        ),\n",
    "        batch_size=batch_size,\n",
    "        shuffle=(idx == 0)\n",
    "    ))\n",
    "    if idx == 2:\n",
    "        high_test_loader = Data.DataLoader(\n",
    "            Data.TensorDataset(\n",
    "                torch.from_numpy(high_x),\n",
    "                torch.from_numpy(high_target_times),\n",
    "                torch.from_numpy(high_graph_x),\n",
    "                torch.from_numpy(high_y)\n",
    "            ),\n",
    "            batch_size=batch_size,\n",
    "            shuffle=(idx == 0)\n",
    "        )\n",
    "train_loader, val_loader, test_loader = loaders\n",
    "################ 获取测试数据##################\n",
    "nums_of_filter = []\n",
    "for _ in range(2):\n",
    "    nums_of_filter.append(gcn_num_filter)\n",
    "\n",
    "GSNet_Model = GSNet(train_data_shape[2], num_of_gru_layers, seq_len, pre_len,\n",
    "                    gru_hidden_size, time_shape[1], graph_feature_shape[2],\n",
    "                    nums_of_filter, north_south_map, west_east_map)\n",
    "print(\"模型参数---------------------------------------------\")\n",
    "print(train_data_shape[2], num_of_gru_layers, seq_len, pre_len,\n",
    "        gru_hidden_size, time_shape[1], graph_feature_shape[2],\n",
    "        nums_of_filter)\n",
    "\n",
    "# multi gpu\n",
    "if torch.cuda.device_count() > 10:\n",
    "    print(\"Let's use\", torch.cuda.device_count(), \"GPUs!\", flush=True)\n",
    "    GSNet_Model = nn.DataParallel(GSNet_Model)\n",
    "############### 载入模型######################\n",
    "GSNet_Model.to(device)\n",
    "# print(GSNet_Model)\n",
    "GSNet_Model.load_state_dict(torch.load(\"./data/model_parameter.pkl\"))\n",
    "print(\"模型加载成功！\")\n",
    "\n",
    "num_of_parameters = 0\n",
    "for name, parameters in GSNet_Model.named_parameters():\n",
    "    num_of_parameters += np.prod(parameters.shape)\n",
    "print(\"Number of Parameters: {}\".format(num_of_parameters), flush=True)\n",
    "\n",
    "trainer = optim.Adam(GSNet_Model.parameters(), lr=learning_rate)\n",
    "early_stop = EarlyStopping(patience=patience, delta=delta)\n",
    "\n",
    "risk_mask = get_mask(mask_filename)\n",
    "road_adj = get_adjacent(road_adj_filename)\n",
    "risk_adj = get_adjacent(risk_adj_filename)\n",
    "if poi_adj_filename == \"\":\n",
    "    poi_adj = None\n",
    "else:\n",
    "    poi_adj = get_adjacent(poi_adj_filename)\n"
   ]
  },
  {
   "cell_type": "code",
   "execution_count": null,
   "metadata": {},
   "outputs": [],
   "source": [
    "#测试代码，功能是验证历史交通值的改变的影响\n",
    "import pickle\n",
    "with open('test_data.pkl','wb') as fil:\n",
    "    pickle.dump(fil, fil)"
   ]
  },
  {
   "cell_type": "code",
   "execution_count": 8,
   "metadata": {},
   "outputs": [
    {
     "name": "stderr",
     "output_type": "stream",
     "text": [
      "2023-03-22 16:02:55,739 - INFO - Loading config file from \n"
     ]
    }
   ],
   "source": [
    "#配置log日志输出\n",
    "from myfunction import get_root_logger, logger_info\n",
    "logger = get_root_logger('INFO', './logdata')\n",
    "logger.info(\"Loading config file from \")\n"
   ]
  },
  {
   "cell_type": "code",
   "execution_count": 24,
   "metadata": {},
   "outputs": [
    {
     "name": "stderr",
     "output_type": "stream",
     "text": [
      "2023-03-15 19:44:21,473 - INFO - Loading config file from \n",
      "2023-03-15 19:44:21,477 - INFO - random_kl_pgd\n"
     ]
    },
    {
     "name": "stdout",
     "output_type": "stream",
     "text": [
      "dataset,model,node_select,method,K,batch size,clean_RMSE,clean_recall,clean_MAP,clean_RCR,adv_RMSE,adv_recall,adv_MAP,adv_RCR,local_adv_RMSE,local_adv_recall,local_adv_MAP,local_adv_RCR\n"
     ]
    },
    {
     "name": "stderr",
     "output_type": "stream",
     "text": [
      "2023-03-15 19:44:25,549 - INFO - Info:  [64/1080 (6%)]\t  clean_RMSE: 7.1454 clean_Recall: 35.7388 clean_MAP: 0.1823 clean_RCR: 0.6776   adv_RMSE: 6.9147 adv_Recall: 30.2405 adv_MAP: 0.1479 adv_RCR: 0.7603 time:1.963\n",
      "2023-03-15 19:44:29,506 - INFO - Info:  [128/1080 (12%)]\t  clean_RMSE: 8.5350 clean_Recall: 38.0734 clean_MAP: 0.1698 clean_RCR: 0.6284   adv_RMSE: 8.2478 adv_Recall: 33.9450 adv_MAP: 0.1686 adv_RCR: 0.6849 time:1.954\n",
      "2023-03-15 19:44:33,502 - INFO - Info:  [192/1080 (18%)]\t  clean_RMSE: 8.2390 clean_Recall: 30.0781 clean_MAP: 0.1902 clean_RCR: 0.6865   adv_RMSE: 8.1155 adv_Recall: 30.0781 adv_MAP: 0.1838 adv_RCR: 0.6990 time:1.975\n",
      "2023-03-15 19:44:37,489 - INFO - Info:  [256/1080 (24%)]\t  clean_RMSE: 7.3895 clean_Recall: 40.7609 clean_MAP: 0.2031 clean_RCR: 0.6433   adv_RMSE: 7.3410 adv_Recall: 38.5870 adv_MAP: 0.1801 adv_RCR: 0.6760 time:1.977\n",
      "2023-03-15 19:44:41,450 - INFO - Info:  [320/1080 (29%)]\t  clean_RMSE: 7.9974 clean_Recall: 26.4550 clean_MAP: 0.1315 clean_RCR: 0.7234   adv_RMSE: 8.0832 adv_Recall: 25.9259 adv_MAP: 0.1227 adv_RCR: 0.7435 time:1.959\n",
      "2023-03-15 19:44:45,421 - INFO - Info:  [384/1080 (35%)]\t  clean_RMSE: 8.6335 clean_Recall: 32.1429 clean_MAP: 0.1877 clean_RCR: 0.6694   adv_RMSE: 8.4813 adv_Recall: 29.9107 adv_MAP: 0.1362 adv_RCR: 0.7030 time:1.972\n",
      "2023-03-15 19:44:49,375 - INFO - Info:  [448/1080 (41%)]\t  clean_RMSE: 7.5965 clean_Recall: 31.2977 clean_MAP: 0.1807 clean_RCR: 0.6777   adv_RMSE: 7.2953 adv_Recall: 29.3893 adv_MAP: 0.1624 adv_RCR: 0.7194 time:1.953\n",
      "2023-03-15 19:44:53,335 - INFO - Info:  [512/1080 (47%)]\t  clean_RMSE: 9.1603 clean_Recall: 28.3186 clean_MAP: 0.1769 clean_RCR: 0.7326   adv_RMSE: 8.9855 adv_Recall: 26.5487 adv_MAP: 0.1599 adv_RCR: 0.7414 time:1.960\n",
      "2023-03-15 19:44:57,313 - INFO - Info:  [576/1080 (53%)]\t  clean_RMSE: 8.6458 clean_Recall: 33.3333 clean_MAP: 0.2060 clean_RCR: 0.6441   adv_RMSE: 8.4405 adv_Recall: 31.0811 adv_MAP: 0.1865 adv_RCR: 0.6683 time:1.980\n",
      "2023-03-15 19:45:01,283 - INFO - Info:  [640/1080 (59%)]\t  clean_RMSE: 8.7051 clean_Recall: 31.1037 clean_MAP: 0.1765 clean_RCR: 0.6752   adv_RMSE: 8.5755 adv_Recall: 28.4281 adv_MAP: 0.1445 adv_RCR: 0.7039 time:1.969\n",
      "2023-03-15 19:45:05,259 - INFO - Info:  [704/1080 (65%)]\t  clean_RMSE: 9.4013 clean_Recall: 28.5714 clean_MAP: 0.1802 clean_RCR: 0.7025   adv_RMSE: 9.1874 adv_Recall: 24.4048 adv_MAP: 0.1258 adv_RCR: 0.7679 time:1.974\n",
      "2023-03-15 19:45:09,232 - INFO - Info:  [768/1080 (71%)]\t  clean_RMSE: 6.1767 clean_Recall: 39.5425 clean_MAP: 0.2426 clean_RCR: 0.6427   adv_RMSE: 5.9679 adv_Recall: 36.9281 adv_MAP: 0.2243 adv_RCR: 0.6796 time:1.968\n",
      "2023-03-15 19:45:13,203 - INFO - Info:  [832/1080 (76%)]\t  clean_RMSE: 6.7095 clean_Recall: 34.7079 clean_MAP: 0.2108 clean_RCR: 0.6496   adv_RMSE: 6.5209 adv_Recall: 31.6151 adv_MAP: 0.1837 adv_RCR: 0.6889 time:1.965\n",
      "2023-03-15 19:45:17,178 - INFO - Info:  [896/1080 (82%)]\t  clean_RMSE: 7.4521 clean_Recall: 38.5281 clean_MAP: 0.1936 clean_RCR: 0.6036   adv_RMSE: 7.2721 adv_Recall: 32.9004 adv_MAP: 0.1492 adv_RCR: 0.6956 time:1.966\n",
      "2023-03-15 19:45:21,138 - INFO - Info:  [960/1080 (88%)]\t  clean_RMSE: 9.2820 clean_Recall: 30.2326 clean_MAP: 0.1307 clean_RCR: 0.7304   adv_RMSE: 8.9659 adv_Recall: 27.9070 adv_MAP: 0.1206 adv_RCR: 0.7603 time:1.965\n",
      "2023-03-15 19:45:25,094 - INFO - Info:  [1024/1080 (94%)]\t  clean_RMSE: 8.4972 clean_Recall: 27.6382 clean_MAP: 0.1414 clean_RCR: 0.7148   adv_RMSE: 8.1158 adv_Recall: 25.1256 adv_MAP: 0.1264 adv_RCR: 0.7571 time:1.966\n",
      "2023-03-15 19:45:28,570 - INFO - Info:  [1080/1080 (100%)]\t  clean_RMSE: 7.3883 clean_Recall: 25.6410 clean_MAP: 0.1229 clean_RCR: 0.7598   adv_RMSE: 6.9149 adv_Recall: 24.3590 adv_MAP: 0.1508 adv_RCR: 0.7621 time:1.462\n",
      "2023-03-15 19:45:31,245 - INFO - Info:  [1080/1080 (100%)]\t  clean_RMSE: 7.8063 clean_Recall: 33.2479 clean_MAP: 0.1789 clean_RCR: 0.6746   adv_RMSE: 7.6097 adv_Recall: 30.8687 adv_MAP: 0.1571 adv_RCR: 0.7077 time:4.137\n",
      "2023-03-15 19:45:35,596 - INFO - random_prenoise_pgd\n"
     ]
    },
    {
     "name": "stdout",
     "output_type": "stream",
     "text": [
      "NYC,Gsnet,random,kl_pgd,80,32,7.8062616694831215,33.24792581747194,0.178880014328625,0.6745602564431761,7.609718393336176,30.86871644704734,0.15709620075475528,0.7076626931170686,0.47499106800314655,99.7314806121491,0.996674340736373,0.0007441392842060441\n"
     ]
    },
    {
     "name": "stderr",
     "output_type": "stream",
     "text": [
      "2023-03-15 19:45:39,674 - INFO - Info:  [64/1080 (6%)]\t  clean_RMSE: 7.1454 clean_Recall: 35.7388 clean_MAP: 0.1823 clean_RCR: 0.6776   adv_RMSE: 6.9223 adv_Recall: 33.3333 adv_MAP: 0.1738 adv_RCR: 0.7193 time:1.957\n",
      "2023-03-15 19:45:43,644 - INFO - Info:  [128/1080 (12%)]\t  clean_RMSE: 8.5350 clean_Recall: 38.0734 clean_MAP: 0.1698 clean_RCR: 0.6284   adv_RMSE: 8.1514 adv_Recall: 35.3211 adv_MAP: 0.1524 adv_RCR: 0.6903 time:1.956\n",
      "2023-03-15 19:45:47,601 - INFO - Info:  [192/1080 (18%)]\t  clean_RMSE: 8.2390 clean_Recall: 30.0781 clean_MAP: 0.1902 clean_RCR: 0.6865   adv_RMSE: 8.0789 adv_Recall: 29.6875 adv_MAP: 0.1717 adv_RCR: 0.6931 time:1.955\n",
      "2023-03-15 19:45:51,550 - INFO - Info:  [256/1080 (24%)]\t  clean_RMSE: 7.3895 clean_Recall: 40.7609 clean_MAP: 0.2031 clean_RCR: 0.6433   adv_RMSE: 7.3094 adv_Recall: 37.7717 adv_MAP: 0.1863 adv_RCR: 0.6936 time:1.956\n",
      "2023-03-15 19:45:55,485 - INFO - Info:  [320/1080 (29%)]\t  clean_RMSE: 7.9974 clean_Recall: 26.4550 clean_MAP: 0.1315 clean_RCR: 0.7234   adv_RMSE: 7.9948 adv_Recall: 24.8677 adv_MAP: 0.1306 adv_RCR: 0.7471 time:1.959\n",
      "2023-03-15 19:45:59,465 - INFO - Info:  [384/1080 (35%)]\t  clean_RMSE: 8.6335 clean_Recall: 32.1429 clean_MAP: 0.1877 clean_RCR: 0.6694   adv_RMSE: 8.4125 adv_Recall: 30.3571 adv_MAP: 0.1378 adv_RCR: 0.7152 time:1.963\n",
      "2023-03-15 19:46:03,421 - INFO - Info:  [448/1080 (41%)]\t  clean_RMSE: 7.5965 clean_Recall: 31.2977 clean_MAP: 0.1807 clean_RCR: 0.6777   adv_RMSE: 7.2623 adv_Recall: 29.7710 adv_MAP: 0.1682 adv_RCR: 0.6944 time:1.970\n",
      "2023-03-15 19:46:07,371 - INFO - Info:  [512/1080 (47%)]\t  clean_RMSE: 9.1603 clean_Recall: 28.3186 clean_MAP: 0.1769 clean_RCR: 0.7326   adv_RMSE: 8.9186 adv_Recall: 28.7611 adv_MAP: 0.1947 adv_RCR: 0.7187 time:1.952\n",
      "2023-03-15 19:46:11,323 - INFO - Info:  [576/1080 (53%)]\t  clean_RMSE: 8.6458 clean_Recall: 33.3333 clean_MAP: 0.2060 clean_RCR: 0.6441   adv_RMSE: 8.3929 adv_Recall: 32.4324 adv_MAP: 0.1812 adv_RCR: 0.6641 time:1.961\n",
      "2023-03-15 19:46:15,279 - INFO - Info:  [640/1080 (59%)]\t  clean_RMSE: 8.7051 clean_Recall: 31.1037 clean_MAP: 0.1765 clean_RCR: 0.6752   adv_RMSE: 8.5611 adv_Recall: 29.0970 adv_MAP: 0.1432 adv_RCR: 0.7087 time:1.957\n",
      "2023-03-15 19:46:19,229 - INFO - Info:  [704/1080 (65%)]\t  clean_RMSE: 9.4013 clean_Recall: 28.5714 clean_MAP: 0.1802 clean_RCR: 0.7025   adv_RMSE: 9.0922 adv_Recall: 26.1905 adv_MAP: 0.1501 adv_RCR: 0.7248 time:1.944\n",
      "2023-03-15 19:46:23,190 - INFO - Info:  [768/1080 (71%)]\t  clean_RMSE: 6.1767 clean_Recall: 39.5425 clean_MAP: 0.2426 clean_RCR: 0.6427   adv_RMSE: 5.9487 adv_Recall: 36.6013 adv_MAP: 0.2508 adv_RCR: 0.6736 time:1.964\n",
      "2023-03-15 19:46:27,134 - INFO - Info:  [832/1080 (76%)]\t  clean_RMSE: 6.7095 clean_Recall: 34.7079 clean_MAP: 0.2108 clean_RCR: 0.6496   adv_RMSE: 6.4632 adv_Recall: 29.5533 adv_MAP: 0.1836 adv_RCR: 0.7000 time:1.941\n",
      "2023-03-15 19:46:31,096 - INFO - Info:  [896/1080 (82%)]\t  clean_RMSE: 7.4521 clean_Recall: 38.5281 clean_MAP: 0.1936 clean_RCR: 0.6036   adv_RMSE: 7.2559 adv_Recall: 33.3333 adv_MAP: 0.1608 adv_RCR: 0.6928 time:1.951\n",
      "2023-03-15 19:46:35,029 - INFO - Info:  [960/1080 (88%)]\t  clean_RMSE: 9.2820 clean_Recall: 30.2326 clean_MAP: 0.1307 clean_RCR: 0.7304   adv_RMSE: 8.9277 adv_Recall: 29.0698 adv_MAP: 0.1201 adv_RCR: 0.7647 time:1.947\n",
      "2023-03-15 19:46:38,970 - INFO - Info:  [1024/1080 (94%)]\t  clean_RMSE: 8.4972 clean_Recall: 27.6382 clean_MAP: 0.1414 clean_RCR: 0.7148   adv_RMSE: 8.0817 adv_Recall: 25.1256 adv_MAP: 0.1306 adv_RCR: 0.7528 time:1.955\n",
      "2023-03-15 19:46:42,401 - INFO - Info:  [1080/1080 (100%)]\t  clean_RMSE: 7.3883 clean_Recall: 25.6410 clean_MAP: 0.1229 clean_RCR: 0.7598   adv_RMSE: 6.8920 adv_Recall: 23.7179 adv_MAP: 0.1035 adv_RCR: 0.7944 time:1.447\n",
      "2023-03-15 19:46:45,011 - INFO - Info:  [1080/1080 (100%)]\t  clean_RMSE: 7.8063 clean_Recall: 33.2479 clean_MAP: 0.1789 clean_RCR: 0.6746   adv_RMSE: 7.5637 adv_Recall: 31.1615 adv_MAP: 0.1611 adv_RCR: 0.7040 time:4.057\n",
      "2023-03-15 19:46:49,192 - INFO - saliency_loss_mse_kl_pgd\n"
     ]
    },
    {
     "name": "stdout",
     "output_type": "stream",
     "text": [
      "NYC,Gsnet,random,prenoise_pgd,80,32,7.8062616694831215,33.24792581747194,0.178880014328625,0.6745602564431761,7.563718335084288,31.16154221571498,0.16114675455037578,0.7039672251938259,0.48923161906711604,99.7239695803211,0.9965507790523467,0.0007669416966363601\n",
      "(1080, 20, 20)\n"
     ]
    },
    {
     "name": "stderr",
     "output_type": "stream",
     "text": [
      "2023-03-15 19:47:50,174 - INFO - Info:  [64/1080 (6%)]\t  clean_RMSE: 7.1454 clean_Recall: 35.7388 clean_MAP: 0.1823 clean_RCR: 0.6776   adv_RMSE: 7.0292 adv_Recall: 30.9278 adv_MAP: 0.1549 adv_RCR: 0.7347 time:1.961\n",
      "2023-03-15 19:47:54,143 - INFO - Info:  [128/1080 (12%)]\t  clean_RMSE: 8.5350 clean_Recall: 38.0734 clean_MAP: 0.1698 clean_RCR: 0.6284   adv_RMSE: 8.3697 adv_Recall: 33.0275 adv_MAP: 0.1369 adv_RCR: 0.7118 time:1.969\n",
      "2023-03-15 19:47:58,122 - INFO - Info:  [192/1080 (18%)]\t  clean_RMSE: 8.2390 clean_Recall: 30.0781 clean_MAP: 0.1902 clean_RCR: 0.6865   adv_RMSE: 8.1850 adv_Recall: 28.5156 adv_MAP: 0.1712 adv_RCR: 0.7184 time:1.980\n",
      "2023-03-15 19:48:02,098 - INFO - Info:  [256/1080 (24%)]\t  clean_RMSE: 7.3895 clean_Recall: 40.7609 clean_MAP: 0.2031 clean_RCR: 0.6433   adv_RMSE: 7.5956 adv_Recall: 36.6848 adv_MAP: 0.1729 adv_RCR: 0.7061 time:1.977\n",
      "2023-03-15 19:48:06,024 - INFO - Info:  [320/1080 (29%)]\t  clean_RMSE: 7.9974 clean_Recall: 26.4550 clean_MAP: 0.1315 clean_RCR: 0.7234   adv_RMSE: 8.2046 adv_Recall: 24.3386 adv_MAP: 0.1235 adv_RCR: 0.7723 time:1.944\n",
      "2023-03-15 19:48:10,006 - INFO - Info:  [384/1080 (35%)]\t  clean_RMSE: 8.6335 clean_Recall: 32.1429 clean_MAP: 0.1877 clean_RCR: 0.6694   adv_RMSE: 8.5455 adv_Recall: 28.1250 adv_MAP: 0.1292 adv_RCR: 0.7224 time:1.966\n",
      "2023-03-15 19:48:13,953 - INFO - Info:  [448/1080 (41%)]\t  clean_RMSE: 7.5965 clean_Recall: 31.2977 clean_MAP: 0.1807 clean_RCR: 0.6777   adv_RMSE: 7.3498 adv_Recall: 28.6260 adv_MAP: 0.1530 adv_RCR: 0.7074 time:1.969\n",
      "2023-03-15 19:48:17,914 - INFO - Info:  [512/1080 (47%)]\t  clean_RMSE: 9.1603 clean_Recall: 28.3186 clean_MAP: 0.1769 clean_RCR: 0.7326   adv_RMSE: 9.1140 adv_Recall: 26.1062 adv_MAP: 0.1526 adv_RCR: 0.7424 time:1.966\n",
      "2023-03-15 19:48:21,871 - INFO - Info:  [576/1080 (53%)]\t  clean_RMSE: 8.6458 clean_Recall: 33.3333 clean_MAP: 0.2060 clean_RCR: 0.6441   adv_RMSE: 8.5895 adv_Recall: 31.0811 adv_MAP: 0.1603 adv_RCR: 0.6740 time:1.961\n",
      "2023-03-15 19:48:25,824 - INFO - Info:  [640/1080 (59%)]\t  clean_RMSE: 8.7051 clean_Recall: 31.1037 clean_MAP: 0.1765 clean_RCR: 0.6752   adv_RMSE: 8.7702 adv_Recall: 29.4314 adv_MAP: 0.1472 adv_RCR: 0.7031 time:1.960\n",
      "2023-03-15 19:48:29,790 - INFO - Info:  [704/1080 (65%)]\t  clean_RMSE: 9.4013 clean_Recall: 28.5714 clean_MAP: 0.1802 clean_RCR: 0.7025   adv_RMSE: 9.1813 adv_Recall: 24.4048 adv_MAP: 0.1394 adv_RCR: 0.7520 time:1.950\n",
      "2023-03-15 19:48:33,767 - INFO - Info:  [768/1080 (71%)]\t  clean_RMSE: 6.1767 clean_Recall: 39.5425 clean_MAP: 0.2426 clean_RCR: 0.6427   adv_RMSE: 5.9977 adv_Recall: 35.6209 adv_MAP: 0.2178 adv_RCR: 0.6834 time:1.968\n",
      "2023-03-15 19:48:37,724 - INFO - Info:  [832/1080 (76%)]\t  clean_RMSE: 6.7095 clean_Recall: 34.7079 clean_MAP: 0.2108 clean_RCR: 0.6496   adv_RMSE: 6.6123 adv_Recall: 28.8660 adv_MAP: 0.1808 adv_RCR: 0.7069 time:1.957\n",
      "2023-03-15 19:48:41,664 - INFO - Info:  [896/1080 (82%)]\t  clean_RMSE: 7.4521 clean_Recall: 38.5281 clean_MAP: 0.1936 clean_RCR: 0.6036   adv_RMSE: 7.3825 adv_Recall: 32.0346 adv_MAP: 0.1516 adv_RCR: 0.6966 time:1.938\n",
      "2023-03-15 19:48:45,615 - INFO - Info:  [960/1080 (88%)]\t  clean_RMSE: 9.2820 clean_Recall: 30.2326 clean_MAP: 0.1307 clean_RCR: 0.7304   adv_RMSE: 9.1149 adv_Recall: 28.4884 adv_MAP: 0.1232 adv_RCR: 0.7547 time:1.962\n",
      "2023-03-15 19:48:49,575 - INFO - Info:  [1024/1080 (94%)]\t  clean_RMSE: 8.4972 clean_Recall: 27.6382 clean_MAP: 0.1414 clean_RCR: 0.7148   adv_RMSE: 8.1939 adv_Recall: 23.6181 adv_MAP: 0.1235 adv_RCR: 0.7616 time:1.967\n",
      "2023-03-15 19:48:53,041 - INFO - Info:  [1080/1080 (100%)]\t  clean_RMSE: 7.3883 clean_Recall: 25.6410 clean_MAP: 0.1229 clean_RCR: 0.7598   adv_RMSE: 6.9903 adv_Recall: 21.7949 adv_MAP: 0.1074 adv_RCR: 0.8011 time:1.464\n",
      "2023-03-15 19:48:55,628 - INFO - Info:  [1080/1080 (100%)]\t  clean_RMSE: 7.8063 clean_Recall: 33.2479 clean_MAP: 0.1789 clean_RCR: 0.6746   adv_RMSE: 7.7191 adv_Recall: 29.9780 adv_MAP: 0.1534 adv_RCR: 0.7135 time:4.051\n",
      "2023-03-15 19:48:59,763 - INFO - saliency_loss_mse_prenoise_pgd\n"
     ]
    },
    {
     "name": "stdout",
     "output_type": "stream",
     "text": [
      "NYC,Gsnet,saliency_loss_mse,kl_pgd,80,32,7.8062616694831215,33.24792581747194,0.178880014328625,0.6745602564431761,7.719135475572013,29.978038067349928,0.15336088939843875,0.713495730992738,0.4596021512306986,99.57562670171815,0.9948698489417531,0.0011693703595254956\n",
      "(1080, 20, 20)\n"
     ]
    },
    {
     "name": "stderr",
     "output_type": "stream",
     "text": [
      "2023-03-15 19:50:00,765 - INFO - Info:  [64/1080 (6%)]\t  clean_RMSE: 7.1454 clean_Recall: 35.7388 clean_MAP: 0.1823 clean_RCR: 0.6776   adv_RMSE: 6.9972 adv_Recall: 31.6151 adv_MAP: 0.1591 adv_RCR: 0.7412 time:1.955\n",
      "2023-03-15 19:50:04,715 - INFO - Info:  [128/1080 (12%)]\t  clean_RMSE: 8.5350 clean_Recall: 38.0734 clean_MAP: 0.1698 clean_RCR: 0.6284   adv_RMSE: 8.3208 adv_Recall: 33.4862 adv_MAP: 0.1443 adv_RCR: 0.7101 time:1.962\n",
      "2023-03-15 19:50:08,669 - INFO - Info:  [192/1080 (18%)]\t  clean_RMSE: 8.2390 clean_Recall: 30.0781 clean_MAP: 0.1902 clean_RCR: 0.6865   adv_RMSE: 8.1425 adv_Recall: 27.7344 adv_MAP: 0.1670 adv_RCR: 0.7204 time:1.942\n",
      "2023-03-15 19:50:12,627 - INFO - Info:  [256/1080 (24%)]\t  clean_RMSE: 7.3895 clean_Recall: 40.7609 clean_MAP: 0.2031 clean_RCR: 0.6433   adv_RMSE: 7.5711 adv_Recall: 36.9565 adv_MAP: 0.1748 adv_RCR: 0.7023 time:1.959\n",
      "2023-03-15 19:50:16,565 - INFO - Info:  [320/1080 (29%)]\t  clean_RMSE: 7.9974 clean_Recall: 26.4550 clean_MAP: 0.1315 clean_RCR: 0.7234   adv_RMSE: 8.1447 adv_Recall: 24.3386 adv_MAP: 0.1220 adv_RCR: 0.7724 time:1.949\n",
      "2023-03-15 19:50:20,497 - INFO - Info:  [384/1080 (35%)]\t  clean_RMSE: 8.6335 clean_Recall: 32.1429 clean_MAP: 0.1877 clean_RCR: 0.6694   adv_RMSE: 8.4926 adv_Recall: 28.5714 adv_MAP: 0.1339 adv_RCR: 0.7203 time:1.949\n",
      "2023-03-15 19:50:24,448 - INFO - Info:  [448/1080 (41%)]\t  clean_RMSE: 7.5965 clean_Recall: 31.2977 clean_MAP: 0.1807 clean_RCR: 0.6777   adv_RMSE: 7.3294 adv_Recall: 28.6260 adv_MAP: 0.1578 adv_RCR: 0.7172 time:1.955\n",
      "2023-03-15 19:50:28,435 - INFO - Info:  [512/1080 (47%)]\t  clean_RMSE: 9.1603 clean_Recall: 28.3186 clean_MAP: 0.1769 clean_RCR: 0.7326   adv_RMSE: 9.0380 adv_Recall: 26.5487 adv_MAP: 0.1564 adv_RCR: 0.7414 time:1.965\n",
      "2023-03-15 19:50:32,384 - INFO - Info:  [576/1080 (53%)]\t  clean_RMSE: 8.6458 clean_Recall: 33.3333 clean_MAP: 0.2060 clean_RCR: 0.6441   adv_RMSE: 8.5436 adv_Recall: 30.6306 adv_MAP: 0.1595 adv_RCR: 0.6756 time:1.963\n",
      "2023-03-15 19:50:36,321 - INFO - Info:  [640/1080 (59%)]\t  clean_RMSE: 8.7051 clean_Recall: 31.1037 clean_MAP: 0.1765 clean_RCR: 0.6752   adv_RMSE: 8.7575 adv_Recall: 30.1003 adv_MAP: 0.1505 adv_RCR: 0.6850 time:1.941\n",
      "2023-03-15 19:50:40,293 - INFO - Info:  [704/1080 (65%)]\t  clean_RMSE: 9.4013 clean_Recall: 28.5714 clean_MAP: 0.1802 clean_RCR: 0.7025   adv_RMSE: 9.1173 adv_Recall: 26.1905 adv_MAP: 0.1444 adv_RCR: 0.7283 time:1.962\n",
      "2023-03-15 19:50:44,258 - INFO - Info:  [768/1080 (71%)]\t  clean_RMSE: 6.1767 clean_Recall: 39.5425 clean_MAP: 0.2426 clean_RCR: 0.6427   adv_RMSE: 5.9788 adv_Recall: 36.2745 adv_MAP: 0.2189 adv_RCR: 0.6791 time:1.977\n",
      "2023-03-15 19:50:48,224 - INFO - Info:  [832/1080 (76%)]\t  clean_RMSE: 6.7095 clean_Recall: 34.7079 clean_MAP: 0.2108 clean_RCR: 0.6496   adv_RMSE: 6.5614 adv_Recall: 29.5533 adv_MAP: 0.1777 adv_RCR: 0.7048 time:1.956\n",
      "2023-03-15 19:50:52,174 - INFO - Info:  [896/1080 (82%)]\t  clean_RMSE: 7.4521 clean_Recall: 38.5281 clean_MAP: 0.1936 clean_RCR: 0.6036   adv_RMSE: 7.3354 adv_Recall: 31.6017 adv_MAP: 0.1533 adv_RCR: 0.6979 time:1.950\n",
      "2023-03-15 19:50:56,141 - INFO - Info:  [960/1080 (88%)]\t  clean_RMSE: 9.2820 clean_Recall: 30.2326 clean_MAP: 0.1307 clean_RCR: 0.7304   adv_RMSE: 9.0615 adv_Recall: 27.9070 adv_MAP: 0.1220 adv_RCR: 0.7618 time:1.965\n",
      "2023-03-15 19:51:00,099 - INFO - Info:  [1024/1080 (94%)]\t  clean_RMSE: 8.4972 clean_Recall: 27.6382 clean_MAP: 0.1414 clean_RCR: 0.7148   adv_RMSE: 8.1413 adv_Recall: 25.1256 adv_MAP: 0.1347 adv_RCR: 0.7525 time:1.955\n",
      "2023-03-15 19:51:03,576 - INFO - Info:  [1080/1080 (100%)]\t  clean_RMSE: 7.3883 clean_Recall: 25.6410 clean_MAP: 0.1229 clean_RCR: 0.7598   adv_RMSE: 6.9721 adv_Recall: 23.7179 adv_MAP: 0.1074 adv_RCR: 0.7865 time:1.461\n",
      "2023-03-15 19:51:06,191 - INFO - Info:  [1080/1080 (100%)]\t  clean_RMSE: 7.8063 clean_Recall: 33.2479 clean_MAP: 0.1789 clean_RCR: 0.6746   adv_RMSE: 7.6815 adv_Recall: 30.4783 adv_MAP: 0.1551 adv_RCR: 0.7087 time:4.076\n",
      "2023-03-15 19:51:10,371 - INFO - none_kl_pgd\n"
     ]
    },
    {
     "name": "stdout",
     "output_type": "stream",
     "text": [
      "NYC,Gsnet,saliency_loss_mse,prenoise_pgd,80,32,7.8062616694831215,33.24792581747194,0.178880014328625,0.6745602564431761,7.681457129371425,30.478282088823818,0.15508036276677378,0.708684099992225,0.4665830273976691,99.58689324946015,0.994982420077539,0.001130780731954052\n"
     ]
    },
    {
     "name": "stderr",
     "output_type": "stream",
     "text": [
      "2023-03-15 19:51:14,419 - INFO - Info:  [64/1080 (6%)]\t  clean_RMSE: 7.1454 clean_Recall: 35.7388 clean_MAP: 0.1823 clean_RCR: 0.6776   adv_RMSE: 7.9168 adv_Recall: 28.5223 adv_MAP: 0.1541 adv_RCR: 0.7867 time:1.945\n",
      "2023-03-15 19:51:18,411 - INFO - Info:  [128/1080 (12%)]\t  clean_RMSE: 8.5350 clean_Recall: 38.0734 clean_MAP: 0.1698 clean_RCR: 0.6284   adv_RMSE: 9.2625 adv_Recall: 30.7339 adv_MAP: 0.1806 adv_RCR: 0.7262 time:1.965\n",
      "2023-03-15 19:51:22,360 - INFO - Info:  [192/1080 (18%)]\t  clean_RMSE: 8.2390 clean_Recall: 30.0781 clean_MAP: 0.1902 clean_RCR: 0.6865   adv_RMSE: 8.6560 adv_Recall: 23.4375 adv_MAP: 0.1402 adv_RCR: 0.7866 time:1.957\n",
      "2023-03-15 19:51:26,335 - INFO - Info:  [256/1080 (24%)]\t  clean_RMSE: 7.3895 clean_Recall: 40.7609 clean_MAP: 0.2031 clean_RCR: 0.6433   adv_RMSE: 7.8115 adv_Recall: 33.4239 adv_MAP: 0.1746 adv_RCR: 0.7394 time:1.964\n",
      "2023-03-15 19:51:30,303 - INFO - Info:  [320/1080 (29%)]\t  clean_RMSE: 7.9974 clean_Recall: 26.4550 clean_MAP: 0.1315 clean_RCR: 0.7234   adv_RMSE: 10.3280 adv_Recall: 20.1058 adv_MAP: 0.1093 adv_RCR: 0.7976 time:1.963\n",
      "2023-03-15 19:51:34,269 - INFO - Info:  [384/1080 (35%)]\t  clean_RMSE: 8.6335 clean_Recall: 32.1429 clean_MAP: 0.1877 clean_RCR: 0.6694   adv_RMSE: 9.1597 adv_Recall: 26.3393 adv_MAP: 0.1452 adv_RCR: 0.7386 time:1.969\n",
      "2023-03-15 19:51:38,222 - INFO - Info:  [448/1080 (41%)]\t  clean_RMSE: 7.5965 clean_Recall: 31.2977 clean_MAP: 0.1807 clean_RCR: 0.6777   adv_RMSE: 8.0002 adv_Recall: 25.1908 adv_MAP: 0.1480 adv_RCR: 0.7605 time:1.956\n",
      "2023-03-15 19:51:42,181 - INFO - Info:  [512/1080 (47%)]\t  clean_RMSE: 9.1603 clean_Recall: 28.3186 clean_MAP: 0.1769 clean_RCR: 0.7326   adv_RMSE: 9.0647 adv_Recall: 24.7788 adv_MAP: 0.1382 adv_RCR: 0.7679 time:1.956\n",
      "2023-03-15 19:51:46,140 - INFO - Info:  [576/1080 (53%)]\t  clean_RMSE: 8.6458 clean_Recall: 33.3333 clean_MAP: 0.2060 clean_RCR: 0.6441   adv_RMSE: 9.5351 adv_Recall: 29.7297 adv_MAP: 0.1632 adv_RCR: 0.7068 time:1.955\n",
      "2023-03-15 19:51:50,094 - INFO - Info:  [640/1080 (59%)]\t  clean_RMSE: 8.7051 clean_Recall: 31.1037 clean_MAP: 0.1765 clean_RCR: 0.6752   adv_RMSE: 9.3065 adv_Recall: 26.0870 adv_MAP: 0.1350 adv_RCR: 0.7265 time:1.958\n",
      "2023-03-15 19:51:54,030 - INFO - Info:  [704/1080 (65%)]\t  clean_RMSE: 9.4013 clean_Recall: 28.5714 clean_MAP: 0.1802 clean_RCR: 0.7025   adv_RMSE: 9.8943 adv_Recall: 20.8333 adv_MAP: 0.1111 adv_RCR: 0.8028 time:1.944\n",
      "2023-03-15 19:51:57,996 - INFO - Info:  [768/1080 (71%)]\t  clean_RMSE: 6.1767 clean_Recall: 39.5425 clean_MAP: 0.2426 clean_RCR: 0.6427   adv_RMSE: 6.9644 adv_Recall: 30.7190 adv_MAP: 0.1999 adv_RCR: 0.7416 time:1.961\n",
      "2023-03-15 19:52:01,958 - INFO - Info:  [832/1080 (76%)]\t  clean_RMSE: 6.7095 clean_Recall: 34.7079 clean_MAP: 0.2108 clean_RCR: 0.6496   adv_RMSE: 7.5858 adv_Recall: 25.0859 adv_MAP: 0.1575 adv_RCR: 0.7548 time:1.964\n",
      "2023-03-15 19:52:05,925 - INFO - Info:  [896/1080 (82%)]\t  clean_RMSE: 7.4521 clean_Recall: 38.5281 clean_MAP: 0.1936 clean_RCR: 0.6036   adv_RMSE: 8.2046 adv_Recall: 25.1082 adv_MAP: 0.1154 adv_RCR: 0.7579 time:1.969\n",
      "2023-03-15 19:52:09,896 - INFO - Info:  [960/1080 (88%)]\t  clean_RMSE: 9.2820 clean_Recall: 30.2326 clean_MAP: 0.1307 clean_RCR: 0.7304   adv_RMSE: 10.4513 adv_Recall: 25.0000 adv_MAP: 0.1519 adv_RCR: 0.7763 time:1.957\n",
      "2023-03-15 19:52:13,863 - INFO - Info:  [1024/1080 (94%)]\t  clean_RMSE: 8.4972 clean_Recall: 27.6382 clean_MAP: 0.1414 clean_RCR: 0.7148   adv_RMSE: 8.4300 adv_Recall: 24.6231 adv_MAP: 0.1446 adv_RCR: 0.7649 time:1.957\n",
      "2023-03-15 19:52:17,326 - INFO - Info:  [1080/1080 (100%)]\t  clean_RMSE: 7.3883 clean_Recall: 25.6410 clean_MAP: 0.1229 clean_RCR: 0.7598   adv_RMSE: 7.8645 adv_Recall: 21.7949 adv_MAP: 0.1265 adv_RCR: 0.7973 time:1.452\n",
      "2023-03-15 19:52:19,988 - INFO - Info:  [1080/1080 (100%)]\t  clean_RMSE: 7.8063 clean_Recall: 33.2479 clean_MAP: 0.1789 clean_RCR: 0.6746   adv_RMSE: 8.5230 adv_Recall: 26.7936 adv_MAP: 0.1425 adv_RCR: 0.7498 time:4.114\n",
      "2023-03-15 19:52:24,222 - INFO - none_prenoise_pgd\n"
     ]
    },
    {
     "name": "stdout",
     "output_type": "stream",
     "text": [
      "NYC,Gsnet,none,kl_pgd,80,32,7.8062616694831215,33.24792581747194,0.178880014328625,0.6745602564431761,8.52303290171697,26.79355783308931,0.14247472508702713,0.7498009419209055,2.567976611954852,99.32025161956624,0.9901109314035317,0.004365109720875976\n"
     ]
    },
    {
     "name": "stderr",
     "output_type": "stream",
     "text": [
      "2023-03-15 19:52:28,280 - INFO - Info:  [64/1080 (6%)]\t  clean_RMSE: 7.1454 clean_Recall: 35.7388 clean_MAP: 0.1823 clean_RCR: 0.6776   adv_RMSE: 7.8951 adv_Recall: 28.5223 adv_MAP: 0.1562 adv_RCR: 0.7864 time:1.963\n",
      "2023-03-15 19:52:32,252 - INFO - Info:  [128/1080 (12%)]\t  clean_RMSE: 8.5350 clean_Recall: 38.0734 clean_MAP: 0.1698 clean_RCR: 0.6284   adv_RMSE: 9.2295 adv_Recall: 30.2752 adv_MAP: 0.1813 adv_RCR: 0.7334 time:1.967\n",
      "2023-03-15 19:52:36,231 - INFO - Info:  [192/1080 (18%)]\t  clean_RMSE: 8.2390 clean_Recall: 30.0781 clean_MAP: 0.1902 clean_RCR: 0.6865   adv_RMSE: 8.4886 adv_Recall: 24.2188 adv_MAP: 0.1461 adv_RCR: 0.7843 time:1.968\n",
      "2023-03-15 19:52:40,189 - INFO - Info:  [256/1080 (24%)]\t  clean_RMSE: 7.3895 clean_Recall: 40.7609 clean_MAP: 0.2031 clean_RCR: 0.6433   adv_RMSE: 7.6645 adv_Recall: 34.7826 adv_MAP: 0.1849 adv_RCR: 0.7312 time:1.964\n",
      "2023-03-15 19:52:44,132 - INFO - Info:  [320/1080 (29%)]\t  clean_RMSE: 7.9974 clean_Recall: 26.4550 clean_MAP: 0.1315 clean_RCR: 0.7234   adv_RMSE: 10.0941 adv_Recall: 21.6931 adv_MAP: 0.1205 adv_RCR: 0.7776 time:1.955\n",
      "2023-03-15 19:52:48,075 - INFO - Info:  [384/1080 (35%)]\t  clean_RMSE: 8.6335 clean_Recall: 32.1429 clean_MAP: 0.1877 clean_RCR: 0.6694   adv_RMSE: 9.0319 adv_Recall: 26.3393 adv_MAP: 0.1455 adv_RCR: 0.7378 time:1.948\n",
      "2023-03-15 19:52:52,025 - INFO - Info:  [448/1080 (41%)]\t  clean_RMSE: 7.5965 clean_Recall: 31.2977 clean_MAP: 0.1807 clean_RCR: 0.6777   adv_RMSE: 7.8702 adv_Recall: 25.1908 adv_MAP: 0.1496 adv_RCR: 0.7611 time:1.966\n",
      "2023-03-15 19:52:55,965 - INFO - Info:  [512/1080 (47%)]\t  clean_RMSE: 9.1603 clean_Recall: 28.3186 clean_MAP: 0.1769 clean_RCR: 0.7326   adv_RMSE: 8.8948 adv_Recall: 25.2212 adv_MAP: 0.1454 adv_RCR: 0.7666 time:1.953\n",
      "2023-03-15 19:52:59,906 - INFO - Info:  [576/1080 (53%)]\t  clean_RMSE: 8.6458 clean_Recall: 33.3333 clean_MAP: 0.2060 clean_RCR: 0.6441   adv_RMSE: 9.2918 adv_Recall: 31.0811 adv_MAP: 0.1711 adv_RCR: 0.6871 time:1.949\n",
      "2023-03-15 19:53:03,868 - INFO - Info:  [640/1080 (59%)]\t  clean_RMSE: 8.7051 clean_Recall: 31.1037 clean_MAP: 0.1765 clean_RCR: 0.6752   adv_RMSE: 9.1994 adv_Recall: 26.0870 adv_MAP: 0.1387 adv_RCR: 0.7264 time:1.960\n",
      "2023-03-15 19:53:07,850 - INFO - Info:  [704/1080 (65%)]\t  clean_RMSE: 9.4013 clean_Recall: 28.5714 clean_MAP: 0.1802 clean_RCR: 0.7025   adv_RMSE: 9.6470 adv_Recall: 22.0238 adv_MAP: 0.1206 adv_RCR: 0.7795 time:1.969\n",
      "2023-03-15 19:53:11,809 - INFO - Info:  [768/1080 (71%)]\t  clean_RMSE: 6.1767 clean_Recall: 39.5425 clean_MAP: 0.2426 clean_RCR: 0.6427   adv_RMSE: 6.9290 adv_Recall: 32.3529 adv_MAP: 0.2059 adv_RCR: 0.7338 time:1.955\n",
      "2023-03-15 19:53:15,760 - INFO - Info:  [832/1080 (76%)]\t  clean_RMSE: 6.7095 clean_Recall: 34.7079 clean_MAP: 0.2108 clean_RCR: 0.6496   adv_RMSE: 7.4765 adv_Recall: 26.1168 adv_MAP: 0.1720 adv_RCR: 0.7484 time:1.963\n",
      "2023-03-15 19:53:19,700 - INFO - Info:  [896/1080 (82%)]\t  clean_RMSE: 7.4521 clean_Recall: 38.5281 clean_MAP: 0.1936 clean_RCR: 0.6036   adv_RMSE: 8.1071 adv_Recall: 25.5411 adv_MAP: 0.1182 adv_RCR: 0.7540 time:1.944\n",
      "2023-03-15 19:53:23,648 - INFO - Info:  [960/1080 (88%)]\t  clean_RMSE: 9.2820 clean_Recall: 30.2326 clean_MAP: 0.1307 clean_RCR: 0.7304   adv_RMSE: 10.2988 adv_Recall: 25.5814 adv_MAP: 0.1530 adv_RCR: 0.7643 time:1.954\n",
      "2023-03-15 19:53:27,601 - INFO - Info:  [1024/1080 (94%)]\t  clean_RMSE: 8.4972 clean_Recall: 27.6382 clean_MAP: 0.1414 clean_RCR: 0.7148   adv_RMSE: 8.4155 adv_Recall: 25.1256 adv_MAP: 0.1501 adv_RCR: 0.7508 time:1.964\n",
      "2023-03-15 19:53:31,052 - INFO - Info:  [1080/1080 (100%)]\t  clean_RMSE: 7.3883 clean_Recall: 25.6410 clean_MAP: 0.1229 clean_RCR: 0.7598   adv_RMSE: 7.7887 adv_Recall: 21.7949 adv_MAP: 0.1268 adv_RCR: 0.7969 time:1.464\n",
      "2023-03-15 19:53:33,717 - INFO - Info:  [1080/1080 (100%)]\t  clean_RMSE: 7.8063 clean_Recall: 33.2479 clean_MAP: 0.1789 clean_RCR: 0.6746   adv_RMSE: 8.4136 adv_Recall: 27.3792 adv_MAP: 0.1476 adv_RCR: 0.7433 time:4.129\n",
      "2023-03-15 19:53:37,918 - INFO - sum_yi_loss_kl_pgd\n"
     ]
    },
    {
     "name": "stdout",
     "output_type": "stream",
     "text": [
      "NYC,Gsnet,none,prenoise_pgd,80,32,7.8062616694831215,33.24792581747194,0.178880014328625,0.6745602564431761,8.413574657979249,27.379209370424597,0.14758473753157655,0.7433348335928464,2.651059363605261,99.28645197634025,0.989283626957421,0.0049695044615047064\n",
      "(1080, 20, 20)\n"
     ]
    },
    {
     "name": "stderr",
     "output_type": "stream",
     "text": [
      "2023-03-15 19:53:54,577 - INFO - Info:  [64/1080 (6%)]\t  clean_RMSE: 7.1454 clean_Recall: 35.7388 clean_MAP: 0.1823 clean_RCR: 0.6776   adv_RMSE: 7.0757 adv_Recall: 30.9278 adv_MAP: 0.1458 adv_RCR: 0.7590 time:1.962\n",
      "2023-03-15 19:53:58,528 - INFO - Info:  [128/1080 (12%)]\t  clean_RMSE: 8.5350 clean_Recall: 38.0734 clean_MAP: 0.1698 clean_RCR: 0.6284   adv_RMSE: 8.4607 adv_Recall: 33.4862 adv_MAP: 0.1417 adv_RCR: 0.7237 time:1.955\n",
      "2023-03-15 19:54:02,495 - INFO - Info:  [192/1080 (18%)]\t  clean_RMSE: 8.2390 clean_Recall: 30.0781 clean_MAP: 0.1902 clean_RCR: 0.6865   adv_RMSE: 8.2405 adv_Recall: 28.1250 adv_MAP: 0.1701 adv_RCR: 0.7047 time:1.978\n",
      "2023-03-15 19:54:06,457 - INFO - Info:  [256/1080 (24%)]\t  clean_RMSE: 7.3895 clean_Recall: 40.7609 clean_MAP: 0.2031 clean_RCR: 0.6433   adv_RMSE: 7.3718 adv_Recall: 37.2283 adv_MAP: 0.1695 adv_RCR: 0.6806 time:1.958\n",
      "2023-03-15 19:54:10,402 - INFO - Info:  [320/1080 (29%)]\t  clean_RMSE: 7.9974 clean_Recall: 26.4550 clean_MAP: 0.1315 clean_RCR: 0.7234   adv_RMSE: 8.1688 adv_Recall: 24.8677 adv_MAP: 0.1175 adv_RCR: 0.7774 time:1.951\n",
      "2023-03-15 19:54:14,343 - INFO - Info:  [384/1080 (35%)]\t  clean_RMSE: 8.6335 clean_Recall: 32.1429 clean_MAP: 0.1877 clean_RCR: 0.6694   adv_RMSE: 8.6320 adv_Recall: 27.6786 adv_MAP: 0.1245 adv_RCR: 0.7394 time:1.962\n",
      "2023-03-15 19:54:18,317 - INFO - Info:  [448/1080 (41%)]\t  clean_RMSE: 7.5965 clean_Recall: 31.2977 clean_MAP: 0.1807 clean_RCR: 0.6777   adv_RMSE: 7.4856 adv_Recall: 27.8626 adv_MAP: 0.1563 adv_RCR: 0.7350 time:1.966\n",
      "2023-03-15 19:54:22,277 - INFO - Info:  [512/1080 (47%)]\t  clean_RMSE: 9.1603 clean_Recall: 28.3186 clean_MAP: 0.1769 clean_RCR: 0.7326   adv_RMSE: 9.1537 adv_Recall: 28.3186 adv_MAP: 0.1645 adv_RCR: 0.7336 time:1.977\n",
      "2023-03-15 19:54:26,242 - INFO - Info:  [576/1080 (53%)]\t  clean_RMSE: 8.6458 clean_Recall: 33.3333 clean_MAP: 0.2060 clean_RCR: 0.6441   adv_RMSE: 8.5911 adv_Recall: 31.5315 adv_MAP: 0.1893 adv_RCR: 0.6634 time:1.953\n",
      "2023-03-15 19:54:30,202 - INFO - Info:  [640/1080 (59%)]\t  clean_RMSE: 8.7051 clean_Recall: 31.1037 clean_MAP: 0.1765 clean_RCR: 0.6752   adv_RMSE: 8.7212 adv_Recall: 27.0903 adv_MAP: 0.1433 adv_RCR: 0.7211 time:1.967\n",
      "2023-03-15 19:54:34,173 - INFO - Info:  [704/1080 (65%)]\t  clean_RMSE: 9.4013 clean_Recall: 28.5714 clean_MAP: 0.1802 clean_RCR: 0.7025   adv_RMSE: 9.2556 adv_Recall: 25.0000 adv_MAP: 0.1224 adv_RCR: 0.7704 time:1.980\n",
      "2023-03-15 19:54:38,138 - INFO - Info:  [768/1080 (71%)]\t  clean_RMSE: 6.1767 clean_Recall: 39.5425 clean_MAP: 0.2426 clean_RCR: 0.6427   adv_RMSE: 6.1076 adv_Recall: 36.6013 adv_MAP: 0.2215 adv_RCR: 0.6685 time:1.960\n",
      "2023-03-15 19:54:42,084 - INFO - Info:  [832/1080 (76%)]\t  clean_RMSE: 6.7095 clean_Recall: 34.7079 clean_MAP: 0.2108 clean_RCR: 0.6496   adv_RMSE: 6.6881 adv_Recall: 29.8969 adv_MAP: 0.1825 adv_RCR: 0.7056 time:1.961\n",
      "2023-03-15 19:54:46,069 - INFO - Info:  [896/1080 (82%)]\t  clean_RMSE: 7.4521 clean_Recall: 38.5281 clean_MAP: 0.1936 clean_RCR: 0.6036   adv_RMSE: 7.4415 adv_Recall: 31.1688 adv_MAP: 0.1476 adv_RCR: 0.7116 time:1.974\n",
      "2023-03-15 19:54:50,064 - INFO - Info:  [960/1080 (88%)]\t  clean_RMSE: 9.2820 clean_Recall: 30.2326 clean_MAP: 0.1307 clean_RCR: 0.7304   adv_RMSE: 9.1568 adv_Recall: 29.0698 adv_MAP: 0.1185 adv_RCR: 0.7465 time:1.960\n",
      "2023-03-15 19:54:54,030 - INFO - Info:  [1024/1080 (94%)]\t  clean_RMSE: 8.4972 clean_Recall: 27.6382 clean_MAP: 0.1414 clean_RCR: 0.7148   adv_RMSE: 8.2938 adv_Recall: 24.1206 adv_MAP: 0.1229 adv_RCR: 0.7567 time:1.960\n",
      "2023-03-15 19:54:57,513 - INFO - Info:  [1080/1080 (100%)]\t  clean_RMSE: 7.3883 clean_Recall: 25.6410 clean_MAP: 0.1229 clean_RCR: 0.7598   adv_RMSE: 7.1738 adv_Recall: 24.3590 adv_MAP: 0.1072 adv_RCR: 0.7783 time:1.480\n",
      "2023-03-15 19:55:00,189 - INFO - Info:  [1080/1080 (100%)]\t  clean_RMSE: 7.8063 clean_Recall: 33.2479 clean_MAP: 0.1789 clean_RCR: 0.6746   adv_RMSE: 7.7579 adv_Recall: 30.1733 adv_MAP: 0.1514 adv_RCR: 0.7159 time:4.157\n",
      "2023-03-15 19:55:04,473 - INFO - sum_yi_loss_prenoise_pgd\n"
     ]
    },
    {
     "name": "stdout",
     "output_type": "stream",
     "text": [
      "NYC,Gsnet,sum_yi_loss,kl_pgd,80,32,7.8062616694831215,33.24792581747194,0.178880014328625,0.6745602564431761,7.757908385453507,30.17325524646169,0.15135537815826294,0.7159073520548602,0.32474595603818357,99.63195944042813,0.9953533590037033,0.00101799267607873\n",
      "(1080, 20, 20)\n"
     ]
    },
    {
     "name": "stderr",
     "output_type": "stream",
     "text": [
      "2023-03-15 19:55:21,134 - INFO - Info:  [64/1080 (6%)]\t  clean_RMSE: 7.1454 clean_Recall: 35.7388 clean_MAP: 0.1823 clean_RCR: 0.6776   adv_RMSE: 7.0611 adv_Recall: 30.9278 adv_MAP: 0.1513 adv_RCR: 0.7539 time:1.951\n",
      "2023-03-15 19:55:25,082 - INFO - Info:  [128/1080 (12%)]\t  clean_RMSE: 8.5350 clean_Recall: 38.0734 clean_MAP: 0.1698 clean_RCR: 0.6284   adv_RMSE: 8.4205 adv_Recall: 33.9450 adv_MAP: 0.1373 adv_RCR: 0.7301 time:1.952\n",
      "2023-03-15 19:55:29,042 - INFO - Info:  [192/1080 (18%)]\t  clean_RMSE: 8.2390 clean_Recall: 30.0781 clean_MAP: 0.1902 clean_RCR: 0.6865   adv_RMSE: 8.2295 adv_Recall: 28.9062 adv_MAP: 0.1760 adv_RCR: 0.6988 time:1.971\n",
      "2023-03-15 19:55:32,999 - INFO - Info:  [256/1080 (24%)]\t  clean_RMSE: 7.3895 clean_Recall: 40.7609 clean_MAP: 0.2031 clean_RCR: 0.6433   adv_RMSE: 7.3623 adv_Recall: 36.4130 adv_MAP: 0.1665 adv_RCR: 0.6824 time:1.962\n",
      "2023-03-15 19:55:36,960 - INFO - Info:  [320/1080 (29%)]\t  clean_RMSE: 7.9974 clean_Recall: 26.4550 clean_MAP: 0.1315 clean_RCR: 0.7234   adv_RMSE: 8.1028 adv_Recall: 23.8095 adv_MAP: 0.1134 adv_RCR: 0.7808 time:1.964\n",
      "2023-03-15 19:55:40,921 - INFO - Info:  [384/1080 (35%)]\t  clean_RMSE: 8.6335 clean_Recall: 32.1429 clean_MAP: 0.1877 clean_RCR: 0.6694   adv_RMSE: 8.5809 adv_Recall: 27.2321 adv_MAP: 0.1519 adv_RCR: 0.7293 time:1.958\n",
      "2023-03-15 19:55:44,844 - INFO - Info:  [448/1080 (41%)]\t  clean_RMSE: 7.5965 clean_Recall: 31.2977 clean_MAP: 0.1807 clean_RCR: 0.6777   adv_RMSE: 7.4449 adv_Recall: 27.8626 adv_MAP: 0.1544 adv_RCR: 0.7238 time:1.946\n",
      "2023-03-15 19:55:48,803 - INFO - Info:  [512/1080 (47%)]\t  clean_RMSE: 9.1603 clean_Recall: 28.3186 clean_MAP: 0.1769 clean_RCR: 0.7326   adv_RMSE: 9.1192 adv_Recall: 29.6460 adv_MAP: 0.1698 adv_RCR: 0.7241 time:1.964\n",
      "2023-03-15 19:55:52,749 - INFO - Info:  [576/1080 (53%)]\t  clean_RMSE: 8.6458 clean_Recall: 33.3333 clean_MAP: 0.2060 clean_RCR: 0.6441   adv_RMSE: 8.5460 adv_Recall: 30.6306 adv_MAP: 0.1749 adv_RCR: 0.6759 time:1.946\n",
      "2023-03-15 19:55:56,708 - INFO - Info:  [640/1080 (59%)]\t  clean_RMSE: 8.7051 clean_Recall: 31.1037 clean_MAP: 0.1765 clean_RCR: 0.6752   adv_RMSE: 8.6934 adv_Recall: 28.4281 adv_MAP: 0.1457 adv_RCR: 0.7084 time:1.958\n",
      "2023-03-15 19:56:00,686 - INFO - Info:  [704/1080 (65%)]\t  clean_RMSE: 9.4013 clean_Recall: 28.5714 clean_MAP: 0.1802 clean_RCR: 0.7025   adv_RMSE: 9.2143 adv_Recall: 25.0000 adv_MAP: 0.1240 adv_RCR: 0.7591 time:1.973\n",
      "2023-03-15 19:56:04,653 - INFO - Info:  [768/1080 (71%)]\t  clean_RMSE: 6.1767 clean_Recall: 39.5425 clean_MAP: 0.2426 clean_RCR: 0.6427   adv_RMSE: 6.0892 adv_Recall: 36.2745 adv_MAP: 0.2219 adv_RCR: 0.6691 time:1.941\n",
      "2023-03-15 19:56:08,602 - INFO - Info:  [832/1080 (76%)]\t  clean_RMSE: 6.7095 clean_Recall: 34.7079 clean_MAP: 0.2108 clean_RCR: 0.6496   adv_RMSE: 6.6584 adv_Recall: 29.8969 adv_MAP: 0.1835 adv_RCR: 0.7049 time:1.964\n",
      "2023-03-15 19:56:12,580 - INFO - Info:  [896/1080 (82%)]\t  clean_RMSE: 7.4521 clean_Recall: 38.5281 clean_MAP: 0.1936 clean_RCR: 0.6036   adv_RMSE: 7.4170 adv_Recall: 31.6017 adv_MAP: 0.1491 adv_RCR: 0.6966 time:1.956\n",
      "2023-03-15 19:56:16,510 - INFO - Info:  [960/1080 (88%)]\t  clean_RMSE: 9.2820 clean_Recall: 30.2326 clean_MAP: 0.1307 clean_RCR: 0.7304   adv_RMSE: 9.1179 adv_Recall: 28.4884 adv_MAP: 0.1196 adv_RCR: 0.7458 time:1.955\n",
      "2023-03-15 19:56:20,491 - INFO - Info:  [1024/1080 (94%)]\t  clean_RMSE: 8.4972 clean_Recall: 27.6382 clean_MAP: 0.1414 clean_RCR: 0.7148   adv_RMSE: 8.2484 adv_Recall: 24.1206 adv_MAP: 0.1249 adv_RCR: 0.7726 time:1.970\n",
      "2023-03-15 19:56:23,955 - INFO - Info:  [1080/1080 (100%)]\t  clean_RMSE: 7.3883 clean_Recall: 25.6410 clean_MAP: 0.1229 clean_RCR: 0.7598   adv_RMSE: 7.1418 adv_Recall: 23.7179 adv_MAP: 0.1021 adv_RCR: 0.7990 time:1.451\n",
      "2023-03-15 19:56:26,669 - INFO - Info:  [1080/1080 (100%)]\t  clean_RMSE: 7.8063 clean_Recall: 33.2479 clean_MAP: 0.1789 clean_RCR: 0.6746   adv_RMSE: 7.7267 adv_Recall: 30.1733 adv_MAP: 0.1523 adv_RCR: 0.7157 time:4.165\n",
      "2023-03-15 19:56:30,949 - INFO - sum_yi_loss_test_kl_pgd\n"
     ]
    },
    {
     "name": "stdout",
     "output_type": "stream",
     "text": [
      "NYC,Gsnet,sum_yi_loss,prenoise_pgd,80,32,7.8062616694831215,33.24792581747194,0.178880014328625,0.6745602564431761,7.7266553173140915,30.17325524646169,0.15225431386388852,0.7157177900744007,0.33367835631402765,99.63008168247113,0.9952437034869002,0.001048770427896875\n",
      "(1080, 20, 20)\n"
     ]
    },
    {
     "name": "stderr",
     "output_type": "stream",
     "text": [
      "2023-03-15 19:56:47,628 - INFO - Info:  [64/1080 (6%)]\t  clean_RMSE: 7.1454 clean_Recall: 35.7388 clean_MAP: 0.1823 clean_RCR: 0.6776   adv_RMSE: 7.0562 adv_Recall: 32.3024 adv_MAP: 0.1532 adv_RCR: 0.7354 time:1.972\n",
      "2023-03-15 19:56:51,588 - INFO - Info:  [128/1080 (12%)]\t  clean_RMSE: 8.5350 clean_Recall: 38.0734 clean_MAP: 0.1698 clean_RCR: 0.6284   adv_RMSE: 8.4328 adv_Recall: 34.8624 adv_MAP: 0.1480 adv_RCR: 0.6895 time:1.963\n",
      "2023-03-15 19:56:55,518 - INFO - Info:  [192/1080 (18%)]\t  clean_RMSE: 8.2390 clean_Recall: 30.0781 clean_MAP: 0.1902 clean_RCR: 0.6865   adv_RMSE: 8.2207 adv_Recall: 28.5156 adv_MAP: 0.1720 adv_RCR: 0.7027 time:1.951\n",
      "2023-03-15 19:56:59,501 - INFO - Info:  [256/1080 (24%)]\t  clean_RMSE: 7.3895 clean_Recall: 40.7609 clean_MAP: 0.2031 clean_RCR: 0.6433   adv_RMSE: 7.3861 adv_Recall: 36.6848 adv_MAP: 0.1691 adv_RCR: 0.6842 time:1.979\n",
      "2023-03-15 19:57:03,472 - INFO - Info:  [320/1080 (29%)]\t  clean_RMSE: 7.9974 clean_Recall: 26.4550 clean_MAP: 0.1315 clean_RCR: 0.7234   adv_RMSE: 8.1376 adv_Recall: 24.8677 adv_MAP: 0.1150 adv_RCR: 0.7736 time:1.968\n",
      "2023-03-15 19:57:07,419 - INFO - Info:  [384/1080 (35%)]\t  clean_RMSE: 8.6335 clean_Recall: 32.1429 clean_MAP: 0.1877 clean_RCR: 0.6694   adv_RMSE: 8.6163 adv_Recall: 29.4643 adv_MAP: 0.1239 adv_RCR: 0.7192 time:1.950\n",
      "2023-03-15 19:57:11,410 - INFO - Info:  [448/1080 (41%)]\t  clean_RMSE: 7.5965 clean_Recall: 31.2977 clean_MAP: 0.1807 clean_RCR: 0.6777   adv_RMSE: 7.4596 adv_Recall: 26.7176 adv_MAP: 0.1543 adv_RCR: 0.7332 time:1.977\n",
      "2023-03-15 19:57:15,406 - INFO - Info:  [512/1080 (47%)]\t  clean_RMSE: 9.1603 clean_Recall: 28.3186 clean_MAP: 0.1769 clean_RCR: 0.7326   adv_RMSE: 9.1547 adv_Recall: 27.4336 adv_MAP: 0.1730 adv_RCR: 0.7359 time:1.976\n",
      "2023-03-15 19:57:19,388 - INFO - Info:  [576/1080 (53%)]\t  clean_RMSE: 8.6458 clean_Recall: 33.3333 clean_MAP: 0.2060 clean_RCR: 0.6441   adv_RMSE: 8.5838 adv_Recall: 32.8829 adv_MAP: 0.1916 adv_RCR: 0.6626 time:1.967\n",
      "2023-03-15 19:57:23,363 - INFO - Info:  [640/1080 (59%)]\t  clean_RMSE: 8.7051 clean_Recall: 31.1037 clean_MAP: 0.1765 clean_RCR: 0.6752   adv_RMSE: 8.6992 adv_Recall: 27.4247 adv_MAP: 0.1433 adv_RCR: 0.7192 time:1.965\n",
      "2023-03-15 19:57:27,337 - INFO - Info:  [704/1080 (65%)]\t  clean_RMSE: 9.4013 clean_Recall: 28.5714 clean_MAP: 0.1802 clean_RCR: 0.7025   adv_RMSE: 9.2383 adv_Recall: 25.5952 adv_MAP: 0.1404 adv_RCR: 0.7430 time:1.961\n",
      "2023-03-15 19:57:31,313 - INFO - Info:  [768/1080 (71%)]\t  clean_RMSE: 6.1767 clean_Recall: 39.5425 clean_MAP: 0.2426 clean_RCR: 0.6427   adv_RMSE: 6.0825 adv_Recall: 35.9477 adv_MAP: 0.2187 adv_RCR: 0.6741 time:1.966\n",
      "2023-03-15 19:57:35,270 - INFO - Info:  [832/1080 (76%)]\t  clean_RMSE: 6.7095 clean_Recall: 34.7079 clean_MAP: 0.2108 clean_RCR: 0.6496   adv_RMSE: 6.6608 adv_Recall: 30.2405 adv_MAP: 0.1776 adv_RCR: 0.7048 time:1.953\n",
      "2023-03-15 19:57:39,250 - INFO - Info:  [896/1080 (82%)]\t  clean_RMSE: 7.4521 clean_Recall: 38.5281 clean_MAP: 0.1936 clean_RCR: 0.6036   adv_RMSE: 7.4131 adv_Recall: 32.4675 adv_MAP: 0.1570 adv_RCR: 0.7054 time:1.970\n",
      "2023-03-15 19:57:43,211 - INFO - Info:  [960/1080 (88%)]\t  clean_RMSE: 9.2820 clean_Recall: 30.2326 clean_MAP: 0.1307 clean_RCR: 0.7304   adv_RMSE: 9.1630 adv_Recall: 27.3256 adv_MAP: 0.1144 adv_RCR: 0.7636 time:1.963\n",
      "2023-03-15 19:57:47,169 - INFO - Info:  [1024/1080 (94%)]\t  clean_RMSE: 8.4972 clean_Recall: 27.6382 clean_MAP: 0.1414 clean_RCR: 0.7148   adv_RMSE: 8.3003 adv_Recall: 24.6231 adv_MAP: 0.1241 adv_RCR: 0.7557 time:1.961\n",
      "2023-03-15 19:57:50,646 - INFO - Info:  [1080/1080 (100%)]\t  clean_RMSE: 7.3883 clean_Recall: 25.6410 clean_MAP: 0.1229 clean_RCR: 0.7598   adv_RMSE: 7.1229 adv_Recall: 23.7179 adv_MAP: 0.1045 adv_RCR: 0.7966 time:1.462\n",
      "2023-03-15 19:57:53,332 - INFO - Info:  [1080/1080 (100%)]\t  clean_RMSE: 7.8063 clean_Recall: 33.2479 clean_MAP: 0.1789 clean_RCR: 0.6746   adv_RMSE: 7.7384 adv_Recall: 30.2343 adv_MAP: 0.1529 adv_RCR: 0.7125 time:4.148\n",
      "2023-03-15 19:57:57,587 - INFO - sum_yi_loss_test_prenoise_pgd\n"
     ]
    },
    {
     "name": "stdout",
     "output_type": "stream",
     "text": [
      "NYC,Gsnet,sum_yi_loss_test,kl_pgd,80,32,7.8062616694831215,33.24792581747194,0.178880014328625,0.6745602564431761,7.7383810746495385,30.234260614934115,0.15293442478273017,0.7124594420611071,0.3238117121826967,99.60754858698714,0.9951618626723833,0.0010628301472911138\n",
      "(1080, 20, 20)\n"
     ]
    },
    {
     "name": "stderr",
     "output_type": "stream",
     "text": [
      "2023-03-15 19:58:14,230 - INFO - Info:  [64/1080 (6%)]\t  clean_RMSE: 7.1454 clean_Recall: 35.7388 clean_MAP: 0.1823 clean_RCR: 0.6776   adv_RMSE: 7.0378 adv_Recall: 32.6460 adv_MAP: 0.1549 adv_RCR: 0.7367 time:1.947\n",
      "2023-03-15 19:58:18,166 - INFO - Info:  [128/1080 (12%)]\t  clean_RMSE: 8.5350 clean_Recall: 38.0734 clean_MAP: 0.1698 clean_RCR: 0.6284   adv_RMSE: 8.3845 adv_Recall: 33.9450 adv_MAP: 0.1410 adv_RCR: 0.6960 time:1.947\n",
      "2023-03-15 19:58:22,123 - INFO - Info:  [192/1080 (18%)]\t  clean_RMSE: 8.2390 clean_Recall: 30.0781 clean_MAP: 0.1902 clean_RCR: 0.6865   adv_RMSE: 8.1928 adv_Recall: 28.5156 adv_MAP: 0.1750 adv_RCR: 0.7024 time:1.953\n",
      "2023-03-15 19:58:26,078 - INFO - Info:  [256/1080 (24%)]\t  clean_RMSE: 7.3895 clean_Recall: 40.7609 clean_MAP: 0.2031 clean_RCR: 0.6433   adv_RMSE: 7.3718 adv_Recall: 36.6848 adv_MAP: 0.1708 adv_RCR: 0.6808 time:1.963\n",
      "2023-03-15 19:58:30,014 - INFO - Info:  [320/1080 (29%)]\t  clean_RMSE: 7.9974 clean_Recall: 26.4550 clean_MAP: 0.1315 clean_RCR: 0.7234   adv_RMSE: 8.0925 adv_Recall: 24.3386 adv_MAP: 0.1134 adv_RCR: 0.7746 time:1.942\n",
      "2023-03-15 19:58:33,961 - INFO - Info:  [384/1080 (35%)]\t  clean_RMSE: 8.6335 clean_Recall: 32.1429 clean_MAP: 0.1877 clean_RCR: 0.6694   adv_RMSE: 8.5804 adv_Recall: 28.5714 adv_MAP: 0.1538 adv_RCR: 0.7209 time:1.954\n",
      "2023-03-15 19:58:37,932 - INFO - Info:  [448/1080 (41%)]\t  clean_RMSE: 7.5965 clean_Recall: 31.2977 clean_MAP: 0.1807 clean_RCR: 0.6777   adv_RMSE: 7.4342 adv_Recall: 27.4809 adv_MAP: 0.1569 adv_RCR: 0.7317 time:1.956\n",
      "2023-03-15 19:58:41,871 - INFO - Info:  [512/1080 (47%)]\t  clean_RMSE: 9.1603 clean_Recall: 28.3186 clean_MAP: 0.1769 clean_RCR: 0.7326   adv_RMSE: 9.1149 adv_Recall: 26.9912 adv_MAP: 0.1684 adv_RCR: 0.7426 time:1.953\n",
      "2023-03-15 19:58:45,816 - INFO - Info:  [576/1080 (53%)]\t  clean_RMSE: 8.6458 clean_Recall: 33.3333 clean_MAP: 0.2060 clean_RCR: 0.6441   adv_RMSE: 8.5378 adv_Recall: 32.4324 adv_MAP: 0.1897 adv_RCR: 0.6605 time:1.957\n",
      "2023-03-15 19:58:49,761 - INFO - Info:  [640/1080 (59%)]\t  clean_RMSE: 8.7051 clean_Recall: 31.1037 clean_MAP: 0.1765 clean_RCR: 0.6752   adv_RMSE: 8.6653 adv_Recall: 28.0936 adv_MAP: 0.1511 adv_RCR: 0.6992 time:1.965\n",
      "2023-03-15 19:58:53,695 - INFO - Info:  [704/1080 (65%)]\t  clean_RMSE: 9.4013 clean_Recall: 28.5714 clean_MAP: 0.1802 clean_RCR: 0.7025   adv_RMSE: 9.2123 adv_Recall: 26.1905 adv_MAP: 0.1368 adv_RCR: 0.7427 time:1.950\n",
      "2023-03-15 19:58:57,648 - INFO - Info:  [768/1080 (71%)]\t  clean_RMSE: 6.1767 clean_Recall: 39.5425 clean_MAP: 0.2426 clean_RCR: 0.6427   adv_RMSE: 6.0727 adv_Recall: 35.9477 adv_MAP: 0.2185 adv_RCR: 0.6904 time:1.961\n",
      "2023-03-15 19:59:01,603 - INFO - Info:  [832/1080 (76%)]\t  clean_RMSE: 6.7095 clean_Recall: 34.7079 clean_MAP: 0.2108 clean_RCR: 0.6496   adv_RMSE: 6.6349 adv_Recall: 30.9278 adv_MAP: 0.1911 adv_RCR: 0.7031 time:1.963\n",
      "2023-03-15 19:59:05,552 - INFO - Info:  [896/1080 (82%)]\t  clean_RMSE: 7.4521 clean_Recall: 38.5281 clean_MAP: 0.1936 clean_RCR: 0.6036   adv_RMSE: 7.3798 adv_Recall: 31.6017 adv_MAP: 0.1554 adv_RCR: 0.7085 time:1.951\n",
      "2023-03-15 19:59:09,495 - INFO - Info:  [960/1080 (88%)]\t  clean_RMSE: 9.2820 clean_Recall: 30.2326 clean_MAP: 0.1307 clean_RCR: 0.7304   adv_RMSE: 9.1097 adv_Recall: 27.9070 adv_MAP: 0.1174 adv_RCR: 0.7462 time:1.952\n",
      "2023-03-15 19:59:13,463 - INFO - Info:  [1024/1080 (94%)]\t  clean_RMSE: 8.4972 clean_Recall: 27.6382 clean_MAP: 0.1414 clean_RCR: 0.7148   adv_RMSE: 8.2635 adv_Recall: 24.1206 adv_MAP: 0.1221 adv_RCR: 0.7623 time:1.956\n",
      "2023-03-15 19:59:16,934 - INFO - Info:  [1080/1080 (100%)]\t  clean_RMSE: 7.3883 clean_Recall: 25.6410 clean_MAP: 0.1229 clean_RCR: 0.7598   adv_RMSE: 7.1023 adv_Recall: 23.7179 adv_MAP: 0.1017 adv_RCR: 0.7980 time:1.459\n",
      "2023-03-15 19:59:19,667 - INFO - Info:  [1080/1080 (100%)]\t  clean_RMSE: 7.8063 clean_Recall: 33.2479 clean_MAP: 0.1789 clean_RCR: 0.6746   adv_RMSE: 7.7089 adv_Recall: 30.3075 adv_MAP: 0.1551 adv_RCR: 0.7119 time:4.191\n"
     ]
    },
    {
     "name": "stdout",
     "output_type": "stream",
     "text": [
      "NYC,Gsnet,sum_yi_loss_test,prenoise_pgd,80,32,7.8062616694831215,33.24792581747194,0.178880014328625,0.6745602564431761,7.708861901658873,30.30746705710102,0.15511572537217796,0.7118845999724102,0.33170909960990125,99.60191531311614,0.9951011296805053,0.0010803891220462123\n"
     ]
    }
   ],
   "source": [
    "#攻击，并写入数据,20230315导入包修改为lib.utils_new_round\n",
    "import yaml\n",
    "from mmcv import Config\n",
    "from myfunction import log_test_results\n",
    "from lib.utils_new_round import log_test_csv,node_map,prenoise_pgd,rcr_pgd,fgsm,min,kl_pgd,JS_pgd,rand_attack,nonenoise_pgd\n",
    "from myfunction import get_root_logger, logger_info\n",
    "#配置logo\n",
    "logger = get_root_logger('INFO', './logdata')\n",
    "logger.info(\"Loading config file from \")\n",
    "cfgin = Config.fromfile('attack_setting.yaml')\n",
    "#根据配置选择攻击方法\n",
    "if cfgin.attacker == 'white_attacker':\n",
    "    header = ['dataset', 'model','node_select', 'method', 'K','batch size', \n",
    "              'clean_RMSE', 'clean_recall', 'clean_MAP', 'clean_RCR',\n",
    "              'adv_RMSE', 'adv_recall', 'adv_MAP', 'adv_RCR',\n",
    "              'local_adv_RMSE', 'local_adv_recall', 'local_adv_MAP', 'local_adv_RCR','备注信息：日期，事故，天气都修改了']\n",
    "    #文件名\n",
    "    file_name = 'grey_box-data-{}_num-nodes{}_eps{}-model-{}'.format(\n",
    "        cfgin.dataset, cfgin.test_attack_nodes, cfgin.test_epsilon, cfgin.backbone)\n",
    "    log_test_results(cfgin.result_dir, header, file_name)\n",
    "    #攻击方法+节点选择组合\n",
    "    for i in cfgin.select_node:\n",
    "        for j in cfgin.attack_method:\n",
    "            logger.info(i+'_'+j)\n",
    "            parm_att = j #攻击方法的函数名称\n",
    "            parm_node = i #节点选择的方法\n",
    "            #进行攻击,输出攻击日志\n",
    "            # 1. 节点选择，返回攻击的节点\n",
    "            ack_map = node_map(i, cfgin, GSNet_Model, test_loader, risk_mask, road_adj, risk_adj, poi_adj,\n",
    "                                grid_node_map, device, data_type='nyc')\n",
    "            # 2. 攻击方法选择，返回未攻击后的预测值，标签值,攻击前的预测值，攻击过程打印每个信息\n",
    "            adv_val_predict, val_target, val_predict = eval(\"{0}\".format(parm_att))(logger, cfgin, ack_map, GSNet_Model, test_loader,  road_adj, risk_adj, poi_adj,\n",
    "                                                                                    grid_node_map, scaler, risk_mask, device, data_type='nyc')\n",
    "            #计算结果并打印、存储,注意表头信息需要传递参数\n",
    "            log_test_csv(adv_val_predict, val_target, val_predict,cfgin,i,j,file_name,risk_mask)\n",
    "            torch.cuda.empty_cache()\n",
    "           \n",
    "            \n",
    "\n"
   ]
  },
  {
   "cell_type": "code",
   "execution_count": 15,
   "metadata": {},
   "outputs": [],
   "source": [
    "torch.cuda.empty_cache()"
   ]
  }
 ],
 "metadata": {
  "kernelspec": {
   "display_name": "base",
   "language": "python",
   "name": "python3"
  },
  "language_info": {
   "codemirror_mode": {
    "name": "ipython",
    "version": 3
   },
   "file_extension": ".py",
   "mimetype": "text/x-python",
   "name": "python",
   "nbconvert_exporter": "python",
   "pygments_lexer": "ipython3",
   "version": "3.10.9"
  },
  "orig_nbformat": 4,
  "vscode": {
   "interpreter": {
    "hash": "2f394aca7ca06fed1e6064aef884364492d7cdda3614a461e02e6407fc40ba69"
   }
  }
 },
 "nbformat": 4,
 "nbformat_minor": 2
}
