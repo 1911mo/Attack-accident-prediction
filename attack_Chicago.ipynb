{
 "cells": [
  {
   "cell_type": "code",
   "execution_count": 1,
   "metadata": {},
   "outputs": [],
   "source": [
    "%load_ext autoreload\n",
    "%autoreload 2"
   ]
  },
  {
   "cell_type": "code",
   "execution_count": 2,
   "metadata": {},
   "outputs": [],
   "source": [
    "import os\n",
    "os.environ[\"CUDA_VISIBLE_DEVICES\"] = '1'"
   ]
  },
  {
   "cell_type": "code",
   "execution_count": 3,
   "metadata": {},
   "outputs": [
    {
     "name": "stderr",
     "output_type": "stream",
     "text": [
      "/home/wyb/miniconda3/lib/python3.10/site-packages/tqdm/auto.py:22: TqdmWarning: IProgress not found. Please update jupyter and ipywidgets. See https://ipywidgets.readthedocs.io/en/stable/user_install.html\n",
      "  from .autonotebook import tqdm as notebook_tqdm\n",
      "/home/wyb/miniconda3/lib/python3.10/site-packages/mmcv/__init__.py:20: UserWarning: On January 1, 2023, MMCV will release v2.0.0, in which it will remove components related to the training process and add a data transformation module. In addition, it will rename the package names mmcv to mmcv-lite and mmcv-full to mmcv. See https://github.com/open-mmlab/mmcv/blob/master/docs/en/compatibility.md for more details.\n",
      "  warnings.warn(\n"
     ]
    }
   ],
   "source": [
    "#依赖的包\n",
    "from lib.dataloader import normal_and_generate_dataset_time, get_mask, get_adjacent, get_grid_node_map_maxtrix\n",
    "#攻击函数import\n",
    "from lib.utils_new import mask_loss, compute_loss, predict_and_evaluate, attack, random_attack, fgsm_attack, min_attack\n",
    "from lib.utils_new import saliency, saliency_loss, attack_js, attack_js,attack_saliency,rand_attack\n",
    "from model.GSNet import GSNet\n",
    "from lib.early_stop import EarlyStopping\n",
    "import torch\n",
    "import torch.nn as nn\n",
    "import torch.utils.data as Data\n",
    "import torch.optim as optim\n",
    "import torch.nn.functional as F\n",
    "\n",
    "import numpy as np\n",
    "import json\n",
    "import configparser\n",
    "import pickle as pkl\n",
    "from time import time\n",
    "from datetime import datetime\n",
    "import shutil\n",
    "import argparse\n",
    "import random\n",
    "import math\n",
    "\n",
    "import sys\n",
    "import os\n"
   ]
  },
  {
   "cell_type": "code",
   "execution_count": 4,
   "metadata": {},
   "outputs": [],
   "source": [
    "#完整运行时会生成txt日志记录#\n",
    "train_log_filename = \"test_log_ch.txt\"\n",
    "train_log_filepath = os.path.join(\"./\", train_log_filename)\n",
    "now = datetime.now()\n",
    "date_time = now.strftime(\"|%Y-%m-%d, %H:%M:%S| \")\n",
    "\n",
    "curPath = os.path.abspath(os.path.dirname('__file__'))\n",
    "rootPath = os.path.split(curPath)[0]\n",
    "sys.path.append(rootPath)"
   ]
  },
  {
   "cell_type": "code",
   "execution_count": 5,
   "metadata": {},
   "outputs": [],
   "source": [
    "#配置文件载入，初始参数记录\n",
    "#NYC\n",
    "from mmcv import Config\n",
    "cfgin = Config.fromfile('lib/attack_all_setting.yaml')\n",
    "#######\n"
   ]
  },
  {
   "cell_type": "code",
   "execution_count": 6,
   "metadata": {},
   "outputs": [
    {
     "name": "stdout",
     "output_type": "stream",
     "text": [
      "True\n"
     ]
    }
   ],
   "source": [
    "if cfgin.dataset =='NYC':\n",
    "    config_filename = 'config/nyc/GSNet_NYC_Config.json'\n",
    "else: \n",
    "    config_filename = \"config/chicago/GSNet_Chicago_Config.json\"\n",
    "with open(config_filename, 'r') as f:\n",
    "    config = json.loads(f.read())\n",
    "# 写入测试超参数\n",
    "with open(train_log_filepath, \"a\") as f:\n",
    "    f.write('测试文件运行时间：'+date_time)\n",
    "    f.write('\\r\\n')\n",
    "    f.write('超参数设置：')\n",
    "    f.write('\\r\\n')\n",
    "    f.write(json.dumps(config, sort_keys=True, indent=4))\n",
    "    f.write('\\r\\n')\n",
    "f.close\n",
    "#GPU设置\n",
    "device = torch.device('cuda:0' if torch.cuda.is_available() else 'cpu')\n",
    "print(torch.cuda.is_available())\n",
    "\n",
    "#文件读取\n",
    "#命令行参数实质上就是赋初始值的作用，可以删除直接赋值就好\n",
    "north_south_map = config['north_south_map']\n",
    "west_east_map = config['west_east_map']\n",
    "\n",
    "all_data_filename = config['all_data_filename']\n",
    "mask_filename = config['mask_filename']\n",
    "\n",
    "road_adj_filename = config['road_adj_filename']\n",
    "risk_adj_filename = config['risk_adj_filename']\n",
    "poi_adj_filename = config['poi_adj_filename']\n",
    "grid_node_filename = config['grid_node_filename']\n",
    "grid_node_map = get_grid_node_map_maxtrix(grid_node_filename)\n",
    "num_of_vertices = grid_node_map.shape[1]\n",
    "\n",
    "\n",
    "patience = config['patience']#用处：\n",
    "delta = config['delta']\n",
    "\n",
    "if config['seed'] is not None:\n",
    "    seed = config['seed']\n",
    "    torch.manual_seed(seed)\n",
    "    torch.cuda.manual_seed(seed)\n",
    "    torch.backends.cudnn.deterministic = True\n",
    "    np.random.seed(seed)\n",
    "    random.seed(seed)\n",
    "\n",
    "\n",
    "train_rate = config['train_rate']\n",
    "valid_rate = config['valid_rate']\n",
    "\n",
    "recent_prior = config['recent_prior']\n",
    "week_prior = config['week_prior']\n",
    "one_day_period = config['one_day_period']\n",
    "days_of_week = config['days_of_week']\n",
    "pre_len = config['pre_len']\n",
    "seq_len = recent_prior + week_prior\n",
    "\n",
    "training_epoch = config['training_epoch']\n"
   ]
  },
  {
   "attachments": {},
   "cell_type": "markdown",
   "metadata": {},
   "source": [
    "# 原始数据处理\n",
    "all_data.pkl       (8760, 48, 20, 20) 8760=365*24\n",
    "grid_node_map.pkl  (400, 243)  映射矩阵\n",
    "输出特征大小\n",
    "训练集：4584*7*48*20*20\n",
    "验证集：1080*7*48*20*20\n",
    "测试集：1080*7*48*20*20\n",
    "7的含义：t =673时刻是，输入7个时间片，[1, 169, 337, 505, 670, 671, 672]"
   ]
  },
  {
   "cell_type": "code",
   "execution_count": 14,
   "metadata": {},
   "outputs": [
    {
     "name": "stdout",
     "output_type": "stream",
     "text": [
      "feature: (2827, 7, 41, 20, 20) label: (2827, 1, 20, 20) time: (2827, 32) high feature: (826, 7, 41, 20, 20) high label: (826, 1, 20, 20)\n",
      "graph_x: (2827, 7, 3, 197) high_graph_x: (826, 7, 3, 197)\n",
      "feature: (494, 7, 41, 20, 20) label: (494, 1, 20, 20) time: (494, 32) high feature: (143, 7, 41, 20, 20) high label: (143, 1, 20, 20)\n",
      "graph_x: (494, 7, 3, 197) high_graph_x: (143, 7, 3, 197)\n",
      "feature: (495, 7, 41, 20, 20) label: (495, 1, 20, 20) time: (495, 32) high feature: (144, 7, 41, 20, 20) high label: (144, 1, 20, 20)\n",
      "graph_x: (495, 7, 3, 197) high_graph_x: (144, 7, 3, 197)\n",
      "模型参数---------------------------------------------\n",
      "41 6 7 1 128 32 3 [64, 64]\n",
      "数据集为：Chicago\n",
      "模型加载成功！\n",
      "Number of Parameters: 3756715\n"
     ]
    }
   ],
   "source": [
    "batch_size = 32\n",
    "learning_rate = config['learning_rate']\n",
    "\n",
    "#模型结构\n",
    "num_of_gru_layers = config['num_of_gru_layers']\n",
    "gru_hidden_size = config['gru_hidden_size']\n",
    "gcn_num_filter = config['gcn_num_filter']\n",
    "\n",
    "loaders = []\n",
    "scaler = \"\"\n",
    "train_data_shape = \"\"\n",
    "graph_feature_shape = \"\"\n",
    "   ################## 获取测试数据#########################\n",
    "for idx, (x, y, target_times, high_x, high_y, high_target_times, scaler) in enumerate(normal_and_generate_dataset_time(\n",
    "        all_data_filename,\n",
    "        train_rate=train_rate,\n",
    "        valid_rate=valid_rate,\n",
    "        recent_prior=recent_prior,\n",
    "        week_prior=week_prior,\n",
    "        one_day_period=one_day_period,\n",
    "        days_of_week=days_of_week,\n",
    "        pre_len=pre_len)):\n",
    "    if False:#前100个，没写默认是false\n",
    "        x = x[:100]\n",
    "        y = y[:100]\n",
    "        target_times = target_times[:100]\n",
    "        high_x = high_x[:100]\n",
    "        high_y = high_y[:100]\n",
    "        high_target_times = high_target_times[:100]\n",
    "\n",
    "    if 'nyc' in all_data_filename:\n",
    "        graph_x = x[:, :, [0, 46, 47], :, :].reshape(\n",
    "            (x.shape[0], x.shape[1], -1, north_south_map*west_east_map))#4584*7*3*400,注意reshape和交换维度的不同\n",
    "        high_graph_x = high_x[:, :, [0, 46, 47], :, :].reshape(\n",
    "            (high_x.shape[0], high_x.shape[1], -1, north_south_map*west_east_map))#1337*7*3*400\n",
    "        graph_x = np.dot(graph_x, grid_node_map)#4584*7*3*243\n",
    "        high_graph_x = np.dot(high_graph_x, grid_node_map)\n",
    "    if 'chicago' in all_data_filename:\n",
    "        graph_x = x[:, :, [0, 39, 40], :, :].reshape(\n",
    "            (x.shape[0], x.shape[1], -1, north_south_map*west_east_map))\n",
    "        high_graph_x = high_x[:, :, [0, 39, 40], :, :].reshape(\n",
    "            (high_x.shape[0], high_x.shape[1], -1, north_south_map*west_east_map))\n",
    "        graph_x = np.dot(graph_x, grid_node_map)\n",
    "        high_graph_x = np.dot(high_graph_x, grid_node_map)\n",
    "\n",
    "    print(\"feature:\", str(x.shape), \"label:\", str(y.shape), \"time:\", str(target_times.shape),\n",
    "            \"high feature:\", str(high_x.shape), \"high label:\", str(high_y.shape))\n",
    "    print(\"graph_x:\", str(graph_x.shape),\n",
    "            \"high_graph_x:\", str(high_graph_x.shape))\n",
    "    if x.shape[0] ==1080:\n",
    "        b = np.ones_like(x)\n",
    "        b = np.where(x>1,1,0)\n",
    "\n",
    "    if idx == 0:\n",
    "        scaler = scaler\n",
    "        train_data_shape = x.shape\n",
    "        time_shape = target_times.shape\n",
    "        graph_feature_shape = graph_x.shape\n",
    "    loaders.append(Data.DataLoader(\n",
    "        Data.TensorDataset(\n",
    "            torch.from_numpy(x),\n",
    "            torch.from_numpy(target_times),#4584*32\n",
    "            torch.from_numpy(graph_x),\n",
    "            torch.from_numpy(y)\n",
    "        ),\n",
    "        batch_size=batch_size,\n",
    "        shuffle=(idx == 0)\n",
    "    ))\n",
    "    if idx == 2:\n",
    "        high_test_loader = Data.DataLoader(\n",
    "            Data.TensorDataset(\n",
    "                torch.from_numpy(high_x),\n",
    "                torch.from_numpy(high_target_times),\n",
    "                torch.from_numpy(high_graph_x),\n",
    "                torch.from_numpy(high_y)\n",
    "            ),\n",
    "            batch_size=batch_size,\n",
    "            shuffle=(idx == 0)\n",
    "        )\n",
    "train_loader, val_loader, test_loader = loaders\n",
    "################ 获取测试数据##################\n",
    "nums_of_filter = []\n",
    "for _ in range(2):\n",
    "    nums_of_filter.append(gcn_num_filter)\n",
    "\n",
    "GSNet_Model = GSNet(train_data_shape[2], num_of_gru_layers, seq_len, pre_len,\n",
    "                    gru_hidden_size, time_shape[1], graph_feature_shape[2],\n",
    "                    nums_of_filter, north_south_map, west_east_map)\n",
    "print(\"模型参数---------------------------------------------\")\n",
    "print(train_data_shape[2], num_of_gru_layers, seq_len, pre_len,\n",
    "        gru_hidden_size, time_shape[1], graph_feature_shape[2],\n",
    "        nums_of_filter)\n",
    "\n",
    "# multi gpu\n",
    "if torch.cuda.device_count() > 10:\n",
    "    print(\"Let's use\", torch.cuda.device_count(), \"GPUs!\", flush=True)\n",
    "    GSNet_Model = nn.DataParallel(GSNet_Model)\n",
    "############### 载入模型######################\n",
    "GSNet_Model.to(device)\n",
    "# print(GSNet_Model)\n",
    "GSNet_Model.load_state_dict(torch.load(\"data/model_35.pt\"))\n",
    "print('数据集为：'+cfgin.dataset)\n",
    "print(\"模型加载成功！\")\n",
    "\n",
    "num_of_parameters = 0\n",
    "for name, parameters in GSNet_Model.named_parameters():\n",
    "    num_of_parameters += np.prod(parameters.shape)\n",
    "print(\"Number of Parameters: {}\".format(num_of_parameters), flush=True)\n",
    "\n",
    "trainer = optim.Adam(GSNet_Model.parameters(), lr=learning_rate)\n",
    "early_stop = EarlyStopping(patience=patience, delta=delta)\n",
    "\n",
    "risk_mask = get_mask(mask_filename)\n",
    "road_adj = get_adjacent(road_adj_filename)\n",
    "risk_adj = get_adjacent(risk_adj_filename)\n",
    "if poi_adj_filename == \"\":\n",
    "    poi_adj = None\n",
    "else:\n",
    "    poi_adj = get_adjacent(poi_adj_filename)\n"
   ]
  },
  {
   "cell_type": "code",
   "execution_count": 15,
   "metadata": {},
   "outputs": [
    {
     "name": "stderr",
     "output_type": "stream",
     "text": [
      "2023-05-17 15:07:46,680 - INFO - Loading config file from \n"
     ]
    }
   ],
   "source": [
    "#配置log日志输出\n",
    "from lib.myfunction import get_root_logger, logger_info\n",
    "logger = get_root_logger('INFO', './logdata')\n",
    "logger.info(\"Loading config file from \")\n"
   ]
  },
  {
   "cell_type": "code",
   "execution_count": 26,
   "metadata": {},
   "outputs": [],
   "source": [
    "torch.cuda.empty_cache()"
   ]
  },
  {
   "cell_type": "code",
   "execution_count": 27,
   "metadata": {},
   "outputs": [
    {
     "name": "stderr",
     "output_type": "stream",
     "text": [
      "2023-05-17 15:26:41,278 - INFO - Loading config file from \n",
      "2023-05-17 15:26:41,281 - INFO - Centrality_min_impr_10\n"
     ]
    },
    {
     "name": "stdout",
     "output_type": "stream",
     "text": [
      "time,epoch,dataset,model,node_select,method,K,batch size,clean_RMSE,clean_recall,clean_MAP,clean_RCR,adv_RMSE,adv_recall,adv_MAP,adv_RCR,local_adv_RMSE,local_adv_recall,local_adv_MAP,local_adv_RCR,00\n"
     ]
    },
    {
     "name": "stderr",
     "output_type": "stream",
     "text": [
      "2023-05-17 15:26:43,870 - INFO - Info:  [64/495 (12%)]\t  clean_RMSE: 0.5409 clean_Recall: 20.9524 clean_MAP: 0.0687 clean_RCR: 0.8350   adv_RMSE: 0.5428 adv_Recall: 21.9048 adv_MAP: 0.0697 adv_RCR: 0.8267 time:1.165\n",
      "2023-05-17 15:26:46,337 - INFO - Info:  [128/495 (25%)]\t  clean_RMSE: 0.5505 clean_Recall: 17.7083 clean_MAP: 0.1596 clean_RCR: 0.8461   adv_RMSE: 0.5493 adv_Recall: 21.8750 adv_MAP: 0.1780 adv_RCR: 0.8186 time:1.221\n",
      "2023-05-17 15:26:48,795 - INFO - Info:  [192/495 (38%)]\t  clean_RMSE: 0.5346 clean_Recall: 20.6186 clean_MAP: 0.0620 clean_RCR: 0.8615   adv_RMSE: 0.5356 adv_Recall: 18.5567 adv_MAP: 0.0582 adv_RCR: 0.8708 time:1.205\n",
      "2023-05-17 15:26:51,185 - INFO - Info:  [256/495 (50%)]\t  clean_RMSE: 0.5212 clean_Recall: 16.4948 clean_MAP: 0.1009 clean_RCR: 0.8825   adv_RMSE: 0.5215 adv_Recall: 16.4948 adv_MAP: 0.0972 adv_RCR: 0.8826 time:1.198\n",
      "2023-05-17 15:26:53,640 - INFO - Info:  [320/495 (62%)]\t  clean_RMSE: 0.5701 clean_Recall: 18.2540 clean_MAP: 0.0790 clean_RCR: 0.8596   adv_RMSE: 0.5713 adv_Recall: 17.4603 adv_MAP: 0.0778 adv_RCR: 0.8541 time:1.216\n",
      "2023-05-17 15:26:56,051 - INFO - Info:  [384/495 (75%)]\t  clean_RMSE: 0.5059 clean_Recall: 17.2840 clean_MAP: 0.0458 clean_RCR: 0.8851   adv_RMSE: 0.5129 adv_Recall: 18.5185 adv_MAP: 0.0511 adv_RCR: 0.8644 time:1.152\n",
      "2023-05-17 15:26:58,504 - INFO - Info:  [448/495 (88%)]\t  clean_RMSE: 0.5581 clean_Recall: 31.6176 clean_MAP: 0.1443 clean_RCR: 0.7675   adv_RMSE: 0.5608 adv_Recall: 28.6765 adv_MAP: 0.1302 adv_RCR: 0.7939 time:1.229\n",
      "2023-05-17 15:27:00,359 - INFO - Info:  [495/495 (100%)]\t  clean_RMSE: 0.5714 clean_Recall: 18.1818 clean_MAP: 0.0704 clean_RCR: 0.9538   adv_RMSE: 0.5719 adv_Recall: 18.1818 adv_MAP: 0.0681 adv_RCR: 0.9535 time:0.596\n",
      "2023-05-17 15:27:01,402 - INFO - 攻击时间：Info:time:1.640 \t  clean_RMSE: 0.5418 clean_Recall: 20.6321 clean_MAP: 0.0876 clean_RCR: 0.8295   adv_RMSE: 0.5434 adv_Recall: 20.1550 adv_MAP: 0.0866 adv_RCR: 0.8332\n",
      "2023-05-17 15:27:03,100 - INFO - Centrality_pgd_impr_10\n"
     ]
    },
    {
     "name": "stdout",
     "output_type": "stream",
     "text": [
      "2023-05-17 15:27:01,0,Chicago,Gsnet,Centrality,min_impr,10,32,0.5417841608881183,20.63208109719738,0.08756782175523166,0.8295174198583164,0.5434172802233007,20.155038759689923,0.08659833020097298,0.8331832641717047,0.060965836896136764,98.89424675756568,0.9869665956528383,0.0028277937386682363\n"
     ]
    },
    {
     "name": "stderr",
     "output_type": "stream",
     "text": [
      "2023-05-17 15:27:05,848 - INFO - Info:  [64/1080 (12%)]\t  clean_RMSE: 0.5409 clean_Recall: 20.9524 clean_MAP: 0.0687 clean_RCR: 0.8350   adv_RMSE: 0.5432 adv_Recall: 21.9048 adv_MAP: 0.0694 adv_RCR: 0.8273 time:1.287\n",
      "2023-05-17 15:27:08,541 - INFO - Info:  [128/1080 (25%)]\t  clean_RMSE: 0.5505 clean_Recall: 17.7083 clean_MAP: 0.1596 clean_RCR: 0.8461   adv_RMSE: 0.5495 adv_Recall: 22.9167 adv_MAP: 0.1803 adv_RCR: 0.7975 time:1.334\n",
      "2023-05-17 15:27:11,223 - INFO - Info:  [192/1080 (38%)]\t  clean_RMSE: 0.5346 clean_Recall: 20.6186 clean_MAP: 0.0620 clean_RCR: 0.8615   adv_RMSE: 0.5354 adv_Recall: 18.5567 adv_MAP: 0.0576 adv_RCR: 0.8707 time:1.315\n",
      "2023-05-17 15:27:13,836 - INFO - Info:  [256/1080 (50%)]\t  clean_RMSE: 0.5212 clean_Recall: 16.4948 clean_MAP: 0.1009 clean_RCR: 0.8825   adv_RMSE: 0.5211 adv_Recall: 15.4639 adv_MAP: 0.0668 adv_RCR: 0.9045 time:1.316\n",
      "2023-05-17 15:27:16,527 - INFO - Info:  [320/1080 (62%)]\t  clean_RMSE: 0.5701 clean_Recall: 18.2540 clean_MAP: 0.0790 clean_RCR: 0.8596   adv_RMSE: 0.5715 adv_Recall: 17.4603 adv_MAP: 0.0771 adv_RCR: 0.8633 time:1.332\n",
      "2023-05-17 15:27:19,158 - INFO - Info:  [384/1080 (75%)]\t  clean_RMSE: 0.5059 clean_Recall: 17.2840 clean_MAP: 0.0458 clean_RCR: 0.8851   adv_RMSE: 0.5128 adv_Recall: 17.2840 adv_MAP: 0.0514 adv_RCR: 0.8682 time:1.269\n",
      "2023-05-17 15:27:21,825 - INFO - Info:  [448/1080 (88%)]\t  clean_RMSE: 0.5581 clean_Recall: 31.6176 clean_MAP: 0.1443 clean_RCR: 0.7675   adv_RMSE: 0.5603 adv_Recall: 29.4118 adv_MAP: 0.1341 adv_RCR: 0.7714 time:1.332\n",
      "2023-05-17 15:27:23,845 - INFO - Info:  [495/1080 (100%)]\t  clean_RMSE: 0.5714 clean_Recall: 18.1818 clean_MAP: 0.0704 clean_RCR: 0.9538   adv_RMSE: 0.5728 adv_Recall: 18.1818 adv_MAP: 0.0681 adv_RCR: 0.9535 time:0.650\n",
      "2023-05-17 15:27:24,888 - INFO - 攻击时间：Info:time:1.692 \t  clean_RMSE: 0.5418 clean_Recall: 20.6321 clean_MAP: 0.0876 clean_RCR: 0.8295   adv_RMSE: 0.5434 adv_Recall: 20.2743 adv_MAP: 0.0849 adv_RCR: 0.8299\n",
      "2023-05-17 15:27:26,592 - INFO - Degree_min_impr_10\n"
     ]
    },
    {
     "name": "stdout",
     "output_type": "stream",
     "text": [
      "2023-05-17 15:27:24,0,Chicago,Gsnet,Centrality,pgd_impr,10,32,0.5417841608881183,20.63208109719738,0.08756782175523166,0.8295174198583164,0.5434255754818045,20.274299344066783,0.0848633759143658,0.8298685256070499,0.05477586530532105,99.00648486863984,0.988077552781959,0.0025321101315076873\n"
     ]
    },
    {
     "name": "stderr",
     "output_type": "stream",
     "text": [
      "2023-05-17 15:27:29,047 - INFO - Info:  [64/495 (12%)]\t  clean_RMSE: 0.5409 clean_Recall: 20.9524 clean_MAP: 0.0687 clean_RCR: 0.8350   adv_RMSE: 0.5450 adv_Recall: 21.9048 adv_MAP: 0.0671 adv_RCR: 0.8290 time:1.176\n",
      "2023-05-17 15:27:31,519 - INFO - Info:  [128/495 (25%)]\t  clean_RMSE: 0.5505 clean_Recall: 17.7083 clean_MAP: 0.1596 clean_RCR: 0.8461   adv_RMSE: 0.5511 adv_Recall: 21.8750 adv_MAP: 0.1624 adv_RCR: 0.8187 time:1.224\n",
      "2023-05-17 15:27:33,983 - INFO - Info:  [192/495 (38%)]\t  clean_RMSE: 0.5346 clean_Recall: 20.6186 clean_MAP: 0.0620 clean_RCR: 0.8615   adv_RMSE: 0.5371 adv_Recall: 21.6495 adv_MAP: 0.0682 adv_RCR: 0.8553 time:1.214\n",
      "2023-05-17 15:27:36,390 - INFO - Info:  [256/495 (50%)]\t  clean_RMSE: 0.5212 clean_Recall: 16.4948 clean_MAP: 0.1009 clean_RCR: 0.8825   adv_RMSE: 0.5215 adv_Recall: 14.4330 adv_MAP: 0.0604 adv_RCR: 0.9108 time:1.210\n",
      "2023-05-17 15:27:38,869 - INFO - Info:  [320/495 (62%)]\t  clean_RMSE: 0.5701 clean_Recall: 18.2540 clean_MAP: 0.0790 clean_RCR: 0.8596   adv_RMSE: 0.5717 adv_Recall: 17.4603 adv_MAP: 0.0776 adv_RCR: 0.8630 time:1.225\n",
      "2023-05-17 15:27:41,290 - INFO - Info:  [384/495 (75%)]\t  clean_RMSE: 0.5059 clean_Recall: 17.2840 clean_MAP: 0.0458 clean_RCR: 0.8851   adv_RMSE: 0.5148 adv_Recall: 18.5185 adv_MAP: 0.0474 adv_RCR: 0.8645 time:1.161\n",
      "2023-05-17 15:27:43,743 - INFO - Info:  [448/495 (88%)]\t  clean_RMSE: 0.5581 clean_Recall: 31.6176 clean_MAP: 0.1443 clean_RCR: 0.7675   adv_RMSE: 0.5606 adv_Recall: 30.1471 adv_MAP: 0.1367 adv_RCR: 0.7682 time:1.224\n",
      "2023-05-17 15:27:45,592 - INFO - Info:  [495/495 (100%)]\t  clean_RMSE: 0.5714 clean_Recall: 18.1818 clean_MAP: 0.0704 clean_RCR: 0.9538   adv_RMSE: 0.5742 adv_Recall: 18.1818 adv_MAP: 0.0621 adv_RCR: 0.9535 time:0.596\n",
      "2023-05-17 15:27:46,640 - INFO - 攻击时间：Info:time:1.643 \t  clean_RMSE: 0.5418 clean_Recall: 20.6321 clean_MAP: 0.0876 clean_RCR: 0.8295   adv_RMSE: 0.5445 adv_Recall: 20.6917 adv_MAP: 0.0842 adv_RCR: 0.8257\n",
      "2023-05-17 15:27:48,337 - INFO - Degree_pgd_impr_10\n"
     ]
    },
    {
     "name": "stdout",
     "output_type": "stream",
     "text": [
      "2023-05-17 15:27:46,0,Chicago,Gsnet,Degree,min_impr,10,32,0.5417841608881183,20.63208109719738,0.08756782175523166,0.8295174198583164,0.5444747133195988,20.69171138938581,0.08419430187889514,0.8256831394267953,0.054366900642641734,98.99401396740937,0.9882417560748876,0.002638403976597115\n"
     ]
    },
    {
     "name": "stderr",
     "output_type": "stream",
     "text": [
      "2023-05-17 15:27:51,024 - INFO - Info:  [64/1080 (12%)]\t  clean_RMSE: 0.5409 clean_Recall: 20.9524 clean_MAP: 0.0687 clean_RCR: 0.8350   adv_RMSE: 0.5438 adv_Recall: 20.9524 adv_MAP: 0.0645 adv_RCR: 0.8311 time:1.282\n",
      "2023-05-17 15:27:53,722 - INFO - Info:  [128/1080 (25%)]\t  clean_RMSE: 0.5505 clean_Recall: 17.7083 clean_MAP: 0.1596 clean_RCR: 0.8461   adv_RMSE: 0.5503 adv_Recall: 20.8333 adv_MAP: 0.1606 adv_RCR: 0.8286 time:1.335\n",
      "2023-05-17 15:27:56,397 - INFO - Info:  [192/1080 (38%)]\t  clean_RMSE: 0.5346 clean_Recall: 20.6186 clean_MAP: 0.0620 clean_RCR: 0.8615   adv_RMSE: 0.5363 adv_Recall: 20.6186 adv_MAP: 0.0637 adv_RCR: 0.8596 time:1.320\n",
      "2023-05-17 15:27:59,015 - INFO - Info:  [256/1080 (50%)]\t  clean_RMSE: 0.5212 clean_Recall: 16.4948 clean_MAP: 0.1009 clean_RCR: 0.8825   adv_RMSE: 0.5208 adv_Recall: 15.4639 adv_MAP: 0.0644 adv_RCR: 0.9044 time:1.319\n",
      "2023-05-17 15:28:01,718 - INFO - Info:  [320/1080 (62%)]\t  clean_RMSE: 0.5701 clean_Recall: 18.2540 clean_MAP: 0.0790 clean_RCR: 0.8596   adv_RMSE: 0.5710 adv_Recall: 17.4603 adv_MAP: 0.0774 adv_RCR: 0.8633 time:1.338\n",
      "2023-05-17 15:28:04,351 - INFO - Info:  [384/1080 (75%)]\t  clean_RMSE: 0.5059 clean_Recall: 17.2840 clean_MAP: 0.0458 clean_RCR: 0.8851   adv_RMSE: 0.5139 adv_Recall: 19.7531 adv_MAP: 0.0552 adv_RCR: 0.8574 time:1.277\n",
      "2023-05-17 15:28:07,017 - INFO - Info:  [448/1080 (88%)]\t  clean_RMSE: 0.5581 clean_Recall: 31.6176 clean_MAP: 0.1443 clean_RCR: 0.7675   adv_RMSE: 0.5602 adv_Recall: 30.1471 adv_MAP: 0.1373 adv_RCR: 0.7699 time:1.332\n",
      "2023-05-17 15:28:09,033 - INFO - Info:  [495/1080 (100%)]\t  clean_RMSE: 0.5714 clean_Recall: 18.1818 clean_MAP: 0.0704 clean_RCR: 0.9538   adv_RMSE: 0.5735 adv_Recall: 18.1818 adv_MAP: 0.0694 adv_RCR: 0.9537 time:0.646\n",
      "2023-05-17 15:28:10,116 - INFO - 攻击时间：Info:time:1.730 \t  clean_RMSE: 0.5418 clean_Recall: 20.6321 clean_MAP: 0.0876 clean_RCR: 0.8295   adv_RMSE: 0.5438 adv_Recall: 20.5725 adv_MAP: 0.0848 adv_RCR: 0.8282\n",
      "2023-05-17 15:28:11,831 - INFO - pagerank_min_impr_10\n"
     ]
    },
    {
     "name": "stdout",
     "output_type": "stream",
     "text": [
      "2023-05-17 15:28:10,0,Chicago,Gsnet,Degree,pgd_impr,10,32,0.5417841608881183,20.63208109719738,0.08756782175523166,0.8295174198583164,0.5437969754575835,20.572450805008945,0.08483673431791525,0.8282380526536831,0.05074939645885526,98.98570003325574,0.9882780460532632,0.002655968993752614\n"
     ]
    },
    {
     "name": "stderr",
     "output_type": "stream",
     "text": [
      "2023-05-17 15:28:14,276 - INFO - Info:  [64/495 (12%)]\t  clean_RMSE: 0.5409 clean_Recall: 20.9524 clean_MAP: 0.0687 clean_RCR: 0.8350   adv_RMSE: 0.5442 adv_Recall: 21.9048 adv_MAP: 0.0685 adv_RCR: 0.8220 time:1.180\n",
      "2023-05-17 15:28:16,744 - INFO - Info:  [128/495 (25%)]\t  clean_RMSE: 0.5505 clean_Recall: 17.7083 clean_MAP: 0.1596 clean_RCR: 0.8461   adv_RMSE: 0.5505 adv_Recall: 19.7917 adv_MAP: 0.1555 adv_RCR: 0.8318 time:1.224\n",
      "2023-05-17 15:28:19,211 - INFO - Info:  [192/495 (38%)]\t  clean_RMSE: 0.5346 clean_Recall: 20.6186 clean_MAP: 0.0620 clean_RCR: 0.8615   adv_RMSE: 0.5367 adv_Recall: 21.6495 adv_MAP: 0.0664 adv_RCR: 0.8553 time:1.211\n",
      "2023-05-17 15:28:21,635 - INFO - Info:  [256/495 (50%)]\t  clean_RMSE: 0.5212 clean_Recall: 16.4948 clean_MAP: 0.1009 clean_RCR: 0.8825   adv_RMSE: 0.5209 adv_Recall: 15.4639 adv_MAP: 0.0652 adv_RCR: 0.9044 time:1.224\n",
      "2023-05-17 15:28:24,116 - INFO - Info:  [320/495 (62%)]\t  clean_RMSE: 0.5701 clean_Recall: 18.2540 clean_MAP: 0.0790 clean_RCR: 0.8596   adv_RMSE: 0.5712 adv_Recall: 17.4603 adv_MAP: 0.0774 adv_RCR: 0.8631 time:1.228\n",
      "2023-05-17 15:28:26,541 - INFO - Info:  [384/495 (75%)]\t  clean_RMSE: 0.5059 clean_Recall: 17.2840 clean_MAP: 0.0458 clean_RCR: 0.8851   adv_RMSE: 0.5142 adv_Recall: 18.5185 adv_MAP: 0.0500 adv_RCR: 0.8645 time:1.170\n",
      "2023-05-17 15:28:28,996 - INFO - Info:  [448/495 (88%)]\t  clean_RMSE: 0.5581 clean_Recall: 31.6176 clean_MAP: 0.1443 clean_RCR: 0.7675   adv_RMSE: 0.5601 adv_Recall: 29.4118 adv_MAP: 0.1361 adv_RCR: 0.7713 time:1.228\n",
      "2023-05-17 15:28:30,846 - INFO - Info:  [495/495 (100%)]\t  clean_RMSE: 0.5714 clean_Recall: 18.1818 clean_MAP: 0.0704 clean_RCR: 0.9538   adv_RMSE: 0.5739 adv_Recall: 18.1818 adv_MAP: 0.0704 adv_RCR: 0.9538 time:0.596\n",
      "2023-05-17 15:28:31,883 - INFO - 攻击时间：Info:time:1.633 \t  clean_RMSE: 0.5418 clean_Recall: 20.6321 clean_MAP: 0.0876 clean_RCR: 0.8295   adv_RMSE: 0.5440 adv_Recall: 20.5128 adv_MAP: 0.0848 adv_RCR: 0.8262\n",
      "2023-05-17 15:28:33,576 - INFO - pagerank_pgd_impr_10\n"
     ]
    },
    {
     "name": "stdout",
     "output_type": "stream",
     "text": [
      "2023-05-17 15:28:31,0,Chicago,Gsnet,pagerank,min_impr,10,32,0.5417841608881183,20.63208109719738,0.08756782175523166,0.8295174198583164,0.5439620521887972,20.51282051282051,0.084795698240263,0.8262195261013169,0.051025874011013723,98.97322913202528,0.988087498944143,0.002696895070749369\n"
     ]
    },
    {
     "name": "stderr",
     "output_type": "stream",
     "text": [
      "2023-05-17 15:28:36,258 - INFO - Info:  [64/1080 (12%)]\t  clean_RMSE: 0.5409 clean_Recall: 20.9524 clean_MAP: 0.0687 clean_RCR: 0.8350   adv_RMSE: 0.5435 adv_Recall: 20.9524 adv_MAP: 0.0679 adv_RCR: 0.8312 time:1.286\n",
      "2023-05-17 15:28:38,950 - INFO - Info:  [128/1080 (25%)]\t  clean_RMSE: 0.5505 clean_Recall: 17.7083 clean_MAP: 0.1596 clean_RCR: 0.8461   adv_RMSE: 0.5501 adv_Recall: 19.7917 adv_MAP: 0.1594 adv_RCR: 0.8318 time:1.336\n",
      "2023-05-17 15:28:41,633 - INFO - Info:  [192/1080 (38%)]\t  clean_RMSE: 0.5346 clean_Recall: 20.6186 clean_MAP: 0.0620 clean_RCR: 0.8615   adv_RMSE: 0.5359 adv_Recall: 19.5876 adv_MAP: 0.0603 adv_RCR: 0.8658 time:1.320\n",
      "2023-05-17 15:28:44,248 - INFO - Info:  [256/1080 (50%)]\t  clean_RMSE: 0.5212 clean_Recall: 16.4948 clean_MAP: 0.1009 clean_RCR: 0.8825   adv_RMSE: 0.5206 adv_Recall: 15.4639 adv_MAP: 0.0652 adv_RCR: 0.9044 time:1.315\n",
      "2023-05-17 15:28:46,948 - INFO - Info:  [320/1080 (62%)]\t  clean_RMSE: 0.5701 clean_Recall: 18.2540 clean_MAP: 0.0790 clean_RCR: 0.8596   adv_RMSE: 0.5708 adv_Recall: 17.4603 adv_MAP: 0.0774 adv_RCR: 0.8633 time:1.346\n",
      "2023-05-17 15:28:49,583 - INFO - Info:  [384/1080 (75%)]\t  clean_RMSE: 0.5059 clean_Recall: 17.2840 clean_MAP: 0.0458 clean_RCR: 0.8851   adv_RMSE: 0.5135 adv_Recall: 18.5185 adv_MAP: 0.0501 adv_RCR: 0.8814 time:1.267\n",
      "2023-05-17 15:28:52,262 - INFO - Info:  [448/1080 (88%)]\t  clean_RMSE: 0.5581 clean_Recall: 31.6176 clean_MAP: 0.1443 clean_RCR: 0.7675   adv_RMSE: 0.5597 adv_Recall: 30.1471 adv_MAP: 0.1366 adv_RCR: 0.7700 time:1.340\n",
      "2023-05-17 15:28:54,268 - INFO - Info:  [495/1080 (100%)]\t  clean_RMSE: 0.5714 clean_Recall: 18.1818 clean_MAP: 0.0704 clean_RCR: 0.9538   adv_RMSE: 0.5734 adv_Recall: 18.1818 adv_MAP: 0.0694 adv_RCR: 0.9537 time:0.647\n",
      "2023-05-17 15:28:55,317 - INFO - 攻击时间：Info:time:1.697 \t  clean_RMSE: 0.5418 clean_Recall: 20.6321 clean_MAP: 0.0876 clean_RCR: 0.8295   adv_RMSE: 0.5435 adv_Recall: 20.3936 adv_MAP: 0.0840 adv_RCR: 0.8303\n",
      "2023-05-17 15:28:57,015 - INFO - random_min_impr_10\n"
     ]
    },
    {
     "name": "stdout",
     "output_type": "stream",
     "text": [
      "2023-05-17 15:28:55,0,Chicago,Gsnet,pagerank,pgd_impr,10,32,0.5417841608881183,20.63208109719738,0.08756782175523166,0.8295174198583164,0.5434886568226486,20.39355992844365,0.08403600144310831,0.8303093964012109,0.049088246062679704,98.96491519787163,0.9880911209476513,0.0027027431076931895\n"
     ]
    },
    {
     "name": "stderr",
     "output_type": "stream",
     "text": [
      "2023-05-17 15:28:59,467 - INFO - Info:  [64/495 (12%)]\t  clean_RMSE: 0.5409 clean_Recall: 20.9524 clean_MAP: 0.0687 clean_RCR: 0.8350   adv_RMSE: 0.5427 adv_Recall: 21.9048 adv_MAP: 0.0760 adv_RCR: 0.8259 time:1.172\n",
      "2023-05-17 15:29:01,955 - INFO - Info:  [128/495 (25%)]\t  clean_RMSE: 0.5505 clean_Recall: 17.7083 clean_MAP: 0.1596 clean_RCR: 0.8461   adv_RMSE: 0.5498 adv_Recall: 19.7917 adv_MAP: 0.1583 adv_RCR: 0.8317 time:1.227\n",
      "2023-05-17 15:29:04,407 - INFO - Info:  [192/495 (38%)]\t  clean_RMSE: 0.5346 clean_Recall: 20.6186 clean_MAP: 0.0620 clean_RCR: 0.8615   adv_RMSE: 0.5354 adv_Recall: 19.5876 adv_MAP: 0.0595 adv_RCR: 0.8629 time:1.204\n",
      "2023-05-17 15:29:06,808 - INFO - Info:  [256/495 (50%)]\t  clean_RMSE: 0.5212 clean_Recall: 16.4948 clean_MAP: 0.1009 clean_RCR: 0.8825   adv_RMSE: 0.5206 adv_Recall: 15.4639 adv_MAP: 0.0652 adv_RCR: 0.9044 time:1.206\n",
      "2023-05-17 15:29:09,282 - INFO - Info:  [320/495 (62%)]\t  clean_RMSE: 0.5701 clean_Recall: 18.2540 clean_MAP: 0.0790 clean_RCR: 0.8596   adv_RMSE: 0.5705 adv_Recall: 16.6667 adv_MAP: 0.0816 adv_RCR: 0.8714 time:1.225\n",
      "2023-05-17 15:29:11,700 - INFO - Info:  [384/495 (75%)]\t  clean_RMSE: 0.5059 clean_Recall: 17.2840 clean_MAP: 0.0458 clean_RCR: 0.8851   adv_RMSE: 0.5133 adv_Recall: 17.2840 adv_MAP: 0.0498 adv_RCR: 0.8928 time:1.162\n",
      "2023-05-17 15:29:14,153 - INFO - Info:  [448/495 (88%)]\t  clean_RMSE: 0.5581 clean_Recall: 31.6176 clean_MAP: 0.1443 clean_RCR: 0.7675   adv_RMSE: 0.5596 adv_Recall: 29.4118 adv_MAP: 0.1365 adv_RCR: 0.7739 time:1.227\n",
      "2023-05-17 15:29:16,007 - INFO - Info:  [495/495 (100%)]\t  clean_RMSE: 0.5714 clean_Recall: 18.1818 clean_MAP: 0.0704 clean_RCR: 0.9538   adv_RMSE: 0.5727 adv_Recall: 18.1818 adv_MAP: 0.0710 adv_RCR: 0.9540 time:0.600\n",
      "2023-05-17 15:29:17,055 - INFO - 攻击时间：Info:time:1.648 \t  clean_RMSE: 0.5418 clean_Recall: 20.6321 clean_MAP: 0.0876 clean_RCR: 0.8295   adv_RMSE: 0.5431 adv_Recall: 19.9761 adv_MAP: 0.0847 adv_RCR: 0.8354\n",
      "2023-05-17 15:29:18,750 - INFO - random_pgd_impr_10\n"
     ]
    },
    {
     "name": "stdout",
     "output_type": "stream",
     "text": [
      "2023-05-17 15:29:17,0,Chicago,Gsnet,random,min_impr,10,32,0.5417841608881183,20.63208109719738,0.08756782175523166,0.8295174198583164,0.5430782623469452,19.97614788312463,0.08473945656449267,0.8354451130791573,0.05373331885362462,98.97738609910209,0.9879364039248545,0.0026089471413635545\n"
     ]
    },
    {
     "name": "stderr",
     "output_type": "stream",
     "text": [
      "2023-05-17 15:29:21,423 - INFO - Info:  [64/1080 (12%)]\t  clean_RMSE: 0.5409 clean_Recall: 20.9524 clean_MAP: 0.0687 clean_RCR: 0.8350   adv_RMSE: 0.5419 adv_Recall: 22.8571 adv_MAP: 0.0776 adv_RCR: 0.8253 time:1.275\n",
      "2023-05-17 15:29:24,115 - INFO - Info:  [128/1080 (25%)]\t  clean_RMSE: 0.5505 clean_Recall: 17.7083 clean_MAP: 0.1596 clean_RCR: 0.8461   adv_RMSE: 0.5498 adv_Recall: 19.7917 adv_MAP: 0.1596 adv_RCR: 0.8318 time:1.333\n",
      "2023-05-17 15:29:26,793 - INFO - Info:  [192/1080 (38%)]\t  clean_RMSE: 0.5346 clean_Recall: 20.6186 clean_MAP: 0.0620 clean_RCR: 0.8615   adv_RMSE: 0.5359 adv_Recall: 18.5567 adv_MAP: 0.0602 adv_RCR: 0.8719 time:1.321\n",
      "2023-05-17 15:29:29,407 - INFO - Info:  [256/1080 (50%)]\t  clean_RMSE: 0.5212 clean_Recall: 16.4948 clean_MAP: 0.1009 clean_RCR: 0.8825   adv_RMSE: 0.5196 adv_Recall: 15.4639 adv_MAP: 0.0687 adv_RCR: 0.9045 time:1.316\n",
      "2023-05-17 15:29:32,093 - INFO - Info:  [320/1080 (62%)]\t  clean_RMSE: 0.5701 clean_Recall: 18.2540 clean_MAP: 0.0790 clean_RCR: 0.8596   adv_RMSE: 0.5705 adv_Recall: 19.0476 adv_MAP: 0.0866 adv_RCR: 0.8410 time:1.333\n",
      "2023-05-17 15:29:34,735 - INFO - Info:  [384/1080 (75%)]\t  clean_RMSE: 0.5059 clean_Recall: 17.2840 clean_MAP: 0.0458 clean_RCR: 0.8851   adv_RMSE: 0.5134 adv_Recall: 18.5185 adv_MAP: 0.0502 adv_RCR: 0.8611 time:1.274\n",
      "2023-05-17 15:29:37,405 - INFO - Info:  [448/1080 (88%)]\t  clean_RMSE: 0.5581 clean_Recall: 31.6176 clean_MAP: 0.1443 clean_RCR: 0.7675   adv_RMSE: 0.5588 adv_Recall: 30.8824 adv_MAP: 0.1397 adv_RCR: 0.7729 time:1.331\n",
      "2023-05-17 15:29:39,409 - INFO - Info:  [495/1080 (100%)]\t  clean_RMSE: 0.5714 clean_Recall: 18.1818 clean_MAP: 0.0704 clean_RCR: 0.9538   adv_RMSE: 0.5733 adv_Recall: 18.1818 adv_MAP: 0.0710 adv_RCR: 0.9540 time:0.647\n",
      "2023-05-17 15:29:40,444 - INFO - 攻击时间：Info:time:1.682 \t  clean_RMSE: 0.5418 clean_Recall: 20.6321 clean_MAP: 0.0876 clean_RCR: 0.8295   adv_RMSE: 0.5429 adv_Recall: 20.6321 adv_MAP: 0.0853 adv_RCR: 0.8255\n",
      "2023-05-17 15:29:42,126 - INFO - saliency_loss_mse_min_impr_10\n"
     ]
    },
    {
     "name": "stdout",
     "output_type": "stream",
     "text": [
      "2023-05-17 15:29:40,0,Chicago,Gsnet,random,pgd_impr,10,32,0.5417841608881183,20.63208109719738,0.08756782175523166,0.8295174198583164,0.5428889634001431,20.63208109719738,0.0853189068960142,0.8255467226594557,0.05144042074326109,98.96075823079481,0.9876630882093521,0.00264228023787187\n"
     ]
    },
    {
     "ename": "KeyboardInterrupt",
     "evalue": "",
     "output_type": "error",
     "traceback": [
      "\u001b[0;31m---------------------------------------------------------------------------\u001b[0m",
      "\u001b[0;31mKeyboardInterrupt\u001b[0m                         Traceback (most recent call last)",
      "Cell \u001b[0;32mIn[27], line 35\u001b[0m\n\u001b[1;32m     32\u001b[0m parm_node \u001b[39m=\u001b[39m i  \u001b[39m# 节点选择的方法\u001b[39;00m\n\u001b[1;32m     33\u001b[0m \u001b[39m# 进行攻击,输出攻击日志\u001b[39;00m\n\u001b[1;32m     34\u001b[0m \u001b[39m# 1. 节点选择，返回攻击的节点\u001b[39;00m\n\u001b[0;32m---> 35\u001b[0m ack_map \u001b[39m=\u001b[39m node_map(i,\u001b[39m12\u001b[39;49m,out_K, \u001b[39m5\u001b[39;49m,cfgin, GSNet_Model, test_loader, risk_mask, road_adj, risk_adj, poi_adj,\n\u001b[1;32m     36\u001b[0m                    grid_node_map, device, data_type\u001b[39m=\u001b[39;49m\u001b[39m'\u001b[39;49m\u001b[39mnyc\u001b[39;49m\u001b[39m'\u001b[39;49m)\n\u001b[1;32m     37\u001b[0m \u001b[39m# 2. 攻击方法选择，返回未攻击后的预测值，标签值,攻击前的预测值，攻击过程打印每个信息\u001b[39;00m\n\u001b[1;32m     38\u001b[0m adv_val_predict, val_target, val_predict \u001b[39m=\u001b[39m \u001b[39meval\u001b[39m(\u001b[39m\"\u001b[39m\u001b[39m{0}\u001b[39;00m\u001b[39m\"\u001b[39m\u001b[39m.\u001b[39mformat(parm_att))(logger, cfgin, ack_map, GSNet_Model, test_loader,  road_adj, risk_adj, poi_adj,\n\u001b[1;32m     39\u001b[0m                                                                         grid_node_map, scaler, risk_mask, device, data_type\u001b[39m=\u001b[39m\u001b[39m'\u001b[39m\u001b[39mnyc\u001b[39m\u001b[39m'\u001b[39m)\n",
      "File \u001b[0;32m~/mycode/Attack-accident-prediction/lib/outzoom.py:925\u001b[0m, in \u001b[0;36mnode_map\u001b[0;34m(select_name, chi_k, out_K, in_k, cfgs, net, dataloader, risk_mask, road_adj, risk_adj, poi_adj, grid_node_map, device, data_type)\u001b[0m\n\u001b[1;32m    922\u001b[0m \u001b[39mfor\u001b[39;00m _ \u001b[39min\u001b[39;00m \u001b[39mrange\u001b[39m(saliency_steps):\n\u001b[1;32m    923\u001b[0m     \u001b[39mif\u001b[39;00m for_random:\n\u001b[1;32m    924\u001b[0m         random_noise \u001b[39m=\u001b[39m torch\u001b[39m.\u001b[39;49mFloatTensor(\n\u001b[0;32m--> 925\u001b[0m             \u001b[39m*\u001b[39;49mX_saliency\u001b[39m.\u001b[39;49mshape)\u001b[39m.\u001b[39;49muniform_(\u001b[39m-\u001b[39;49mepsilon \u001b[39m/\u001b[39;49m \u001b[39m10\u001b[39;49m, epsilon \u001b[39m/\u001b[39;49m \u001b[39m10\u001b[39;49m)\u001b[39m.\u001b[39;49mcuda()\n\u001b[1;32m    926\u001b[0m         X_saliency \u001b[39m=\u001b[39m Variable(\n\u001b[1;32m    927\u001b[0m             X_saliency\u001b[39m.\u001b[39mdata \u001b[39m+\u001b[39m random_noise, requires_grad\u001b[39m=\u001b[39m\u001b[39mTrue\u001b[39;00m)\n\u001b[1;32m    928\u001b[0m     opt_saliency \u001b[39m=\u001b[39m optim\u001b[39m.\u001b[39mSGD([X_saliency], lr\u001b[39m=\u001b[39m\u001b[39m1e-3\u001b[39m)\n",
      "\u001b[0;31mKeyboardInterrupt\u001b[0m: "
     ]
    }
   ],
   "source": [
    "#攻击，并写入数据,20230315导入包修改为lib.utils_new_round\n",
    "import yaml\n",
    "from mmcv import Config\n",
    "from lib.myfunction import log_test_results\n",
    "from lib.outzoom import log_test_csv,node_map\n",
    "from lib.outzoom import STZINB,min_impr,pgd_impr,random_impr,log_test_csv_time_K\n",
    "from lib.myfunction import get_root_logger, logger_info\n",
    "#配置logo\n",
    "logger = get_root_logger('INFO', './logdata')\n",
    "logger.info(\"Loading config file from \")\n",
    "\n",
    "#根据配置选择攻击方法\n",
    "if cfgin.attacker == 'white_attacker':\n",
    "    header = ['time', 'epoch', 'dataset', 'model', 'node_select', 'method', 'K', 'batch size',\n",
    "              'clean_RMSE', 'clean_recall', 'clean_MAP', 'clean_RCR',\n",
    "              'adv_RMSE', 'adv_recall', 'adv_MAP', 'adv_RCR',\n",
    "              'local_adv_RMSE', 'local_adv_recall', 'local_adv_MAP', 'local_adv_RCR',\n",
    "              '00']\n",
    "    #文件名\n",
    "    file_name = 'result_chicago-data-{}_num-nodes{}_eps{}-model-{}'.format(\n",
    "        cfgin.dataset, cfgin.test_attack_nodes, cfgin.test_epsilon, cfgin.backbone)\n",
    "    log_test_results(cfgin.result_dir, header, file_name)\n",
    "    #可能的时间循环\n",
    "    #攻击方法+节点选择组合\n",
    "    for epoch in range(1):\n",
    "        #break\n",
    "        for out_K in cfgin.K:\n",
    "            for i in cfgin.select_node:\n",
    "                for j in cfgin.attack_method:\n",
    "                    logger.info(i+'_'+j+\"_\"+str(out_K))\n",
    "                    parm_att = j  # 攻击方法的函数名称\n",
    "                    parm_node = i  # 节点选择的方法\n",
    "                    # 进行攻击,输出攻击日志\n",
    "                    # 1. 节点选择，返回攻击的节点\n",
    "                    ack_map = node_map(i,12,out_K, 5,cfgin, GSNet_Model, test_loader, risk_mask, road_adj, risk_adj, poi_adj,\n",
    "                                       grid_node_map, device, data_type='nyc')\n",
    "                    # 2. 攻击方法选择，返回未攻击后的预测值，标签值,攻击前的预测值，攻击过程打印每个信息\n",
    "                    adv_val_predict, val_target, val_predict = eval(\"{0}\".format(parm_att))(logger, cfgin, ack_map, GSNet_Model, test_loader,  road_adj, risk_adj, poi_adj,\n",
    "                                                                                            grid_node_map, scaler, risk_mask, device, data_type='nyc')\n",
    "                    # 计算结果并打印、存储,注意表头信息需要传递参数\n",
    "                    log_test_csv_time_K(epoch, out_K, adv_val_predict, val_target,\n",
    "                                        val_predict, cfgin, i, j, file_name, risk_mask)\n",
    "                    torch.cuda.empty_cache()\n",
    "    for epoch in range(1):\n",
    "        #break\n",
    "        for out_K in [40]:\n",
    "            for a in range(12):\n",
    "                i = 'HGNS'\n",
    "                j = 'STZINB'\n",
    "                logger.info(i+'_'+j+\"_\"+str(out_K))\n",
    "                parm_att = j  # 攻击方法的函数名称\n",
    "                parm_node = i  # 节点选择的方法\n",
    "                # 进行攻击,输出攻击日志\n",
    "                # 1. 节点选择，返回攻击的节点\n",
    "                ack_map = node_map(i, a, out_K, 5, cfgin, GSNet_Model, test_loader, risk_mask, road_adj, risk_adj, poi_adj,\n",
    "                                    grid_node_map, device, data_type='chicago')\n",
    "                # 2. 攻击方法选择，返回未攻击后的预测值，标签值,攻击前的预测值，攻击过程打印每个信息\n",
    "                adv_val_predict, val_target, val_predict = eval(\"{0}\".format(parm_att))(logger, cfgin, ack_map, GSNet_Model, test_loader,  road_adj, risk_adj, poi_adj,\n",
    "                                                                                        grid_node_map, scaler, risk_mask, device, data_type='nyc')\n",
    "                # 计算结果并打印、存储,注意表头信息需要传递参数\n",
    "                log_test_csv_time_K(epoch, out_K, adv_val_predict, val_target,\n",
    "                                    val_predict, cfgin, i, j, file_name, risk_mask)\n",
    "                torch.cuda.empty_cache()\n"
   ]
  }
 ],
 "metadata": {
  "kernelspec": {
   "display_name": "base",
   "language": "python",
   "name": "python3"
  },
  "language_info": {
   "codemirror_mode": {
    "name": "ipython",
    "version": 3
   },
   "file_extension": ".py",
   "mimetype": "text/x-python",
   "name": "python",
   "nbconvert_exporter": "python",
   "pygments_lexer": "ipython3",
   "version": "3.10.9"
  },
  "orig_nbformat": 4,
  "vscode": {
   "interpreter": {
    "hash": "2f394aca7ca06fed1e6064aef884364492d7cdda3614a461e02e6407fc40ba69"
   }
  }
 },
 "nbformat": 4,
 "nbformat_minor": 2
}
