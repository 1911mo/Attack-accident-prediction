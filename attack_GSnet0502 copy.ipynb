{
 "cells": [
  {
   "cell_type": "code",
   "execution_count": 1,
   "metadata": {},
   "outputs": [],
   "source": [
    "%load_ext autoreload\n",
    "%autoreload 2"
   ]
  },
  {
   "cell_type": "code",
   "execution_count": 2,
   "metadata": {},
   "outputs": [],
   "source": [
    "import os\n",
    "os.environ[\"CUDA_VISIBLE_DEVICES\"] = '1'"
   ]
  },
  {
   "cell_type": "code",
   "execution_count": 4,
   "metadata": {},
   "outputs": [
    {
     "name": "stderr",
     "output_type": "stream",
     "text": [
      "/home/wyb/miniconda3/lib/python3.10/site-packages/tqdm/auto.py:22: TqdmWarning: IProgress not found. Please update jupyter and ipywidgets. See https://ipywidgets.readthedocs.io/en/stable/user_install.html\n",
      "  from .autonotebook import tqdm as notebook_tqdm\n",
      "/home/wyb/miniconda3/lib/python3.10/site-packages/mmcv/__init__.py:20: UserWarning: On January 1, 2023, MMCV will release v2.0.0, in which it will remove components related to the training process and add a data transformation module. In addition, it will rename the package names mmcv to mmcv-lite and mmcv-full to mmcv. See https://github.com/open-mmlab/mmcv/blob/master/docs/en/compatibility.md for more details.\n",
      "  warnings.warn(\n"
     ]
    }
   ],
   "source": [
    "#依赖的包\n",
    "from lib.dataloader import normal_and_generate_dataset_time, get_mask, get_adjacent, get_grid_node_map_maxtrix\n",
    "#攻击函数import\n",
    "from lib.utils_new import mask_loss, compute_loss, predict_and_evaluate, attack, random_attack, fgsm_attack, min_attack\n",
    "from lib.utils_new import saliency, saliency_loss, attack_js, attack_js,attack_saliency,rand_attack\n",
    "from model.GSNet import GSNet\n",
    "from lib.early_stop import EarlyStopping\n",
    "import torch\n",
    "import torch.nn as nn\n",
    "import torch.utils.data as Data\n",
    "import torch.optim as optim\n",
    "import torch.nn.functional as F\n",
    "\n",
    "import numpy as np\n",
    "import json\n",
    "import configparser\n",
    "import pickle as pkl\n",
    "from time import time\n",
    "from datetime import datetime\n",
    "import shutil\n",
    "import argparse\n",
    "import random\n",
    "import math\n",
    "\n",
    "import sys\n",
    "import os\n"
   ]
  },
  {
   "cell_type": "code",
   "execution_count": 5,
   "metadata": {},
   "outputs": [],
   "source": [
    "#完整运行时会生成txt日志记录#\n",
    "train_log_filename = \"test_log.txt\"\n",
    "train_log_filepath = os.path.join(\"./\", train_log_filename)\n",
    "now = datetime.now()\n",
    "date_time = now.strftime(\"|%Y-%m-%d, %H:%M:%S| \")\n",
    "\n",
    "#以命令方式运行时会自动设置工作空间\n",
    "#file会报错，应该家’‘\n",
    "curPath = os.path.abspath(os.path.dirname('__file__'))\n",
    "rootPath = os.path.split(curPath)[0]\n",
    "sys.path.append(rootPath)"
   ]
  },
  {
   "cell_type": "code",
   "execution_count": 6,
   "metadata": {},
   "outputs": [
    {
     "name": "stdout",
     "output_type": "stream",
     "text": [
      "True\n"
     ]
    }
   ],
   "source": [
    "#配置文件载入，初始参数记录\n",
    "\n",
    "config_filename = \"config/nyc/GSNet_NYC_Config.json\"\n",
    "with open(config_filename, 'r') as f:\n",
    "    config = json.loads(f.read())\n",
    "# 写入测试超参数\n",
    "with open(train_log_filepath, \"a\") as f:\n",
    "    f.write('测试文件运行时间：'+date_time)\n",
    "    f.write('\\r\\n')\n",
    "    f.write('超参数设置：')\n",
    "    f.write('\\r\\n')\n",
    "    f.write(json.dumps(config, sort_keys=True, indent=4))\n",
    "    f.write('\\r\\n')\n",
    "f.close\n",
    "#GPU设置\n",
    "device = torch.device('cuda:0' if torch.cuda.is_available() else 'cpu')\n",
    "print(torch.cuda.is_available())\n",
    "\n",
    "#文件读取\n",
    "#命令行参数实质上就是赋初始值的作用，可以删除直接赋值就好\n",
    "north_south_map = config['north_south_map']\n",
    "west_east_map = config['west_east_map']\n",
    "\n",
    "all_data_filename = config['all_data_filename']\n",
    "mask_filename = config['mask_filename']\n",
    "\n",
    "road_adj_filename = config['road_adj_filename']\n",
    "risk_adj_filename = config['risk_adj_filename']\n",
    "poi_adj_filename = config['poi_adj_filename']\n",
    "grid_node_filename = config['grid_node_filename']\n",
    "grid_node_map = get_grid_node_map_maxtrix(grid_node_filename)\n",
    "num_of_vertices = grid_node_map.shape[1]\n",
    "\n",
    "\n",
    "patience = config['patience']#用处：\n",
    "delta = config['delta']\n",
    "\n",
    "if config['seed'] is not None:\n",
    "    seed = config['seed']\n",
    "    torch.manual_seed(seed)\n",
    "    torch.cuda.manual_seed(seed)\n",
    "    torch.backends.cudnn.deterministic = True\n",
    "    np.random.seed(seed)\n",
    "    random.seed(seed)\n",
    "\n",
    "\n",
    "train_rate = config['train_rate']\n",
    "valid_rate = config['valid_rate']\n",
    "\n",
    "recent_prior = config['recent_prior']\n",
    "week_prior = config['week_prior']\n",
    "one_day_period = config['one_day_period']\n",
    "days_of_week = config['days_of_week']\n",
    "pre_len = config['pre_len']\n",
    "seq_len = recent_prior + week_prior\n",
    "\n",
    "training_epoch = config['training_epoch']\n"
   ]
  },
  {
   "cell_type": "code",
   "execution_count": 6,
   "metadata": {},
   "outputs": [
    {
     "name": "stdout",
     "output_type": "stream",
     "text": [
      "feature: (4584, 7, 48, 20, 20) label: (4584, 1, 20, 20) time: (4584, 32) high feature: (1337, 7, 48, 20, 20) high label: (1337, 1, 20, 20)\n",
      "graph_x: (4584, 7, 3, 243) high_graph_x: (1337, 7, 3, 243)\n",
      "feature: (1080, 7, 48, 20, 20) label: (1080, 1, 20, 20) time: (1080, 32) high feature: (315, 7, 48, 20, 20) high label: (315, 1, 20, 20)\n",
      "graph_x: (1080, 7, 3, 243) high_graph_x: (315, 7, 3, 243)\n",
      "x的最大值:7\n",
      "x的最小值:0.0\n",
      "feature: (1080, 7, 48, 20, 20) label: (1080, 1, 20, 20) time: (1080, 32) high feature: (315, 7, 48, 20, 20) high label: (315, 1, 20, 20)\n",
      "graph_x: (1080, 7, 3, 243) high_graph_x: (315, 7, 3, 243)\n",
      "x的最大值:3\n",
      "x的最小值:0.0\n",
      "模型参数---------------------------------------------\n",
      "48 5 7 1 256 32 3 [64, 64]\n"
     ]
    },
    {
     "data": {
      "text/plain": [
       "GSNet(\n",
       "  (st_geo_module): STGeoModule(\n",
       "    (grid_conv): Sequential(\n",
       "      (0): Conv2d(48, 64, kernel_size=(3, 3), stride=(1, 1), padding=(1, 1))\n",
       "      (1): ReLU()\n",
       "      (2): Conv2d(64, 48, kernel_size=(3, 3), stride=(1, 1), padding=(1, 1))\n",
       "      (3): ReLU()\n",
       "    )\n",
       "    (grid_gru): GRU(48, 256, num_layers=5, batch_first=True)\n",
       "    (grid_att_fc1): Linear(in_features=256, out_features=1, bias=True)\n",
       "    (grid_att_fc2): Linear(in_features=32, out_features=7, bias=True)\n",
       "    (grid_att_softmax): Softmax(dim=-1)\n",
       "  )\n",
       "  (st_sem_module): STSemModule(\n",
       "    (road_gcn): ModuleList(\n",
       "      (0): GCN_Layer(\n",
       "        (gcn_layer): Sequential(\n",
       "          (0): Linear(in_features=3, out_features=64, bias=True)\n",
       "          (1): ReLU()\n",
       "        )\n",
       "      )\n",
       "      (1): GCN_Layer(\n",
       "        (gcn_layer): Sequential(\n",
       "          (0): Linear(in_features=64, out_features=64, bias=True)\n",
       "          (1): ReLU()\n",
       "        )\n",
       "      )\n",
       "    )\n",
       "    (risk_gcn): ModuleList(\n",
       "      (0): GCN_Layer(\n",
       "        (gcn_layer): Sequential(\n",
       "          (0): Linear(in_features=3, out_features=64, bias=True)\n",
       "          (1): ReLU()\n",
       "        )\n",
       "      )\n",
       "      (1): GCN_Layer(\n",
       "        (gcn_layer): Sequential(\n",
       "          (0): Linear(in_features=64, out_features=64, bias=True)\n",
       "          (1): ReLU()\n",
       "        )\n",
       "      )\n",
       "    )\n",
       "    (poi_gcn): ModuleList(\n",
       "      (0): GCN_Layer(\n",
       "        (gcn_layer): Sequential(\n",
       "          (0): Linear(in_features=3, out_features=64, bias=True)\n",
       "          (1): ReLU()\n",
       "        )\n",
       "      )\n",
       "      (1): GCN_Layer(\n",
       "        (gcn_layer): Sequential(\n",
       "          (0): Linear(in_features=64, out_features=64, bias=True)\n",
       "          (1): ReLU()\n",
       "        )\n",
       "      )\n",
       "    )\n",
       "    (graph_gru): GRU(64, 256, num_layers=5, batch_first=True)\n",
       "    (graph_att_fc1): Linear(in_features=256, out_features=1, bias=True)\n",
       "    (graph_att_fc2): Linear(in_features=32, out_features=7, bias=True)\n",
       "    (graph_att_softmax): Softmax(dim=-1)\n",
       "  )\n",
       "  (grid_weigth): Conv2d(256, 16, kernel_size=(1, 1), stride=(1, 1))\n",
       "  (graph_weigth): Conv2d(256, 16, kernel_size=(1, 1), stride=(1, 1))\n",
       "  (output_layer): Linear(in_features=6400, out_features=400, bias=True)\n",
       ")"
      ]
     },
     "execution_count": 6,
     "metadata": {},
     "output_type": "execute_result"
    }
   ],
   "source": [
    "batch_size = config['batch_size']\n",
    "learning_rate = config['learning_rate']\n",
    "\n",
    "#模型结构\n",
    "num_of_gru_layers = config['num_of_gru_layers']\n",
    "gru_hidden_size = config['gru_hidden_size']\n",
    "gcn_num_filter = config['gcn_num_filter']\n",
    "\n",
    "loaders = []\n",
    "scaler = \"\"\n",
    "train_data_shape = \"\"\n",
    "graph_feature_shape = \"\"\n",
    "   ################## 获取测试数据#########################\n",
    "for idx, (x, y, target_times, high_x, high_y, high_target_times, scaler) in enumerate(normal_and_generate_dataset_time(\n",
    "        all_data_filename,\n",
    "        train_rate=train_rate,\n",
    "        valid_rate=valid_rate,\n",
    "        recent_prior=recent_prior,\n",
    "        week_prior=week_prior,\n",
    "        one_day_period=one_day_period,\n",
    "        days_of_week=days_of_week,\n",
    "        pre_len=pre_len)):\n",
    "    if False:#前100个，没写默认是false\n",
    "        x = x[:100]\n",
    "        y = y[:100]\n",
    "        target_times = target_times[:100]\n",
    "        high_x = high_x[:100]\n",
    "        high_y = high_y[:100]\n",
    "        high_target_times = high_target_times[:100]\n",
    "\n",
    "    if 'nyc' in all_data_filename:\n",
    "        graph_x = x[:, :, [0, 46, 47], :, :].reshape(\n",
    "            (x.shape[0], x.shape[1], -1, north_south_map*west_east_map))#4584*7*3*400,注意reshape和交换维度的不同\n",
    "        high_graph_x = high_x[:, :, [0, 46, 47], :, :].reshape(\n",
    "            (high_x.shape[0], high_x.shape[1], -1, north_south_map*west_east_map))#1337*7*3*400\n",
    "        graph_x = np.dot(graph_x, grid_node_map)#4584*7*3*243\n",
    "        high_graph_x = np.dot(high_graph_x, grid_node_map)\n",
    "    if 'chicago' in all_data_filename:\n",
    "        graph_x = x[:, :, [0, 39, 40], :, :].reshape(\n",
    "            (x.shape[0], x.shape[1], -1, north_south_map*west_east_map))\n",
    "        high_graph_x = high_x[:, :, [0, 39, 40], :, :].reshape(\n",
    "            (high_x.shape[0], high_x.shape[1], -1, north_south_map*west_east_map))\n",
    "        graph_x = np.dot(graph_x, grid_node_map)\n",
    "        high_graph_x = np.dot(high_graph_x, grid_node_map)\n",
    "\n",
    "    print(\"feature:\", str(x.shape), \"label:\", str(y.shape), \"time:\", str(target_times.shape),\n",
    "            \"high feature:\", str(high_x.shape), \"high label:\", str(high_y.shape))\n",
    "    print(\"graph_x:\", str(graph_x.shape),\n",
    "            \"high_graph_x:\", str(high_graph_x.shape))\n",
    "    if idx==2:\n",
    "        np.save('tset_festure.npy',x)\n",
    "    if x.shape[0] ==1080:\n",
    "        b = np.ones_like(x)\n",
    "        b = np.where(x>1,1,0)\n",
    "        print('x的最大值:{}'.format(np.sum(b)))\n",
    "        print('x的最小值:{}'.format(np.min(x)))\n",
    "    if idx == 0:\n",
    "        scaler = scaler\n",
    "        train_data_shape = x.shape\n",
    "        time_shape = target_times.shape\n",
    "        graph_feature_shape = graph_x.shape\n",
    "    loaders.append(Data.DataLoader(\n",
    "        Data.TensorDataset(\n",
    "            torch.from_numpy(x),\n",
    "            torch.from_numpy(target_times),#4584*32\n",
    "            torch.from_numpy(graph_x),\n",
    "            torch.from_numpy(y)\n",
    "        ),\n",
    "        batch_size=batch_size,\n",
    "        shuffle=(idx == 0)\n",
    "    ))\n",
    "    if idx == 2:\n",
    "        high_test_loader = Data.DataLoader(\n",
    "            Data.TensorDataset(\n",
    "                torch.from_numpy(high_x),\n",
    "                torch.from_numpy(high_target_times),\n",
    "                torch.from_numpy(high_graph_x),\n",
    "                torch.from_numpy(high_y)\n",
    "            ),\n",
    "            batch_size=batch_size,\n",
    "            shuffle=(idx == 0)\n",
    "        )\n",
    "train_loader, val_loader, test_loader = loaders\n",
    "################ 获取测试数据##################\n",
    "nums_of_filter = []\n",
    "for _ in range(2):\n",
    "    nums_of_filter.append(gcn_num_filter)\n",
    "\n",
    "GSNet_Model = GSNet(train_data_shape[2], num_of_gru_layers, seq_len, pre_len,\n",
    "                    gru_hidden_size, time_shape[1], graph_feature_shape[2],\n",
    "                    nums_of_filter, north_south_map, west_east_map)\n",
    "print(\"模型参数---------------------------------------------\")\n",
    "print(train_data_shape[2], num_of_gru_layers, seq_len, pre_len,\n",
    "        gru_hidden_size, time_shape[1], graph_feature_shape[2],\n",
    "        nums_of_filter)\n",
    "\n",
    "\n",
    "# multi gpu\n",
    "if torch.cuda.device_count() > 10:\n",
    "    print(\"Let's use\", torch.cuda.device_count(), \"GPUs!\", flush=True)\n",
    "    GSNet_Model = nn.DataParallel(GSNet_Model)\n",
    "############### 载入模型######################\n",
    "GSNet_Model.to(device)\n",
    "# print(GSNet_Model)\n"
   ]
  },
  {
   "cell_type": "code",
   "execution_count": 7,
   "metadata": {},
   "outputs": [
    {
     "name": "stdout",
     "output_type": "stream",
     "text": [
      "模型加载成功！\n",
      "Number of Parameters: 6278578\n"
     ]
    }
   ],
   "source": [
    "\n",
    "#GSNet_Model.load_state_dict(torch.load(\"data/model_parameter.pkl\"))\n",
    "\n",
    "#GSNet_Model.load_state_dict(torch.load(\"/home/wyb/mycode/GSNet-master/data/last_model03.pt\"))\n",
    "#GSNet_Model.load_state_dict(torch.load(\"data/last_model.pt\"))\n",
    "GSNet_Model.load_state_dict(torch.load(\"data/model38.pt\"))\n",
    "print(\"模型加载成功！\")\n",
    "\n",
    "num_of_parameters = 0\n",
    "for name, parameters in GSNet_Model.named_parameters():\n",
    "    num_of_parameters += np.prod(parameters.shape)\n",
    "print(\"Number of Parameters: {}\".format(num_of_parameters), flush=True)\n",
    "\n",
    "trainer = optim.Adam(GSNet_Model.parameters(), lr=learning_rate)\n",
    "early_stop = EarlyStopping(patience=patience, delta=delta)\n",
    "\n",
    "risk_mask = get_mask(mask_filename)\n",
    "road_adj = get_adjacent(road_adj_filename)\n",
    "risk_adj = get_adjacent(risk_adj_filename)\n",
    "if poi_adj_filename == \"\":\n",
    "    poi_adj = None\n",
    "else:\n",
    "    poi_adj = get_adjacent(poi_adj_filename)\n"
   ]
  },
  {
   "cell_type": "code",
   "execution_count": 8,
   "metadata": {},
   "outputs": [
    {
     "name": "stderr",
     "output_type": "stream",
     "text": [
      "2023-05-08 17:09:36,434 - INFO - Loading config file from \n"
     ]
    }
   ],
   "source": [
    "#配置log日志输出\n",
    "from myfunction import get_root_logger, logger_info\n",
    "logger = get_root_logger('INFO', './logdata')\n",
    "logger.info(\"Loading config file from \")\n"
   ]
  },
  {
   "cell_type": "code",
   "execution_count": 9,
   "metadata": {},
   "outputs": [],
   "source": [
    "torch.cuda.empty_cache()"
   ]
  },
  {
   "cell_type": "code",
   "execution_count": 10,
   "metadata": {},
   "outputs": [
    {
     "name": "stderr",
     "output_type": "stream",
     "text": [
      "2023-05-08 17:09:36,603 - INFO - Loading config file from \n",
      "2023-05-08 17:09:36,607 - INFO - ten_ZINBSC_40_35\n"
     ]
    },
    {
     "name": "stdout",
     "output_type": "stream",
     "text": [
      "time,epoch,dataset,model,node_select,method,K,batch size,clean_RMSE,clean_recall,clean_MAP,clean_RCR,adv_RMSE,adv_recall,adv_MAP,adv_RCR,local_adv_RMSE,local_adv_recall,local_adv_MAP,local_adv_RCR,备注信息：特征分析，50\n"
     ]
    },
    {
     "name": "stderr",
     "output_type": "stream",
     "text": [
      "2023-05-08 17:10:17,050 - INFO - Info:  [64/1080 (6%)]\t    adv_RMSE: 0.9317 adv_Recall: 28.1787 adv_MAP: 0.1252 adv_RCR: 0.7444 time:4.955\n",
      "2023-05-08 17:10:27,224 - INFO - Info:  [128/1080 (12%)]\t    adv_RMSE: 0.8686 adv_Recall: 28.4404 adv_MAP: 0.1467 adv_RCR: 0.7396 time:4.941\n",
      "2023-05-08 17:10:37,411 - INFO - Info:  [192/1080 (18%)]\t    adv_RMSE: 0.8663 adv_Recall: 25.7812 adv_MAP: 0.1341 adv_RCR: 0.7459 time:4.904\n",
      "2023-05-08 17:10:47,571 - INFO - Info:  [256/1080 (24%)]\t    adv_RMSE: 0.9624 adv_Recall: 32.6087 adv_MAP: 0.1466 adv_RCR: 0.7119 time:4.946\n",
      "2023-05-08 17:10:57,713 - INFO - Info:  [320/1080 (29%)]\t    adv_RMSE: 0.8519 adv_Recall: 20.6349 adv_MAP: 0.0953 adv_RCR: 0.8097 time:4.955\n",
      "2023-05-08 17:11:07,936 - INFO - Info:  [384/1080 (35%)]\t    adv_RMSE: 0.8791 adv_Recall: 29.0179 adv_MAP: 0.1230 adv_RCR: 0.7526 time:4.961\n",
      "2023-05-08 17:11:18,134 - INFO - Info:  [448/1080 (41%)]\t    adv_RMSE: 0.9140 adv_Recall: 25.9542 adv_MAP: 0.1265 adv_RCR: 0.7345 time:4.961\n",
      "2023-05-08 17:11:30,551 - INFO - Info:  [512/1080 (47%)]\t    adv_RMSE: 0.7994 adv_Recall: 25.2212 adv_MAP: 0.1336 adv_RCR: 0.7662 time:6.041\n",
      "2023-05-08 17:11:43,013 - INFO - Info:  [576/1080 (53%)]\t    adv_RMSE: 0.9110 adv_Recall: 22.5225 adv_MAP: 0.0884 adv_RCR: 0.7733 time:6.110\n",
      "2023-05-08 17:11:55,378 - INFO - Info:  [640/1080 (59%)]\t    adv_RMSE: 0.9403 adv_Recall: 28.0936 adv_MAP: 0.1259 adv_RCR: 0.7232 time:6.044\n",
      "2023-05-08 17:12:07,795 - INFO - Info:  [704/1080 (65%)]\t    adv_RMSE: 0.7984 adv_Recall: 25.0000 adv_MAP: 0.1175 adv_RCR: 0.7575 time:6.093\n",
      "2023-05-08 17:12:20,221 - INFO - Info:  [768/1080 (71%)]\t    adv_RMSE: 0.9376 adv_Recall: 31.6993 adv_MAP: 0.1836 adv_RCR: 0.6414 time:6.070\n",
      "2023-05-08 17:12:32,691 - INFO - Info:  [832/1080 (76%)]\t    adv_RMSE: 0.8916 adv_Recall: 28.5223 adv_MAP: 0.1650 adv_RCR: 0.7382 time:6.072\n",
      "2023-05-08 17:12:45,135 - INFO - Info:  [896/1080 (82%)]\t    adv_RMSE: 0.8308 adv_Recall: 33.3333 adv_MAP: 0.1366 adv_RCR: 0.6821 time:6.074\n",
      "2023-05-08 17:12:57,621 - INFO - Info:  [960/1080 (88%)]\t    adv_RMSE: 0.8652 adv_Recall: 22.0930 adv_MAP: 0.0875 adv_RCR: 0.8310 time:6.119\n",
      "2023-05-08 17:13:09,999 - INFO - Info:  [1024/1080 (94%)]\t    adv_RMSE: 0.7893 adv_Recall: 25.1256 adv_MAP: 0.1265 adv_RCR: 0.7399 time:6.065\n",
      "2023-05-08 17:13:20,942 - INFO - Info:  [1080/1080 (100%)]\t    adv_RMSE: 0.8818 adv_Recall: 23.0769 adv_MAP: 0.1127 adv_RCR: 0.7728 time:4.568\n",
      "2023-05-08 17:13:23,709 - INFO - Info:  不可感知性质：1.8480664491653442\n",
      "2023-05-08 17:13:23,712 - INFO - 攻击时间：Info:time:7.339 \t  clean_RMSE: 0.6847 clean_Recall: 32.4305 clean_MAP: 0.1856 clean_RCR: 0.6796   adv_RMSE: 0.8771 adv_Recall: 26.9766 adv_MAP: 0.1223 adv_RCR: 0.7448\n",
      "2023-05-08 17:13:27,462 - INFO - ten_ZINBSC_40_35\n"
     ]
    },
    {
     "name": "stdout",
     "output_type": "stream",
     "text": [
      "2023-05-08 17:13:23,0,NYC,Gsnet,ten,ZINBSC,40,32,0.6847454450474136,32.43045387994143,0.18557500325210685,0.6796269542597637,0.8771139498263947,26.976573938506586,0.12234510092904026,0.7448081802001326,0.5646083272114971,99.69123172501023,0.9934309128082572,0.0013230829610785387\n"
     ]
    },
    {
     "name": "stderr",
     "output_type": "stream",
     "text": [
      "2023-05-08 17:14:10,740 - INFO - Info:  [64/1080 (6%)]\t    adv_RMSE: 0.9370 adv_Recall: 26.8041 adv_MAP: 0.1247 adv_RCR: 0.7792 time:6.095\n",
      "2023-05-08 17:14:23,230 - INFO - Info:  [128/1080 (12%)]\t    adv_RMSE: 0.8697 adv_Recall: 28.8991 adv_MAP: 0.1105 adv_RCR: 0.7480 time:6.120\n",
      "2023-05-08 17:14:35,598 - INFO - Info:  [192/1080 (18%)]\t    adv_RMSE: 0.8675 adv_Recall: 26.5625 adv_MAP: 0.1497 adv_RCR: 0.7479 time:6.020\n",
      "2023-05-08 17:14:47,991 - INFO - Info:  [256/1080 (24%)]\t    adv_RMSE: 0.9613 adv_Recall: 31.5217 adv_MAP: 0.1471 adv_RCR: 0.7217 time:6.029\n",
      "2023-05-08 17:15:00,462 - INFO - Info:  [320/1080 (29%)]\t    adv_RMSE: 0.8450 adv_Recall: 20.6349 adv_MAP: 0.0990 adv_RCR: 0.8101 time:6.119\n",
      "2023-05-08 17:15:12,876 - INFO - Info:  [384/1080 (35%)]\t    adv_RMSE: 0.8782 adv_Recall: 27.2321 adv_MAP: 0.1174 adv_RCR: 0.7700 time:6.089\n",
      "2023-05-08 17:15:25,271 - INFO - Info:  [448/1080 (41%)]\t    adv_RMSE: 0.9150 adv_Recall: 26.7176 adv_MAP: 0.1224 adv_RCR: 0.7130 time:6.045\n",
      "2023-05-08 17:15:37,678 - INFO - Info:  [512/1080 (47%)]\t    adv_RMSE: 0.8047 adv_Recall: 24.3363 adv_MAP: 0.1193 adv_RCR: 0.7573 time:6.043\n",
      "2023-05-08 17:15:50,084 - INFO - Info:  [576/1080 (53%)]\t    adv_RMSE: 0.9078 adv_Recall: 22.0721 adv_MAP: 0.0854 adv_RCR: 0.7948 time:6.065\n",
      "2023-05-08 17:16:02,431 - INFO - Info:  [640/1080 (59%)]\t    adv_RMSE: 0.9394 adv_Recall: 29.4314 adv_MAP: 0.1422 adv_RCR: 0.7073 time:6.052\n",
      "2023-05-08 17:16:14,827 - INFO - Info:  [704/1080 (65%)]\t    adv_RMSE: 0.7886 adv_Recall: 22.6190 adv_MAP: 0.1122 adv_RCR: 0.7958 time:6.068\n",
      "2023-05-08 17:16:27,226 - INFO - Info:  [768/1080 (71%)]\t    adv_RMSE: 0.9374 adv_Recall: 32.3529 adv_MAP: 0.1689 adv_RCR: 0.6527 time:6.054\n",
      "2023-05-08 17:16:39,655 - INFO - Info:  [832/1080 (76%)]\t    adv_RMSE: 0.8876 adv_Recall: 28.8660 adv_MAP: 0.1700 adv_RCR: 0.7252 time:6.051\n",
      "2023-05-08 17:16:52,008 - INFO - Info:  [896/1080 (82%)]\t    adv_RMSE: 0.8334 adv_Recall: 32.4675 adv_MAP: 0.1413 adv_RCR: 0.6721 time:6.058\n",
      "2023-05-08 17:17:04,459 - INFO - Info:  [960/1080 (88%)]\t    adv_RMSE: 0.8670 adv_Recall: 23.8372 adv_MAP: 0.0908 adv_RCR: 0.8074 time:6.084\n",
      "2023-05-08 17:17:16,908 - INFO - Info:  [1024/1080 (94%)]\t    adv_RMSE: 0.7937 adv_Recall: 24.1206 adv_MAP: 0.1207 adv_RCR: 0.7499 time:6.101\n",
      "2023-05-08 17:17:27,774 - INFO - Info:  [1080/1080 (100%)]\t    adv_RMSE: 0.8806 adv_Recall: 22.4359 adv_MAP: 0.1117 adv_RCR: 0.7870 time:4.545\n",
      "2023-05-08 17:17:30,531 - INFO - Info:  不可感知性质：1.847964882850647\n",
      "2023-05-08 17:17:30,533 - INFO - 攻击时间：Info:time:7.304 \t  clean_RMSE: 0.6847 clean_Recall: 32.4305 clean_MAP: 0.1856 clean_RCR: 0.6796   adv_RMSE: 0.8773 adv_Recall: 26.7570 adv_MAP: 0.1212 adv_RCR: 0.7465\n",
      "2023-05-08 17:17:34,294 - INFO - ten_ZINBSC_40_35\n"
     ]
    },
    {
     "name": "stdout",
     "output_type": "stream",
     "text": [
      "2023-05-08 17:17:30,1,NYC,Gsnet,ten,ZINBSC,40,32,0.6847454450474136,32.43045387994143,0.18557500325210685,0.6796269542597637,0.8772659193915252,26.756954612005856,0.1211579196490804,0.7464979648633898,0.5646031505302748,99.69123172501023,0.9935220684628554,0.0015079814977157597\n"
     ]
    },
    {
     "name": "stderr",
     "output_type": "stream",
     "text": [
      "2023-05-08 17:18:17,957 - INFO - Info:  [64/1080 (6%)]\t    adv_RMSE: 0.9406 adv_Recall: 27.4914 adv_MAP: 0.1201 adv_RCR: 0.7742 time:6.114\n",
      "2023-05-08 17:18:30,433 - INFO - Info:  [128/1080 (12%)]\t    adv_RMSE: 0.8720 adv_Recall: 27.5229 adv_MAP: 0.1439 adv_RCR: 0.7418 time:6.099\n",
      "2023-05-08 17:18:42,825 - INFO - Info:  [192/1080 (18%)]\t    adv_RMSE: 0.8807 adv_Recall: 25.7812 adv_MAP: 0.1356 adv_RCR: 0.7397 time:6.030\n",
      "2023-05-08 17:18:55,259 - INFO - Info:  [256/1080 (24%)]\t    adv_RMSE: 0.9578 adv_Recall: 32.0652 adv_MAP: 0.1446 adv_RCR: 0.7027 time:6.078\n",
      "2023-05-08 17:19:07,734 - INFO - Info:  [320/1080 (29%)]\t    adv_RMSE: 0.8481 adv_Recall: 21.1640 adv_MAP: 0.0969 adv_RCR: 0.8041 time:6.135\n",
      "2023-05-08 17:19:20,168 - INFO - Info:  [384/1080 (35%)]\t    adv_RMSE: 0.8701 adv_Recall: 28.5714 adv_MAP: 0.1176 adv_RCR: 0.7429 time:6.088\n",
      "2023-05-08 17:19:32,622 - INFO - Info:  [448/1080 (41%)]\t    adv_RMSE: 0.9254 adv_Recall: 27.0992 adv_MAP: 0.1262 adv_RCR: 0.7301 time:6.135\n",
      "2023-05-08 17:19:45,066 - INFO - Info:  [512/1080 (47%)]\t    adv_RMSE: 0.7935 adv_Recall: 24.3363 adv_MAP: 0.1276 adv_RCR: 0.7641 time:6.075\n",
      "2023-05-08 17:19:57,564 - INFO - Info:  [576/1080 (53%)]\t    adv_RMSE: 0.9154 adv_Recall: 23.4234 adv_MAP: 0.0902 adv_RCR: 0.7845 time:6.151\n",
      "2023-05-08 17:20:09,904 - INFO - Info:  [640/1080 (59%)]\t    adv_RMSE: 0.9411 adv_Recall: 27.4247 adv_MAP: 0.1254 adv_RCR: 0.7167 time:6.014\n",
      "2023-05-08 17:20:22,295 - INFO - Info:  [704/1080 (65%)]\t    adv_RMSE: 0.7984 adv_Recall: 19.6429 adv_MAP: 0.0932 adv_RCR: 0.8153 time:6.076\n",
      "2023-05-08 17:20:34,728 - INFO - Info:  [768/1080 (71%)]\t    adv_RMSE: 0.9328 adv_Recall: 33.0065 adv_MAP: 0.1984 adv_RCR: 0.6297 time:6.065\n",
      "2023-05-08 17:20:47,202 - INFO - Info:  [832/1080 (76%)]\t    adv_RMSE: 0.8914 adv_Recall: 30.2405 adv_MAP: 0.1721 adv_RCR: 0.7259 time:6.074\n",
      "2023-05-08 17:20:59,562 - INFO - Info:  [896/1080 (82%)]\t    adv_RMSE: 0.8279 adv_Recall: 32.9004 adv_MAP: 0.1448 adv_RCR: 0.6865 time:6.046\n",
      "2023-05-08 17:21:12,045 - INFO - Info:  [960/1080 (88%)]\t    adv_RMSE: 0.8643 adv_Recall: 22.6744 adv_MAP: 0.1207 adv_RCR: 0.7851 time:6.109\n",
      "2023-05-08 17:21:24,454 - INFO - Info:  [1024/1080 (94%)]\t    adv_RMSE: 0.7896 adv_Recall: 24.1206 adv_MAP: 0.1351 adv_RCR: 0.7555 time:6.098\n",
      "2023-05-08 17:21:35,362 - INFO - Info:  [1080/1080 (100%)]\t    adv_RMSE: 0.8754 adv_Recall: 24.3590 adv_MAP: 0.1192 adv_RCR: 0.7604 time:4.570\n",
      "2023-05-08 17:21:38,120 - INFO - Info:  不可感知性质：1.8468449115753174\n",
      "2023-05-08 17:21:38,121 - INFO - 攻击时间：Info:time:7.329 \t  clean_RMSE: 0.6847 clean_Recall: 32.4305 clean_MAP: 0.1856 clean_RCR: 0.6796   adv_RMSE: 0.8771 adv_Recall: 26.8912 adv_MAP: 0.1239 adv_RCR: 0.7456\n",
      "2023-05-08 17:21:41,841 - INFO - ten_ZINBSC_20_26\n"
     ]
    },
    {
     "name": "stdout",
     "output_type": "stream",
     "text": [
      "2023-05-08 17:21:38,2,NYC,Gsnet,ten,ZINBSC,40,32,0.6847454450474136,32.43045387994143,0.18557500325210685,0.6796269542597637,0.8771264958689724,26.891166422645192,0.12394538093094644,0.7455720298129719,0.5643386253656488,99.68565157546222,0.9933728054680966,0.001503580152430584\n"
     ]
    },
    {
     "name": "stderr",
     "output_type": "stream",
     "text": [
      "2023-05-08 17:22:24,496 - INFO - Info:  [64/1080 (6%)]\t    adv_RMSE: 0.8560 adv_Recall: 29.8969 adv_MAP: 0.1600 adv_RCR: 0.7564 time:6.043\n",
      "2023-05-08 17:22:36,820 - INFO - Info:  [128/1080 (12%)]\t    adv_RMSE: 0.7780 adv_Recall: 28.4404 adv_MAP: 0.1333 adv_RCR: 0.7332 time:6.017\n",
      "2023-05-08 17:22:49,085 - INFO - Info:  [192/1080 (18%)]\t    adv_RMSE: 0.8018 adv_Recall: 26.5625 adv_MAP: 0.1549 adv_RCR: 0.7460 time:5.969\n",
      "2023-05-08 17:23:01,311 - INFO - Info:  [256/1080 (24%)]\t    adv_RMSE: 0.8678 adv_Recall: 34.5109 adv_MAP: 0.1633 adv_RCR: 0.6370 time:5.978\n",
      "2023-05-08 17:23:13,541 - INFO - Info:  [320/1080 (29%)]\t    adv_RMSE: 0.7765 adv_Recall: 21.6931 adv_MAP: 0.1034 adv_RCR: 0.7985 time:6.007\n",
      "2023-05-08 17:23:25,752 - INFO - Info:  [384/1080 (35%)]\t    adv_RMSE: 0.8025 adv_Recall: 31.6964 adv_MAP: 0.1902 adv_RCR: 0.6880 time:5.963\n",
      "2023-05-08 17:23:37,946 - INFO - Info:  [448/1080 (41%)]\t    adv_RMSE: 0.8234 adv_Recall: 27.4809 adv_MAP: 0.1438 adv_RCR: 0.7019 time:5.983\n",
      "2023-05-08 17:23:49,035 - INFO - Info:  [512/1080 (47%)]\t    adv_RMSE: 0.7322 adv_Recall: 29.2035 adv_MAP: 0.1648 adv_RCR: 0.6938 time:4.808\n",
      "2023-05-08 17:23:59,009 - INFO - Info:  [576/1080 (53%)]\t    adv_RMSE: 0.8224 adv_Recall: 24.7748 adv_MAP: 0.1230 adv_RCR: 0.7521 time:4.880\n",
      "2023-05-08 17:24:08,916 - INFO - Info:  [640/1080 (59%)]\t    adv_RMSE: 0.8613 adv_Recall: 28.0936 adv_MAP: 0.1340 adv_RCR: 0.7182 time:4.833\n",
      "2023-05-08 17:24:18,831 - INFO - Info:  [704/1080 (65%)]\t    adv_RMSE: 0.7089 adv_Recall: 24.4048 adv_MAP: 0.1414 adv_RCR: 0.7538 time:4.844\n",
      "2023-05-08 17:24:28,805 - INFO - Info:  [768/1080 (71%)]\t    adv_RMSE: 0.8446 adv_Recall: 31.6993 adv_MAP: 0.1774 adv_RCR: 0.6769 time:4.823\n",
      "2023-05-08 17:24:38,764 - INFO - Info:  [832/1080 (76%)]\t    adv_RMSE: 0.8073 adv_Recall: 32.3024 adv_MAP: 0.2037 adv_RCR: 0.6871 time:4.828\n",
      "2023-05-08 17:24:48,713 - INFO - Info:  [896/1080 (82%)]\t    adv_RMSE: 0.7392 adv_Recall: 34.1991 adv_MAP: 0.1705 adv_RCR: 0.6165 time:4.809\n",
      "2023-05-08 17:24:58,721 - INFO - Info:  [960/1080 (88%)]\t    adv_RMSE: 0.7704 adv_Recall: 27.9070 adv_MAP: 0.1602 adv_RCR: 0.7619 time:4.884\n",
      "2023-05-08 17:25:08,693 - INFO - Info:  [1024/1080 (94%)]\t    adv_RMSE: 0.7106 adv_Recall: 28.1407 adv_MAP: 0.1567 adv_RCR: 0.7025 time:4.878\n",
      "2023-05-08 17:25:17,433 - INFO - Info:  [1080/1080 (100%)]\t    adv_RMSE: 0.7933 adv_Recall: 22.4359 adv_MAP: 0.0969 adv_RCR: 0.8337 time:3.627\n",
      "2023-05-08 17:25:20,179 - INFO - Info:  不可感知性质：1.4291496276855469\n",
      "2023-05-08 17:25:20,181 - INFO - 攻击时间：Info:time:6.375 \t  clean_RMSE: 0.6847 clean_Recall: 32.4305 clean_MAP: 0.1856 clean_RCR: 0.6796   adv_RMSE: 0.7936 adv_Recall: 29.3436 adv_MAP: 0.1479 adv_RCR: 0.7130\n",
      "2023-05-08 17:25:23,890 - INFO - ten_ZINBSC_20_27\n"
     ]
    },
    {
     "name": "stdout",
     "output_type": "stream",
     "text": [
      "2023-05-08 17:25:20,0,NYC,Gsnet,ten,ZINBSC,20,32,0.6847454450474136,32.43045387994143,0.18557500325210685,0.6796269542597637,0.7936052835682526,29.3435822352367,0.14787249604244843,0.712993283596398,0.34441208915138377,99.66519102711953,0.9946595837050344,0.0014858698259888592\n"
     ]
    },
    {
     "name": "stderr",
     "output_type": "stream",
     "text": [
      "2023-05-08 17:26:03,110 - INFO - Info:  [64/1080 (6%)]\t    adv_RMSE: 0.8437 adv_Recall: 28.1787 adv_MAP: 0.1801 adv_RCR: 0.7559 time:4.871\n",
      "2023-05-08 17:26:13,027 - INFO - Info:  [128/1080 (12%)]\t    adv_RMSE: 0.7671 adv_Recall: 29.8165 adv_MAP: 0.1249 adv_RCR: 0.7272 time:4.842\n",
      "2023-05-08 17:26:22,905 - INFO - Info:  [192/1080 (18%)]\t    adv_RMSE: 0.8102 adv_Recall: 24.2188 adv_MAP: 0.1331 adv_RCR: 0.7975 time:4.827\n",
      "2023-05-08 17:26:32,751 - INFO - Info:  [256/1080 (24%)]\t    adv_RMSE: 0.8745 adv_Recall: 35.5978 adv_MAP: 0.1708 adv_RCR: 0.6553 time:4.857\n",
      "2023-05-08 17:26:42,669 - INFO - Info:  [320/1080 (29%)]\t    adv_RMSE: 0.7690 adv_Recall: 19.5767 adv_MAP: 0.0813 adv_RCR: 0.8185 time:4.888\n",
      "2023-05-08 17:26:52,558 - INFO - Info:  [384/1080 (35%)]\t    adv_RMSE: 0.8026 adv_Recall: 28.5714 adv_MAP: 0.1211 adv_RCR: 0.7363 time:4.875\n",
      "2023-05-08 17:27:02,396 - INFO - Info:  [448/1080 (41%)]\t    adv_RMSE: 0.8225 adv_Recall: 25.1908 adv_MAP: 0.1292 adv_RCR: 0.7248 time:4.853\n",
      "2023-05-08 17:27:12,266 - INFO - Info:  [512/1080 (47%)]\t    adv_RMSE: 0.7305 adv_Recall: 28.3186 adv_MAP: 0.1493 adv_RCR: 0.7048 time:4.811\n",
      "2023-05-08 17:27:22,109 - INFO - Info:  [576/1080 (53%)]\t    adv_RMSE: 0.8157 adv_Recall: 27.4775 adv_MAP: 0.1361 adv_RCR: 0.6985 time:4.868\n",
      "2023-05-08 17:27:31,927 - INFO - Info:  [640/1080 (59%)]\t    adv_RMSE: 0.8523 adv_Recall: 27.0903 adv_MAP: 0.1292 adv_RCR: 0.7420 time:4.815\n",
      "2023-05-08 17:27:41,767 - INFO - Info:  [704/1080 (65%)]\t    adv_RMSE: 0.6994 adv_Recall: 23.2143 adv_MAP: 0.1234 adv_RCR: 0.7649 time:4.861\n",
      "2023-05-08 17:27:51,675 - INFO - Info:  [768/1080 (71%)]\t    adv_RMSE: 0.8470 adv_Recall: 33.3333 adv_MAP: 0.1935 adv_RCR: 0.6739 time:4.857\n",
      "2023-05-08 17:28:01,571 - INFO - Info:  [832/1080 (76%)]\t    adv_RMSE: 0.8077 adv_Recall: 30.9278 adv_MAP: 0.1921 adv_RCR: 0.6817 time:4.868\n",
      "2023-05-08 17:28:11,418 - INFO - Info:  [896/1080 (82%)]\t    adv_RMSE: 0.7467 adv_Recall: 31.1688 adv_MAP: 0.1123 adv_RCR: 0.6950 time:4.822\n",
      "2023-05-08 17:28:21,311 - INFO - Info:  [960/1080 (88%)]\t    adv_RMSE: 0.7607 adv_Recall: 28.4884 adv_MAP: 0.1593 adv_RCR: 0.7517 time:4.858\n",
      "2023-05-08 17:28:31,169 - INFO - Info:  [1024/1080 (94%)]\t    adv_RMSE: 0.7067 adv_Recall: 24.1206 adv_MAP: 0.1369 adv_RCR: 0.7494 time:4.863\n",
      "2023-05-08 17:28:39,830 - INFO - Info:  [1080/1080 (100%)]\t    adv_RMSE: 0.7918 adv_Recall: 20.5128 adv_MAP: 0.0901 adv_RCR: 0.8170 time:3.611\n",
      "2023-05-08 17:28:42,583 - INFO - Info:  不可感知性质：1.4457792043685913\n",
      "2023-05-08 17:28:42,584 - INFO - 攻击时间：Info:time:6.364 \t  clean_RMSE: 0.6847 clean_Recall: 32.4305 clean_MAP: 0.1856 clean_RCR: 0.6796   adv_RMSE: 0.7897 adv_Recall: 28.3919 adv_MAP: 0.1371 adv_RCR: 0.7258\n",
      "2023-05-08 17:28:46,345 - INFO - ten_ZINBSC_20_28\n"
     ]
    },
    {
     "name": "stdout",
     "output_type": "stream",
     "text": [
      "2023-05-08 17:28:42,0,NYC,Gsnet,ten,ZINBSC,20,32,0.6847454450474136,32.43045387994143,0.18557500325210685,0.6796269542597637,0.7897362849320565,28.391898487066864,0.1371121846114443,0.7257886648893664,0.35900783296556543,99.65775082772218,0.9935896964834285,0.0015268641854436027\n"
     ]
    },
    {
     "name": "stderr",
     "output_type": "stream",
     "text": [
      "2023-05-08 17:29:28,551 - INFO - Info:  [64/1080 (6%)]\t    adv_RMSE: 0.8364 adv_Recall: 31.9588 adv_MAP: 0.1641 adv_RCR: 0.7394 time:6.014\n",
      "2023-05-08 17:29:40,799 - INFO - Info:  [128/1080 (12%)]\t    adv_RMSE: 0.7560 adv_Recall: 33.0275 adv_MAP: 0.1820 adv_RCR: 0.6724 time:6.018\n",
      "2023-05-08 17:29:53,019 - INFO - Info:  [192/1080 (18%)]\t    adv_RMSE: 0.7938 adv_Recall: 25.7812 adv_MAP: 0.1507 adv_RCR: 0.7579 time:5.962\n",
      "2023-05-08 17:30:05,222 - INFO - Info:  [256/1080 (24%)]\t    adv_RMSE: 0.8544 adv_Recall: 36.9565 adv_MAP: 0.1853 adv_RCR: 0.6370 time:5.964\n",
      "2023-05-08 17:30:17,423 - INFO - Info:  [320/1080 (29%)]\t    adv_RMSE: 0.7594 adv_Recall: 19.5767 adv_MAP: 0.0786 adv_RCR: 0.8262 time:5.982\n",
      "2023-05-08 17:30:29,662 - INFO - Info:  [384/1080 (35%)]\t    adv_RMSE: 0.7952 adv_Recall: 29.0179 adv_MAP: 0.1636 adv_RCR: 0.7275 time:5.991\n",
      "2023-05-08 17:30:41,889 - INFO - Info:  [448/1080 (41%)]\t    adv_RMSE: 0.8007 adv_Recall: 27.4809 adv_MAP: 0.1542 adv_RCR: 0.7196 time:6.003\n",
      "2023-05-08 17:30:54,075 - INFO - Info:  [512/1080 (47%)]\t    adv_RMSE: 0.7276 adv_Recall: 27.4336 adv_MAP: 0.1596 adv_RCR: 0.6917 time:5.946\n",
      "2023-05-08 17:31:06,319 - INFO - Info:  [576/1080 (53%)]\t    adv_RMSE: 0.8029 adv_Recall: 27.9279 adv_MAP: 0.1563 adv_RCR: 0.6952 time:5.989\n",
      "2023-05-08 17:31:18,528 - INFO - Info:  [640/1080 (59%)]\t    adv_RMSE: 0.8413 adv_Recall: 28.7625 adv_MAP: 0.1426 adv_RCR: 0.7118 time:5.958\n",
      "2023-05-08 17:31:30,769 - INFO - Info:  [704/1080 (65%)]\t    adv_RMSE: 0.6983 adv_Recall: 26.7857 adv_MAP: 0.1706 adv_RCR: 0.7495 time:6.015\n",
      "2023-05-08 17:31:42,922 - INFO - Info:  [768/1080 (71%)]\t    adv_RMSE: 0.8356 adv_Recall: 32.6797 adv_MAP: 0.1959 adv_RCR: 0.6987 time:5.935\n",
      "2023-05-08 17:31:55,145 - INFO - Info:  [832/1080 (76%)]\t    adv_RMSE: 0.8105 adv_Recall: 32.6460 adv_MAP: 0.2160 adv_RCR: 0.6808 time:5.934\n",
      "2023-05-08 17:32:07,318 - INFO - Info:  [896/1080 (82%)]\t    adv_RMSE: 0.7475 adv_Recall: 32.4675 adv_MAP: 0.1459 adv_RCR: 0.6539 time:5.938\n",
      "2023-05-08 17:32:19,520 - INFO - Info:  [960/1080 (88%)]\t    adv_RMSE: 0.7477 adv_Recall: 29.0698 adv_MAP: 0.1575 adv_RCR: 0.7390 time:5.969\n",
      "2023-05-08 17:32:31,765 - INFO - Info:  [1024/1080 (94%)]\t    adv_RMSE: 0.7129 adv_Recall: 25.6281 adv_MAP: 0.1431 adv_RCR: 0.7351 time:5.989\n",
      "2023-05-08 17:32:42,537 - INFO - Info:  [1080/1080 (100%)]\t    adv_RMSE: 0.7752 adv_Recall: 23.7179 adv_MAP: 0.0936 adv_RCR: 0.8188 time:4.474\n",
      "2023-05-08 17:32:45,326 - INFO - Info:  不可感知性质：1.409643292427063\n",
      "2023-05-08 17:32:45,327 - INFO - 攻击时间：Info:time:7.263 \t  clean_RMSE: 0.6847 clean_Recall: 32.4305 clean_MAP: 0.1856 clean_RCR: 0.6796   adv_RMSE: 0.7824 adv_Recall: 29.5998 adv_MAP: 0.1520 adv_RCR: 0.7149\n",
      "2023-05-08 17:32:49,053 - INFO - ten_ZINBSC_20_29\n"
     ]
    },
    {
     "name": "stdout",
     "output_type": "stream",
     "text": [
      "2023-05-08 17:32:45,0,NYC,Gsnet,ten,ZINBSC,20,32,0.6847454450474136,32.43045387994143,0.18557500325210685,0.6796269542597637,0.7823724818152447,29.599804782820886,0.1519807909400289,0.7148619347321272,0.32837905127454503,99.65589077787284,0.993934728960063,0.0014924806998813827\n"
     ]
    },
    {
     "name": "stderr",
     "output_type": "stream",
     "text": [
      "2023-05-08 17:33:31,180 - INFO - Info:  [64/1080 (6%)]\t    adv_RMSE: 0.8378 adv_Recall: 31.9588 adv_MAP: 0.1667 adv_RCR: 0.7415 time:5.993\n",
      "2023-05-08 17:33:43,469 - INFO - Info:  [128/1080 (12%)]\t    adv_RMSE: 0.7689 adv_Recall: 33.0275 adv_MAP: 0.1496 adv_RCR: 0.6965 time:6.053\n",
      "2023-05-08 17:33:55,746 - INFO - Info:  [192/1080 (18%)]\t    adv_RMSE: 0.7932 adv_Recall: 25.3906 adv_MAP: 0.1610 adv_RCR: 0.7631 time:6.001\n",
      "2023-05-08 17:34:07,958 - INFO - Info:  [256/1080 (24%)]\t    adv_RMSE: 0.8597 adv_Recall: 37.7717 adv_MAP: 0.1746 adv_RCR: 0.6234 time:5.956\n",
      "2023-05-08 17:34:20,194 - INFO - Info:  [320/1080 (29%)]\t    adv_RMSE: 0.7749 adv_Recall: 20.6349 adv_MAP: 0.0962 adv_RCR: 0.8241 time:5.983\n",
      "2023-05-08 17:34:32,390 - INFO - Info:  [384/1080 (35%)]\t    adv_RMSE: 0.7992 adv_Recall: 29.0179 adv_MAP: 0.1663 adv_RCR: 0.7230 time:5.954\n",
      "2023-05-08 17:34:44,569 - INFO - Info:  [448/1080 (41%)]\t    adv_RMSE: 0.8030 adv_Recall: 28.6260 adv_MAP: 0.1584 adv_RCR: 0.6962 time:5.979\n",
      "2023-05-08 17:34:56,774 - INFO - Info:  [512/1080 (47%)]\t    adv_RMSE: 0.7251 adv_Recall: 27.4336 adv_MAP: 0.1880 adv_RCR: 0.6959 time:5.945\n",
      "2023-05-08 17:35:09,028 - INFO - Info:  [576/1080 (53%)]\t    adv_RMSE: 0.8118 adv_Recall: 25.6757 adv_MAP: 0.1339 adv_RCR: 0.7148 time:6.004\n",
      "2023-05-08 17:35:21,244 - INFO - Info:  [640/1080 (59%)]\t    adv_RMSE: 0.8487 adv_Recall: 32.1070 adv_MAP: 0.1655 adv_RCR: 0.7083 time:5.981\n",
      "2023-05-08 17:35:33,446 - INFO - Info:  [704/1080 (65%)]\t    adv_RMSE: 0.6957 adv_Recall: 25.5952 adv_MAP: 0.1581 adv_RCR: 0.7524 time:6.000\n",
      "2023-05-08 17:35:45,675 - INFO - Info:  [768/1080 (71%)]\t    adv_RMSE: 0.8305 adv_Recall: 31.0458 adv_MAP: 0.1650 adv_RCR: 0.6852 time:5.962\n",
      "2023-05-08 17:35:57,891 - INFO - Info:  [832/1080 (76%)]\t    adv_RMSE: 0.8113 adv_Recall: 32.6460 adv_MAP: 0.2136 adv_RCR: 0.6865 time:5.921\n",
      "2023-05-08 17:36:10,148 - INFO - Info:  [896/1080 (82%)]\t    adv_RMSE: 0.7438 adv_Recall: 32.0346 adv_MAP: 0.1485 adv_RCR: 0.6563 time:5.990\n",
      "2023-05-08 17:36:22,374 - INFO - Info:  [960/1080 (88%)]\t    adv_RMSE: 0.7571 adv_Recall: 27.3256 adv_MAP: 0.1431 adv_RCR: 0.7731 time:5.977\n",
      "2023-05-08 17:36:34,594 - INFO - Info:  [1024/1080 (94%)]\t    adv_RMSE: 0.7024 adv_Recall: 25.1256 adv_MAP: 0.1460 adv_RCR: 0.7632 time:5.985\n",
      "2023-05-08 17:36:45,311 - INFO - Info:  [1080/1080 (100%)]\t    adv_RMSE: 0.7841 adv_Recall: 23.7179 adv_MAP: 0.1095 adv_RCR: 0.7849 time:4.463\n",
      "2023-05-08 17:36:48,091 - INFO - Info:  不可感知性质：1.438557505607605\n",
      "2023-05-08 17:36:48,092 - INFO - 攻击时间：Info:time:7.244 \t  clean_RMSE: 0.6847 clean_Recall: 32.4305 clean_MAP: 0.1856 clean_RCR: 0.6796   adv_RMSE: 0.7844 adv_Recall: 29.6364 adv_MAP: 0.1504 adv_RCR: 0.7169\n",
      "2023-05-08 17:36:51,796 - INFO - ten_ZINBSC_20_30\n"
     ]
    },
    {
     "name": "stdout",
     "output_type": "stream",
     "text": [
      "2023-05-08 17:36:48,0,NYC,Gsnet,ten,ZINBSC,20,32,0.6847454450474136,32.43045387994143,0.18557500325210685,0.6796269542597637,0.7843640767132838,29.63640800390434,0.15038564993517997,0.7169309304525773,0.34143919207489437,99.64473047877684,0.9937586616665124,0.0015667348201202354\n"
     ]
    },
    {
     "name": "stderr",
     "output_type": "stream",
     "text": [
      "2023-05-08 17:37:31,258 - INFO - Info:  [64/1080 (6%)]\t    adv_RMSE: 0.8443 adv_Recall: 28.8660 adv_MAP: 0.1383 adv_RCR: 0.7681 time:4.876\n",
      "2023-05-08 17:37:41,100 - INFO - Info:  [128/1080 (12%)]\t    adv_RMSE: 0.7576 adv_Recall: 31.6514 adv_MAP: 0.1594 adv_RCR: 0.6965 time:4.835\n",
      "2023-05-08 17:37:50,917 - INFO - Info:  [192/1080 (18%)]\t    adv_RMSE: 0.7816 adv_Recall: 25.7812 adv_MAP: 0.1561 adv_RCR: 0.7417 time:4.829\n",
      "2023-05-08 17:38:00,758 - INFO - Info:  [256/1080 (24%)]\t    adv_RMSE: 0.8680 adv_Recall: 35.5978 adv_MAP: 0.1689 adv_RCR: 0.6419 time:4.827\n",
      "2023-05-08 17:38:10,590 - INFO - Info:  [320/1080 (29%)]\t    adv_RMSE: 0.7602 adv_Recall: 22.2222 adv_MAP: 0.0914 adv_RCR: 0.7941 time:4.875\n",
      "2023-05-08 17:38:20,463 - INFO - Info:  [384/1080 (35%)]\t    adv_RMSE: 0.7880 adv_Recall: 30.3571 adv_MAP: 0.1679 adv_RCR: 0.7258 time:4.865\n",
      "2023-05-08 17:38:30,351 - INFO - Info:  [448/1080 (41%)]\t    adv_RMSE: 0.8088 adv_Recall: 27.0992 adv_MAP: 0.1525 adv_RCR: 0.7087 time:4.869\n",
      "2023-05-08 17:38:40,198 - INFO - Info:  [512/1080 (47%)]\t    adv_RMSE: 0.7210 adv_Recall: 29.2035 adv_MAP: 0.1671 adv_RCR: 0.6954 time:4.826\n",
      "2023-05-08 17:38:50,014 - INFO - Info:  [576/1080 (53%)]\t    adv_RMSE: 0.8126 adv_Recall: 27.4775 adv_MAP: 0.1266 adv_RCR: 0.7183 time:4.842\n",
      "2023-05-08 17:38:59,866 - INFO - Info:  [640/1080 (59%)]\t    adv_RMSE: 0.8478 adv_Recall: 31.4381 adv_MAP: 0.1789 adv_RCR: 0.6903 time:4.835\n",
      "2023-05-08 17:39:09,737 - INFO - Info:  [704/1080 (65%)]\t    adv_RMSE: 0.6938 adv_Recall: 25.0000 adv_MAP: 0.1684 adv_RCR: 0.7581 time:4.842\n",
      "2023-05-08 17:39:19,569 - INFO - Info:  [768/1080 (71%)]\t    adv_RMSE: 0.8393 adv_Recall: 33.6601 adv_MAP: 0.1735 adv_RCR: 0.6581 time:4.828\n",
      "2023-05-08 17:39:29,441 - INFO - Info:  [832/1080 (76%)]\t    adv_RMSE: 0.8145 adv_Recall: 34.7079 adv_MAP: 0.2078 adv_RCR: 0.6749 time:4.847\n",
      "2023-05-08 17:39:39,339 - INFO - Info:  [896/1080 (82%)]\t    adv_RMSE: 0.7430 adv_Recall: 33.7662 adv_MAP: 0.1471 adv_RCR: 0.6609 time:4.841\n",
      "2023-05-08 17:39:49,246 - INFO - Info:  [960/1080 (88%)]\t    adv_RMSE: 0.7535 adv_Recall: 25.0000 adv_MAP: 0.1089 adv_RCR: 0.7942 time:4.853\n",
      "2023-05-08 17:39:58,998 - INFO - Info:  [1024/1080 (94%)]\t    adv_RMSE: 0.7074 adv_Recall: 24.6231 adv_MAP: 0.1458 adv_RCR: 0.7562 time:4.820\n",
      "2023-05-08 17:40:07,635 - INFO - Info:  [1080/1080 (100%)]\t    adv_RMSE: 0.7923 adv_Recall: 25.0000 adv_MAP: 0.1292 adv_RCR: 0.7847 time:3.625\n",
      "2023-05-08 17:40:10,375 - INFO - Info:  不可感知性质：1.459846019744873\n",
      "2023-05-08 17:40:10,376 - INFO - 攻击时间：Info:time:6.366 \t  clean_RMSE: 0.6847 clean_Recall: 32.4305 clean_MAP: 0.1856 clean_RCR: 0.6796   adv_RMSE: 0.7836 adv_Recall: 29.5144 adv_MAP: 0.1469 adv_RCR: 0.7126\n",
      "2023-05-08 17:40:14,091 - INFO - ten_ZINBSC_20_31\n"
     ]
    },
    {
     "name": "stdout",
     "output_type": "stream",
     "text": [
      "2023-05-08 17:40:10,0,NYC,Gsnet,ten,ZINBSC,20,32,0.6847454450474136,32.43045387994143,0.18557500325210685,0.6796269542597637,0.7835814801598442,29.51439726695949,0.14690262665926657,0.712565763782985,0.36918778547718417,99.6279900301328,0.9929926952797363,0.0015509556298150256\n"
     ]
    },
    {
     "name": "stderr",
     "output_type": "stream",
     "text": [
      "2023-05-08 17:40:55,881 - INFO - Info:  [64/1080 (6%)]\t    adv_RMSE: 0.8337 adv_Recall: 29.5533 adv_MAP: 0.1464 adv_RCR: 0.7276 time:6.039\n",
      "2023-05-08 17:41:08,147 - INFO - Info:  [128/1080 (12%)]\t    adv_RMSE: 0.7634 adv_Recall: 31.6514 adv_MAP: 0.1512 adv_RCR: 0.7354 time:6.034\n",
      "2023-05-08 17:41:20,351 - INFO - Info:  [192/1080 (18%)]\t    adv_RMSE: 0.7845 adv_Recall: 26.1719 adv_MAP: 0.1600 adv_RCR: 0.7477 time:6.006\n",
      "2023-05-08 17:41:32,504 - INFO - Info:  [256/1080 (24%)]\t    adv_RMSE: 0.8585 adv_Recall: 34.7826 adv_MAP: 0.1770 adv_RCR: 0.6702 time:5.980\n",
      "2023-05-08 17:41:44,716 - INFO - Info:  [320/1080 (29%)]\t    adv_RMSE: 0.7679 adv_Recall: 23.8095 adv_MAP: 0.1062 adv_RCR: 0.7931 time:6.012\n",
      "2023-05-08 17:41:56,889 - INFO - Info:  [384/1080 (35%)]\t    adv_RMSE: 0.7886 adv_Recall: 28.5714 adv_MAP: 0.1500 adv_RCR: 0.7256 time:6.004\n",
      "2023-05-08 17:42:09,027 - INFO - Info:  [448/1080 (41%)]\t    adv_RMSE: 0.8135 adv_Recall: 28.6260 adv_MAP: 0.1503 adv_RCR: 0.6946 time:6.000\n",
      "2023-05-08 17:42:21,236 - INFO - Info:  [512/1080 (47%)]\t    adv_RMSE: 0.7264 adv_Recall: 28.3186 adv_MAP: 0.1612 adv_RCR: 0.6823 time:5.973\n",
      "2023-05-08 17:42:33,449 - INFO - Info:  [576/1080 (53%)]\t    adv_RMSE: 0.8124 adv_Recall: 25.2252 adv_MAP: 0.1155 adv_RCR: 0.7209 time:6.029\n",
      "2023-05-08 17:42:45,568 - INFO - Info:  [640/1080 (59%)]\t    adv_RMSE: 0.8586 adv_Recall: 31.7726 adv_MAP: 0.1746 adv_RCR: 0.6836 time:6.003\n",
      "2023-05-08 17:42:57,696 - INFO - Info:  [704/1080 (65%)]\t    adv_RMSE: 0.6978 adv_Recall: 26.7857 adv_MAP: 0.1458 adv_RCR: 0.7484 time:6.001\n",
      "2023-05-08 17:43:09,775 - INFO - Info:  [768/1080 (71%)]\t    adv_RMSE: 0.8400 adv_Recall: 33.0065 adv_MAP: 0.1496 adv_RCR: 0.6985 time:5.958\n",
      "2023-05-08 17:43:21,972 - INFO - Info:  [832/1080 (76%)]\t    adv_RMSE: 0.8178 adv_Recall: 31.2715 adv_MAP: 0.1916 adv_RCR: 0.7117 time:5.967\n",
      "2023-05-08 17:43:34,095 - INFO - Info:  [896/1080 (82%)]\t    adv_RMSE: 0.7411 adv_Recall: 29.8701 adv_MAP: 0.1399 adv_RCR: 0.7017 time:5.962\n",
      "2023-05-08 17:43:46,261 - INFO - Info:  [960/1080 (88%)]\t    adv_RMSE: 0.7545 adv_Recall: 25.0000 adv_MAP: 0.1366 adv_RCR: 0.7812 time:6.016\n",
      "2023-05-08 17:43:58,428 - INFO - Info:  [1024/1080 (94%)]\t    adv_RMSE: 0.7037 adv_Recall: 24.6231 adv_MAP: 0.1467 adv_RCR: 0.7379 time:6.036\n",
      "2023-05-08 17:44:09,070 - INFO - Info:  [1080/1080 (100%)]\t    adv_RMSE: 0.7768 adv_Recall: 23.0769 adv_MAP: 0.0693 adv_RCR: 0.7955 time:4.473\n",
      "2023-05-08 17:44:11,755 - INFO - Info:  不可感知性质：1.4537510871887207\n",
      "2023-05-08 17:44:11,756 - INFO - 攻击时间：Info:time:7.159 \t  clean_RMSE: 0.6847 clean_Recall: 32.4305 clean_MAP: 0.1856 clean_RCR: 0.6796   adv_RMSE: 0.7841 adv_Recall: 29.2826 adv_MAP: 0.1441 adv_RCR: 0.7159\n",
      "2023-05-08 17:44:15,455 - INFO - ten_ZINBSC_20_32\n"
     ]
    },
    {
     "name": "stdout",
     "output_type": "stream",
     "text": [
      "2023-05-08 17:44:11,0,NYC,Gsnet,ten,ZINBSC,20,32,0.6847454450474136,32.43045387994143,0.18557500325210685,0.6796269542597637,0.7841036223842047,29.282576866764277,0.1441357132365716,0.7159060680022797,0.3735603339525952,99.63915032922883,0.9927072649431026,0.0014811471093101193\n"
     ]
    },
    {
     "name": "stderr",
     "output_type": "stream",
     "text": [
      "2023-05-08 17:44:54,570 - INFO - Info:  [64/1080 (6%)]\t    adv_RMSE: 0.8356 adv_Recall: 29.5533 adv_MAP: 0.1481 adv_RCR: 0.7476 time:4.907\n",
      "2023-05-08 17:45:04,543 - INFO - Info:  [128/1080 (12%)]\t    adv_RMSE: 0.7675 adv_Recall: 31.6514 adv_MAP: 0.1818 adv_RCR: 0.7109 time:4.912\n",
      "2023-05-08 17:45:14,403 - INFO - Info:  [192/1080 (18%)]\t    adv_RMSE: 0.7864 adv_Recall: 25.7812 adv_MAP: 0.1644 adv_RCR: 0.7572 time:4.838\n",
      "2023-05-08 17:45:24,319 - INFO - Info:  [256/1080 (24%)]\t    adv_RMSE: 0.8599 adv_Recall: 34.2391 adv_MAP: 0.1719 adv_RCR: 0.6733 time:4.888\n",
      "2023-05-08 17:45:34,192 - INFO - Info:  [320/1080 (29%)]\t    adv_RMSE: 0.7665 adv_Recall: 23.2804 adv_MAP: 0.1133 adv_RCR: 0.7685 time:4.869\n",
      "2023-05-08 17:45:44,184 - INFO - Info:  [384/1080 (35%)]\t    adv_RMSE: 0.7859 adv_Recall: 29.9107 adv_MAP: 0.1991 adv_RCR: 0.6977 time:4.878\n",
      "2023-05-08 17:45:54,059 - INFO - Info:  [448/1080 (41%)]\t    adv_RMSE: 0.8150 adv_Recall: 26.7176 adv_MAP: 0.1582 adv_RCR: 0.7176 time:4.864\n",
      "2023-05-08 17:46:03,957 - INFO - Info:  [512/1080 (47%)]\t    adv_RMSE: 0.7275 adv_Recall: 30.0885 adv_MAP: 0.1732 adv_RCR: 0.7019 time:4.866\n",
      "2023-05-08 17:46:13,878 - INFO - Info:  [576/1080 (53%)]\t    adv_RMSE: 0.8106 adv_Recall: 24.3243 adv_MAP: 0.1121 adv_RCR: 0.7690 time:4.881\n",
      "2023-05-08 17:46:23,786 - INFO - Info:  [640/1080 (59%)]\t    adv_RMSE: 0.8521 adv_Recall: 32.1070 adv_MAP: 0.1619 adv_RCR: 0.6585 time:4.892\n",
      "2023-05-08 17:46:33,694 - INFO - Info:  [704/1080 (65%)]\t    adv_RMSE: 0.6956 adv_Recall: 23.8095 adv_MAP: 0.1278 adv_RCR: 0.7819 time:4.895\n",
      "2023-05-08 17:46:43,607 - INFO - Info:  [768/1080 (71%)]\t    adv_RMSE: 0.8432 adv_Recall: 34.3137 adv_MAP: 0.1975 adv_RCR: 0.6569 time:4.857\n",
      "2023-05-08 17:46:53,494 - INFO - Info:  [832/1080 (76%)]\t    adv_RMSE: 0.8086 adv_Recall: 29.2096 adv_MAP: 0.1877 adv_RCR: 0.7144 time:4.833\n",
      "2023-05-08 17:47:03,317 - INFO - Info:  [896/1080 (82%)]\t    adv_RMSE: 0.7420 adv_Recall: 32.4675 adv_MAP: 0.1405 adv_RCR: 0.6833 time:4.816\n",
      "2023-05-08 17:47:13,225 - INFO - Info:  [960/1080 (88%)]\t    adv_RMSE: 0.7583 adv_Recall: 27.3256 adv_MAP: 0.1409 adv_RCR: 0.7719 time:4.891\n",
      "2023-05-08 17:47:23,093 - INFO - Info:  [1024/1080 (94%)]\t    adv_RMSE: 0.7010 adv_Recall: 26.1307 adv_MAP: 0.1591 adv_RCR: 0.7256 time:4.870\n",
      "2023-05-08 17:47:31,754 - INFO - Info:  [1080/1080 (100%)]\t    adv_RMSE: 0.7797 adv_Recall: 25.0000 adv_MAP: 0.1290 adv_RCR: 0.7703 time:3.637\n",
      "2023-05-08 17:47:34,436 - INFO - Info:  不可感知性质：1.479126214981079\n",
      "2023-05-08 17:47:34,437 - INFO - 攻击时间：Info:time:6.320 \t  clean_RMSE: 0.6847 clean_Recall: 32.4305 clean_MAP: 0.1856 clean_RCR: 0.6796   adv_RMSE: 0.7844 adv_Recall: 29.3070 adv_MAP: 0.1501 adv_RCR: 0.7166\n",
      "2023-05-08 17:47:38,143 - INFO - ten_ZINBSC_20_33\n"
     ]
    },
    {
     "name": "stdout",
     "output_type": "stream",
     "text": [
      "2023-05-08 17:47:34,0,NYC,Gsnet,ten,ZINBSC,20,32,0.6847454450474136,32.43045387994143,0.18557500325210685,0.6796269542597637,0.7843517719178994,29.306979014153246,0.15011318916489444,0.7166324279242919,0.37280212047563405,99.66333097727019,0.9935887505470182,0.001280780808696617\n"
     ]
    },
    {
     "name": "stderr",
     "output_type": "stream",
     "text": [
      "2023-05-08 17:48:17,171 - INFO - Info:  [64/1080 (6%)]\t    adv_RMSE: 0.8437 adv_Recall: 31.6151 adv_MAP: 0.1636 adv_RCR: 0.7260 time:4.875\n",
      "2023-05-08 17:48:27,088 - INFO - Info:  [128/1080 (12%)]\t    adv_RMSE: 0.7623 adv_Recall: 28.8991 adv_MAP: 0.1616 adv_RCR: 0.7483 time:4.876\n",
      "2023-05-08 17:48:36,991 - INFO - Info:  [192/1080 (18%)]\t    adv_RMSE: 0.7930 adv_Recall: 28.1250 adv_MAP: 0.1669 adv_RCR: 0.7285 time:4.858\n",
      "2023-05-08 17:48:46,847 - INFO - Info:  [256/1080 (24%)]\t    adv_RMSE: 0.8644 adv_Recall: 34.2391 adv_MAP: 0.1733 adv_RCR: 0.6914 time:4.845\n",
      "2023-05-08 17:48:56,737 - INFO - Info:  [320/1080 (29%)]\t    adv_RMSE: 0.7702 adv_Recall: 21.6931 adv_MAP: 0.1045 adv_RCR: 0.7912 time:4.875\n",
      "2023-05-08 17:49:06,614 - INFO - Info:  [384/1080 (35%)]\t    adv_RMSE: 0.7945 adv_Recall: 28.5714 adv_MAP: 0.1713 adv_RCR: 0.7189 time:4.851\n",
      "2023-05-08 17:49:16,508 - INFO - Info:  [448/1080 (41%)]\t    adv_RMSE: 0.8261 adv_Recall: 28.2443 adv_MAP: 0.1528 adv_RCR: 0.7170 time:4.874\n",
      "2023-05-08 17:49:26,439 - INFO - Info:  [512/1080 (47%)]\t    adv_RMSE: 0.7329 adv_Recall: 26.5487 adv_MAP: 0.1522 adv_RCR: 0.7149 time:4.861\n",
      "2023-05-08 17:49:36,347 - INFO - Info:  [576/1080 (53%)]\t    adv_RMSE: 0.8144 adv_Recall: 23.4234 adv_MAP: 0.0902 adv_RCR: 0.7737 time:4.878\n",
      "2023-05-08 17:49:46,173 - INFO - Info:  [640/1080 (59%)]\t    adv_RMSE: 0.8462 adv_Recall: 32.7759 adv_MAP: 0.1765 adv_RCR: 0.6625 time:4.820\n",
      "2023-05-08 17:49:56,029 - INFO - Info:  [704/1080 (65%)]\t    adv_RMSE: 0.6916 adv_Recall: 26.1905 adv_MAP: 0.1574 adv_RCR: 0.7445 time:4.879\n",
      "2023-05-08 17:50:05,889 - INFO - Info:  [768/1080 (71%)]\t    adv_RMSE: 0.8464 adv_Recall: 31.6993 adv_MAP: 0.1674 adv_RCR: 0.6724 time:4.858\n",
      "2023-05-08 17:50:15,756 - INFO - Info:  [832/1080 (76%)]\t    adv_RMSE: 0.8031 adv_Recall: 31.6151 adv_MAP: 0.2021 adv_RCR: 0.6791 time:4.854\n",
      "2023-05-08 17:50:25,638 - INFO - Info:  [896/1080 (82%)]\t    adv_RMSE: 0.7386 adv_Recall: 32.4675 adv_MAP: 0.1520 adv_RCR: 0.6503 time:4.849\n",
      "2023-05-08 17:50:35,601 - INFO - Info:  [960/1080 (88%)]\t    adv_RMSE: 0.7666 adv_Recall: 23.8372 adv_MAP: 0.1215 adv_RCR: 0.7782 time:4.942\n",
      "2023-05-08 17:50:45,506 - INFO - Info:  [1024/1080 (94%)]\t    adv_RMSE: 0.7077 adv_Recall: 26.1307 adv_MAP: 0.1660 adv_RCR: 0.7266 time:4.896\n",
      "2023-05-08 17:50:54,166 - INFO - Info:  [1080/1080 (100%)]\t    adv_RMSE: 0.7748 adv_Recall: 23.0769 adv_MAP: 0.1068 adv_RCR: 0.7665 time:3.636\n",
      "2023-05-08 17:50:57,031 - INFO - Info:  不可感知性质：1.4874857664108276\n",
      "2023-05-08 17:50:57,032 - INFO - 攻击时间：Info:time:6.502 \t  clean_RMSE: 0.6847 clean_Recall: 32.4305 clean_MAP: 0.1856 clean_RCR: 0.6796   adv_RMSE: 0.7866 adv_Recall: 28.8189 adv_MAP: 0.1463 adv_RCR: 0.7197\n",
      "2023-05-08 17:51:00,727 - INFO - ten_ZINBSC_20_34\n"
     ]
    },
    {
     "name": "stdout",
     "output_type": "stream",
     "text": [
      "2023-05-08 17:50:57,0,NYC,Gsnet,ten,ZINBSC,20,32,0.6847454450474136,32.43045387994143,0.18557500325210685,0.6796269542597637,0.7866116973218754,28.81893606637384,0.14629448284344262,0.7197358207902315,0.3954799904829426,99.67449127636621,0.994104908120498,0.0011731937673266244\n"
     ]
    },
    {
     "name": "stderr",
     "output_type": "stream",
     "text": [
      "2023-05-08 17:51:39,841 - INFO - Info:  [64/1080 (6%)]\t    adv_RMSE: 0.8477 adv_Recall: 30.5842 adv_MAP: 0.1578 adv_RCR: 0.7455 time:4.877\n",
      "2023-05-08 17:51:49,757 - INFO - Info:  [128/1080 (12%)]\t    adv_RMSE: 0.7795 adv_Recall: 29.8165 adv_MAP: 0.1637 adv_RCR: 0.7479 time:4.883\n",
      "2023-05-08 17:51:59,617 - INFO - Info:  [192/1080 (18%)]\t    adv_RMSE: 0.7965 adv_Recall: 28.1250 adv_MAP: 0.1598 adv_RCR: 0.7164 time:4.839\n",
      "2023-05-08 17:52:09,493 - INFO - Info:  [256/1080 (24%)]\t    adv_RMSE: 0.8717 adv_Recall: 32.6087 adv_MAP: 0.1485 adv_RCR: 0.6953 time:4.877\n",
      "2023-05-08 17:52:19,393 - INFO - Info:  [320/1080 (29%)]\t    adv_RMSE: 0.7751 adv_Recall: 21.1640 adv_MAP: 0.1001 adv_RCR: 0.7930 time:4.900\n",
      "2023-05-08 17:52:29,317 - INFO - Info:  [384/1080 (35%)]\t    adv_RMSE: 0.7851 adv_Recall: 29.4643 adv_MAP: 0.1425 adv_RCR: 0.7305 time:4.855\n",
      "2023-05-08 17:52:39,206 - INFO - Info:  [448/1080 (41%)]\t    adv_RMSE: 0.8351 adv_Recall: 27.0992 adv_MAP: 0.1465 adv_RCR: 0.7226 time:4.879\n",
      "2023-05-08 17:52:49,042 - INFO - Info:  [512/1080 (47%)]\t    adv_RMSE: 0.7393 adv_Recall: 25.6637 adv_MAP: 0.1476 adv_RCR: 0.7322 time:4.844\n",
      "2023-05-08 17:52:58,926 - INFO - Info:  [576/1080 (53%)]\t    adv_RMSE: 0.8209 adv_Recall: 23.8739 adv_MAP: 0.0988 adv_RCR: 0.7580 time:4.887\n",
      "2023-05-08 17:53:08,792 - INFO - Info:  [640/1080 (59%)]\t    adv_RMSE: 0.8556 adv_Recall: 31.4381 adv_MAP: 0.1517 adv_RCR: 0.6902 time:4.883\n",
      "2023-05-08 17:53:18,652 - INFO - Info:  [704/1080 (65%)]\t    adv_RMSE: 0.6901 adv_Recall: 25.5952 adv_MAP: 0.1809 adv_RCR: 0.7466 time:4.859\n",
      "2023-05-08 17:53:28,557 - INFO - Info:  [768/1080 (71%)]\t    adv_RMSE: 0.8617 adv_Recall: 31.0458 adv_MAP: 0.1544 adv_RCR: 0.6968 time:4.861\n",
      "2023-05-08 17:53:38,436 - INFO - Info:  [832/1080 (76%)]\t    adv_RMSE: 0.8161 adv_Recall: 30.9278 adv_MAP: 0.1773 adv_RCR: 0.6955 time:4.854\n",
      "2023-05-08 17:53:48,325 - INFO - Info:  [896/1080 (82%)]\t    adv_RMSE: 0.7408 adv_Recall: 31.6017 adv_MAP: 0.1356 adv_RCR: 0.6703 time:4.835\n",
      "2023-05-08 17:53:58,279 - INFO - Info:  [960/1080 (88%)]\t    adv_RMSE: 0.7860 adv_Recall: 25.5814 adv_MAP: 0.1384 adv_RCR: 0.7661 time:4.902\n",
      "2023-05-08 17:54:08,229 - INFO - Info:  [1024/1080 (94%)]\t    adv_RMSE: 0.7147 adv_Recall: 25.1256 adv_MAP: 0.1517 adv_RCR: 0.7366 time:4.875\n",
      "2023-05-08 17:54:16,912 - INFO - Info:  [1080/1080 (100%)]\t    adv_RMSE: 0.7894 adv_Recall: 25.0000 adv_MAP: 0.1227 adv_RCR: 0.7442 time:3.652\n",
      "2023-05-08 17:54:19,636 - INFO - Info:  不可感知性质：1.496085524559021\n",
      "2023-05-08 17:54:19,637 - INFO - 攻击时间：Info:time:6.377 \t  clean_RMSE: 0.6847 clean_Recall: 32.4305 clean_MAP: 0.1856 clean_RCR: 0.6796   adv_RMSE: 0.7930 adv_Recall: 28.7579 adv_MAP: 0.1414 adv_RCR: 0.7229\n",
      "2023-05-08 17:54:23,328 - INFO - ten_ZINBSC_20_35\n"
     ]
    },
    {
     "name": "stdout",
     "output_type": "stream",
     "text": [
      "2023-05-08 17:54:19,0,NYC,Gsnet,ten,ZINBSC,20,32,0.6847454450474136,32.43045387994143,0.18557500325210685,0.6796269542597637,0.7929741065721803,28.75793069790141,0.1414009277499084,0.7229004587960951,0.4146371800295412,99.68751162531156,0.9940735053929811,0.0011961009983455506\n"
     ]
    },
    {
     "name": "stderr",
     "output_type": "stream",
     "text": [
      "2023-05-08 17:55:02,410 - INFO - Info:  [64/1080 (6%)]\t    adv_RMSE: 0.8458 adv_Recall: 29.8969 adv_MAP: 0.1381 adv_RCR: 0.7424 time:4.893\n",
      "2023-05-08 17:55:12,355 - INFO - Info:  [128/1080 (12%)]\t    adv_RMSE: 0.7686 adv_Recall: 30.7339 adv_MAP: 0.1583 adv_RCR: 0.7109 time:4.918\n",
      "2023-05-08 17:55:22,248 - INFO - Info:  [192/1080 (18%)]\t    adv_RMSE: 0.7909 adv_Recall: 25.7812 adv_MAP: 0.1411 adv_RCR: 0.7441 time:4.848\n",
      "2023-05-08 17:55:32,215 - INFO - Info:  [256/1080 (24%)]\t    adv_RMSE: 0.8755 adv_Recall: 34.2391 adv_MAP: 0.1635 adv_RCR: 0.6727 time:4.879\n",
      "2023-05-08 17:55:42,166 - INFO - Info:  [320/1080 (29%)]\t    adv_RMSE: 0.7593 adv_Recall: 20.1058 adv_MAP: 0.0920 adv_RCR: 0.8041 time:4.931\n",
      "2023-05-08 17:55:52,083 - INFO - Info:  [384/1080 (35%)]\t    adv_RMSE: 0.7890 adv_Recall: 32.1429 adv_MAP: 0.1458 adv_RCR: 0.7117 time:4.878\n",
      "2023-05-08 17:56:01,968 - INFO - Info:  [448/1080 (41%)]\t    adv_RMSE: 0.8273 adv_Recall: 28.2443 adv_MAP: 0.1457 adv_RCR: 0.7275 time:4.871\n",
      "2023-05-08 17:56:11,837 - INFO - Info:  [512/1080 (47%)]\t    adv_RMSE: 0.7289 adv_Recall: 26.9912 adv_MAP: 0.1548 adv_RCR: 0.7217 time:4.850\n",
      "2023-05-08 17:56:21,709 - INFO - Info:  [576/1080 (53%)]\t    adv_RMSE: 0.8173 adv_Recall: 24.3243 adv_MAP: 0.0978 adv_RCR: 0.7605 time:4.875\n",
      "2023-05-08 17:56:31,596 - INFO - Info:  [640/1080 (59%)]\t    adv_RMSE: 0.8429 adv_Recall: 30.1003 adv_MAP: 0.1602 adv_RCR: 0.6635 time:4.861\n",
      "2023-05-08 17:56:41,505 - INFO - Info:  [704/1080 (65%)]\t    adv_RMSE: 0.6838 adv_Recall: 23.2143 adv_MAP: 0.1364 adv_RCR: 0.7908 time:4.860\n",
      "2023-05-08 17:56:51,419 - INFO - Info:  [768/1080 (71%)]\t    adv_RMSE: 0.8523 adv_Recall: 30.0654 adv_MAP: 0.1701 adv_RCR: 0.6867 time:4.858\n",
      "2023-05-08 17:57:01,330 - INFO - Info:  [832/1080 (76%)]\t    adv_RMSE: 0.8071 adv_Recall: 30.5842 adv_MAP: 0.2007 adv_RCR: 0.7048 time:4.838\n",
      "2023-05-08 17:57:11,205 - INFO - Info:  [896/1080 (82%)]\t    adv_RMSE: 0.7336 adv_Recall: 33.3333 adv_MAP: 0.1559 adv_RCR: 0.6528 time:4.845\n",
      "2023-05-08 17:57:21,135 - INFO - Info:  [960/1080 (88%)]\t    adv_RMSE: 0.7705 adv_Recall: 26.1628 adv_MAP: 0.1390 adv_RCR: 0.7927 time:4.891\n",
      "2023-05-08 17:57:31,009 - INFO - Info:  [1024/1080 (94%)]\t    adv_RMSE: 0.7016 adv_Recall: 25.1256 adv_MAP: 0.1555 adv_RCR: 0.7351 time:4.881\n",
      "2023-05-08 17:57:39,641 - INFO - Info:  [1080/1080 (100%)]\t    adv_RMSE: 0.7898 adv_Recall: 25.6410 adv_MAP: 0.1223 adv_RCR: 0.7393 time:3.641\n",
      "2023-05-08 17:57:42,317 - INFO - Info:  不可感知性质：1.4664337635040283\n",
      "2023-05-08 17:57:42,318 - INFO - 攻击时间：Info:time:6.319 \t  clean_RMSE: 0.6847 clean_Recall: 32.4305 clean_MAP: 0.1856 clean_RCR: 0.6796   adv_RMSE: 0.7872 adv_Recall: 28.6481 adv_MAP: 0.1397 adv_RCR: 0.7233\n",
      "2023-05-08 17:57:46,010 - INFO - ten_ZINBSC_20_36\n"
     ]
    },
    {
     "name": "stdout",
     "output_type": "stream",
     "text": [
      "2023-05-08 17:57:42,0,NYC,Gsnet,ten,ZINBSC,20,32,0.6847454450474136,32.43045387994143,0.18557500325210685,0.6796269542597637,0.7872237189947258,28.648121034651048,0.13965905878789128,0.7233003379900697,0.4123318787218159,99.68007142591422,0.9938461363825885,0.0012656364807303259\n"
     ]
    },
    {
     "name": "stderr",
     "output_type": "stream",
     "text": [
      "2023-05-08 17:58:25,001 - INFO - Info:  [64/1080 (6%)]\t    adv_RMSE: 0.8516 adv_Recall: 30.5842 adv_MAP: 0.1468 adv_RCR: 0.7467 time:4.900\n",
      "2023-05-08 17:58:34,935 - INFO - Info:  [128/1080 (12%)]\t    adv_RMSE: 0.7832 adv_Recall: 31.1927 adv_MAP: 0.1662 adv_RCR: 0.7086 time:4.880\n",
      "2023-05-08 17:58:44,833 - INFO - Info:  [192/1080 (18%)]\t    adv_RMSE: 0.8048 adv_Recall: 25.3906 adv_MAP: 0.1351 adv_RCR: 0.7690 time:4.841\n",
      "2023-05-08 17:58:54,692 - INFO - Info:  [256/1080 (24%)]\t    adv_RMSE: 0.8843 adv_Recall: 33.9674 adv_MAP: 0.1703 adv_RCR: 0.7056 time:4.874\n",
      "2023-05-08 17:59:04,584 - INFO - Info:  [320/1080 (29%)]\t    adv_RMSE: 0.7724 adv_Recall: 22.2222 adv_MAP: 0.1063 adv_RCR: 0.8000 time:4.867\n",
      "2023-05-08 17:59:14,525 - INFO - Info:  [384/1080 (35%)]\t    adv_RMSE: 0.7821 adv_Recall: 31.2500 adv_MAP: 0.1367 adv_RCR: 0.7081 time:4.858\n",
      "2023-05-08 17:59:24,433 - INFO - Info:  [448/1080 (41%)]\t    adv_RMSE: 0.8391 adv_Recall: 25.9542 adv_MAP: 0.1380 adv_RCR: 0.7161 time:4.884\n",
      "2023-05-08 17:59:34,268 - INFO - Info:  [512/1080 (47%)]\t    adv_RMSE: 0.7396 adv_Recall: 24.7788 adv_MAP: 0.1385 adv_RCR: 0.7406 time:4.809\n",
      "2023-05-08 17:59:44,140 - INFO - Info:  [576/1080 (53%)]\t    adv_RMSE: 0.8263 adv_Recall: 25.6757 adv_MAP: 0.1105 adv_RCR: 0.7452 time:4.859\n",
      "2023-05-08 17:59:54,031 - INFO - Info:  [640/1080 (59%)]\t    adv_RMSE: 0.8594 adv_Recall: 32.1070 adv_MAP: 0.1533 adv_RCR: 0.6553 time:4.875\n",
      "2023-05-08 18:00:03,916 - INFO - Info:  [704/1080 (65%)]\t    adv_RMSE: 0.6962 adv_Recall: 22.6190 adv_MAP: 0.1293 adv_RCR: 0.7622 time:4.875\n",
      "2023-05-08 18:00:13,744 - INFO - Info:  [768/1080 (71%)]\t    adv_RMSE: 0.8653 adv_Recall: 28.7582 adv_MAP: 0.1350 adv_RCR: 0.7358 time:4.800\n",
      "2023-05-08 18:00:23,645 - INFO - Info:  [832/1080 (76%)]\t    adv_RMSE: 0.8175 adv_Recall: 28.8660 adv_MAP: 0.1692 adv_RCR: 0.7277 time:4.844\n",
      "2023-05-08 18:00:33,512 - INFO - Info:  [896/1080 (82%)]\t    adv_RMSE: 0.7388 adv_Recall: 32.4675 adv_MAP: 0.1573 adv_RCR: 0.6705 time:4.852\n",
      "2023-05-08 18:00:43,431 - INFO - Info:  [960/1080 (88%)]\t    adv_RMSE: 0.7792 adv_Recall: 24.4186 adv_MAP: 0.1405 adv_RCR: 0.7787 time:4.878\n",
      "2023-05-08 18:00:53,277 - INFO - Info:  [1024/1080 (94%)]\t    adv_RMSE: 0.7158 adv_Recall: 24.6231 adv_MAP: 0.1459 adv_RCR: 0.7262 time:4.863\n",
      "2023-05-08 18:01:01,890 - INFO - Info:  [1080/1080 (100%)]\t    adv_RMSE: 0.8045 adv_Recall: 26.2821 adv_MAP: 0.1295 adv_RCR: 0.7479 time:3.617\n",
      "2023-05-08 18:01:04,689 - INFO - Info:  不可感知性质：1.4718350172042847\n",
      "2023-05-08 18:01:04,690 - INFO - 攻击时间：Info:time:6.417 \t  clean_RMSE: 0.6847 clean_Recall: 32.4305 clean_MAP: 0.1856 clean_RCR: 0.6796   adv_RMSE: 0.7967 adv_Recall: 28.4285 adv_MAP: 0.1367 adv_RCR: 0.7273\n",
      "2023-05-08 18:01:08,386 - INFO - ten_ZINBSC_20_37\n"
     ]
    },
    {
     "name": "stdout",
     "output_type": "stream",
     "text": [
      "2023-05-08 18:01:04,0,NYC,Gsnet,ten,ZINBSC,20,32,0.6847454450474136,32.43045387994143,0.18557500325210685,0.6796269542597637,0.7967499244900147,28.428501708150318,0.13667739720016273,0.7273283659397443,0.40502711814484677,99.68193147576355,0.9938019893037449,0.001253763556594893\n"
     ]
    },
    {
     "name": "stderr",
     "output_type": "stream",
     "text": [
      "2023-05-08 18:01:46,941 - INFO - Info:  [64/1080 (6%)]\t    adv_RMSE: 0.8569 adv_Recall: 30.9278 adv_MAP: 0.1367 adv_RCR: 0.7576 time:4.796\n",
      "2023-05-08 18:01:56,714 - INFO - Info:  [128/1080 (12%)]\t    adv_RMSE: 0.7836 adv_Recall: 29.8165 adv_MAP: 0.1570 adv_RCR: 0.7009 time:4.790\n",
      "2023-05-08 18:02:06,354 - INFO - Info:  [192/1080 (18%)]\t    adv_RMSE: 0.8031 adv_Recall: 29.2969 adv_MAP: 0.1533 adv_RCR: 0.6956 time:4.740\n",
      "2023-05-08 18:02:16,031 - INFO - Info:  [256/1080 (24%)]\t    adv_RMSE: 0.8864 adv_Recall: 32.0652 adv_MAP: 0.1613 adv_RCR: 0.7048 time:4.771\n",
      "2023-05-08 18:02:25,752 - INFO - Info:  [320/1080 (29%)]\t    adv_RMSE: 0.7738 adv_Recall: 20.6349 adv_MAP: 0.1490 adv_RCR: 0.7956 time:4.814\n",
      "2023-05-08 18:02:35,490 - INFO - Info:  [384/1080 (35%)]\t    adv_RMSE: 0.7954 adv_Recall: 28.1250 adv_MAP: 0.1377 adv_RCR: 0.7382 time:4.782\n",
      "2023-05-08 18:02:45,224 - INFO - Info:  [448/1080 (41%)]\t    adv_RMSE: 0.8411 adv_Recall: 27.0992 adv_MAP: 0.1374 adv_RCR: 0.7169 time:4.804\n",
      "2023-05-08 18:02:54,926 - INFO - Info:  [512/1080 (47%)]\t    adv_RMSE: 0.7297 adv_Recall: 29.2035 adv_MAP: 0.1567 adv_RCR: 0.7176 time:4.756\n",
      "2023-05-08 18:03:04,646 - INFO - Info:  [576/1080 (53%)]\t    adv_RMSE: 0.8300 adv_Recall: 24.3243 adv_MAP: 0.0943 adv_RCR: 0.7643 time:4.811\n",
      "2023-05-08 18:03:14,383 - INFO - Info:  [640/1080 (59%)]\t    adv_RMSE: 0.8608 adv_Recall: 31.1037 adv_MAP: 0.1517 adv_RCR: 0.6667 time:4.791\n",
      "2023-05-08 18:03:24,148 - INFO - Info:  [704/1080 (65%)]\t    adv_RMSE: 0.7048 adv_Recall: 22.0238 adv_MAP: 0.1121 adv_RCR: 0.7991 time:4.812\n",
      "2023-05-08 18:03:33,874 - INFO - Info:  [768/1080 (71%)]\t    adv_RMSE: 0.8656 adv_Recall: 31.0458 adv_MAP: 0.1584 adv_RCR: 0.6924 time:4.760\n",
      "2023-05-08 18:03:43,585 - INFO - Info:  [832/1080 (76%)]\t    adv_RMSE: 0.8223 adv_Recall: 30.9278 adv_MAP: 0.1780 adv_RCR: 0.6908 time:4.762\n",
      "2023-05-08 18:03:53,308 - INFO - Info:  [896/1080 (82%)]\t    adv_RMSE: 0.7535 adv_Recall: 30.7359 adv_MAP: 0.1307 adv_RCR: 0.6800 time:4.776\n",
      "2023-05-08 18:04:03,055 - INFO - Info:  [960/1080 (88%)]\t    adv_RMSE: 0.7809 adv_Recall: 23.2558 adv_MAP: 0.1214 adv_RCR: 0.7850 time:4.797\n",
      "2023-05-08 18:04:12,790 - INFO - Info:  [1024/1080 (94%)]\t    adv_RMSE: 0.7184 adv_Recall: 27.1357 adv_MAP: 0.1515 adv_RCR: 0.7266 time:4.784\n",
      "2023-05-08 18:04:21,290 - INFO - Info:  [1080/1080 (100%)]\t    adv_RMSE: 0.8068 adv_Recall: 25.6410 adv_MAP: 0.1220 adv_RCR: 0.7608 time:3.575\n",
      "2023-05-08 18:04:25,447 - INFO - Info:  不可感知性质：1.4867390394210815\n",
      "2023-05-08 18:04:25,448 - INFO - 攻击时间：Info:time:7.732 \t  clean_RMSE: 0.6847 clean_Recall: 32.4305 clean_MAP: 0.1856 clean_RCR: 0.6796   adv_RMSE: 0.8000 adv_Recall: 28.0869 adv_MAP: 0.1352 adv_RCR: 0.7259\n",
      "2023-05-08 18:04:29,122 - INFO - ten_ZINBSC_20_38\n"
     ]
    },
    {
     "name": "stdout",
     "output_type": "stream",
     "text": [
      "2023-05-08 18:04:25,0,NYC,Gsnet,ten,ZINBSC,20,32,0.6847454450474136,32.43045387994143,0.18557500325210685,0.6796269542597637,0.8000287644091701,28.086871644704736,0.13521962446205288,0.7259432375245477,0.4287434987056987,99.67821137606488,0.9939059804671352,0.0012855350985699094\n"
     ]
    },
    {
     "name": "stderr",
     "output_type": "stream",
     "text": [
      "2023-05-08 18:05:07,832 - INFO - Info:  [64/1080 (6%)]\t    adv_RMSE: 0.8589 adv_Recall: 28.5223 adv_MAP: 0.1332 adv_RCR: 0.7537 time:4.799\n",
      "2023-05-08 18:05:17,548 - INFO - Info:  [128/1080 (12%)]\t    adv_RMSE: 0.7852 adv_Recall: 29.8165 adv_MAP: 0.1617 adv_RCR: 0.7273 time:4.788\n",
      "2023-05-08 18:05:27,215 - INFO - Info:  [192/1080 (18%)]\t    adv_RMSE: 0.8028 adv_Recall: 25.0000 adv_MAP: 0.1329 adv_RCR: 0.7273 time:4.750\n",
      "2023-05-08 18:05:36,908 - INFO - Info:  [256/1080 (24%)]\t    adv_RMSE: 0.8910 adv_Recall: 32.6087 adv_MAP: 0.1422 adv_RCR: 0.7068 time:4.751\n",
      "2023-05-08 18:05:46,596 - INFO - Info:  [320/1080 (29%)]\t    adv_RMSE: 0.7724 adv_Recall: 21.6931 adv_MAP: 0.1389 adv_RCR: 0.7808 time:4.801\n",
      "2023-05-08 18:05:56,262 - INFO - Info:  [384/1080 (35%)]\t    adv_RMSE: 0.7882 adv_Recall: 30.3571 adv_MAP: 0.1425 adv_RCR: 0.7148 time:4.762\n",
      "2023-05-08 18:06:05,920 - INFO - Info:  [448/1080 (41%)]\t    adv_RMSE: 0.8394 adv_Recall: 25.1908 adv_MAP: 0.1309 adv_RCR: 0.7208 time:4.757\n",
      "2023-05-08 18:06:15,616 - INFO - Info:  [512/1080 (47%)]\t    adv_RMSE: 0.7418 adv_Recall: 26.1062 adv_MAP: 0.1596 adv_RCR: 0.7191 time:4.748\n",
      "2023-05-08 18:06:25,299 - INFO - Info:  [576/1080 (53%)]\t    adv_RMSE: 0.8273 adv_Recall: 24.7748 adv_MAP: 0.1048 adv_RCR: 0.7493 time:4.786\n",
      "2023-05-08 18:06:34,982 - INFO - Info:  [640/1080 (59%)]\t    adv_RMSE: 0.8556 adv_Recall: 31.7726 adv_MAP: 0.1658 adv_RCR: 0.6759 time:4.734\n",
      "2023-05-08 18:06:44,675 - INFO - Info:  [704/1080 (65%)]\t    adv_RMSE: 0.7014 adv_Recall: 23.8095 adv_MAP: 0.1286 adv_RCR: 0.7939 time:4.761\n",
      "2023-05-08 18:06:54,363 - INFO - Info:  [768/1080 (71%)]\t    adv_RMSE: 0.8666 adv_Recall: 30.3922 adv_MAP: 0.1439 adv_RCR: 0.6882 time:4.756\n",
      "2023-05-08 18:07:04,031 - INFO - Info:  [832/1080 (76%)]\t    adv_RMSE: 0.8241 adv_Recall: 31.2715 adv_MAP: 0.1832 adv_RCR: 0.7122 time:4.728\n",
      "2023-05-08 18:07:13,697 - INFO - Info:  [896/1080 (82%)]\t    adv_RMSE: 0.7601 adv_Recall: 30.7359 adv_MAP: 0.1343 adv_RCR: 0.6991 time:4.752\n",
      "2023-05-08 18:07:23,416 - INFO - Info:  [960/1080 (88%)]\t    adv_RMSE: 0.7803 adv_Recall: 21.5116 adv_MAP: 0.1292 adv_RCR: 0.8181 time:4.769\n",
      "2023-05-08 18:07:33,100 - INFO - Info:  [1024/1080 (94%)]\t    adv_RMSE: 0.7290 adv_Recall: 26.1307 adv_MAP: 0.1536 adv_RCR: 0.7274 time:4.765\n",
      "2023-05-08 18:07:41,596 - INFO - Info:  [1080/1080 (100%)]\t    adv_RMSE: 0.8103 adv_Recall: 28.2051 adv_MAP: 0.1342 adv_RCR: 0.7198 time:3.579\n",
      "2023-05-08 18:07:45,809 - INFO - Info:  不可感知性质：1.4551568031311035\n",
      "2023-05-08 18:07:45,810 - INFO - 攻击时间：Info:time:7.794 \t  clean_RMSE: 0.6847 clean_Recall: 32.4305 clean_MAP: 0.1856 clean_RCR: 0.6796   adv_RMSE: 0.8018 adv_Recall: 28.2455 adv_MAP: 0.1404 adv_RCR: 0.7236\n",
      "2023-05-08 18:07:49,479 - INFO - ten_ZINBSC_20_39\n"
     ]
    },
    {
     "name": "stdout",
     "output_type": "stream",
     "text": [
      "2023-05-08 18:07:45,0,NYC,Gsnet,ten,ZINBSC,20,32,0.6847454450474136,32.43045387994143,0.18557500325210685,0.6796269542597637,0.8017508392545744,28.24548560273304,0.14036171544165776,0.7235777163515699,0.4235828605055352,99.69123172501023,0.9939195967454364,0.0012653506346829908\n"
     ]
    },
    {
     "name": "stderr",
     "output_type": "stream",
     "text": [
      "2023-05-08 18:08:27,920 - INFO - Info:  [64/1080 (6%)]\t    adv_RMSE: 0.8700 adv_Recall: 28.1787 adv_MAP: 0.1327 adv_RCR: 0.7442 time:4.766\n",
      "2023-05-08 18:08:37,633 - INFO - Info:  [128/1080 (12%)]\t    adv_RMSE: 0.8073 adv_Recall: 29.8165 adv_MAP: 0.1531 adv_RCR: 0.7310 time:4.781\n",
      "2023-05-08 18:08:47,322 - INFO - Info:  [192/1080 (18%)]\t    adv_RMSE: 0.8147 adv_Recall: 25.0000 adv_MAP: 0.1361 adv_RCR: 0.7475 time:4.769\n",
      "2023-05-08 18:08:56,997 - INFO - Info:  [256/1080 (24%)]\t    adv_RMSE: 0.8998 adv_Recall: 34.7826 adv_MAP: 0.1503 adv_RCR: 0.6790 time:4.764\n",
      "2023-05-08 18:09:06,653 - INFO - Info:  [320/1080 (29%)]\t    adv_RMSE: 0.7966 adv_Recall: 20.6349 adv_MAP: 0.1093 adv_RCR: 0.8126 time:4.762\n",
      "2023-05-08 18:09:16,358 - INFO - Info:  [384/1080 (35%)]\t    adv_RMSE: 0.7950 adv_Recall: 28.5714 adv_MAP: 0.1326 adv_RCR: 0.7221 time:4.784\n",
      "2023-05-08 18:09:26,096 - INFO - Info:  [448/1080 (41%)]\t    adv_RMSE: 0.8624 adv_Recall: 26.3359 adv_MAP: 0.1372 adv_RCR: 0.7080 time:4.780\n",
      "2023-05-08 18:09:35,732 - INFO - Info:  [512/1080 (47%)]\t    adv_RMSE: 0.7507 adv_Recall: 26.5487 adv_MAP: 0.1530 adv_RCR: 0.6993 time:4.716\n",
      "2023-05-08 18:09:45,461 - INFO - Info:  [576/1080 (53%)]\t    adv_RMSE: 0.8488 adv_Recall: 25.2252 adv_MAP: 0.1072 adv_RCR: 0.7752 time:4.807\n",
      "2023-05-08 18:09:55,125 - INFO - Info:  [640/1080 (59%)]\t    adv_RMSE: 0.8756 adv_Recall: 29.4314 adv_MAP: 0.1432 adv_RCR: 0.7096 time:4.722\n",
      "2023-05-08 18:10:04,799 - INFO - Info:  [704/1080 (65%)]\t    adv_RMSE: 0.7171 adv_Recall: 23.2143 adv_MAP: 0.1183 adv_RCR: 0.7663 time:4.753\n",
      "2023-05-08 18:10:14,487 - INFO - Info:  [768/1080 (71%)]\t    adv_RMSE: 0.8848 adv_Recall: 29.4118 adv_MAP: 0.1421 adv_RCR: 0.7360 time:4.776\n",
      "2023-05-08 18:10:24,163 - INFO - Info:  [832/1080 (76%)]\t    adv_RMSE: 0.8303 adv_Recall: 27.8351 adv_MAP: 0.1715 adv_RCR: 0.7403 time:4.728\n",
      "2023-05-08 18:10:33,830 - INFO - Info:  [896/1080 (82%)]\t    adv_RMSE: 0.7548 adv_Recall: 28.5714 adv_MAP: 0.1320 adv_RCR: 0.7136 time:4.745\n",
      "2023-05-08 18:10:43,574 - INFO - Info:  [960/1080 (88%)]\t    adv_RMSE: 0.8026 adv_Recall: 26.7442 adv_MAP: 0.1393 adv_RCR: 0.7991 time:4.782\n",
      "2023-05-08 18:10:53,253 - INFO - Info:  [1024/1080 (94%)]\t    adv_RMSE: 0.7383 adv_Recall: 22.1106 adv_MAP: 0.1189 adv_RCR: 0.7886 time:4.802\n",
      "2023-05-08 18:11:01,713 - INFO - Info:  [1080/1080 (100%)]\t    adv_RMSE: 0.8129 adv_Recall: 25.0000 adv_MAP: 0.1191 adv_RCR: 0.7232 time:3.541\n",
      "2023-05-08 18:11:05,834 - INFO - Info:  不可感知性质：1.4392801523208618\n",
      "2023-05-08 18:11:05,835 - INFO - 攻击时间：Info:time:7.663 \t  clean_RMSE: 0.6847 clean_Recall: 32.4305 clean_MAP: 0.1856 clean_RCR: 0.6796   adv_RMSE: 0.8142 adv_Recall: 27.6476 adv_MAP: 0.1313 adv_RCR: 0.7301\n",
      "2023-05-08 18:11:09,515 - INFO - ten_ZINBSC_20_40\n"
     ]
    },
    {
     "name": "stdout",
     "output_type": "stream",
     "text": [
      "2023-05-08 18:11:05,0,NYC,Gsnet,ten,ZINBSC,20,32,0.6847454450474136,32.43045387994143,0.18557500325210685,0.6796269542597637,0.8142492139237766,27.64763299170327,0.13131829046676682,0.7301455035016373,0.4420338942495491,99.69309177485957,0.9937721458068894,0.001330691746806823\n"
     ]
    },
    {
     "name": "stderr",
     "output_type": "stream",
     "text": [
      "2023-05-08 18:11:48,435 - INFO - Info:  [64/1080 (6%)]\t    adv_RMSE: 0.8626 adv_Recall: 28.8660 adv_MAP: 0.1365 adv_RCR: 0.7667 time:4.774\n",
      "2023-05-08 18:11:58,236 - INFO - Info:  [128/1080 (12%)]\t    adv_RMSE: 0.7934 adv_Recall: 30.7339 adv_MAP: 0.1548 adv_RCR: 0.7101 time:4.749\n",
      "2023-05-08 18:12:08,007 - INFO - Info:  [192/1080 (18%)]\t    adv_RMSE: 0.7999 adv_Recall: 27.3438 adv_MAP: 0.1459 adv_RCR: 0.7251 time:4.764\n",
      "2023-05-08 18:12:17,766 - INFO - Info:  [256/1080 (24%)]\t    adv_RMSE: 0.8892 adv_Recall: 34.7826 adv_MAP: 0.1767 adv_RCR: 0.6491 time:4.740\n",
      "2023-05-08 18:12:27,531 - INFO - Info:  [320/1080 (29%)]\t    adv_RMSE: 0.7904 adv_Recall: 21.6931 adv_MAP: 0.1040 adv_RCR: 0.8036 time:4.779\n",
      "2023-05-08 18:12:37,320 - INFO - Info:  [384/1080 (35%)]\t    adv_RMSE: 0.7987 adv_Recall: 29.4643 adv_MAP: 0.1315 adv_RCR: 0.7222 time:4.763\n",
      "2023-05-08 18:12:47,077 - INFO - Info:  [448/1080 (41%)]\t    adv_RMSE: 0.8482 adv_Recall: 25.9542 adv_MAP: 0.1225 adv_RCR: 0.7349 time:4.766\n",
      "2023-05-08 18:12:56,786 - INFO - Info:  [512/1080 (47%)]\t    adv_RMSE: 0.7493 adv_Recall: 25.2212 adv_MAP: 0.1350 adv_RCR: 0.7032 time:4.707\n",
      "2023-05-08 18:13:06,543 - INFO - Info:  [576/1080 (53%)]\t    adv_RMSE: 0.8327 adv_Recall: 27.4775 adv_MAP: 0.1327 adv_RCR: 0.7119 time:4.785\n",
      "2023-05-08 18:13:16,276 - INFO - Info:  [640/1080 (59%)]\t    adv_RMSE: 0.8632 adv_Recall: 30.1003 adv_MAP: 0.1454 adv_RCR: 0.6793 time:4.746\n",
      "2023-05-08 18:13:25,994 - INFO - Info:  [704/1080 (65%)]\t    adv_RMSE: 0.7121 adv_Recall: 22.6190 adv_MAP: 0.1594 adv_RCR: 0.7631 time:4.735\n",
      "2023-05-08 18:13:35,759 - INFO - Info:  [768/1080 (71%)]\t    adv_RMSE: 0.8688 adv_Recall: 30.7190 adv_MAP: 0.1478 adv_RCR: 0.6968 time:4.738\n",
      "2023-05-08 18:13:45,584 - INFO - Info:  [832/1080 (76%)]\t    adv_RMSE: 0.8251 adv_Recall: 28.1787 adv_MAP: 0.1682 adv_RCR: 0.7539 time:4.703\n",
      "2023-05-08 18:13:55,312 - INFO - Info:  [896/1080 (82%)]\t    adv_RMSE: 0.7624 adv_Recall: 31.1688 adv_MAP: 0.1297 adv_RCR: 0.6968 time:4.720\n",
      "2023-05-08 18:14:05,136 - INFO - Info:  [960/1080 (88%)]\t    adv_RMSE: 0.7930 adv_Recall: 25.5814 adv_MAP: 0.1070 adv_RCR: 0.7832 time:4.776\n",
      "2023-05-08 18:14:14,907 - INFO - Info:  [1024/1080 (94%)]\t    adv_RMSE: 0.7412 adv_Recall: 24.1206 adv_MAP: 0.1128 adv_RCR: 0.7683 time:4.781\n",
      "2023-05-08 18:14:23,439 - INFO - Info:  [1080/1080 (100%)]\t    adv_RMSE: 0.8027 adv_Recall: 24.3590 adv_MAP: 0.0875 adv_RCR: 0.7559 time:3.542\n",
      "2023-05-08 18:14:26,135 - INFO - Info:  不可感知性质：1.4288482666015625\n",
      "2023-05-08 18:14:26,136 - INFO - 攻击时间：Info:time:6.239 \t  clean_RMSE: 0.6847 clean_Recall: 32.4305 clean_MAP: 0.1856 clean_RCR: 0.6796   adv_RMSE: 0.8063 adv_Recall: 28.1113 adv_MAP: 0.1322 adv_RCR: 0.7232\n",
      "2023-05-08 18:14:29,828 - INFO - ten_ZINBSC_20_41\n"
     ]
    },
    {
     "name": "stdout",
     "output_type": "stream",
     "text": [
      "2023-05-08 18:14:26,0,NYC,Gsnet,ten,ZINBSC,20,32,0.6847454450474136,32.43045387994143,0.18557500325210685,0.6796269542597637,0.8063108430951009,28.111273792093705,0.13218741490446118,0.7231656572710569,0.42669277388122434,99.68565157546222,0.993701739362624,0.0014644530278965122\n"
     ]
    },
    {
     "name": "stderr",
     "output_type": "stream",
     "text": [
      "2023-05-08 18:15:08,748 - INFO - Info:  [64/1080 (6%)]\t    adv_RMSE: 0.8471 adv_Recall: 29.5533 adv_MAP: 0.1672 adv_RCR: 0.7211 time:4.847\n",
      "2023-05-08 18:15:18,708 - INFO - Info:  [128/1080 (12%)]\t    adv_RMSE: 0.7902 adv_Recall: 31.1927 adv_MAP: 0.1816 adv_RCR: 0.7081 time:4.847\n",
      "2023-05-08 18:15:28,699 - INFO - Info:  [192/1080 (18%)]\t    adv_RMSE: 0.8094 adv_Recall: 27.7344 adv_MAP: 0.1595 adv_RCR: 0.7005 time:4.826\n",
      "2023-05-08 18:15:38,640 - INFO - Info:  [256/1080 (24%)]\t    adv_RMSE: 0.8780 adv_Recall: 35.8696 adv_MAP: 0.1913 adv_RCR: 0.6216 time:4.814\n",
      "2023-05-08 18:15:48,581 - INFO - Info:  [320/1080 (29%)]\t    adv_RMSE: 0.7873 adv_Recall: 20.6349 adv_MAP: 0.0949 adv_RCR: 0.7883 time:4.861\n",
      "2023-05-08 18:15:58,481 - INFO - Info:  [384/1080 (35%)]\t    adv_RMSE: 0.7859 adv_Recall: 28.1250 adv_MAP: 0.1274 adv_RCR: 0.7438 time:4.835\n",
      "2023-05-08 18:16:08,439 - INFO - Info:  [448/1080 (41%)]\t    adv_RMSE: 0.8431 adv_Recall: 25.1908 adv_MAP: 0.1405 adv_RCR: 0.7271 time:4.855\n",
      "2023-05-08 18:16:18,381 - INFO - Info:  [512/1080 (47%)]\t    adv_RMSE: 0.7431 adv_Recall: 27.8761 adv_MAP: 0.1484 adv_RCR: 0.6955 time:4.824\n",
      "2023-05-08 18:16:28,347 - INFO - Info:  [576/1080 (53%)]\t    adv_RMSE: 0.8258 adv_Recall: 27.0270 adv_MAP: 0.1299 adv_RCR: 0.7221 time:4.860\n",
      "2023-05-08 18:16:38,277 - INFO - Info:  [640/1080 (59%)]\t    adv_RMSE: 0.8647 adv_Recall: 30.4348 adv_MAP: 0.1494 adv_RCR: 0.6796 time:4.819\n",
      "2023-05-08 18:16:48,220 - INFO - Info:  [704/1080 (65%)]\t    adv_RMSE: 0.7062 adv_Recall: 21.4286 adv_MAP: 0.1377 adv_RCR: 0.7625 time:4.859\n",
      "2023-05-08 18:16:58,157 - INFO - Info:  [768/1080 (71%)]\t    adv_RMSE: 0.8589 adv_Recall: 30.3922 adv_MAP: 0.1786 adv_RCR: 0.6866 time:4.836\n",
      "2023-05-08 18:17:08,162 - INFO - Info:  [832/1080 (76%)]\t    adv_RMSE: 0.8245 adv_Recall: 27.8351 adv_MAP: 0.1673 adv_RCR: 0.7277 time:4.871\n",
      "2023-05-08 18:17:18,139 - INFO - Info:  [896/1080 (82%)]\t    adv_RMSE: 0.7513 adv_Recall: 31.1688 adv_MAP: 0.1322 adv_RCR: 0.7289 time:4.828\n",
      "2023-05-08 18:17:28,109 - INFO - Info:  [960/1080 (88%)]\t    adv_RMSE: 0.7876 adv_Recall: 26.1628 adv_MAP: 0.1318 adv_RCR: 0.7710 time:4.844\n",
      "2023-05-08 18:17:38,081 - INFO - Info:  [1024/1080 (94%)]\t    adv_RMSE: 0.7295 adv_Recall: 25.1256 adv_MAP: 0.1453 adv_RCR: 0.7442 time:4.845\n",
      "2023-05-08 18:17:46,783 - INFO - Info:  [1080/1080 (100%)]\t    adv_RMSE: 0.7919 adv_Recall: 26.2821 adv_MAP: 0.0917 adv_RCR: 0.7588 time:3.620\n",
      "2023-05-08 18:17:49,508 - INFO - Info:  不可感知性质：1.406994342803955\n",
      "2023-05-08 18:17:49,509 - INFO - 攻击时间：Info:time:6.346 \t  clean_RMSE: 0.6847 clean_Recall: 32.4305 clean_MAP: 0.1856 clean_RCR: 0.6796   adv_RMSE: 0.8022 adv_Recall: 28.4895 adv_MAP: 0.1411 adv_RCR: 0.7151\n",
      "2023-05-08 18:17:53,244 - INFO - ten_ZINBSC_20_42\n"
     ]
    },
    {
     "name": "stdout",
     "output_type": "stream",
     "text": [
      "2023-05-08 18:17:49,0,NYC,Gsnet,ten,ZINBSC,20,32,0.6847454450474136,32.43045387994143,0.18557500325210685,0.6796269542597637,0.8021953241303638,28.489507076622743,0.1411444908024487,0.7150942117572151,0.41334102812405255,99.67635132621554,0.9936767505169661,0.0014399217881417873\n"
     ]
    },
    {
     "name": "stderr",
     "output_type": "stream",
     "text": [
      "2023-05-08 18:18:32,074 - INFO - Info:  [64/1080 (6%)]\t    adv_RMSE: 0.8245 adv_Recall: 28.8660 adv_MAP: 0.1384 adv_RCR: 0.7443 time:4.866\n",
      "2023-05-08 18:18:41,977 - INFO - Info:  [128/1080 (12%)]\t    adv_RMSE: 0.7643 adv_Recall: 31.1927 adv_MAP: 0.1789 adv_RCR: 0.6958 time:4.857\n",
      "2023-05-08 18:18:51,795 - INFO - Info:  [192/1080 (18%)]\t    adv_RMSE: 0.7878 adv_Recall: 28.5156 adv_MAP: 0.1773 adv_RCR: 0.6953 time:4.822\n",
      "2023-05-08 18:19:01,596 - INFO - Info:  [256/1080 (24%)]\t    adv_RMSE: 0.8629 adv_Recall: 34.2391 adv_MAP: 0.1702 adv_RCR: 0.6837 time:4.811\n",
      "2023-05-08 18:19:11,425 - INFO - Info:  [320/1080 (29%)]\t    adv_RMSE: 0.7535 adv_Recall: 24.3386 adv_MAP: 0.1466 adv_RCR: 0.7531 time:4.841\n",
      "2023-05-08 18:19:21,321 - INFO - Info:  [384/1080 (35%)]\t    adv_RMSE: 0.7691 adv_Recall: 30.3571 adv_MAP: 0.1749 adv_RCR: 0.6708 time:4.841\n",
      "2023-05-08 18:19:31,130 - INFO - Info:  [448/1080 (41%)]\t    adv_RMSE: 0.8111 adv_Recall: 27.8626 adv_MAP: 0.1556 adv_RCR: 0.6998 time:4.853\n",
      "2023-05-08 18:19:40,947 - INFO - Info:  [512/1080 (47%)]\t    adv_RMSE: 0.7311 adv_Recall: 26.9912 adv_MAP: 0.1523 adv_RCR: 0.7053 time:4.838\n",
      "2023-05-08 18:19:50,814 - INFO - Info:  [576/1080 (53%)]\t    adv_RMSE: 0.8051 adv_Recall: 25.2252 adv_MAP: 0.1293 adv_RCR: 0.7392 time:4.852\n",
      "2023-05-08 18:20:00,652 - INFO - Info:  [640/1080 (59%)]\t    adv_RMSE: 0.8402 adv_Recall: 29.0970 adv_MAP: 0.1366 adv_RCR: 0.7061 time:4.843\n",
      "2023-05-08 18:20:10,478 - INFO - Info:  [704/1080 (65%)]\t    adv_RMSE: 0.6929 adv_Recall: 23.2143 adv_MAP: 0.1557 adv_RCR: 0.7537 time:4.838\n",
      "2023-05-08 18:20:20,274 - INFO - Info:  [768/1080 (71%)]\t    adv_RMSE: 0.8354 adv_Recall: 33.3333 adv_MAP: 0.1739 adv_RCR: 0.6734 time:4.804\n",
      "2023-05-08 18:20:30,099 - INFO - Info:  [832/1080 (76%)]\t    adv_RMSE: 0.8124 adv_Recall: 28.5223 adv_MAP: 0.1757 adv_RCR: 0.7047 time:4.818\n",
      "2023-05-08 18:20:39,904 - INFO - Info:  [896/1080 (82%)]\t    adv_RMSE: 0.7293 adv_Recall: 29.0043 adv_MAP: 0.1393 adv_RCR: 0.7312 time:4.814\n",
      "2023-05-08 18:20:49,791 - INFO - Info:  [960/1080 (88%)]\t    adv_RMSE: 0.7530 adv_Recall: 23.8372 adv_MAP: 0.1044 adv_RCR: 0.8046 time:4.856\n",
      "2023-05-08 18:20:59,631 - INFO - Info:  [1024/1080 (94%)]\t    adv_RMSE: 0.7192 adv_Recall: 24.6231 adv_MAP: 0.1388 adv_RCR: 0.7537 time:4.836\n",
      "2023-05-08 18:21:08,240 - INFO - Info:  [1080/1080 (100%)]\t    adv_RMSE: 0.7726 adv_Recall: 24.3590 adv_MAP: 0.1218 adv_RCR: 0.7649 time:3.610\n",
      "2023-05-08 18:21:11,007 - INFO - Info:  不可感知性质：1.387402057647705\n",
      "2023-05-08 18:21:11,009 - INFO - 攻击时间：Info:time:6.379 \t  clean_RMSE: 0.6847 clean_Recall: 32.4305 clean_MAP: 0.1856 clean_RCR: 0.6796   adv_RMSE: 0.7796 adv_Recall: 28.5017 adv_MAP: 0.1455 adv_RCR: 0.7213\n",
      "2023-05-08 18:21:14,760 - INFO - ten_ZINBSC_20_43\n"
     ]
    },
    {
     "name": "stdout",
     "output_type": "stream",
     "text": [
      "2023-05-08 18:21:11,0,NYC,Gsnet,ten,ZINBSC,20,32,0.6847454450474136,32.43045387994143,0.18557500325210685,0.6796269542597637,0.7796448904974214,28.501708150317228,0.1454817475679224,0.7213051708386732,0.3909812233957058,99.68565157546222,0.9940797252963307,0.0013297778134824826\n"
     ]
    },
    {
     "name": "stderr",
     "output_type": "stream",
     "text": [
      "2023-05-08 18:21:53,687 - INFO - Info:  [64/1080 (6%)]\t    adv_RMSE: 0.8418 adv_Recall: 29.5533 adv_MAP: 0.1725 adv_RCR: 0.7298 time:4.844\n",
      "2023-05-08 18:22:03,638 - INFO - Info:  [128/1080 (12%)]\t    adv_RMSE: 0.7743 adv_Recall: 30.7339 adv_MAP: 0.1874 adv_RCR: 0.6930 time:4.866\n",
      "2023-05-08 18:22:13,556 - INFO - Info:  [192/1080 (18%)]\t    adv_RMSE: 0.8092 adv_Recall: 26.9531 adv_MAP: 0.1523 adv_RCR: 0.7306 time:4.825\n",
      "2023-05-08 18:22:23,500 - INFO - Info:  [256/1080 (24%)]\t    adv_RMSE: 0.8801 adv_Recall: 35.0543 adv_MAP: 0.1790 adv_RCR: 0.6525 time:4.829\n",
      "2023-05-08 18:22:33,409 - INFO - Info:  [320/1080 (29%)]\t    adv_RMSE: 0.7705 adv_Recall: 22.2222 adv_MAP: 0.1416 adv_RCR: 0.7691 time:4.864\n",
      "2023-05-08 18:22:43,332 - INFO - Info:  [384/1080 (35%)]\t    adv_RMSE: 0.7779 adv_Recall: 28.5714 adv_MAP: 0.1717 adv_RCR: 0.7165 time:4.840\n",
      "2023-05-08 18:22:53,253 - INFO - Info:  [448/1080 (41%)]\t    adv_RMSE: 0.8360 adv_Recall: 24.0458 adv_MAP: 0.1409 adv_RCR: 0.7417 time:4.857\n",
      "2023-05-08 18:23:03,154 - INFO - Info:  [512/1080 (47%)]\t    adv_RMSE: 0.7442 adv_Recall: 27.8761 adv_MAP: 0.1495 adv_RCR: 0.7085 time:4.808\n",
      "2023-05-08 18:23:13,101 - INFO - Info:  [576/1080 (53%)]\t    adv_RMSE: 0.8144 adv_Recall: 26.5766 adv_MAP: 0.1398 adv_RCR: 0.7132 time:4.856\n",
      "2023-05-08 18:23:23,005 - INFO - Info:  [640/1080 (59%)]\t    adv_RMSE: 0.8564 adv_Recall: 30.7692 adv_MAP: 0.1526 adv_RCR: 0.7253 time:4.805\n",
      "2023-05-08 18:23:32,966 - INFO - Info:  [704/1080 (65%)]\t    adv_RMSE: 0.7043 adv_Recall: 20.8333 adv_MAP: 0.1174 adv_RCR: 0.8127 time:4.831\n",
      "2023-05-08 18:23:42,876 - INFO - Info:  [768/1080 (71%)]\t    adv_RMSE: 0.8459 adv_Recall: 32.0261 adv_MAP: 0.1964 adv_RCR: 0.6791 time:4.819\n",
      "2023-05-08 18:23:52,826 - INFO - Info:  [832/1080 (76%)]\t    adv_RMSE: 0.8185 adv_Recall: 28.1787 adv_MAP: 0.1816 adv_RCR: 0.7224 time:4.837\n",
      "2023-05-08 18:24:02,705 - INFO - Info:  [896/1080 (82%)]\t    adv_RMSE: 0.7378 adv_Recall: 31.1688 adv_MAP: 0.1374 adv_RCR: 0.7044 time:4.798\n",
      "2023-05-08 18:24:12,664 - INFO - Info:  [960/1080 (88%)]\t    adv_RMSE: 0.7760 adv_Recall: 27.3256 adv_MAP: 0.1407 adv_RCR: 0.7532 time:4.857\n",
      "2023-05-08 18:24:22,598 - INFO - Info:  [1024/1080 (94%)]\t    adv_RMSE: 0.7280 adv_Recall: 26.1307 adv_MAP: 0.1498 adv_RCR: 0.7235 time:4.836\n",
      "2023-05-08 18:24:31,313 - INFO - Info:  [1080/1080 (100%)]\t    adv_RMSE: 0.7862 adv_Recall: 24.3590 adv_MAP: 0.1199 adv_RCR: 0.7547 time:3.621\n",
      "2023-05-08 18:24:34,132 - INFO - Info:  不可感知性质：1.4244256019592285\n",
      "2023-05-08 18:24:34,135 - INFO - 攻击时间：Info:time:6.443 \t  clean_RMSE: 0.6847 clean_Recall: 32.4305 clean_MAP: 0.1856 clean_RCR: 0.6796   adv_RMSE: 0.7948 adv_Recall: 28.3919 adv_MAP: 0.1453 adv_RCR: 0.7225\n",
      "2023-05-08 18:24:37,880 - INFO - ten_ZINBSC_20_44\n"
     ]
    },
    {
     "name": "stdout",
     "output_type": "stream",
     "text": [
      "2023-05-08 18:24:34,0,NYC,Gsnet,ten,ZINBSC,20,32,0.6847454450474136,32.43045387994143,0.18557500325210685,0.6796269542597637,0.7948077302497818,28.391898487066864,0.14530339339624707,0.7225455610224947,0.42621879087419867,99.67635132621554,0.9939396867217405,0.0014156110054447419\n"
     ]
    },
    {
     "name": "stderr",
     "output_type": "stream",
     "text": [
      "2023-05-08 18:25:17,219 - INFO - Info:  [64/1080 (6%)]\t    adv_RMSE: 0.8302 adv_Recall: 29.5533 adv_MAP: 0.1324 adv_RCR: 0.7418 time:4.865\n",
      "2023-05-08 18:25:27,176 - INFO - Info:  [128/1080 (12%)]\t    adv_RMSE: 0.7637 adv_Recall: 32.5688 adv_MAP: 0.1706 adv_RCR: 0.7090 time:4.852\n",
      "2023-05-08 18:25:37,122 - INFO - Info:  [192/1080 (18%)]\t    adv_RMSE: 0.7951 adv_Recall: 26.9531 adv_MAP: 0.1582 adv_RCR: 0.7264 time:4.818\n",
      "2023-05-08 18:25:47,077 - INFO - Info:  [256/1080 (24%)]\t    adv_RMSE: 0.8590 adv_Recall: 35.0543 adv_MAP: 0.1841 adv_RCR: 0.6591 time:4.847\n",
      "2023-05-08 18:25:56,985 - INFO - Info:  [320/1080 (29%)]\t    adv_RMSE: 0.7489 adv_Recall: 21.6931 adv_MAP: 0.1314 adv_RCR: 0.7780 time:4.844\n",
      "2023-05-08 18:26:06,947 - INFO - Info:  [384/1080 (35%)]\t    adv_RMSE: 0.7617 adv_Recall: 29.9107 adv_MAP: 0.1371 adv_RCR: 0.7050 time:4.842\n",
      "2023-05-08 18:26:16,888 - INFO - Info:  [448/1080 (41%)]\t    adv_RMSE: 0.8146 adv_Recall: 27.0992 adv_MAP: 0.1564 adv_RCR: 0.7044 time:4.857\n",
      "2023-05-08 18:26:26,851 - INFO - Info:  [512/1080 (47%)]\t    adv_RMSE: 0.7323 adv_Recall: 29.2035 adv_MAP: 0.1677 adv_RCR: 0.6880 time:4.833\n",
      "2023-05-08 18:26:36,779 - INFO - Info:  [576/1080 (53%)]\t    adv_RMSE: 0.7951 adv_Recall: 25.2252 adv_MAP: 0.1440 adv_RCR: 0.7255 time:4.841\n",
      "2023-05-08 18:26:46,685 - INFO - Info:  [640/1080 (59%)]\t    adv_RMSE: 0.8398 adv_Recall: 31.7726 adv_MAP: 0.1566 adv_RCR: 0.6738 time:4.857\n",
      "2023-05-08 18:26:56,611 - INFO - Info:  [704/1080 (65%)]\t    adv_RMSE: 0.6942 adv_Recall: 21.4286 adv_MAP: 0.1417 adv_RCR: 0.7713 time:4.836\n",
      "2023-05-08 18:27:06,527 - INFO - Info:  [768/1080 (71%)]\t    adv_RMSE: 0.8309 adv_Recall: 31.3725 adv_MAP: 0.1838 adv_RCR: 0.6909 time:4.822\n",
      "2023-05-08 18:27:16,487 - INFO - Info:  [832/1080 (76%)]\t    adv_RMSE: 0.8077 adv_Recall: 27.8351 adv_MAP: 0.1797 adv_RCR: 0.7152 time:4.819\n",
      "2023-05-08 18:27:26,432 - INFO - Info:  [896/1080 (82%)]\t    adv_RMSE: 0.7169 adv_Recall: 30.7359 adv_MAP: 0.1450 adv_RCR: 0.6931 time:4.835\n",
      "2023-05-08 18:27:36,390 - INFO - Info:  [960/1080 (88%)]\t    adv_RMSE: 0.7513 adv_Recall: 26.7442 adv_MAP: 0.1421 adv_RCR: 0.7671 time:4.860\n",
      "2023-05-08 18:27:46,273 - INFO - Info:  [1024/1080 (94%)]\t    adv_RMSE: 0.7231 adv_Recall: 26.6332 adv_MAP: 0.1539 adv_RCR: 0.7074 time:4.816\n",
      "2023-05-08 18:27:54,916 - INFO - Info:  [1080/1080 (100%)]\t    adv_RMSE: 0.7759 adv_Recall: 23.0769 adv_MAP: 0.1229 adv_RCR: 0.7699 time:3.588\n",
      "2023-05-08 18:27:57,684 - INFO - Info:  不可感知性质：1.3940945863723755\n",
      "2023-05-08 18:27:57,685 - INFO - 攻击时间：Info:time:6.357 \t  clean_RMSE: 0.6847 clean_Recall: 32.4305 clean_MAP: 0.1856 clean_RCR: 0.6796   adv_RMSE: 0.7772 adv_Recall: 29.0386 adv_MAP: 0.1492 adv_RCR: 0.7155\n",
      "2023-05-08 18:28:01,414 - INFO - ten_ZINBSC_30_26\n"
     ]
    },
    {
     "name": "stdout",
     "output_type": "stream",
     "text": [
      "2023-05-08 18:27:57,0,NYC,Gsnet,ten,ZINBSC,20,32,0.6847454450474136,32.43045387994143,0.18557500325210685,0.6796269542597637,0.7772216107880029,29.03855539287457,0.14922076442378593,0.7154857099748116,0.39364569521179804,99.6893716751609,0.99438736275137,0.0012901285774656586\n"
     ]
    },
    {
     "name": "stderr",
     "output_type": "stream",
     "text": [
      "2023-05-08 18:28:40,101 - INFO - Info:  [64/1080 (6%)]\t    adv_RMSE: 0.8972 adv_Recall: 31.2715 adv_MAP: 0.1566 adv_RCR: 0.7386 time:4.903\n",
      "2023-05-08 18:28:50,039 - INFO - Info:  [128/1080 (12%)]\t    adv_RMSE: 0.8203 adv_Recall: 29.3578 adv_MAP: 0.1320 adv_RCR: 0.7305 time:4.874\n",
      "2023-05-08 18:28:59,951 - INFO - Info:  [192/1080 (18%)]\t    adv_RMSE: 0.8489 adv_Recall: 23.4375 adv_MAP: 0.1422 adv_RCR: 0.7779 time:4.849\n",
      "2023-05-08 18:29:09,842 - INFO - Info:  [256/1080 (24%)]\t    adv_RMSE: 0.9090 adv_Recall: 35.0543 adv_MAP: 0.1606 adv_RCR: 0.6563 time:4.864\n",
      "2023-05-08 18:29:19,729 - INFO - Info:  [320/1080 (29%)]\t    adv_RMSE: 0.8184 adv_Recall: 19.0476 adv_MAP: 0.0920 adv_RCR: 0.8199 time:4.878\n",
      "2023-05-08 18:29:29,701 - INFO - Info:  [384/1080 (35%)]\t    adv_RMSE: 0.8563 adv_Recall: 28.5714 adv_MAP: 0.1525 adv_RCR: 0.7056 time:4.906\n",
      "2023-05-08 18:29:39,628 - INFO - Info:  [448/1080 (41%)]\t    adv_RMSE: 0.8741 adv_Recall: 25.9542 adv_MAP: 0.1256 adv_RCR: 0.7158 time:4.887\n",
      "2023-05-08 18:29:49,554 - INFO - Info:  [512/1080 (47%)]\t    adv_RMSE: 0.7643 adv_Recall: 24.7788 adv_MAP: 0.1399 adv_RCR: 0.7182 time:4.882\n",
      "2023-05-08 18:29:59,437 - INFO - Info:  [576/1080 (53%)]\t    adv_RMSE: 0.8573 adv_Recall: 25.2252 adv_MAP: 0.1155 adv_RCR: 0.7487 time:4.892\n",
      "2023-05-08 18:30:09,286 - INFO - Info:  [640/1080 (59%)]\t    adv_RMSE: 0.9137 adv_Recall: 26.0870 adv_MAP: 0.1071 adv_RCR: 0.7558 time:4.852\n",
      "2023-05-08 18:30:19,173 - INFO - Info:  [704/1080 (65%)]\t    adv_RMSE: 0.7530 adv_Recall: 23.8095 adv_MAP: 0.1411 adv_RCR: 0.7760 time:4.878\n",
      "2023-05-08 18:30:29,055 - INFO - Info:  [768/1080 (71%)]\t    adv_RMSE: 0.8880 adv_Recall: 31.3725 adv_MAP: 0.1845 adv_RCR: 0.6872 time:4.867\n",
      "2023-05-08 18:30:38,968 - INFO - Info:  [832/1080 (76%)]\t    adv_RMSE: 0.8532 adv_Recall: 29.5533 adv_MAP: 0.1841 adv_RCR: 0.6872 time:4.863\n",
      "2023-05-08 18:30:48,878 - INFO - Info:  [896/1080 (82%)]\t    adv_RMSE: 0.7902 adv_Recall: 30.3030 adv_MAP: 0.1275 adv_RCR: 0.6851 time:4.863\n",
      "2023-05-08 18:30:58,840 - INFO - Info:  [960/1080 (88%)]\t    adv_RMSE: 0.8156 adv_Recall: 26.7442 adv_MAP: 0.1182 adv_RCR: 0.7582 time:4.914\n",
      "2023-05-08 18:31:08,706 - INFO - Info:  [1024/1080 (94%)]\t    adv_RMSE: 0.7603 adv_Recall: 26.6332 adv_MAP: 0.1377 adv_RCR: 0.7322 time:4.874\n",
      "2023-05-08 18:31:17,343 - INFO - Info:  [1080/1080 (100%)]\t    adv_RMSE: 0.8441 adv_Recall: 23.7179 adv_MAP: 0.1299 adv_RCR: 0.8112 time:3.620\n",
      "2023-05-08 18:31:19,996 - INFO - Info:  不可感知性质：1.6285300254821777\n",
      "2023-05-08 18:31:19,997 - INFO - 攻击时间：Info:time:6.273 \t  clean_RMSE: 0.6847 clean_Recall: 32.4305 clean_MAP: 0.1856 clean_RCR: 0.6796   adv_RMSE: 0.8376 adv_Recall: 27.9649 adv_MAP: 0.1349 adv_RCR: 0.7291\n",
      "2023-05-08 18:31:23,690 - INFO - ten_ZINBSC_30_27\n"
     ]
    },
    {
     "name": "stdout",
     "output_type": "stream",
     "text": [
      "2023-05-08 18:31:20,0,NYC,Gsnet,ten,ZINBSC,30,32,0.6847454450474136,32.43045387994143,0.18557500325210685,0.6796269542597637,0.8376490205777164,27.96486090775988,0.13490656563018072,0.7291096504464277,0.4343056989926807,99.65961087757151,0.9940348470420982,0.0017853457947505497\n"
     ]
    },
    {
     "name": "stderr",
     "output_type": "stream",
     "text": [
      "2023-05-08 18:32:02,203 - INFO - Info:  [64/1080 (6%)]\t    adv_RMSE: 0.9043 adv_Recall: 29.2096 adv_MAP: 0.1719 adv_RCR: 0.7618 time:4.787\n",
      "2023-05-08 18:32:11,889 - INFO - Info:  [128/1080 (12%)]\t    adv_RMSE: 0.8134 adv_Recall: 29.3578 adv_MAP: 0.1143 adv_RCR: 0.7446 time:4.763\n",
      "2023-05-08 18:32:21,552 - INFO - Info:  [192/1080 (18%)]\t    adv_RMSE: 0.8447 adv_Recall: 20.7031 adv_MAP: 0.1265 adv_RCR: 0.8084 time:4.745\n",
      "2023-05-08 18:32:31,232 - INFO - Info:  [256/1080 (24%)]\t    adv_RMSE: 0.9212 adv_Recall: 34.5109 adv_MAP: 0.1531 adv_RCR: 0.6758 time:4.741\n",
      "2023-05-08 18:32:40,914 - INFO - Info:  [320/1080 (29%)]\t    adv_RMSE: 0.8211 adv_Recall: 22.2222 adv_MAP: 0.0847 adv_RCR: 0.7916 time:4.762\n",
      "2023-05-08 18:32:50,605 - INFO - Info:  [384/1080 (35%)]\t    adv_RMSE: 0.8594 adv_Recall: 27.6786 adv_MAP: 0.1499 adv_RCR: 0.7214 time:4.781\n",
      "2023-05-08 18:33:00,258 - INFO - Info:  [448/1080 (41%)]\t    adv_RMSE: 0.8752 adv_Recall: 25.5725 adv_MAP: 0.1210 adv_RCR: 0.7211 time:4.756\n",
      "2023-05-08 18:33:09,919 - INFO - Info:  [512/1080 (47%)]\t    adv_RMSE: 0.7692 adv_Recall: 27.8761 adv_MAP: 0.1573 adv_RCR: 0.7028 time:4.762\n",
      "2023-05-08 18:33:19,591 - INFO - Info:  [576/1080 (53%)]\t    adv_RMSE: 0.8656 adv_Recall: 23.4234 adv_MAP: 0.0970 adv_RCR: 0.7604 time:4.780\n",
      "2023-05-08 18:33:29,245 - INFO - Info:  [640/1080 (59%)]\t    adv_RMSE: 0.9048 adv_Recall: 26.4214 adv_MAP: 0.1108 adv_RCR: 0.7573 time:4.760\n",
      "2023-05-08 18:33:38,993 - INFO - Info:  [704/1080 (65%)]\t    adv_RMSE: 0.7506 adv_Recall: 23.2143 adv_MAP: 0.1319 adv_RCR: 0.7703 time:4.806\n",
      "2023-05-08 18:33:48,649 - INFO - Info:  [768/1080 (71%)]\t    adv_RMSE: 0.8950 adv_Recall: 32.0261 adv_MAP: 0.2095 adv_RCR: 0.6743 time:4.751\n",
      "2023-05-08 18:33:58,308 - INFO - Info:  [832/1080 (76%)]\t    adv_RMSE: 0.8577 adv_Recall: 28.1787 adv_MAP: 0.1791 adv_RCR: 0.6892 time:4.726\n",
      "2023-05-08 18:34:07,993 - INFO - Info:  [896/1080 (82%)]\t    adv_RMSE: 0.7984 adv_Recall: 32.0346 adv_MAP: 0.1228 adv_RCR: 0.7241 time:4.751\n",
      "2023-05-08 18:34:17,711 - INFO - Info:  [960/1080 (88%)]\t    adv_RMSE: 0.8169 adv_Recall: 24.4186 adv_MAP: 0.1453 adv_RCR: 0.7830 time:4.796\n",
      "2023-05-08 18:34:27,403 - INFO - Info:  [1024/1080 (94%)]\t    adv_RMSE: 0.7571 adv_Recall: 24.1206 adv_MAP: 0.1522 adv_RCR: 0.7348 time:4.795\n",
      "2023-05-08 18:34:35,898 - INFO - Info:  [1080/1080 (100%)]\t    adv_RMSE: 0.8393 adv_Recall: 21.7949 adv_MAP: 0.1000 adv_RCR: 0.8230 time:3.586\n",
      "2023-05-08 18:34:38,495 - INFO - Info:  不可感知性质：1.6464452743530273\n",
      "2023-05-08 18:34:38,496 - INFO - 攻击时间：Info:time:6.184 \t  clean_RMSE: 0.6847 clean_Recall: 32.4305 clean_MAP: 0.1856 clean_RCR: 0.6796   adv_RMSE: 0.8403 adv_Recall: 27.4280 adv_MAP: 0.1304 adv_RCR: 0.7346\n",
      "2023-05-08 18:34:42,178 - INFO - ten_ZINBSC_30_28\n"
     ]
    },
    {
     "name": "stdout",
     "output_type": "stream",
     "text": [
      "2023-05-08 18:34:38,0,NYC,Gsnet,ten,ZINBSC,30,32,0.6847454450474136,32.43045387994143,0.18557500325210685,0.6796269542597637,0.8402561723460142,27.42801366520254,0.13040289943586347,0.7346039956824322,0.4523644862723194,99.66519102711953,0.9935613723125599,0.0016582101600284176\n"
     ]
    },
    {
     "name": "stderr",
     "output_type": "stream",
     "text": [
      "2023-05-08 18:35:21,337 - INFO - Info:  [64/1080 (6%)]\t    adv_RMSE: 0.8852 adv_Recall: 28.5223 adv_MAP: 0.1719 adv_RCR: 0.7762 time:4.768\n",
      "2023-05-08 18:35:31,157 - INFO - Info:  [128/1080 (12%)]\t    adv_RMSE: 0.8077 adv_Recall: 28.4404 adv_MAP: 0.1251 adv_RCR: 0.7626 time:4.754\n",
      "2023-05-08 18:35:40,867 - INFO - Info:  [192/1080 (18%)]\t    adv_RMSE: 0.8377 adv_Recall: 23.4375 adv_MAP: 0.1356 adv_RCR: 0.7989 time:4.715\n",
      "2023-05-08 18:35:50,646 - INFO - Info:  [256/1080 (24%)]\t    adv_RMSE: 0.9031 adv_Recall: 34.2391 adv_MAP: 0.1583 adv_RCR: 0.6384 time:4.758\n",
      "2023-05-08 18:36:00,413 - INFO - Info:  [320/1080 (29%)]\t    adv_RMSE: 0.8206 adv_Recall: 20.1058 adv_MAP: 0.1015 adv_RCR: 0.8170 time:4.772\n",
      "2023-05-08 18:36:10,260 - INFO - Info:  [384/1080 (35%)]\t    adv_RMSE: 0.8505 adv_Recall: 28.5714 adv_MAP: 0.1729 adv_RCR: 0.7415 time:4.805\n",
      "2023-05-08 18:36:20,039 - INFO - Info:  [448/1080 (41%)]\t    adv_RMSE: 0.8578 adv_Recall: 26.7176 adv_MAP: 0.1365 adv_RCR: 0.7117 time:4.784\n",
      "2023-05-08 18:36:29,770 - INFO - Info:  [512/1080 (47%)]\t    adv_RMSE: 0.7598 adv_Recall: 26.9912 adv_MAP: 0.1576 adv_RCR: 0.6800 time:4.731\n",
      "2023-05-08 18:36:39,595 - INFO - Info:  [576/1080 (53%)]\t    adv_RMSE: 0.8482 adv_Recall: 27.4775 adv_MAP: 0.1214 adv_RCR: 0.7497 time:4.787\n",
      "2023-05-08 18:36:49,284 - INFO - Info:  [640/1080 (59%)]\t    adv_RMSE: 0.8955 adv_Recall: 27.4247 adv_MAP: 0.1260 adv_RCR: 0.7345 time:4.723\n",
      "2023-05-08 18:36:59,077 - INFO - Info:  [704/1080 (65%)]\t    adv_RMSE: 0.7526 adv_Recall: 25.0000 adv_MAP: 0.1437 adv_RCR: 0.7524 time:4.781\n",
      "2023-05-08 18:37:08,852 - INFO - Info:  [768/1080 (71%)]\t    adv_RMSE: 0.8743 adv_Recall: 31.0458 adv_MAP: 0.1440 adv_RCR: 0.7285 time:4.750\n",
      "2023-05-08 18:37:18,670 - INFO - Info:  [832/1080 (76%)]\t    adv_RMSE: 0.8593 adv_Recall: 31.2715 adv_MAP: 0.1923 adv_RCR: 0.6846 time:4.761\n",
      "2023-05-08 18:37:28,438 - INFO - Info:  [896/1080 (82%)]\t    adv_RMSE: 0.7935 adv_Recall: 28.1385 adv_MAP: 0.1172 adv_RCR: 0.7255 time:4.754\n",
      "2023-05-08 18:37:38,205 - INFO - Info:  [960/1080 (88%)]\t    adv_RMSE: 0.8053 adv_Recall: 27.9070 adv_MAP: 0.1198 adv_RCR: 0.7651 time:4.760\n",
      "2023-05-08 18:37:47,978 - INFO - Info:  [1024/1080 (94%)]\t    adv_RMSE: 0.7482 adv_Recall: 24.6231 adv_MAP: 0.1347 adv_RCR: 0.7371 time:4.772\n",
      "2023-05-08 18:37:56,523 - INFO - Info:  [1080/1080 (100%)]\t    adv_RMSE: 0.8279 adv_Recall: 21.7949 adv_MAP: 0.1025 adv_RCR: 0.8114 time:3.560\n",
      "2023-05-08 18:37:59,274 - INFO - Info:  不可感知性质：1.6004440784454346\n",
      "2023-05-08 18:37:59,275 - INFO - 攻击时间：Info:time:6.311 \t  clean_RMSE: 0.6847 clean_Recall: 32.4305 clean_MAP: 0.1856 clean_RCR: 0.6796   adv_RMSE: 0.8300 adv_Recall: 27.9161 adv_MAP: 0.1368 adv_RCR: 0.7308\n",
      "2023-05-08 18:38:02,971 - INFO - ten_ZINBSC_30_29\n"
     ]
    },
    {
     "name": "stdout",
     "output_type": "stream",
     "text": [
      "2023-05-08 18:37:59,0,NYC,Gsnet,ten,ZINBSC,30,32,0.6847454450474136,32.43045387994143,0.18557500325210685,0.6796269542597637,0.8299503748994208,27.916056612981944,0.13682395927675875,0.730779301480763,0.42025729616378676,99.65031062832483,0.9934110440241246,0.0015817388516797001\n"
     ]
    },
    {
     "name": "stderr",
     "output_type": "stream",
     "text": [
      "2023-05-08 18:38:41,632 - INFO - Info:  [64/1080 (6%)]\t    adv_RMSE: 0.8883 adv_Recall: 30.5842 adv_MAP: 0.1820 adv_RCR: 0.7357 time:4.794\n",
      "2023-05-08 18:38:51,357 - INFO - Info:  [128/1080 (12%)]\t    adv_RMSE: 0.8163 adv_Recall: 27.0642 adv_MAP: 0.1048 adv_RCR: 0.7535 time:4.794\n",
      "2023-05-08 18:39:01,019 - INFO - Info:  [192/1080 (18%)]\t    adv_RMSE: 0.8379 adv_Recall: 25.0000 adv_MAP: 0.1375 adv_RCR: 0.7713 time:4.755\n",
      "2023-05-08 18:39:10,688 - INFO - Info:  [256/1080 (24%)]\t    adv_RMSE: 0.8951 adv_Recall: 35.3261 adv_MAP: 0.1606 adv_RCR: 0.6353 time:4.750\n",
      "2023-05-08 18:39:20,327 - INFO - Info:  [320/1080 (29%)]\t    adv_RMSE: 0.8173 adv_Recall: 17.4603 adv_MAP: 0.0752 adv_RCR: 0.8618 time:4.750\n",
      "2023-05-08 18:39:30,017 - INFO - Info:  [384/1080 (35%)]\t    adv_RMSE: 0.8483 adv_Recall: 25.0000 adv_MAP: 0.1073 adv_RCR: 0.7825 time:4.757\n",
      "2023-05-08 18:39:39,757 - INFO - Info:  [448/1080 (41%)]\t    adv_RMSE: 0.8569 adv_Recall: 26.7176 adv_MAP: 0.1329 adv_RCR: 0.7177 time:4.789\n",
      "2023-05-08 18:39:49,432 - INFO - Info:  [512/1080 (47%)]\t    adv_RMSE: 0.7561 adv_Recall: 26.5487 adv_MAP: 0.1557 adv_RCR: 0.7209 time:4.732\n",
      "2023-05-08 18:39:59,132 - INFO - Info:  [576/1080 (53%)]\t    adv_RMSE: 0.8510 adv_Recall: 24.7748 adv_MAP: 0.1210 adv_RCR: 0.7743 time:4.795\n",
      "2023-05-08 18:40:08,805 - INFO - Info:  [640/1080 (59%)]\t    adv_RMSE: 0.8957 adv_Recall: 29.0970 adv_MAP: 0.1509 adv_RCR: 0.7359 time:4.773\n",
      "2023-05-08 18:40:18,491 - INFO - Info:  [704/1080 (65%)]\t    adv_RMSE: 0.7458 adv_Recall: 25.5952 adv_MAP: 0.1696 adv_RCR: 0.7501 time:4.759\n",
      "2023-05-08 18:40:28,146 - INFO - Info:  [768/1080 (71%)]\t    adv_RMSE: 0.8766 adv_Recall: 32.3529 adv_MAP: 0.1549 adv_RCR: 0.6792 time:4.737\n",
      "2023-05-08 18:40:37,872 - INFO - Info:  [832/1080 (76%)]\t    adv_RMSE: 0.8610 adv_Recall: 30.5842 adv_MAP: 0.1897 adv_RCR: 0.6993 time:4.754\n",
      "2023-05-08 18:40:47,516 - INFO - Info:  [896/1080 (82%)]\t    adv_RMSE: 0.7947 adv_Recall: 29.8701 adv_MAP: 0.1314 adv_RCR: 0.6919 time:4.753\n",
      "2023-05-08 18:40:57,215 - INFO - Info:  [960/1080 (88%)]\t    adv_RMSE: 0.7998 adv_Recall: 24.4186 adv_MAP: 0.1378 adv_RCR: 0.7870 time:4.777\n",
      "2023-05-08 18:41:06,900 - INFO - Info:  [1024/1080 (94%)]\t    adv_RMSE: 0.7445 adv_Recall: 24.1206 adv_MAP: 0.1311 adv_RCR: 0.7465 time:4.795\n",
      "2023-05-08 18:41:15,383 - INFO - Info:  [1080/1080 (100%)]\t    adv_RMSE: 0.8227 adv_Recall: 21.7949 adv_MAP: 0.1013 adv_RCR: 0.8181 time:3.560\n",
      "2023-05-08 18:41:18,031 - INFO - Info:  不可感知性质：1.629521131515503\n",
      "2023-05-08 18:41:18,032 - INFO - 攻击时间：Info:time:6.209 \t  clean_RMSE: 0.6847 clean_Recall: 32.4305 clean_MAP: 0.1856 clean_RCR: 0.6796   adv_RMSE: 0.8295 adv_Recall: 28.0259 adv_MAP: 0.1343 adv_RCR: 0.7307\n",
      "2023-05-08 18:41:21,728 - INFO - ten_ZINBSC_30_30\n"
     ]
    },
    {
     "name": "stdout",
     "output_type": "stream",
     "text": [
      "2023-05-08 18:41:18,0,NYC,Gsnet,ten,ZINBSC,30,32,0.6847454450474136,32.43045387994143,0.18557500325210685,0.6796269542597637,0.8295123359523583,28.025866276232307,0.13429837999374752,0.7306741786867047,0.4307489701553699,99.64473047877684,0.993505205194584,0.0014763534792150575\n"
     ]
    },
    {
     "name": "stderr",
     "output_type": "stream",
     "text": [
      "2023-05-08 18:42:00,887 - INFO - Info:  [64/1080 (6%)]\t    adv_RMSE: 0.8908 adv_Recall: 27.8351 adv_MAP: 0.1359 adv_RCR: 0.7340 time:4.760\n",
      "2023-05-08 18:42:10,682 - INFO - Info:  [128/1080 (12%)]\t    adv_RMSE: 0.8179 adv_Recall: 27.0642 adv_MAP: 0.1137 adv_RCR: 0.7349 time:4.760\n",
      "2023-05-08 18:42:20,432 - INFO - Info:  [192/1080 (18%)]\t    adv_RMSE: 0.8243 adv_Recall: 25.3906 adv_MAP: 0.1414 adv_RCR: 0.7560 time:4.742\n",
      "2023-05-08 18:42:30,186 - INFO - Info:  [256/1080 (24%)]\t    adv_RMSE: 0.9115 adv_Recall: 33.6957 adv_MAP: 0.1503 adv_RCR: 0.6685 time:4.740\n",
      "2023-05-08 18:42:39,951 - INFO - Info:  [320/1080 (29%)]\t    adv_RMSE: 0.7992 adv_Recall: 20.1058 adv_MAP: 0.1035 adv_RCR: 0.8186 time:4.767\n",
      "2023-05-08 18:42:49,791 - INFO - Info:  [384/1080 (35%)]\t    adv_RMSE: 0.8409 adv_Recall: 29.0179 adv_MAP: 0.1579 adv_RCR: 0.7403 time:4.785\n",
      "2023-05-08 18:42:59,584 - INFO - Info:  [448/1080 (41%)]\t    adv_RMSE: 0.8612 adv_Recall: 27.4809 adv_MAP: 0.1423 adv_RCR: 0.7156 time:4.797\n",
      "2023-05-08 18:43:09,353 - INFO - Info:  [512/1080 (47%)]\t    adv_RMSE: 0.7544 adv_Recall: 25.6637 adv_MAP: 0.1425 adv_RCR: 0.7077 time:4.745\n",
      "2023-05-08 18:43:19,131 - INFO - Info:  [576/1080 (53%)]\t    adv_RMSE: 0.8616 adv_Recall: 23.8739 adv_MAP: 0.0924 adv_RCR: 0.7800 time:4.783\n",
      "2023-05-08 18:43:28,877 - INFO - Info:  [640/1080 (59%)]\t    adv_RMSE: 0.8924 adv_Recall: 30.1003 adv_MAP: 0.1531 adv_RCR: 0.7132 time:4.746\n",
      "2023-05-08 18:43:38,669 - INFO - Info:  [704/1080 (65%)]\t    adv_RMSE: 0.7480 adv_Recall: 22.0238 adv_MAP: 0.1232 adv_RCR: 0.7607 time:4.765\n",
      "2023-05-08 18:43:48,417 - INFO - Info:  [768/1080 (71%)]\t    adv_RMSE: 0.8843 adv_Recall: 32.6797 adv_MAP: 0.1478 adv_RCR: 0.6497 time:4.732\n",
      "2023-05-08 18:43:58,164 - INFO - Info:  [832/1080 (76%)]\t    adv_RMSE: 0.8507 adv_Recall: 29.5533 adv_MAP: 0.1823 adv_RCR: 0.7023 time:4.716\n",
      "2023-05-08 18:44:07,939 - INFO - Info:  [896/1080 (82%)]\t    adv_RMSE: 0.7943 adv_Recall: 30.3030 adv_MAP: 0.1179 adv_RCR: 0.7069 time:4.753\n",
      "2023-05-08 18:44:17,716 - INFO - Info:  [960/1080 (88%)]\t    adv_RMSE: 0.8045 adv_Recall: 23.2558 adv_MAP: 0.0976 adv_RCR: 0.7957 time:4.775\n",
      "2023-05-08 18:44:27,492 - INFO - Info:  [1024/1080 (94%)]\t    adv_RMSE: 0.7473 adv_Recall: 24.1206 adv_MAP: 0.1353 adv_RCR: 0.7604 time:4.798\n",
      "2023-05-08 18:44:36,048 - INFO - Info:  [1080/1080 (100%)]\t    adv_RMSE: 0.8303 adv_Recall: 26.2821 adv_MAP: 0.1168 adv_RCR: 0.7861 time:3.568\n",
      "2023-05-08 18:44:38,759 - INFO - Info:  不可感知性质：1.6537059545516968\n",
      "2023-05-08 18:44:38,760 - INFO - 攻击时间：Info:time:6.281 \t  clean_RMSE: 0.6847 clean_Recall: 32.4305 clean_MAP: 0.1856 clean_RCR: 0.6796   adv_RMSE: 0.8299 adv_Recall: 27.9893 adv_MAP: 0.1315 adv_RCR: 0.7282\n",
      "2023-05-08 18:44:42,446 - INFO - ten_ZINBSC_30_31\n"
     ]
    },
    {
     "name": "stdout",
     "output_type": "stream",
     "text": [
      "2023-05-08 18:44:38,0,NYC,Gsnet,ten,ZINBSC,30,32,0.6847454450474136,32.43045387994143,0.18557500325210685,0.6796269542597637,0.8299301157265309,27.989263055148854,0.13150462491258438,0.728246936559699,0.45769069221130493,99.65775082772218,0.9930629120010052,0.0014210374538858787\n"
     ]
    },
    {
     "name": "stderr",
     "output_type": "stream",
     "text": [
      "2023-05-08 18:45:21,133 - INFO - Info:  [64/1080 (6%)]\t    adv_RMSE: 0.8869 adv_Recall: 28.8660 adv_MAP: 0.1333 adv_RCR: 0.7767 time:4.803\n",
      "2023-05-08 18:45:30,844 - INFO - Info:  [128/1080 (12%)]\t    adv_RMSE: 0.8162 adv_Recall: 30.2752 adv_MAP: 0.1481 adv_RCR: 0.6926 time:4.766\n",
      "2023-05-08 18:45:40,487 - INFO - Info:  [192/1080 (18%)]\t    adv_RMSE: 0.8160 adv_Recall: 25.7812 adv_MAP: 0.1505 adv_RCR: 0.7598 time:4.744\n",
      "2023-05-08 18:45:50,141 - INFO - Info:  [256/1080 (24%)]\t    adv_RMSE: 0.8992 adv_Recall: 36.9565 adv_MAP: 0.1778 adv_RCR: 0.6328 time:4.736\n",
      "2023-05-08 18:45:59,809 - INFO - Info:  [320/1080 (29%)]\t    adv_RMSE: 0.8053 adv_Recall: 20.1058 adv_MAP: 0.0925 adv_RCR: 0.8195 time:4.767\n",
      "2023-05-08 18:46:09,500 - INFO - Info:  [384/1080 (35%)]\t    adv_RMSE: 0.8460 adv_Recall: 28.1250 adv_MAP: 0.1655 adv_RCR: 0.7378 time:4.776\n",
      "2023-05-08 18:46:19,170 - INFO - Info:  [448/1080 (41%)]\t    adv_RMSE: 0.8615 adv_Recall: 26.3359 adv_MAP: 0.1302 adv_RCR: 0.7311 time:4.770\n",
      "2023-05-08 18:46:28,838 - INFO - Info:  [512/1080 (47%)]\t    adv_RMSE: 0.7542 adv_Recall: 25.6637 adv_MAP: 0.1545 adv_RCR: 0.7494 time:4.729\n",
      "2023-05-08 18:46:38,512 - INFO - Info:  [576/1080 (53%)]\t    adv_RMSE: 0.8591 adv_Recall: 24.7748 adv_MAP: 0.1076 adv_RCR: 0.7298 time:4.771\n",
      "2023-05-08 18:46:48,165 - INFO - Info:  [640/1080 (59%)]\t    adv_RMSE: 0.8997 adv_Recall: 29.7659 adv_MAP: 0.1539 adv_RCR: 0.7098 time:4.750\n",
      "2023-05-08 18:46:57,828 - INFO - Info:  [704/1080 (65%)]\t    adv_RMSE: 0.7379 adv_Recall: 22.6190 adv_MAP: 0.1390 adv_RCR: 0.7944 time:4.765\n",
      "2023-05-08 18:47:07,481 - INFO - Info:  [768/1080 (71%)]\t    adv_RMSE: 0.8790 adv_Recall: 32.0261 adv_MAP: 0.1675 adv_RCR: 0.6585 time:4.729\n",
      "2023-05-08 18:47:17,175 - INFO - Info:  [832/1080 (76%)]\t    adv_RMSE: 0.8576 adv_Recall: 28.1787 adv_MAP: 0.1696 adv_RCR: 0.7138 time:4.744\n",
      "2023-05-08 18:47:26,834 - INFO - Info:  [896/1080 (82%)]\t    adv_RMSE: 0.7936 adv_Recall: 31.1688 adv_MAP: 0.1220 adv_RCR: 0.6978 time:4.745\n",
      "2023-05-08 18:47:36,569 - INFO - Info:  [960/1080 (88%)]\t    adv_RMSE: 0.8003 adv_Recall: 23.8372 adv_MAP: 0.0980 adv_RCR: 0.8017 time:4.767\n",
      "2023-05-08 18:47:46,239 - INFO - Info:  [1024/1080 (94%)]\t    adv_RMSE: 0.7412 adv_Recall: 27.1357 adv_MAP: 0.1513 adv_RCR: 0.7305 time:4.779\n",
      "2023-05-08 18:47:54,700 - INFO - Info:  [1080/1080 (100%)]\t    adv_RMSE: 0.8257 adv_Recall: 21.7949 adv_MAP: 0.0622 adv_RCR: 0.7901 time:3.551\n",
      "2023-05-08 18:47:57,381 - INFO - Info:  不可感知性质：1.6457843780517578\n",
      "2023-05-08 18:47:57,382 - INFO - 攻击时间：Info:time:6.233 \t  clean_RMSE: 0.6847 clean_Recall: 32.4305 clean_MAP: 0.1856 clean_RCR: 0.6796   adv_RMSE: 0.8282 adv_Recall: 28.2089 adv_MAP: 0.1335 adv_RCR: 0.7283\n",
      "2023-05-08 18:48:01,115 - INFO - ten_ZINBSC_30_32\n"
     ]
    },
    {
     "name": "stdout",
     "output_type": "stream",
     "text": [
      "2023-05-08 18:47:57,0,NYC,Gsnet,ten,ZINBSC,30,32,0.6847454450474136,32.43045387994143,0.18557500325210685,0.6796269542597637,0.8281921044128441,28.208882381649588,0.13350132912832263,0.7283056046541075,0.4610249199479838,99.66519102711953,0.992558623462655,0.0014089907393145884\n"
     ]
    },
    {
     "name": "stderr",
     "output_type": "stream",
     "text": [
      "2023-05-08 18:48:39,674 - INFO - Info:  [64/1080 (6%)]\t    adv_RMSE: 0.8853 adv_Recall: 29.2096 adv_MAP: 0.1417 adv_RCR: 0.7657 time:4.801\n",
      "2023-05-08 18:48:49,478 - INFO - Info:  [128/1080 (12%)]\t    adv_RMSE: 0.8219 adv_Recall: 30.2752 adv_MAP: 0.1535 adv_RCR: 0.7085 time:4.774\n",
      "2023-05-08 18:48:59,304 - INFO - Info:  [192/1080 (18%)]\t    adv_RMSE: 0.8174 adv_Recall: 26.5625 adv_MAP: 0.1603 adv_RCR: 0.7420 time:4.781\n",
      "2023-05-08 18:49:09,079 - INFO - Info:  [256/1080 (24%)]\t    adv_RMSE: 0.9037 adv_Recall: 35.5978 adv_MAP: 0.1759 adv_RCR: 0.6605 time:4.749\n",
      "2023-05-08 18:49:18,862 - INFO - Info:  [320/1080 (29%)]\t    adv_RMSE: 0.8120 adv_Recall: 20.6349 adv_MAP: 0.1043 adv_RCR: 0.8093 time:4.793\n",
      "2023-05-08 18:49:28,698 - INFO - Info:  [384/1080 (35%)]\t    adv_RMSE: 0.8420 adv_Recall: 27.6786 adv_MAP: 0.1569 adv_RCR: 0.7474 time:4.789\n",
      "2023-05-08 18:49:38,467 - INFO - Info:  [448/1080 (41%)]\t    adv_RMSE: 0.8628 adv_Recall: 27.0992 adv_MAP: 0.1371 adv_RCR: 0.7260 time:4.781\n",
      "2023-05-08 18:49:48,262 - INFO - Info:  [512/1080 (47%)]\t    adv_RMSE: 0.7548 adv_Recall: 26.1062 adv_MAP: 0.1413 adv_RCR: 0.7256 time:4.758\n",
      "2023-05-08 18:49:58,048 - INFO - Info:  [576/1080 (53%)]\t    adv_RMSE: 0.8519 adv_Recall: 25.6757 adv_MAP: 0.1020 adv_RCR: 0.7496 time:4.795\n",
      "2023-05-08 18:50:07,855 - INFO - Info:  [640/1080 (59%)]\t    adv_RMSE: 0.8931 adv_Recall: 30.7692 adv_MAP: 0.1634 adv_RCR: 0.6643 time:4.772\n",
      "2023-05-08 18:50:17,632 - INFO - Info:  [704/1080 (65%)]\t    adv_RMSE: 0.7503 adv_Recall: 21.4286 adv_MAP: 0.1229 adv_RCR: 0.7902 time:4.783\n",
      "2023-05-08 18:50:27,404 - INFO - Info:  [768/1080 (71%)]\t    adv_RMSE: 0.8793 adv_Recall: 31.0458 adv_MAP: 0.1820 adv_RCR: 0.6461 time:4.762\n",
      "2023-05-08 18:50:37,203 - INFO - Info:  [832/1080 (76%)]\t    adv_RMSE: 0.8455 adv_Recall: 28.5223 adv_MAP: 0.1717 adv_RCR: 0.7217 time:4.775\n",
      "2023-05-08 18:50:47,006 - INFO - Info:  [896/1080 (82%)]\t    adv_RMSE: 0.7888 adv_Recall: 32.0346 adv_MAP: 0.1444 adv_RCR: 0.6625 time:4.771\n",
      "2023-05-08 18:50:56,886 - INFO - Info:  [960/1080 (88%)]\t    adv_RMSE: 0.8073 adv_Recall: 26.1628 adv_MAP: 0.1340 adv_RCR: 0.7573 time:4.804\n",
      "2023-05-08 18:51:06,684 - INFO - Info:  [1024/1080 (94%)]\t    adv_RMSE: 0.7333 adv_Recall: 23.6181 adv_MAP: 0.1315 adv_RCR: 0.7576 time:4.795\n",
      "2023-05-08 18:51:15,200 - INFO - Info:  [1080/1080 (100%)]\t    adv_RMSE: 0.8300 adv_Recall: 21.1538 adv_MAP: 0.0640 adv_RCR: 0.8137 time:3.546\n",
      "2023-05-08 18:51:17,966 - INFO - Info:  不可感知性质：1.670424222946167\n",
      "2023-05-08 18:51:17,967 - INFO - 攻击时间：Info:time:6.312 \t  clean_RMSE: 0.6847 clean_Recall: 32.4305 clean_MAP: 0.1856 clean_RCR: 0.6796   adv_RMSE: 0.8279 adv_Recall: 28.3797 adv_MAP: 0.1366 adv_RCR: 0.7234\n",
      "2023-05-08 18:51:21,680 - INFO - ten_ZINBSC_30_33\n"
     ]
    },
    {
     "name": "stdout",
     "output_type": "stream",
     "text": [
      "2023-05-08 18:51:18,0,NYC,Gsnet,ten,ZINBSC,30,32,0.6847454450474136,32.43045387994143,0.18557500325210685,0.6796269542597637,0.8279095283061738,28.37969741337238,0.1366202579592399,0.723433412051859,0.46010003340872657,99.67449127636621,0.9932136058621901,0.0012825274710863103\n"
     ]
    },
    {
     "name": "stderr",
     "output_type": "stream",
     "text": [
      "2023-05-08 18:52:00,629 - INFO - Info:  [64/1080 (6%)]\t    adv_RMSE: 0.8829 adv_Recall: 27.4914 adv_MAP: 0.1346 adv_RCR: 0.7557 time:4.763\n",
      "2023-05-08 18:52:10,458 - INFO - Info:  [128/1080 (12%)]\t    adv_RMSE: 0.8242 adv_Recall: 27.5229 adv_MAP: 0.1595 adv_RCR: 0.7403 time:4.774\n",
      "2023-05-08 18:52:20,255 - INFO - Info:  [192/1080 (18%)]\t    adv_RMSE: 0.8344 adv_Recall: 25.7812 adv_MAP: 0.1596 adv_RCR: 0.7541 time:4.759\n",
      "2023-05-08 18:52:29,995 - INFO - Info:  [256/1080 (24%)]\t    adv_RMSE: 0.9115 adv_Recall: 32.8804 adv_MAP: 0.1665 adv_RCR: 0.6914 time:4.765\n",
      "2023-05-08 18:52:39,756 - INFO - Info:  [320/1080 (29%)]\t    adv_RMSE: 0.8028 adv_Recall: 19.0476 adv_MAP: 0.0881 adv_RCR: 0.8160 time:4.765\n",
      "2023-05-08 18:52:49,567 - INFO - Info:  [384/1080 (35%)]\t    adv_RMSE: 0.8449 adv_Recall: 30.8036 adv_MAP: 0.1447 adv_RCR: 0.7161 time:4.781\n",
      "2023-05-08 18:52:59,366 - INFO - Info:  [448/1080 (41%)]\t    adv_RMSE: 0.8738 adv_Recall: 26.3359 adv_MAP: 0.1404 adv_RCR: 0.7418 time:4.795\n",
      "2023-05-08 18:53:09,174 - INFO - Info:  [512/1080 (47%)]\t    adv_RMSE: 0.7704 adv_Recall: 25.6637 adv_MAP: 0.1365 adv_RCR: 0.7460 time:4.777\n",
      "2023-05-08 18:53:18,958 - INFO - Info:  [576/1080 (53%)]\t    adv_RMSE: 0.8609 adv_Recall: 24.3243 adv_MAP: 0.0965 adv_RCR: 0.7646 time:4.786\n",
      "2023-05-08 18:53:28,689 - INFO - Info:  [640/1080 (59%)]\t    adv_RMSE: 0.9025 adv_Recall: 28.7625 adv_MAP: 0.1463 adv_RCR: 0.7044 time:4.720\n",
      "2023-05-08 18:53:38,539 - INFO - Info:  [704/1080 (65%)]\t    adv_RMSE: 0.7514 adv_Recall: 21.4286 adv_MAP: 0.1171 adv_RCR: 0.8109 time:4.805\n",
      "2023-05-08 18:53:48,322 - INFO - Info:  [768/1080 (71%)]\t    adv_RMSE: 0.8950 adv_Recall: 31.0458 adv_MAP: 0.1914 adv_RCR: 0.6690 time:4.749\n",
      "2023-05-08 18:53:58,154 - INFO - Info:  [832/1080 (76%)]\t    adv_RMSE: 0.8459 adv_Recall: 30.2405 adv_MAP: 0.1854 adv_RCR: 0.7088 time:4.779\n",
      "2023-05-08 18:54:07,938 - INFO - Info:  [896/1080 (82%)]\t    adv_RMSE: 0.7785 adv_Recall: 32.0346 adv_MAP: 0.1471 adv_RCR: 0.7042 time:4.780\n",
      "2023-05-08 18:54:17,793 - INFO - Info:  [960/1080 (88%)]\t    adv_RMSE: 0.8165 adv_Recall: 24.4186 adv_MAP: 0.1262 adv_RCR: 0.7944 time:4.805\n",
      "2023-05-08 18:54:27,632 - INFO - Info:  [1024/1080 (94%)]\t    adv_RMSE: 0.7477 adv_Recall: 26.1307 adv_MAP: 0.1586 adv_RCR: 0.7198 time:4.800\n",
      "2023-05-08 18:54:36,205 - INFO - Info:  [1080/1080 (100%)]\t    adv_RMSE: 0.8269 adv_Recall: 23.0769 adv_MAP: 0.1093 adv_RCR: 0.7898 time:3.569\n",
      "2023-05-08 18:54:38,915 - INFO - Info:  不可感知性质：1.6874439716339111\n",
      "2023-05-08 18:54:38,916 - INFO - 攻击时间：Info:time:6.279 \t  clean_RMSE: 0.6847 clean_Recall: 32.4305 clean_MAP: 0.1856 clean_RCR: 0.6796   adv_RMSE: 0.8340 adv_Recall: 27.6842 adv_MAP: 0.1356 adv_RCR: 0.7384\n",
      "2023-05-08 18:54:42,597 - INFO - ten_ZINBSC_30_34\n"
     ]
    },
    {
     "name": "stdout",
     "output_type": "stream",
     "text": [
      "2023-05-08 18:54:38,0,NYC,Gsnet,ten,ZINBSC,30,32,0.6847454450474136,32.43045387994143,0.18557500325210685,0.6796269542597637,0.8340160333968077,27.684236212786722,0.13564645090148975,0.7383771235518942,0.4820758359677382,99.6949518247089,0.9938545964443215,0.0011835345307805206\n"
     ]
    },
    {
     "name": "stderr",
     "output_type": "stream",
     "text": [
      "2023-05-08 18:55:21,471 - INFO - Info:  [64/1080 (6%)]\t    adv_RMSE: 0.9082 adv_Recall: 29.2096 adv_MAP: 0.1354 adv_RCR: 0.7389 time:4.803\n",
      "2023-05-08 18:55:31,210 - INFO - Info:  [128/1080 (12%)]\t    adv_RMSE: 0.8349 adv_Recall: 26.6055 adv_MAP: 0.1426 adv_RCR: 0.7544 time:4.792\n",
      "2023-05-08 18:55:40,882 - INFO - Info:  [192/1080 (18%)]\t    adv_RMSE: 0.8407 adv_Recall: 27.3438 adv_MAP: 0.1396 adv_RCR: 0.7474 time:4.748\n",
      "2023-05-08 18:55:50,554 - INFO - Info:  [256/1080 (24%)]\t    adv_RMSE: 0.9210 adv_Recall: 32.8804 adv_MAP: 0.1546 adv_RCR: 0.6994 time:4.784\n",
      "2023-05-08 18:56:00,265 - INFO - Info:  [320/1080 (29%)]\t    adv_RMSE: 0.8226 adv_Recall: 20.1058 adv_MAP: 0.0865 adv_RCR: 0.8198 time:4.814\n",
      "2023-05-08 18:56:09,967 - INFO - Info:  [384/1080 (35%)]\t    adv_RMSE: 0.8394 adv_Recall: 32.1429 adv_MAP: 0.1449 adv_RCR: 0.7163 time:4.785\n",
      "2023-05-08 18:56:19,695 - INFO - Info:  [448/1080 (41%)]\t    adv_RMSE: 0.8887 adv_Recall: 27.4809 adv_MAP: 0.1388 adv_RCR: 0.7271 time:4.792\n",
      "2023-05-08 18:56:29,390 - INFO - Info:  [512/1080 (47%)]\t    adv_RMSE: 0.7761 adv_Recall: 24.3363 adv_MAP: 0.1348 adv_RCR: 0.7781 time:4.757\n",
      "2023-05-08 18:56:39,097 - INFO - Info:  [576/1080 (53%)]\t    adv_RMSE: 0.8685 adv_Recall: 22.0721 adv_MAP: 0.0924 adv_RCR: 0.7848 time:4.801\n",
      "2023-05-08 18:56:48,785 - INFO - Info:  [640/1080 (59%)]\t    adv_RMSE: 0.9097 adv_Recall: 29.7659 adv_MAP: 0.1379 adv_RCR: 0.6982 time:4.767\n",
      "2023-05-08 18:56:58,537 - INFO - Info:  [704/1080 (65%)]\t    adv_RMSE: 0.7461 adv_Recall: 20.2381 adv_MAP: 0.1001 adv_RCR: 0.7857 time:4.821\n",
      "2023-05-08 18:57:08,256 - INFO - Info:  [768/1080 (71%)]\t    adv_RMSE: 0.9041 adv_Recall: 31.3725 adv_MAP: 0.1497 adv_RCR: 0.6774 time:4.801\n",
      "2023-05-08 18:57:18,010 - INFO - Info:  [832/1080 (76%)]\t    adv_RMSE: 0.8539 adv_Recall: 29.8969 adv_MAP: 0.1786 adv_RCR: 0.7248 time:4.776\n",
      "2023-05-08 18:57:27,739 - INFO - Info:  [896/1080 (82%)]\t    adv_RMSE: 0.7910 adv_Recall: 34.1991 adv_MAP: 0.1547 adv_RCR: 0.6699 time:4.793\n",
      "2023-05-08 18:57:37,532 - INFO - Info:  [960/1080 (88%)]\t    adv_RMSE: 0.8276 adv_Recall: 24.4186 adv_MAP: 0.0990 adv_RCR: 0.8133 time:4.825\n",
      "2023-05-08 18:57:47,239 - INFO - Info:  [1024/1080 (94%)]\t    adv_RMSE: 0.7669 adv_Recall: 25.1256 adv_MAP: 0.1433 adv_RCR: 0.7354 time:4.795\n",
      "2023-05-08 18:57:55,718 - INFO - Info:  [1080/1080 (100%)]\t    adv_RMSE: 0.8328 adv_Recall: 24.3590 adv_MAP: 0.1170 adv_RCR: 0.7831 time:3.557\n",
      "2023-05-08 18:57:58,403 - INFO - Info:  不可感知性质：1.700616478919983\n",
      "2023-05-08 18:57:58,404 - INFO - 攻击时间：Info:time:6.243 \t  clean_RMSE: 0.6847 clean_Recall: 32.4305 clean_MAP: 0.1856 clean_RCR: 0.6796   adv_RMSE: 0.8421 adv_Recall: 27.9161 adv_MAP: 0.1294 adv_RCR: 0.7352\n",
      "2023-05-08 18:58:02,118 - INFO - ten_ZINBSC_30_35\n"
     ]
    },
    {
     "name": "stdout",
     "output_type": "stream",
     "text": [
      "2023-05-08 18:57:58,0,NYC,Gsnet,ten,ZINBSC,30,32,0.6847454450474136,32.43045387994143,0.18557500325210685,0.6796269542597637,0.8420615070035715,27.916056612981944,0.12936271115458828,0.7351640884901404,0.5023924234564308,99.68007142591422,0.9935649596038431,0.0012520461781386002\n"
     ]
    },
    {
     "name": "stderr",
     "output_type": "stream",
     "text": [
      "2023-05-08 18:58:40,418 - INFO - Info:  [64/1080 (6%)]\t    adv_RMSE: 0.8906 adv_Recall: 29.2096 adv_MAP: 0.1301 adv_RCR: 0.7509 time:4.820\n",
      "2023-05-08 18:58:50,168 - INFO - Info:  [128/1080 (12%)]\t    adv_RMSE: 0.8194 adv_Recall: 28.4404 adv_MAP: 0.1514 adv_RCR: 0.7409 time:4.812\n",
      "2023-05-08 18:58:59,853 - INFO - Info:  [192/1080 (18%)]\t    adv_RMSE: 0.8315 adv_Recall: 28.1250 adv_MAP: 0.1461 adv_RCR: 0.7329 time:4.740\n",
      "2023-05-08 18:59:09,550 - INFO - Info:  [256/1080 (24%)]\t    adv_RMSE: 0.9203 adv_Recall: 31.7935 adv_MAP: 0.1516 adv_RCR: 0.7083 time:4.762\n",
      "2023-05-08 18:59:19,220 - INFO - Info:  [320/1080 (29%)]\t    adv_RMSE: 0.8032 adv_Recall: 22.2222 adv_MAP: 0.1174 adv_RCR: 0.7840 time:4.762\n",
      "2023-05-08 18:59:28,975 - INFO - Info:  [384/1080 (35%)]\t    adv_RMSE: 0.8405 adv_Recall: 30.8036 adv_MAP: 0.1380 adv_RCR: 0.7173 time:4.802\n",
      "2023-05-08 18:59:38,730 - INFO - Info:  [448/1080 (41%)]\t    adv_RMSE: 0.8769 adv_Recall: 27.0992 adv_MAP: 0.1340 adv_RCR: 0.7337 time:4.803\n",
      "2023-05-08 18:59:48,423 - INFO - Info:  [512/1080 (47%)]\t    adv_RMSE: 0.7661 adv_Recall: 25.2212 adv_MAP: 0.1334 adv_RCR: 0.7528 time:4.756\n",
      "2023-05-08 18:59:58,125 - INFO - Info:  [576/1080 (53%)]\t    adv_RMSE: 0.8645 adv_Recall: 22.5225 adv_MAP: 0.0884 adv_RCR: 0.7846 time:4.804\n",
      "2023-05-08 19:00:07,795 - INFO - Info:  [640/1080 (59%)]\t    adv_RMSE: 0.8912 adv_Recall: 29.7659 adv_MAP: 0.1364 adv_RCR: 0.7052 time:4.752\n",
      "2023-05-08 19:00:17,467 - INFO - Info:  [704/1080 (65%)]\t    adv_RMSE: 0.7445 adv_Recall: 20.8333 adv_MAP: 0.1183 adv_RCR: 0.7988 time:4.764\n",
      "2023-05-08 19:00:27,148 - INFO - Info:  [768/1080 (71%)]\t    adv_RMSE: 0.8995 adv_Recall: 29.7386 adv_MAP: 0.1596 adv_RCR: 0.6623 time:4.744\n",
      "2023-05-08 19:00:36,798 - INFO - Info:  [832/1080 (76%)]\t    adv_RMSE: 0.8523 adv_Recall: 27.4914 adv_MAP: 0.1635 adv_RCR: 0.7537 time:4.725\n",
      "2023-05-08 19:00:46,444 - INFO - Info:  [896/1080 (82%)]\t    adv_RMSE: 0.7883 adv_Recall: 32.9004 adv_MAP: 0.1458 adv_RCR: 0.6764 time:4.739\n",
      "2023-05-08 19:00:56,161 - INFO - Info:  [960/1080 (88%)]\t    adv_RMSE: 0.8234 adv_Recall: 23.2558 adv_MAP: 0.1090 adv_RCR: 0.7994 time:4.790\n",
      "2023-05-08 19:01:05,888 - INFO - Info:  [1024/1080 (94%)]\t    adv_RMSE: 0.7521 adv_Recall: 22.6131 adv_MAP: 0.1157 adv_RCR: 0.7569 time:4.831\n",
      "2023-05-08 19:01:14,378 - INFO - Info:  [1080/1080 (100%)]\t    adv_RMSE: 0.8348 adv_Recall: 23.7179 adv_MAP: 0.1144 adv_RCR: 0.7657 time:3.568\n",
      "2023-05-08 19:01:17,026 - INFO - Info:  不可感知性质：1.6636266708374023\n",
      "2023-05-08 19:01:17,027 - INFO - 攻击时间：Info:time:6.217 \t  clean_RMSE: 0.6847 clean_Recall: 32.4305 clean_MAP: 0.1856 clean_RCR: 0.6796   adv_RMSE: 0.8350 adv_Recall: 27.6964 adv_MAP: 0.1299 adv_RCR: 0.7351\n",
      "2023-05-08 19:01:20,706 - INFO - ten_ZINBSC_30_36\n"
     ]
    },
    {
     "name": "stdout",
     "output_type": "stream",
     "text": [
      "2023-05-08 19:01:17,0,NYC,Gsnet,ten,ZINBSC,30,32,0.6847454450474136,32.43045387994143,0.18557500325210685,0.6796269542597637,0.8350000454942351,27.696437286481213,0.12985974030364625,0.7351494809372816,0.4984200020019573,99.68565157546222,0.9935483586783964,0.001477504940747178\n"
     ]
    },
    {
     "name": "stderr",
     "output_type": "stream",
     "text": [
      "2023-05-08 19:01:58,898 - INFO - Info:  [64/1080 (6%)]\t    adv_RMSE: 0.8964 adv_Recall: 28.1787 adv_MAP: 0.1323 adv_RCR: 0.7753 time:4.769\n",
      "2023-05-08 19:02:08,629 - INFO - Info:  [128/1080 (12%)]\t    adv_RMSE: 0.8362 adv_Recall: 29.3578 adv_MAP: 0.1704 adv_RCR: 0.7341 time:4.802\n",
      "2023-05-08 19:02:18,350 - INFO - Info:  [192/1080 (18%)]\t    adv_RMSE: 0.8368 adv_Recall: 25.0000 adv_MAP: 0.1267 adv_RCR: 0.7520 time:4.750\n",
      "2023-05-08 19:02:27,983 - INFO - Info:  [256/1080 (24%)]\t    adv_RMSE: 0.9322 adv_Recall: 33.1522 adv_MAP: 0.1464 adv_RCR: 0.6758 time:4.727\n",
      "2023-05-08 19:02:37,660 - INFO - Info:  [320/1080 (29%)]\t    adv_RMSE: 0.8190 adv_Recall: 22.2222 adv_MAP: 0.1050 adv_RCR: 0.7943 time:4.777\n",
      "2023-05-08 19:02:47,380 - INFO - Info:  [384/1080 (35%)]\t    adv_RMSE: 0.8355 adv_Recall: 27.6786 adv_MAP: 0.1143 adv_RCR: 0.7413 time:4.801\n",
      "2023-05-08 19:02:57,060 - INFO - Info:  [448/1080 (41%)]\t    adv_RMSE: 0.8891 adv_Recall: 25.1908 adv_MAP: 0.1185 adv_RCR: 0.7265 time:4.792\n",
      "2023-05-08 19:03:06,723 - INFO - Info:  [512/1080 (47%)]\t    adv_RMSE: 0.7708 adv_Recall: 25.6637 adv_MAP: 0.1348 adv_RCR: 0.7418 time:4.734\n",
      "2023-05-08 19:03:16,395 - INFO - Info:  [576/1080 (53%)]\t    adv_RMSE: 0.8697 adv_Recall: 22.9730 adv_MAP: 0.0855 adv_RCR: 0.7766 time:4.760\n",
      "2023-05-08 19:03:26,036 - INFO - Info:  [640/1080 (59%)]\t    adv_RMSE: 0.9055 adv_Recall: 29.4314 adv_MAP: 0.1275 adv_RCR: 0.6987 time:4.750\n",
      "2023-05-08 19:03:35,679 - INFO - Info:  [704/1080 (65%)]\t    adv_RMSE: 0.7524 adv_Recall: 23.2143 adv_MAP: 0.1065 adv_RCR: 0.7801 time:4.764\n",
      "2023-05-08 19:03:45,323 - INFO - Info:  [768/1080 (71%)]\t    adv_RMSE: 0.9108 adv_Recall: 30.0654 adv_MAP: 0.1779 adv_RCR: 0.6863 time:4.767\n",
      "2023-05-08 19:03:54,969 - INFO - Info:  [832/1080 (76%)]\t    adv_RMSE: 0.8572 adv_Recall: 27.8351 adv_MAP: 0.1660 adv_RCR: 0.7474 time:4.729\n",
      "2023-05-08 19:04:04,606 - INFO - Info:  [896/1080 (82%)]\t    adv_RMSE: 0.7888 adv_Recall: 32.4675 adv_MAP: 0.1350 adv_RCR: 0.6883 time:4.707\n",
      "2023-05-08 19:04:14,330 - INFO - Info:  [960/1080 (88%)]\t    adv_RMSE: 0.8341 adv_Recall: 21.5116 adv_MAP: 0.1266 adv_RCR: 0.8260 time:4.762\n",
      "2023-05-08 19:04:24,049 - INFO - Info:  [1024/1080 (94%)]\t    adv_RMSE: 0.7569 adv_Recall: 25.1256 adv_MAP: 0.1478 adv_RCR: 0.7160 time:4.790\n",
      "2023-05-08 19:04:32,504 - INFO - Info:  [1080/1080 (100%)]\t    adv_RMSE: 0.8502 adv_Recall: 26.2821 adv_MAP: 0.1261 adv_RCR: 0.7628 time:3.566\n",
      "2023-05-08 19:04:35,137 - INFO - Info:  不可感知性质：1.6686838865280151\n",
      "2023-05-08 19:04:35,138 - INFO - 攻击时间：Info:time:6.199 \t  clean_RMSE: 0.6847 clean_Recall: 32.4305 clean_MAP: 0.1856 clean_RCR: 0.6796   adv_RMSE: 0.8430 adv_Recall: 27.3182 adv_MAP: 0.1266 adv_RCR: 0.7370\n",
      "2023-05-08 19:04:38,859 - INFO - ten_ZINBSC_30_37\n"
     ]
    },
    {
     "name": "stdout",
     "output_type": "stream",
     "text": [
      "2023-05-08 19:04:35,0,NYC,Gsnet,ten,ZINBSC,30,32,0.6847454450474136,32.43045387994143,0.18557500325210685,0.6796269542597637,0.8430478347240093,27.318204001952175,0.12661858704351828,0.7369769546676501,0.491314086760205,99.67263122651687,0.9933633020500898,0.0016017317864099358\n"
     ]
    },
    {
     "name": "stderr",
     "output_type": "stream",
     "text": [
      "2023-05-08 19:05:17,377 - INFO - Info:  [64/1080 (6%)]\t    adv_RMSE: 0.9034 adv_Recall: 28.5223 adv_MAP: 0.1271 adv_RCR: 0.7461 time:4.874\n",
      "2023-05-08 19:05:27,320 - INFO - Info:  [128/1080 (12%)]\t    adv_RMSE: 0.8369 adv_Recall: 28.4404 adv_MAP: 0.1576 adv_RCR: 0.7201 time:4.878\n",
      "2023-05-08 19:05:37,167 - INFO - Info:  [192/1080 (18%)]\t    adv_RMSE: 0.8517 adv_Recall: 25.3906 adv_MAP: 0.1359 adv_RCR: 0.7376 time:4.831\n",
      "2023-05-08 19:05:46,979 - INFO - Info:  [256/1080 (24%)]\t    adv_RMSE: 0.9381 adv_Recall: 32.8804 adv_MAP: 0.1625 adv_RCR: 0.6996 time:4.824\n",
      "2023-05-08 19:05:56,839 - INFO - Info:  [320/1080 (29%)]\t    adv_RMSE: 0.8191 adv_Recall: 20.6349 adv_MAP: 0.1266 adv_RCR: 0.7960 time:4.881\n",
      "2023-05-08 19:06:06,719 - INFO - Info:  [384/1080 (35%)]\t    adv_RMSE: 0.8416 adv_Recall: 27.2321 adv_MAP: 0.1166 adv_RCR: 0.7494 time:4.876\n",
      "2023-05-08 19:06:16,586 - INFO - Info:  [448/1080 (41%)]\t    adv_RMSE: 0.9011 adv_Recall: 25.9542 adv_MAP: 0.1261 adv_RCR: 0.7301 time:4.867\n",
      "2023-05-08 19:06:26,486 - INFO - Info:  [512/1080 (47%)]\t    adv_RMSE: 0.7676 adv_Recall: 25.6637 adv_MAP: 0.1512 adv_RCR: 0.7345 time:4.862\n",
      "2023-05-08 19:06:36,351 - INFO - Info:  [576/1080 (53%)]\t    adv_RMSE: 0.8821 adv_Recall: 20.2703 adv_MAP: 0.0745 adv_RCR: 0.7947 time:4.856\n",
      "2023-05-08 19:06:46,207 - INFO - Info:  [640/1080 (59%)]\t    adv_RMSE: 0.9134 adv_Recall: 29.7659 adv_MAP: 0.1417 adv_RCR: 0.7016 time:4.864\n",
      "2023-05-08 19:06:56,048 - INFO - Info:  [704/1080 (65%)]\t    adv_RMSE: 0.7602 adv_Recall: 22.0238 adv_MAP: 0.1085 adv_RCR: 0.8040 time:4.858\n",
      "2023-05-08 19:07:05,914 - INFO - Info:  [768/1080 (71%)]\t    adv_RMSE: 0.9135 adv_Recall: 30.3922 adv_MAP: 0.1828 adv_RCR: 0.6675 time:4.840\n",
      "2023-05-08 19:07:15,809 - INFO - Info:  [832/1080 (76%)]\t    adv_RMSE: 0.8604 adv_Recall: 28.5223 adv_MAP: 0.1703 adv_RCR: 0.7190 time:4.849\n",
      "2023-05-08 19:07:25,669 - INFO - Info:  [896/1080 (82%)]\t    adv_RMSE: 0.8094 adv_Recall: 31.6017 adv_MAP: 0.1389 adv_RCR: 0.6813 time:4.851\n",
      "2023-05-08 19:07:35,640 - INFO - Info:  [960/1080 (88%)]\t    adv_RMSE: 0.8514 adv_Recall: 22.0930 adv_MAP: 0.0899 adv_RCR: 0.8164 time:4.943\n",
      "2023-05-08 19:07:45,511 - INFO - Info:  [1024/1080 (94%)]\t    adv_RMSE: 0.7638 adv_Recall: 24.6231 adv_MAP: 0.1366 adv_RCR: 0.7697 time:4.875\n",
      "2023-05-08 19:07:54,178 - INFO - Info:  [1080/1080 (100%)]\t    adv_RMSE: 0.8524 adv_Recall: 22.4359 adv_MAP: 0.1101 adv_RCR: 0.8261 time:3.632\n",
      "2023-05-08 19:07:56,809 - INFO - Info:  不可感知性质：1.6925405263900757\n",
      "2023-05-08 19:07:56,810 - INFO - 攻击时间：Info:time:6.264 \t  clean_RMSE: 0.6847 clean_Recall: 32.4305 clean_MAP: 0.1856 clean_RCR: 0.6796   adv_RMSE: 0.8491 adv_Recall: 27.0010 adv_MAP: 0.1271 adv_RCR: 0.7433\n",
      "2023-05-08 19:08:00,563 - INFO - ten_ZINBSC_30_38\n"
     ]
    },
    {
     "name": "stdout",
     "output_type": "stream",
     "text": [
      "2023-05-08 19:07:56,0,NYC,Gsnet,ten,ZINBSC,30,32,0.6847454450474136,32.43045387994143,0.18557500325210685,0.6796269542597637,0.8491249738471516,27.000976085895555,0.12712246637069502,0.7432901561172339,0.5183984802493209,99.67821137606488,0.9935159794507923,0.001413881311889255\n"
     ]
    },
    {
     "name": "stderr",
     "output_type": "stream",
     "text": [
      "2023-05-08 19:08:39,466 - INFO - Info:  [64/1080 (6%)]\t    adv_RMSE: 0.9034 adv_Recall: 29.2096 adv_MAP: 0.1238 adv_RCR: 0.7629 time:4.851\n",
      "2023-05-08 19:08:49,446 - INFO - Info:  [128/1080 (12%)]\t    adv_RMSE: 0.8345 adv_Recall: 30.2752 adv_MAP: 0.1520 adv_RCR: 0.7178 time:4.876\n",
      "2023-05-08 19:08:59,366 - INFO - Info:  [192/1080 (18%)]\t    adv_RMSE: 0.8478 adv_Recall: 25.3906 adv_MAP: 0.1389 adv_RCR: 0.7554 time:4.811\n",
      "2023-05-08 19:09:09,340 - INFO - Info:  [256/1080 (24%)]\t    adv_RMSE: 0.9319 adv_Recall: 33.1522 adv_MAP: 0.1481 adv_RCR: 0.6915 time:4.871\n",
      "2023-05-08 19:09:19,345 - INFO - Info:  [320/1080 (29%)]\t    adv_RMSE: 0.8287 adv_Recall: 21.6931 adv_MAP: 0.1371 adv_RCR: 0.7873 time:4.912\n",
      "2023-05-08 19:09:29,306 - INFO - Info:  [384/1080 (35%)]\t    adv_RMSE: 0.8371 adv_Recall: 30.8036 adv_MAP: 0.1333 adv_RCR: 0.7235 time:4.861\n",
      "2023-05-08 19:09:39,231 - INFO - Info:  [448/1080 (41%)]\t    adv_RMSE: 0.8985 adv_Recall: 24.8092 adv_MAP: 0.1272 adv_RCR: 0.7316 time:4.834\n",
      "2023-05-08 19:09:49,146 - INFO - Info:  [512/1080 (47%)]\t    adv_RMSE: 0.7809 adv_Recall: 26.9912 adv_MAP: 0.1520 adv_RCR: 0.7209 time:4.824\n",
      "2023-05-08 19:09:59,153 - INFO - Info:  [576/1080 (53%)]\t    adv_RMSE: 0.8781 adv_Recall: 22.0721 adv_MAP: 0.0833 adv_RCR: 0.8158 time:4.883\n",
      "2023-05-08 19:10:09,101 - INFO - Info:  [640/1080 (59%)]\t    adv_RMSE: 0.9149 adv_Recall: 29.0970 adv_MAP: 0.1367 adv_RCR: 0.7349 time:4.870\n",
      "2023-05-08 19:10:19,076 - INFO - Info:  [704/1080 (65%)]\t    adv_RMSE: 0.7612 adv_Recall: 22.6190 adv_MAP: 0.1132 adv_RCR: 0.7981 time:4.863\n",
      "2023-05-08 19:10:29,055 - INFO - Info:  [768/1080 (71%)]\t    adv_RMSE: 0.9112 adv_Recall: 30.0654 adv_MAP: 0.1325 adv_RCR: 0.7050 time:4.887\n",
      "2023-05-08 19:10:39,001 - INFO - Info:  [832/1080 (76%)]\t    adv_RMSE: 0.8674 adv_Recall: 28.5223 adv_MAP: 0.1887 adv_RCR: 0.7050 time:4.829\n",
      "2023-05-08 19:10:48,932 - INFO - Info:  [896/1080 (82%)]\t    adv_RMSE: 0.8122 adv_Recall: 28.1385 adv_MAP: 0.1198 adv_RCR: 0.7134 time:4.830\n",
      "2023-05-08 19:10:58,921 - INFO - Info:  [960/1080 (88%)]\t    adv_RMSE: 0.8453 adv_Recall: 24.4186 adv_MAP: 0.1445 adv_RCR: 0.7819 time:4.874\n",
      "2023-05-08 19:11:08,849 - INFO - Info:  [1024/1080 (94%)]\t    adv_RMSE: 0.7686 adv_Recall: 23.1156 adv_MAP: 0.1147 adv_RCR: 0.7807 time:4.849\n",
      "2023-05-08 19:11:17,558 - INFO - Info:  [1080/1080 (100%)]\t    adv_RMSE: 0.8595 adv_Recall: 26.2821 adv_MAP: 0.1259 adv_RCR: 0.7515 time:3.625\n",
      "2023-05-08 19:11:20,322 - INFO - Info:  不可感知性质：1.644574761390686\n",
      "2023-05-08 19:11:20,323 - INFO - 攻击时间：Info:time:6.390 \t  clean_RMSE: 0.6847 clean_Recall: 32.4305 clean_MAP: 0.1856 clean_RCR: 0.6796   adv_RMSE: 0.8504 adv_Recall: 27.4036 adv_MAP: 0.1280 adv_RCR: 0.7363\n",
      "2023-05-08 19:11:24,036 - INFO - ten_ZINBSC_30_39\n"
     ]
    },
    {
     "name": "stdout",
     "output_type": "stream",
     "text": [
      "2023-05-08 19:11:20,0,NYC,Gsnet,ten,ZINBSC,30,32,0.6847454450474136,32.43045387994143,0.18557500325210685,0.6796269542597637,0.850399546203418,27.40361151781357,0.12795681843756665,0.7362870548437146,0.5097959784182455,99.6893716751609,0.9937734457213082,0.0013042850471287433\n"
     ]
    },
    {
     "name": "stderr",
     "output_type": "stream",
     "text": [
      "2023-05-08 19:12:05,340 - INFO - Info:  [64/1080 (6%)]\t    adv_RMSE: 0.9104 adv_Recall: 27.8351 adv_MAP: 0.1265 adv_RCR: 0.7624 time:6.026\n",
      "2023-05-08 19:12:17,583 - INFO - Info:  [128/1080 (12%)]\t    adv_RMSE: 0.8561 adv_Recall: 31.6514 adv_MAP: 0.1799 adv_RCR: 0.6657 time:5.986\n",
      "2023-05-08 19:12:29,751 - INFO - Info:  [192/1080 (18%)]\t    adv_RMSE: 0.8577 adv_Recall: 24.2188 adv_MAP: 0.1239 adv_RCR: 0.7426 time:5.925\n",
      "2023-05-08 19:12:41,947 - INFO - Info:  [256/1080 (24%)]\t    adv_RMSE: 0.9369 adv_Recall: 32.8804 adv_MAP: 0.1457 adv_RCR: 0.7117 time:5.984\n",
      "2023-05-08 19:12:54,190 - INFO - Info:  [320/1080 (29%)]\t    adv_RMSE: 0.8468 adv_Recall: 18.5185 adv_MAP: 0.1141 adv_RCR: 0.8180 time:6.005\n",
      "2023-05-08 19:13:06,434 - INFO - Info:  [384/1080 (35%)]\t    adv_RMSE: 0.8495 adv_Recall: 27.6786 adv_MAP: 0.1264 adv_RCR: 0.7390 time:5.989\n",
      "2023-05-08 19:13:18,672 - INFO - Info:  [448/1080 (41%)]\t    adv_RMSE: 0.9029 adv_Recall: 25.9542 adv_MAP: 0.1186 adv_RCR: 0.7308 time:6.010\n",
      "2023-05-08 19:13:30,911 - INFO - Info:  [512/1080 (47%)]\t    adv_RMSE: 0.7888 adv_Recall: 24.3363 adv_MAP: 0.1372 adv_RCR: 0.7561 time:5.975\n",
      "2023-05-08 19:13:43,162 - INFO - Info:  [576/1080 (53%)]\t    adv_RMSE: 0.8853 adv_Recall: 22.9730 adv_MAP: 0.0906 adv_RCR: 0.7945 time:6.034\n",
      "2023-05-08 19:13:55,358 - INFO - Info:  [640/1080 (59%)]\t    adv_RMSE: 0.9188 adv_Recall: 29.4314 adv_MAP: 0.1448 adv_RCR: 0.7043 time:5.979\n",
      "2023-05-08 19:14:07,602 - INFO - Info:  [704/1080 (65%)]\t    adv_RMSE: 0.7779 adv_Recall: 19.0476 adv_MAP: 0.0724 adv_RCR: 0.8449 time:6.000\n",
      "2023-05-08 19:14:19,798 - INFO - Info:  [768/1080 (71%)]\t    adv_RMSE: 0.9143 adv_Recall: 29.0850 adv_MAP: 0.1252 adv_RCR: 0.7297 time:5.981\n",
      "2023-05-08 19:14:29,626 - INFO - Info:  [832/1080 (76%)]\t    adv_RMSE: 0.8747 adv_Recall: 26.4605 adv_MAP: 0.1632 adv_RCR: 0.7480 time:4.774\n",
      "2023-05-08 19:14:39,365 - INFO - Info:  [896/1080 (82%)]\t    adv_RMSE: 0.8125 adv_Recall: 29.0043 adv_MAP: 0.1032 adv_RCR: 0.7296 time:4.719\n",
      "2023-05-08 19:14:49,198 - INFO - Info:  [960/1080 (88%)]\t    adv_RMSE: 0.8544 adv_Recall: 23.2558 adv_MAP: 0.1138 adv_RCR: 0.8031 time:4.790\n",
      "2023-05-08 19:14:58,983 - INFO - Info:  [1024/1080 (94%)]\t    adv_RMSE: 0.7806 adv_Recall: 21.1055 adv_MAP: 0.1034 adv_RCR: 0.7926 time:4.810\n",
      "2023-05-08 19:15:07,593 - INFO - Info:  [1080/1080 (100%)]\t    adv_RMSE: 0.8512 adv_Recall: 24.3590 adv_MAP: 0.1207 adv_RCR: 0.7392 time:3.563\n",
      "2023-05-08 19:15:10,378 - INFO - Info:  不可感知性质：1.623375654220581\n",
      "2023-05-08 19:15:10,379 - INFO - 攻击时间：Info:time:6.349 \t  clean_RMSE: 0.6847 clean_Recall: 32.4305 clean_MAP: 0.1856 clean_RCR: 0.6796   adv_RMSE: 0.8606 adv_Recall: 26.6837 adv_MAP: 0.1195 adv_RCR: 0.7428\n",
      "2023-05-08 19:15:14,107 - INFO - ten_ZINBSC_30_40\n"
     ]
    },
    {
     "name": "stdout",
     "output_type": "stream",
     "text": [
      "2023-05-08 19:15:10,0,NYC,Gsnet,ten,ZINBSC,30,32,0.6847454450474136,32.43045387994143,0.18557500325210685,0.6796269542597637,0.860555947762159,26.683748169838946,0.11950899390861243,0.7428344046156027,0.5246039701144918,99.68751162531156,0.9935153980877266,0.001372082025149771\n"
     ]
    },
    {
     "name": "stderr",
     "output_type": "stream",
     "text": [
      "2023-05-08 19:15:53,096 - INFO - Info:  [64/1080 (6%)]\t    adv_RMSE: 0.9093 adv_Recall: 28.1787 adv_MAP: 0.1250 adv_RCR: 0.7646 time:4.779\n",
      "2023-05-08 19:16:02,913 - INFO - Info:  [128/1080 (12%)]\t    adv_RMSE: 0.8538 adv_Recall: 30.2752 adv_MAP: 0.1212 adv_RCR: 0.7200 time:4.787\n",
      "2023-05-08 19:16:12,696 - INFO - Info:  [192/1080 (18%)]\t    adv_RMSE: 0.8525 adv_Recall: 25.3906 adv_MAP: 0.1250 adv_RCR: 0.7564 time:4.748\n",
      "2023-05-08 19:16:22,469 - INFO - Info:  [256/1080 (24%)]\t    adv_RMSE: 0.9314 adv_Recall: 32.0652 adv_MAP: 0.1412 adv_RCR: 0.7196 time:4.773\n",
      "2023-05-08 19:16:32,237 - INFO - Info:  [320/1080 (29%)]\t    adv_RMSE: 0.8347 adv_Recall: 19.5767 adv_MAP: 0.0940 adv_RCR: 0.8050 time:4.761\n",
      "2023-05-08 19:16:42,055 - INFO - Info:  [384/1080 (35%)]\t    adv_RMSE: 0.8402 adv_Recall: 28.5714 adv_MAP: 0.1551 adv_RCR: 0.7374 time:4.806\n",
      "2023-05-08 19:16:51,849 - INFO - Info:  [448/1080 (41%)]\t    adv_RMSE: 0.9028 adv_Recall: 24.4275 adv_MAP: 0.1182 adv_RCR: 0.7355 time:4.762\n",
      "2023-05-08 19:17:01,605 - INFO - Info:  [512/1080 (47%)]\t    adv_RMSE: 0.7845 adv_Recall: 26.1062 adv_MAP: 0.1347 adv_RCR: 0.7237 time:4.759\n",
      "2023-05-08 19:17:11,344 - INFO - Info:  [576/1080 (53%)]\t    adv_RMSE: 0.8838 adv_Recall: 23.8739 adv_MAP: 0.1008 adv_RCR: 0.7747 time:4.772\n",
      "2023-05-08 19:17:21,144 - INFO - Info:  [640/1080 (59%)]\t    adv_RMSE: 0.9194 adv_Recall: 27.4247 adv_MAP: 0.1233 adv_RCR: 0.7273 time:4.765\n",
      "2023-05-08 19:17:30,975 - INFO - Info:  [704/1080 (65%)]\t    adv_RMSE: 0.7677 adv_Recall: 22.0238 adv_MAP: 0.1352 adv_RCR: 0.7836 time:4.813\n",
      "2023-05-08 19:17:40,768 - INFO - Info:  [768/1080 (71%)]\t    adv_RMSE: 0.9157 adv_Recall: 29.4118 adv_MAP: 0.1341 adv_RCR: 0.7270 time:4.758\n",
      "2023-05-08 19:17:50,568 - INFO - Info:  [832/1080 (76%)]\t    adv_RMSE: 0.8615 adv_Recall: 28.1787 adv_MAP: 0.1691 adv_RCR: 0.7379 time:4.760\n",
      "2023-05-08 19:18:00,326 - INFO - Info:  [896/1080 (82%)]\t    adv_RMSE: 0.8076 adv_Recall: 31.1688 adv_MAP: 0.1305 adv_RCR: 0.7089 time:4.734\n",
      "2023-05-08 19:18:10,197 - INFO - Info:  [960/1080 (88%)]\t    adv_RMSE: 0.8481 adv_Recall: 22.6744 adv_MAP: 0.1015 adv_RCR: 0.8033 time:4.815\n",
      "2023-05-08 19:18:19,986 - INFO - Info:  [1024/1080 (94%)]\t    adv_RMSE: 0.7779 adv_Recall: 21.1055 adv_MAP: 0.1007 adv_RCR: 0.8084 time:4.785\n",
      "2023-05-08 19:18:28,590 - INFO - Info:  [1080/1080 (100%)]\t    adv_RMSE: 0.8551 adv_Recall: 25.0000 adv_MAP: 0.1213 adv_RCR: 0.7482 time:3.558\n",
      "2023-05-08 19:18:31,376 - INFO - Info:  不可感知性质：1.608418583869934\n",
      "2023-05-08 19:18:31,377 - INFO - 攻击时间：Info:time:6.345 \t  clean_RMSE: 0.6847 clean_Recall: 32.4305 clean_MAP: 0.1856 clean_RCR: 0.6796   adv_RMSE: 0.8549 adv_Recall: 26.8912 adv_MAP: 0.1219 adv_RCR: 0.7403\n",
      "2023-05-08 19:18:35,122 - INFO - ten_ZINBSC_30_41\n"
     ]
    },
    {
     "name": "stdout",
     "output_type": "stream",
     "text": [
      "2023-05-08 19:18:31,0,NYC,Gsnet,ten,ZINBSC,30,32,0.6847454450474136,32.43045387994143,0.18557500325210685,0.6796269542597637,0.854882048907214,26.891166422645192,0.1219460439942192,0.7403091490193291,0.5143373931443215,99.70053197425692,0.993368985860716,0.0013428938528521161\n"
     ]
    },
    {
     "name": "stderr",
     "output_type": "stream",
     "text": [
      "2023-05-08 19:19:13,935 - INFO - Info:  [64/1080 (6%)]\t    adv_RMSE: 0.8847 adv_Recall: 26.4605 adv_MAP: 0.1243 adv_RCR: 0.7599 time:4.793\n",
      "2023-05-08 19:19:23,749 - INFO - Info:  [128/1080 (12%)]\t    adv_RMSE: 0.8440 adv_Recall: 32.5688 adv_MAP: 0.1721 adv_RCR: 0.6897 time:4.777\n",
      "2023-05-08 19:19:33,488 - INFO - Info:  [192/1080 (18%)]\t    adv_RMSE: 0.8365 adv_Recall: 25.3906 adv_MAP: 0.1434 adv_RCR: 0.7461 time:4.723\n",
      "2023-05-08 19:19:43,266 - INFO - Info:  [256/1080 (24%)]\t    adv_RMSE: 0.9138 adv_Recall: 35.3261 adv_MAP: 0.1677 adv_RCR: 0.6739 time:4.767\n",
      "2023-05-08 19:19:53,010 - INFO - Info:  [320/1080 (29%)]\t    adv_RMSE: 0.8294 adv_Recall: 19.0476 adv_MAP: 0.0971 adv_RCR: 0.8180 time:4.760\n",
      "2023-05-08 19:20:02,781 - INFO - Info:  [384/1080 (35%)]\t    adv_RMSE: 0.8276 adv_Recall: 28.1250 adv_MAP: 0.1337 adv_RCR: 0.7108 time:4.783\n",
      "2023-05-08 19:20:12,582 - INFO - Info:  [448/1080 (41%)]\t    adv_RMSE: 0.8830 adv_Recall: 25.1908 adv_MAP: 0.1316 adv_RCR: 0.7310 time:4.778\n",
      "2023-05-08 19:20:22,358 - INFO - Info:  [512/1080 (47%)]\t    adv_RMSE: 0.7759 adv_Recall: 23.8938 adv_MAP: 0.1190 adv_RCR: 0.7404 time:4.738\n",
      "2023-05-08 19:20:32,119 - INFO - Info:  [576/1080 (53%)]\t    adv_RMSE: 0.8643 adv_Recall: 23.4234 adv_MAP: 0.1123 adv_RCR: 0.7988 time:4.778\n",
      "2023-05-08 19:20:41,898 - INFO - Info:  [640/1080 (59%)]\t    adv_RMSE: 0.9148 adv_Recall: 30.4348 adv_MAP: 0.1363 adv_RCR: 0.6901 time:4.768\n",
      "2023-05-08 19:20:51,699 - INFO - Info:  [704/1080 (65%)]\t    adv_RMSE: 0.7578 adv_Recall: 20.2381 adv_MAP: 0.1290 adv_RCR: 0.8267 time:4.802\n",
      "2023-05-08 19:21:01,483 - INFO - Info:  [768/1080 (71%)]\t    adv_RMSE: 0.9074 adv_Recall: 29.7386 adv_MAP: 0.1504 adv_RCR: 0.6988 time:4.774\n",
      "2023-05-08 19:21:11,243 - INFO - Info:  [832/1080 (76%)]\t    adv_RMSE: 0.8615 adv_Recall: 28.1787 adv_MAP: 0.1693 adv_RCR: 0.7232 time:4.731\n",
      "2023-05-08 19:21:21,034 - INFO - Info:  [896/1080 (82%)]\t    adv_RMSE: 0.7959 adv_Recall: 29.0043 adv_MAP: 0.1264 adv_RCR: 0.7420 time:4.763\n",
      "2023-05-08 19:21:30,854 - INFO - Info:  [960/1080 (88%)]\t    adv_RMSE: 0.8310 adv_Recall: 24.4186 adv_MAP: 0.1061 adv_RCR: 0.7797 time:4.811\n",
      "2023-05-08 19:21:40,650 - INFO - Info:  [1024/1080 (94%)]\t    adv_RMSE: 0.7723 adv_Recall: 24.1206 adv_MAP: 0.1077 adv_RCR: 0.7675 time:4.788\n",
      "2023-05-08 19:21:49,207 - INFO - Info:  [1080/1080 (100%)]\t    adv_RMSE: 0.8392 adv_Recall: 23.7179 adv_MAP: 0.1210 adv_RCR: 0.7640 time:3.554\n",
      "2023-05-08 19:21:52,015 - INFO - Info:  不可感知性质：1.5775830745697021\n",
      "2023-05-08 19:21:52,016 - INFO - 攻击时间：Info:time:6.363 \t  clean_RMSE: 0.6847 clean_Recall: 32.4305 clean_MAP: 0.1856 clean_RCR: 0.6796   adv_RMSE: 0.8443 adv_Recall: 27.0132 adv_MAP: 0.1265 adv_RCR: 0.7375\n",
      "2023-05-08 19:21:55,759 - INFO - ten_ZINBSC_30_42\n"
     ]
    },
    {
     "name": "stdout",
     "output_type": "stream",
     "text": [
      "2023-05-08 19:21:52,0,NYC,Gsnet,ten,ZINBSC,30,32,0.6847454450474136,32.43045387994143,0.18557500325210685,0.6796269542597637,0.8442706005463826,27.013177159590047,0.12646009110696557,0.737533497593551,0.4943005003574828,99.68751162531156,0.9935748894300406,0.0014383082847306433\n"
     ]
    },
    {
     "name": "stderr",
     "output_type": "stream",
     "text": [
      "2023-05-08 19:22:36,609 - INFO - Info:  [64/1080 (6%)]\t    adv_RMSE: 0.8694 adv_Recall: 30.2405 adv_MAP: 0.1377 adv_RCR: 0.7453 time:6.016\n",
      "2023-05-08 19:22:48,755 - INFO - Info:  [128/1080 (12%)]\t    adv_RMSE: 0.8206 adv_Recall: 31.6514 adv_MAP: 0.1848 adv_RCR: 0.6922 time:6.004\n",
      "2023-05-08 19:23:00,794 - INFO - Info:  [192/1080 (18%)]\t    adv_RMSE: 0.8313 adv_Recall: 27.3438 adv_MAP: 0.1575 adv_RCR: 0.7239 time:5.935\n",
      "2023-05-08 19:23:12,864 - INFO - Info:  [256/1080 (24%)]\t    adv_RMSE: 0.9042 adv_Recall: 34.5109 adv_MAP: 0.1677 adv_RCR: 0.6706 time:5.952\n",
      "2023-05-08 19:23:24,996 - INFO - Info:  [320/1080 (29%)]\t    adv_RMSE: 0.8097 adv_Recall: 21.6931 adv_MAP: 0.1048 adv_RCR: 0.7857 time:6.012\n",
      "2023-05-08 19:23:37,059 - INFO - Info:  [384/1080 (35%)]\t    adv_RMSE: 0.8125 adv_Recall: 27.2321 adv_MAP: 0.1237 adv_RCR: 0.7191 time:5.976\n",
      "2023-05-08 19:23:49,165 - INFO - Info:  [448/1080 (41%)]\t    adv_RMSE: 0.8636 adv_Recall: 27.0992 adv_MAP: 0.1398 adv_RCR: 0.6939 time:5.999\n",
      "2023-05-08 19:24:01,190 - INFO - Info:  [512/1080 (47%)]\t    adv_RMSE: 0.7608 adv_Recall: 25.6637 adv_MAP: 0.1435 adv_RCR: 0.7312 time:5.905\n",
      "2023-05-08 19:24:13,309 - INFO - Info:  [576/1080 (53%)]\t    adv_RMSE: 0.8432 adv_Recall: 23.8739 adv_MAP: 0.1109 adv_RCR: 0.7537 time:5.997\n",
      "2023-05-08 19:24:25,365 - INFO - Info:  [640/1080 (59%)]\t    adv_RMSE: 0.8907 adv_Recall: 29.7659 adv_MAP: 0.1383 adv_RCR: 0.6843 time:5.939\n",
      "2023-05-08 19:24:37,473 - INFO - Info:  [704/1080 (65%)]\t    adv_RMSE: 0.7434 adv_Recall: 23.8095 adv_MAP: 0.1607 adv_RCR: 0.7810 time:5.971\n",
      "2023-05-08 19:24:49,528 - INFO - Info:  [768/1080 (71%)]\t    adv_RMSE: 0.8753 adv_Recall: 31.0458 adv_MAP: 0.1990 adv_RCR: 0.6745 time:5.953\n",
      "2023-05-08 19:25:01,618 - INFO - Info:  [832/1080 (76%)]\t    adv_RMSE: 0.8366 adv_Recall: 27.8351 adv_MAP: 0.1745 adv_RCR: 0.7355 time:5.936\n",
      "2023-05-08 19:25:13,703 - INFO - Info:  [896/1080 (82%)]\t    adv_RMSE: 0.7752 adv_Recall: 29.8701 adv_MAP: 0.1340 adv_RCR: 0.7344 time:5.956\n",
      "2023-05-08 19:25:25,803 - INFO - Info:  [960/1080 (88%)]\t    adv_RMSE: 0.8066 adv_Recall: 26.7442 adv_MAP: 0.1080 adv_RCR: 0.7627 time:5.971\n",
      "2023-05-08 19:25:37,902 - INFO - Info:  [1024/1080 (94%)]\t    adv_RMSE: 0.7583 adv_Recall: 21.6080 adv_MAP: 0.1302 adv_RCR: 0.7647 time:5.989\n",
      "2023-05-08 19:25:48,487 - INFO - Info:  [1080/1080 (100%)]\t    adv_RMSE: 0.8248 adv_Recall: 25.0000 adv_MAP: 0.1179 adv_RCR: 0.7592 time:4.467\n",
      "2023-05-08 19:25:51,278 - INFO - Info:  不可感知性质：1.5565823316574097\n",
      "2023-05-08 19:25:51,278 - INFO - 攻击时间：Info:time:7.259 \t  clean_RMSE: 0.6847 clean_Recall: 32.4305 clean_MAP: 0.1856 clean_RCR: 0.6796   adv_RMSE: 0.8236 adv_Recall: 27.7940 adv_MAP: 0.1372 adv_RCR: 0.7298\n",
      "2023-05-08 19:25:54,959 - INFO - ten_ZINBSC_30_43\n"
     ]
    },
    {
     "name": "stdout",
     "output_type": "stream",
     "text": [
      "2023-05-08 19:25:51,0,NYC,Gsnet,ten,ZINBSC,30,32,0.6847454450474136,32.43045387994143,0.18557500325210685,0.6796269542597637,0.8236033993637875,27.794045876037092,0.1372047623795068,0.729781924927248,0.48102960250997917,99.68193147576355,0.993691421477591,0.0013772480501274215\n"
     ]
    },
    {
     "name": "stderr",
     "output_type": "stream",
     "text": [
      "2023-05-08 19:26:35,801 - INFO - Info:  [64/1080 (6%)]\t    adv_RMSE: 0.8855 adv_Recall: 28.8660 adv_MAP: 0.1238 adv_RCR: 0.7531 time:5.970\n",
      "2023-05-08 19:26:47,958 - INFO - Info:  [128/1080 (12%)]\t    adv_RMSE: 0.8307 adv_Recall: 30.7339 adv_MAP: 0.1709 adv_RCR: 0.7185 time:6.015\n",
      "2023-05-08 19:27:00,092 - INFO - Info:  [192/1080 (18%)]\t    adv_RMSE: 0.8490 adv_Recall: 27.7344 adv_MAP: 0.1557 adv_RCR: 0.7138 time:5.971\n",
      "2023-05-08 19:27:12,180 - INFO - Info:  [256/1080 (24%)]\t    adv_RMSE: 0.9218 adv_Recall: 33.9674 adv_MAP: 0.1697 adv_RCR: 0.6985 time:5.968\n",
      "2023-05-08 19:27:24,394 - INFO - Info:  [320/1080 (29%)]\t    adv_RMSE: 0.8102 adv_Recall: 20.6349 adv_MAP: 0.1027 adv_RCR: 0.8104 time:5.998\n",
      "2023-05-08 19:27:36,538 - INFO - Info:  [384/1080 (35%)]\t    adv_RMSE: 0.8217 adv_Recall: 28.1250 adv_MAP: 0.1400 adv_RCR: 0.7424 time:6.011\n",
      "2023-05-08 19:27:48,672 - INFO - Info:  [448/1080 (41%)]\t    adv_RMSE: 0.8886 adv_Recall: 25.1908 adv_MAP: 0.1258 adv_RCR: 0.7501 time:6.022\n",
      "2023-05-08 19:28:00,731 - INFO - Info:  [512/1080 (47%)]\t    adv_RMSE: 0.7761 adv_Recall: 26.9912 adv_MAP: 0.1408 adv_RCR: 0.7170 time:5.917\n",
      "2023-05-08 19:28:12,864 - INFO - Info:  [576/1080 (53%)]\t    adv_RMSE: 0.8595 adv_Recall: 24.7748 adv_MAP: 0.0991 adv_RCR: 0.7678 time:5.995\n",
      "2023-05-08 19:28:25,009 - INFO - Info:  [640/1080 (59%)]\t    adv_RMSE: 0.9067 adv_Recall: 30.7692 adv_MAP: 0.1393 adv_RCR: 0.7065 time:5.992\n",
      "2023-05-08 19:28:37,107 - INFO - Info:  [704/1080 (65%)]\t    adv_RMSE: 0.7577 adv_Recall: 19.6429 adv_MAP: 0.1313 adv_RCR: 0.8351 time:5.985\n",
      "2023-05-08 19:28:49,160 - INFO - Info:  [768/1080 (71%)]\t    adv_RMSE: 0.9031 adv_Recall: 32.0261 adv_MAP: 0.1584 adv_RCR: 0.6845 time:5.950\n",
      "2023-05-08 19:29:01,270 - INFO - Info:  [832/1080 (76%)]\t    adv_RMSE: 0.8577 adv_Recall: 28.8660 adv_MAP: 0.1786 adv_RCR: 0.7298 time:5.935\n",
      "2023-05-08 19:29:13,362 - INFO - Info:  [896/1080 (82%)]\t    adv_RMSE: 0.7880 adv_Recall: 28.1385 adv_MAP: 0.1216 adv_RCR: 0.7389 time:5.961\n",
      "2023-05-08 19:29:25,527 - INFO - Info:  [960/1080 (88%)]\t    adv_RMSE: 0.8269 adv_Recall: 26.1628 adv_MAP: 0.1393 adv_RCR: 0.7705 time:6.002\n",
      "2023-05-08 19:29:37,628 - INFO - Info:  [1024/1080 (94%)]\t    adv_RMSE: 0.7673 adv_Recall: 24.1206 adv_MAP: 0.1344 adv_RCR: 0.7401 time:5.990\n",
      "2023-05-08 19:29:48,233 - INFO - Info:  [1080/1080 (100%)]\t    adv_RMSE: 0.8351 adv_Recall: 23.0769 adv_MAP: 0.1144 adv_RCR: 0.7794 time:4.471\n",
      "2023-05-08 19:29:50,857 - INFO - Info:  不可感知性质：1.6050078868865967\n",
      "2023-05-08 19:29:50,858 - INFO - 攻击时间：Info:time:7.096 \t  clean_RMSE: 0.6847 clean_Recall: 32.4305 clean_MAP: 0.1856 clean_RCR: 0.6796   adv_RMSE: 0.8393 adv_Recall: 27.5988 adv_MAP: 0.1318 adv_RCR: 0.7394\n",
      "2023-05-08 19:29:54,553 - INFO - ten_ZINBSC_30_44\n"
     ]
    },
    {
     "name": "stdout",
     "output_type": "stream",
     "text": [
      "2023-05-08 19:29:50,0,NYC,Gsnet,ten,ZINBSC,30,32,0.6847454450474136,32.43045387994143,0.18557500325210685,0.6796269542597637,0.8393058768584396,27.59882869692533,0.13181322653281916,0.7394228342459367,0.5134202496972399,99.68751162531156,0.9937107104428948,0.0015484428369986665\n"
     ]
    },
    {
     "name": "stderr",
     "output_type": "stream",
     "text": [
      "2023-05-08 19:30:32,901 - INFO - Info:  [64/1080 (6%)]\t    adv_RMSE: 0.8650 adv_Recall: 29.8969 adv_MAP: 0.1378 adv_RCR: 0.7497 time:4.852\n",
      "2023-05-08 19:30:42,735 - INFO - Info:  [128/1080 (12%)]\t    adv_RMSE: 0.8177 adv_Recall: 33.0275 adv_MAP: 0.1727 adv_RCR: 0.6935 time:4.837\n",
      "2023-05-08 19:30:52,564 - INFO - Info:  [192/1080 (18%)]\t    adv_RMSE: 0.8387 adv_Recall: 25.3906 adv_MAP: 0.1416 adv_RCR: 0.7421 time:4.818\n",
      "2023-05-08 19:31:02,372 - INFO - Info:  [256/1080 (24%)]\t    adv_RMSE: 0.9054 adv_Recall: 35.3261 adv_MAP: 0.1729 adv_RCR: 0.6663 time:4.813\n",
      "2023-05-08 19:31:12,202 - INFO - Info:  [320/1080 (29%)]\t    adv_RMSE: 0.7868 adv_Recall: 21.1640 adv_MAP: 0.1134 adv_RCR: 0.8203 time:4.865\n",
      "2023-05-08 19:31:22,080 - INFO - Info:  [384/1080 (35%)]\t    adv_RMSE: 0.8137 adv_Recall: 27.6786 adv_MAP: 0.1333 adv_RCR: 0.7518 time:4.870\n",
      "2023-05-08 19:31:31,917 - INFO - Info:  [448/1080 (41%)]\t    adv_RMSE: 0.8639 adv_Recall: 26.7176 adv_MAP: 0.1451 adv_RCR: 0.7092 time:4.859\n",
      "2023-05-08 19:31:41,741 - INFO - Info:  [512/1080 (47%)]\t    adv_RMSE: 0.7669 adv_Recall: 25.6637 adv_MAP: 0.1298 adv_RCR: 0.7282 time:4.844\n",
      "2023-05-08 19:31:51,604 - INFO - Info:  [576/1080 (53%)]\t    adv_RMSE: 0.8458 adv_Recall: 23.8739 adv_MAP: 0.1140 adv_RCR: 0.7441 time:4.883\n",
      "2023-05-08 19:32:01,465 - INFO - Info:  [640/1080 (59%)]\t    adv_RMSE: 0.8849 adv_Recall: 30.4348 adv_MAP: 0.1454 adv_RCR: 0.7248 time:4.853\n",
      "2023-05-08 19:32:11,320 - INFO - Info:  [704/1080 (65%)]\t    adv_RMSE: 0.7529 adv_Recall: 22.0238 adv_MAP: 0.1377 adv_RCR: 0.7838 time:4.862\n",
      "2023-05-08 19:32:21,102 - INFO - Info:  [768/1080 (71%)]\t    adv_RMSE: 0.8789 adv_Recall: 32.6797 adv_MAP: 0.2011 adv_RCR: 0.6668 time:4.821\n",
      "2023-05-08 19:32:30,917 - INFO - Info:  [832/1080 (76%)]\t    adv_RMSE: 0.8411 adv_Recall: 28.5223 adv_MAP: 0.1653 adv_RCR: 0.7502 time:4.816\n",
      "2023-05-08 19:32:40,752 - INFO - Info:  [896/1080 (82%)]\t    adv_RMSE: 0.7631 adv_Recall: 30.7359 adv_MAP: 0.1134 adv_RCR: 0.7222 time:4.838\n",
      "2023-05-08 19:32:50,665 - INFO - Info:  [960/1080 (88%)]\t    adv_RMSE: 0.8113 adv_Recall: 25.0000 adv_MAP: 0.0992 adv_RCR: 0.7992 time:4.908\n",
      "2023-05-08 19:33:00,471 - INFO - Info:  [1024/1080 (94%)]\t    adv_RMSE: 0.7622 adv_Recall: 24.1206 adv_MAP: 0.1310 adv_RCR: 0.7365 time:4.844\n",
      "2023-05-08 19:33:09,108 - INFO - Info:  [1080/1080 (100%)]\t    adv_RMSE: 0.8054 adv_Recall: 24.3590 adv_MAP: 0.1178 adv_RCR: 0.7731 time:3.630\n",
      "2023-05-08 19:33:11,854 - INFO - Info:  不可感知性质：1.5672516822814941\n",
      "2023-05-08 19:33:11,855 - INFO - 攻击时间：Info:time:6.377 \t  clean_RMSE: 0.6847 clean_Recall: 32.4305 clean_MAP: 0.1856 clean_RCR: 0.6796   adv_RMSE: 0.8223 adv_Recall: 28.1601 adv_MAP: 0.1357 adv_RCR: 0.7315\n",
      "2023-05-08 19:33:15,573 - INFO - ten_ZINBSC_40_26\n"
     ]
    },
    {
     "name": "stdout",
     "output_type": "stream",
     "text": [
      "2023-05-08 19:33:11,0,NYC,Gsnet,ten,ZINBSC,30,32,0.6847454450474136,32.43045387994143,0.18557500325210685,0.6796269542597637,0.8223496461247266,28.160078086871643,0.13565654212154324,0.7315121213817469,0.4841624989953971,99.67077117666754,0.9937999015187948,0.001765783039255592\n"
     ]
    },
    {
     "name": "stderr",
     "output_type": "stream",
     "text": [
      "2023-05-08 19:33:54,201 - INFO - Info:  [64/1080 (6%)]\t    adv_RMSE: 0.9398 adv_Recall: 29.5533 adv_MAP: 0.1396 adv_RCR: 0.7687 time:4.904\n",
      "2023-05-08 19:34:04,197 - INFO - Info:  [128/1080 (12%)]\t    adv_RMSE: 0.8607 adv_Recall: 28.8991 adv_MAP: 0.1471 adv_RCR: 0.7137 time:4.928\n",
      "2023-05-08 19:34:14,149 - INFO - Info:  [192/1080 (18%)]\t    adv_RMSE: 0.8846 adv_Recall: 22.2656 adv_MAP: 0.1287 adv_RCR: 0.7996 time:4.869\n",
      "2023-05-08 19:34:24,080 - INFO - Info:  [256/1080 (24%)]\t    adv_RMSE: 0.9524 adv_Recall: 32.8804 adv_MAP: 0.1431 adv_RCR: 0.6667 time:4.864\n",
      "2023-05-08 19:34:34,042 - INFO - Info:  [320/1080 (29%)]\t    adv_RMSE: 0.8647 adv_Recall: 19.5767 adv_MAP: 0.0804 adv_RCR: 0.8252 time:4.924\n",
      "2023-05-08 19:34:44,015 - INFO - Info:  [384/1080 (35%)]\t    adv_RMSE: 0.9056 adv_Recall: 26.3393 adv_MAP: 0.1429 adv_RCR: 0.7399 time:4.951\n",
      "2023-05-08 19:34:53,970 - INFO - Info:  [448/1080 (41%)]\t    adv_RMSE: 0.9147 adv_Recall: 25.1908 adv_MAP: 0.1302 adv_RCR: 0.7146 time:4.886\n",
      "2023-05-08 19:35:03,890 - INFO - Info:  [512/1080 (47%)]\t    adv_RMSE: 0.7979 adv_Recall: 24.7788 adv_MAP: 0.1351 adv_RCR: 0.7095 time:4.855\n",
      "2023-05-08 19:35:13,814 - INFO - Info:  [576/1080 (53%)]\t    adv_RMSE: 0.9003 adv_Recall: 23.4234 adv_MAP: 0.1085 adv_RCR: 0.7741 time:4.898\n",
      "2023-05-08 19:35:23,740 - INFO - Info:  [640/1080 (59%)]\t    adv_RMSE: 0.9458 adv_Recall: 27.0903 adv_MAP: 0.1172 adv_RCR: 0.7600 time:4.888\n",
      "2023-05-08 19:35:33,733 - INFO - Info:  [704/1080 (65%)]\t    adv_RMSE: 0.8008 adv_Recall: 23.2143 adv_MAP: 0.1287 adv_RCR: 0.7569 time:4.905\n",
      "2023-05-08 19:35:43,659 - INFO - Info:  [768/1080 (71%)]\t    adv_RMSE: 0.9233 adv_Recall: 32.0261 adv_MAP: 0.1903 adv_RCR: 0.6661 time:4.874\n",
      "2023-05-08 19:35:53,591 - INFO - Info:  [832/1080 (76%)]\t    adv_RMSE: 0.8889 adv_Recall: 26.8041 adv_MAP: 0.1493 adv_RCR: 0.7591 time:4.859\n",
      "2023-05-08 19:36:03,497 - INFO - Info:  [896/1080 (82%)]\t    adv_RMSE: 0.8346 adv_Recall: 29.4372 adv_MAP: 0.1179 adv_RCR: 0.7025 time:4.891\n",
      "2023-05-08 19:36:13,491 - INFO - Info:  [960/1080 (88%)]\t    adv_RMSE: 0.8617 adv_Recall: 25.5814 adv_MAP: 0.1103 adv_RCR: 0.7779 time:4.916\n",
      "2023-05-08 19:36:23,397 - INFO - Info:  [1024/1080 (94%)]\t    adv_RMSE: 0.7849 adv_Recall: 24.6231 adv_MAP: 0.1203 adv_RCR: 0.7356 time:4.889\n",
      "2023-05-08 19:36:32,060 - INFO - Info:  [1080/1080 (100%)]\t    adv_RMSE: 0.8774 adv_Recall: 21.7949 adv_MAP: 0.0910 adv_RCR: 0.7992 time:3.637\n",
      "2023-05-08 19:36:34,726 - INFO - Info:  不可感知性质：1.822792649269104\n",
      "2023-05-08 19:36:34,727 - INFO - 攻击时间：Info:time:6.304 \t  clean_RMSE: 0.6847 clean_Recall: 32.4305 clean_MAP: 0.1856 clean_RCR: 0.6796   adv_RMSE: 0.8788 adv_Recall: 26.8668 adv_MAP: 0.1242 adv_RCR: 0.7408\n",
      "2023-05-08 19:36:38,432 - INFO - ten_ZINBSC_40_27\n"
     ]
    },
    {
     "name": "stdout",
     "output_type": "stream",
     "text": [
      "2023-05-08 19:36:34,0,NYC,Gsnet,ten,ZINBSC,40,32,0.6847454450474136,32.43045387994143,0.18557500325210685,0.6796269542597637,0.8788193655716595,26.866764275256223,0.12420449019451686,0.7408457605852965,0.508163300893218,99.67449127636621,0.9936325031136802,0.0016065915413420295\n"
     ]
    },
    {
     "name": "stderr",
     "output_type": "stream",
     "text": [
      "2023-05-08 19:37:16,976 - INFO - Info:  [64/1080 (6%)]\t    adv_RMSE: 0.9404 adv_Recall: 28.5223 adv_MAP: 0.1458 adv_RCR: 0.7619 time:4.906\n",
      "2023-05-08 19:37:26,989 - INFO - Info:  [128/1080 (12%)]\t    adv_RMSE: 0.8658 adv_Recall: 26.1468 adv_MAP: 0.0935 adv_RCR: 0.7889 time:4.961\n",
      "2023-05-08 19:37:36,919 - INFO - Info:  [192/1080 (18%)]\t    adv_RMSE: 0.8808 adv_Recall: 19.9219 adv_MAP: 0.1132 adv_RCR: 0.8238 time:4.895\n",
      "2023-05-08 19:37:46,863 - INFO - Info:  [256/1080 (24%)]\t    adv_RMSE: 0.9568 adv_Recall: 34.5109 adv_MAP: 0.1460 adv_RCR: 0.6884 time:4.889\n",
      "2023-05-08 19:37:56,814 - INFO - Info:  [320/1080 (29%)]\t    adv_RMSE: 0.8669 adv_Recall: 21.1640 adv_MAP: 0.0803 adv_RCR: 0.8528 time:4.926\n",
      "2023-05-08 19:38:06,798 - INFO - Info:  [384/1080 (35%)]\t    adv_RMSE: 0.9087 adv_Recall: 26.3393 adv_MAP: 0.1493 adv_RCR: 0.7358 time:4.916\n",
      "2023-05-08 19:38:16,736 - INFO - Info:  [448/1080 (41%)]\t    adv_RMSE: 0.9171 adv_Recall: 25.1908 adv_MAP: 0.1266 adv_RCR: 0.7190 time:4.905\n",
      "2023-05-08 19:38:26,641 - INFO - Info:  [512/1080 (47%)]\t    adv_RMSE: 0.8021 adv_Recall: 25.6637 adv_MAP: 0.1656 adv_RCR: 0.7111 time:4.854\n",
      "2023-05-08 19:38:36,583 - INFO - Info:  [576/1080 (53%)]\t    adv_RMSE: 0.9088 adv_Recall: 21.6216 adv_MAP: 0.0873 adv_RCR: 0.8054 time:4.934\n",
      "2023-05-08 19:38:46,511 - INFO - Info:  [640/1080 (59%)]\t    adv_RMSE: 0.9572 adv_Recall: 26.7559 adv_MAP: 0.1068 adv_RCR: 0.7628 time:4.865\n",
      "2023-05-08 19:38:56,434 - INFO - Info:  [704/1080 (65%)]\t    adv_RMSE: 0.7994 adv_Recall: 22.6190 adv_MAP: 0.1265 adv_RCR: 0.7722 time:4.910\n",
      "2023-05-08 19:39:06,354 - INFO - Info:  [768/1080 (71%)]\t    adv_RMSE: 0.9314 adv_Recall: 30.3922 adv_MAP: 0.1246 adv_RCR: 0.7357 time:4.877\n",
      "2023-05-08 19:39:16,321 - INFO - Info:  [832/1080 (76%)]\t    adv_RMSE: 0.8966 adv_Recall: 27.8351 adv_MAP: 0.1625 adv_RCR: 0.6925 time:4.893\n",
      "2023-05-08 19:39:26,138 - INFO - Info:  [896/1080 (82%)]\t    adv_RMSE: 0.8404 adv_Recall: 29.8701 adv_MAP: 0.1141 adv_RCR: 0.7156 time:4.784\n",
      "2023-05-08 19:39:35,883 - INFO - Info:  [960/1080 (88%)]\t    adv_RMSE: 0.8663 adv_Recall: 25.5814 adv_MAP: 0.1103 adv_RCR: 0.7766 time:4.787\n",
      "2023-05-08 19:39:45,536 - INFO - Info:  [1024/1080 (94%)]\t    adv_RMSE: 0.7883 adv_Recall: 25.6281 adv_MAP: 0.1369 adv_RCR: 0.7268 time:4.770\n",
      "2023-05-08 19:39:54,052 - INFO - Info:  [1080/1080 (100%)]\t    adv_RMSE: 0.8826 adv_Recall: 25.6410 adv_MAP: 0.1371 adv_RCR: 0.7452 time:3.572\n",
      "2023-05-08 19:39:56,635 - INFO - Info:  不可感知性质：1.8383204936981201\n",
      "2023-05-08 19:39:56,636 - INFO - 攻击时间：Info:time:6.156 \t  clean_RMSE: 0.6847 clean_Recall: 32.4305 clean_MAP: 0.1856 clean_RCR: 0.6796   adv_RMSE: 0.8817 adv_Recall: 26.3787 adv_MAP: 0.1179 adv_RCR: 0.7478\n",
      "2023-05-08 19:40:00,357 - INFO - ten_ZINBSC_40_28\n"
     ]
    },
    {
     "name": "stdout",
     "output_type": "stream",
     "text": [
      "2023-05-08 19:39:56,0,NYC,Gsnet,ten,ZINBSC,40,32,0.6847454450474136,32.43045387994143,0.18557500325210685,0.6796269542597637,0.8817388675993096,26.378721327476818,0.11787583077733048,0.7477956406221892,0.5211148103722781,99.67263122651687,0.9933530576662692,0.0015724794784399633\n"
     ]
    },
    {
     "name": "stderr",
     "output_type": "stream",
     "text": [
      "2023-05-08 19:40:38,599 - INFO - Info:  [64/1080 (6%)]\t    adv_RMSE: 0.9272 adv_Recall: 29.8969 adv_MAP: 0.1672 adv_RCR: 0.7537 time:4.804\n",
      "2023-05-08 19:40:48,327 - INFO - Info:  [128/1080 (12%)]\t    adv_RMSE: 0.8607 adv_Recall: 28.8991 adv_MAP: 0.1167 adv_RCR: 0.7384 time:4.769\n",
      "2023-05-08 19:40:58,083 - INFO - Info:  [192/1080 (18%)]\t    adv_RMSE: 0.8701 adv_Recall: 22.2656 adv_MAP: 0.1184 adv_RCR: 0.7908 time:4.786\n",
      "2023-05-08 19:41:07,807 - INFO - Info:  [256/1080 (24%)]\t    adv_RMSE: 0.9329 adv_Recall: 34.2391 adv_MAP: 0.1437 adv_RCR: 0.6744 time:4.763\n",
      "2023-05-08 19:41:17,506 - INFO - Info:  [320/1080 (29%)]\t    adv_RMSE: 0.8602 adv_Recall: 19.0476 adv_MAP: 0.0838 adv_RCR: 0.8394 time:4.798\n",
      "2023-05-08 19:41:27,249 - INFO - Info:  [384/1080 (35%)]\t    adv_RMSE: 0.8953 adv_Recall: 26.3393 adv_MAP: 0.1582 adv_RCR: 0.7363 time:4.810\n",
      "2023-05-08 19:41:36,933 - INFO - Info:  [448/1080 (41%)]\t    adv_RMSE: 0.8941 adv_Recall: 25.5725 adv_MAP: 0.1230 adv_RCR: 0.7089 time:4.764\n",
      "2023-05-08 19:41:46,614 - INFO - Info:  [512/1080 (47%)]\t    adv_RMSE: 0.7845 adv_Recall: 24.7788 adv_MAP: 0.1429 adv_RCR: 0.7247 time:4.751\n",
      "2023-05-08 19:41:56,371 - INFO - Info:  [576/1080 (53%)]\t    adv_RMSE: 0.8958 adv_Recall: 24.3243 adv_MAP: 0.1030 adv_RCR: 0.7988 time:4.813\n",
      "2023-05-08 19:42:06,018 - INFO - Info:  [640/1080 (59%)]\t    adv_RMSE: 0.9388 adv_Recall: 28.0936 adv_MAP: 0.1225 adv_RCR: 0.7408 time:4.742\n",
      "2023-05-08 19:42:15,797 - INFO - Info:  [704/1080 (65%)]\t    adv_RMSE: 0.7881 adv_Recall: 22.6190 adv_MAP: 0.1383 adv_RCR: 0.7800 time:4.827\n",
      "2023-05-08 19:42:25,491 - INFO - Info:  [768/1080 (71%)]\t    adv_RMSE: 0.9096 adv_Recall: 30.7190 adv_MAP: 0.1323 adv_RCR: 0.7136 time:4.771\n",
      "2023-05-08 19:42:35,197 - INFO - Info:  [832/1080 (76%)]\t    adv_RMSE: 0.8961 adv_Recall: 29.2096 adv_MAP: 0.1801 adv_RCR: 0.7239 time:4.763\n",
      "2023-05-08 19:42:44,869 - INFO - Info:  [896/1080 (82%)]\t    adv_RMSE: 0.8388 adv_Recall: 25.9740 adv_MAP: 0.1037 adv_RCR: 0.7379 time:4.775\n",
      "2023-05-08 19:42:54,617 - INFO - Info:  [960/1080 (88%)]\t    adv_RMSE: 0.8399 adv_Recall: 26.1628 adv_MAP: 0.1235 adv_RCR: 0.7780 time:4.810\n",
      "2023-05-08 19:43:04,338 - INFO - Info:  [1024/1080 (94%)]\t    adv_RMSE: 0.7808 adv_Recall: 24.1206 adv_MAP: 0.1277 adv_RCR: 0.7408 time:4.780\n",
      "2023-05-08 19:43:12,838 - INFO - Info:  [1080/1080 (100%)]\t    adv_RMSE: 0.8688 adv_Recall: 20.5128 adv_MAP: 0.0956 adv_RCR: 0.7885 time:3.557\n",
      "2023-05-08 19:43:15,474 - INFO - Info:  不可感知性质：1.7882232666015625\n",
      "2023-05-08 19:43:15,475 - INFO - 攻击时间：Info:time:6.194 \t  clean_RMSE: 0.6847 clean_Recall: 32.4305 clean_MAP: 0.1856 clean_RCR: 0.6796   adv_RMSE: 0.8692 adv_Recall: 26.9766 adv_MAP: 0.1239 adv_RCR: 0.7399\n",
      "2023-05-08 19:43:19,163 - INFO - ten_ZINBSC_40_29\n"
     ]
    },
    {
     "name": "stdout",
     "output_type": "stream",
     "text": [
      "2023-05-08 19:43:15,0,NYC,Gsnet,ten,ZINBSC,40,32,0.6847454450474136,32.43045387994143,0.18557500325210685,0.6796269542597637,0.8692416809334922,26.976573938506586,0.12386619465226732,0.7398595462765307,0.4902785451082876,99.64659052862616,0.9932061723287583,0.0016051260223083547\n"
     ]
    },
    {
     "name": "stderr",
     "output_type": "stream",
     "text": [
      "2023-05-08 19:43:57,336 - INFO - Info:  [64/1080 (6%)]\t    adv_RMSE: 0.9245 adv_Recall: 29.2096 adv_MAP: 0.1452 adv_RCR: 0.7435 time:4.799\n",
      "2023-05-08 19:44:07,089 - INFO - Info:  [128/1080 (12%)]\t    adv_RMSE: 0.8673 adv_Recall: 27.5229 adv_MAP: 0.1082 adv_RCR: 0.7331 time:4.798\n",
      "2023-05-08 19:44:16,798 - INFO - Info:  [192/1080 (18%)]\t    adv_RMSE: 0.8748 adv_Recall: 23.4375 adv_MAP: 0.1237 adv_RCR: 0.7771 time:4.774\n",
      "2023-05-08 19:44:26,490 - INFO - Info:  [256/1080 (24%)]\t    adv_RMSE: 0.9336 adv_Recall: 34.2391 adv_MAP: 0.1446 adv_RCR: 0.6447 time:4.764\n",
      "2023-05-08 19:44:36,191 - INFO - Info:  [320/1080 (29%)]\t    adv_RMSE: 0.8613 adv_Recall: 16.4021 adv_MAP: 0.0713 adv_RCR: 0.8813 time:4.798\n",
      "2023-05-08 19:44:45,929 - INFO - Info:  [384/1080 (35%)]\t    adv_RMSE: 0.8834 adv_Recall: 25.0000 adv_MAP: 0.1149 adv_RCR: 0.7540 time:4.800\n",
      "2023-05-08 19:44:55,664 - INFO - Info:  [448/1080 (41%)]\t    adv_RMSE: 0.9007 adv_Recall: 25.9542 adv_MAP: 0.1285 adv_RCR: 0.7178 time:4.803\n",
      "2023-05-08 19:45:05,403 - INFO - Info:  [512/1080 (47%)]\t    adv_RMSE: 0.7952 adv_Recall: 25.6637 adv_MAP: 0.1403 adv_RCR: 0.7350 time:4.768\n",
      "2023-05-08 19:45:15,127 - INFO - Info:  [576/1080 (53%)]\t    adv_RMSE: 0.8983 adv_Recall: 23.4234 adv_MAP: 0.0918 adv_RCR: 0.7697 time:4.803\n",
      "2023-05-08 19:45:24,829 - INFO - Info:  [640/1080 (59%)]\t    adv_RMSE: 0.9419 adv_Recall: 30.1003 adv_MAP: 0.1548 adv_RCR: 0.7342 time:4.784\n",
      "2023-05-08 19:45:34,537 - INFO - Info:  [704/1080 (65%)]\t    adv_RMSE: 0.7972 adv_Recall: 22.0238 adv_MAP: 0.1410 adv_RCR: 0.7739 time:4.765\n",
      "2023-05-08 19:45:44,267 - INFO - Info:  [768/1080 (71%)]\t    adv_RMSE: 0.9134 adv_Recall: 29.7386 adv_MAP: 0.1336 adv_RCR: 0.7218 time:4.785\n",
      "2023-05-08 19:45:53,976 - INFO - Info:  [832/1080 (76%)]\t    adv_RMSE: 0.8978 adv_Recall: 29.8969 adv_MAP: 0.1854 adv_RCR: 0.6894 time:4.766\n",
      "2023-05-08 19:46:03,663 - INFO - Info:  [896/1080 (82%)]\t    adv_RMSE: 0.8363 adv_Recall: 28.5714 adv_MAP: 0.1171 adv_RCR: 0.7333 time:4.756\n",
      "2023-05-08 19:46:13,375 - INFO - Info:  [960/1080 (88%)]\t    adv_RMSE: 0.8475 adv_Recall: 22.6744 adv_MAP: 0.1182 adv_RCR: 0.8048 time:4.771\n",
      "2023-05-08 19:46:23,148 - INFO - Info:  [1024/1080 (94%)]\t    adv_RMSE: 0.7800 adv_Recall: 23.1156 adv_MAP: 0.1310 adv_RCR: 0.7689 time:4.816\n",
      "2023-05-08 19:46:31,642 - INFO - Info:  [1080/1080 (100%)]\t    adv_RMSE: 0.8716 adv_Recall: 23.0769 adv_MAP: 0.0855 adv_RCR: 0.7990 time:3.580\n",
      "2023-05-08 19:46:34,348 - INFO - Info:  不可感知性质：1.8116614818572998\n",
      "2023-05-08 19:46:34,349 - INFO - 攻击时间：Info:time:6.287 \t  clean_RMSE: 0.6847 clean_Recall: 32.4305 clean_MAP: 0.1856 clean_RCR: 0.6796   adv_RMSE: 0.8707 adv_Recall: 26.9522 adv_MAP: 0.1233 adv_RCR: 0.7412\n",
      "2023-05-08 19:46:38,023 - INFO - ten_ZINBSC_40_30\n"
     ]
    },
    {
     "name": "stdout",
     "output_type": "stream",
     "text": [
      "2023-05-08 19:46:34,0,NYC,Gsnet,ten,ZINBSC,40,32,0.6847454450474136,32.43045387994143,0.18557500325210685,0.6796269542597637,0.8707154883470621,26.952171791117618,0.12325642358035246,0.741224027543299,0.5049300250575622,99.64659052862616,0.9933904534038959,0.0015469657718596315\n"
     ]
    },
    {
     "name": "stderr",
     "output_type": "stream",
     "text": [
      "2023-05-08 19:47:16,017 - INFO - Info:  [64/1080 (6%)]\t    adv_RMSE: 0.9282 adv_Recall: 27.8351 adv_MAP: 0.1287 adv_RCR: 0.7435 time:4.781\n",
      "2023-05-08 19:47:25,771 - INFO - Info:  [128/1080 (12%)]\t    adv_RMSE: 0.8674 adv_Recall: 26.6055 adv_MAP: 0.1130 adv_RCR: 0.7496 time:4.806\n",
      "2023-05-08 19:47:35,507 - INFO - Info:  [192/1080 (18%)]\t    adv_RMSE: 0.8699 adv_Recall: 23.4375 adv_MAP: 0.1324 adv_RCR: 0.7698 time:4.763\n",
      "2023-05-08 19:47:45,225 - INFO - Info:  [256/1080 (24%)]\t    adv_RMSE: 0.9500 adv_Recall: 33.4239 adv_MAP: 0.1416 adv_RCR: 0.6780 time:4.796\n",
      "2023-05-08 19:47:54,941 - INFO - Info:  [320/1080 (29%)]\t    adv_RMSE: 0.8437 adv_Recall: 20.6349 adv_MAP: 0.0894 adv_RCR: 0.8274 time:4.807\n",
      "2023-05-08 19:48:04,714 - INFO - Info:  [384/1080 (35%)]\t    adv_RMSE: 0.8951 adv_Recall: 29.9107 adv_MAP: 0.1836 adv_RCR: 0.7101 time:4.807\n",
      "2023-05-08 19:48:14,471 - INFO - Info:  [448/1080 (41%)]\t    adv_RMSE: 0.9082 adv_Recall: 25.5725 adv_MAP: 0.1369 adv_RCR: 0.7228 time:4.819\n",
      "2023-05-08 19:48:24,190 - INFO - Info:  [512/1080 (47%)]\t    adv_RMSE: 0.7899 adv_Recall: 24.3363 adv_MAP: 0.1408 adv_RCR: 0.7135 time:4.771\n",
      "2023-05-08 19:48:33,960 - INFO - Info:  [576/1080 (53%)]\t    adv_RMSE: 0.9027 adv_Recall: 23.8739 adv_MAP: 0.0958 adv_RCR: 0.7561 time:4.816\n",
      "2023-05-08 19:48:43,619 - INFO - Info:  [640/1080 (59%)]\t    adv_RMSE: 0.9307 adv_Recall: 29.7659 adv_MAP: 0.1599 adv_RCR: 0.6947 time:4.751\n",
      "2023-05-08 19:48:53,417 - INFO - Info:  [704/1080 (65%)]\t    adv_RMSE: 0.7985 adv_Recall: 23.8095 adv_MAP: 0.1588 adv_RCR: 0.7444 time:4.825\n",
      "2023-05-08 19:49:03,166 - INFO - Info:  [768/1080 (71%)]\t    adv_RMSE: 0.9234 adv_Recall: 32.3529 adv_MAP: 0.1332 adv_RCR: 0.6600 time:4.775\n",
      "2023-05-08 19:49:12,862 - INFO - Info:  [832/1080 (76%)]\t    adv_RMSE: 0.8898 adv_Recall: 27.8351 adv_MAP: 0.1663 adv_RCR: 0.7250 time:4.754\n",
      "2023-05-08 19:49:22,630 - INFO - Info:  [896/1080 (82%)]\t    adv_RMSE: 0.8375 adv_Recall: 30.3030 adv_MAP: 0.1097 adv_RCR: 0.7283 time:4.779\n",
      "2023-05-08 19:49:32,414 - INFO - Info:  [960/1080 (88%)]\t    adv_RMSE: 0.8518 adv_Recall: 21.5116 adv_MAP: 0.1221 adv_RCR: 0.8012 time:4.815\n",
      "2023-05-08 19:49:42,181 - INFO - Info:  [1024/1080 (94%)]\t    adv_RMSE: 0.7859 adv_Recall: 22.6131 adv_MAP: 0.1316 adv_RCR: 0.7850 time:4.826\n",
      "2023-05-08 19:49:50,706 - INFO - Info:  [1080/1080 (100%)]\t    adv_RMSE: 0.8703 adv_Recall: 21.7949 adv_MAP: 0.1097 adv_RCR: 0.8219 time:3.574\n",
      "2023-05-08 19:49:53,422 - INFO - Info:  不可感知性质：1.8365435600280762\n",
      "2023-05-08 19:49:53,423 - INFO - 攻击时间：Info:time:6.292 \t  clean_RMSE: 0.6847 clean_Recall: 32.4305 clean_MAP: 0.1856 clean_RCR: 0.6796   adv_RMSE: 0.8709 adv_Recall: 26.8058 adv_MAP: 0.1253 adv_RCR: 0.7412\n",
      "2023-05-08 19:49:57,152 - INFO - ten_ZINBSC_40_31\n"
     ]
    },
    {
     "name": "stdout",
     "output_type": "stream",
     "text": [
      "2023-05-08 19:49:53,0,NYC,Gsnet,ten,ZINBSC,40,32,0.6847454450474136,32.43045387994143,0.18557500325210685,0.6796269542597637,0.87092861676397,26.805758906783794,0.1252835793268593,0.7412362505193892,0.528161880762264,99.65775082772218,0.9928486180737467,0.0014765453560020667\n"
     ]
    },
    {
     "name": "stderr",
     "output_type": "stream",
     "text": [
      "2023-05-08 19:50:37,907 - INFO - Info:  [64/1080 (6%)]\t    adv_RMSE: 0.9307 adv_Recall: 30.2405 adv_MAP: 0.1259 adv_RCR: 0.7426 time:6.043\n",
      "2023-05-08 19:50:50,126 - INFO - Info:  [128/1080 (12%)]\t    adv_RMSE: 0.8611 adv_Recall: 28.4404 adv_MAP: 0.1398 adv_RCR: 0.7345 time:6.046\n",
      "2023-05-08 19:51:02,278 - INFO - Info:  [192/1080 (18%)]\t    adv_RMSE: 0.8571 adv_Recall: 25.3906 adv_MAP: 0.1425 adv_RCR: 0.7684 time:5.999\n",
      "2023-05-08 19:51:14,429 - INFO - Info:  [256/1080 (24%)]\t    adv_RMSE: 0.9460 adv_Recall: 34.5109 adv_MAP: 0.1602 adv_RCR: 0.6692 time:5.995\n",
      "2023-05-08 19:51:26,647 - INFO - Info:  [320/1080 (29%)]\t    adv_RMSE: 0.8522 adv_Recall: 19.5767 adv_MAP: 0.0796 adv_RCR: 0.8363 time:6.037\n",
      "2023-05-08 19:51:38,907 - INFO - Info:  [384/1080 (35%)]\t    adv_RMSE: 0.8902 adv_Recall: 26.7857 adv_MAP: 0.1248 adv_RCR: 0.7657 time:6.046\n",
      "2023-05-08 19:51:51,127 - INFO - Info:  [448/1080 (41%)]\t    adv_RMSE: 0.8961 adv_Recall: 24.8092 adv_MAP: 0.1285 adv_RCR: 0.7420 time:6.062\n",
      "2023-05-08 19:52:03,290 - INFO - Info:  [512/1080 (47%)]\t    adv_RMSE: 0.7869 adv_Recall: 24.3363 adv_MAP: 0.1312 adv_RCR: 0.7244 time:5.975\n",
      "2023-05-08 19:52:15,530 - INFO - Info:  [576/1080 (53%)]\t    adv_RMSE: 0.8958 adv_Recall: 22.5225 adv_MAP: 0.0922 adv_RCR: 0.7808 time:6.058\n",
      "2023-05-08 19:52:27,669 - INFO - Info:  [640/1080 (59%)]\t    adv_RMSE: 0.9316 adv_Recall: 28.0936 adv_MAP: 0.1389 adv_RCR: 0.7354 time:5.986\n",
      "2023-05-08 19:52:38,757 - INFO - Info:  [704/1080 (65%)]\t    adv_RMSE: 0.7932 adv_Recall: 21.4286 adv_MAP: 0.1044 adv_RCR: 0.7968 time:4.920\n",
      "2023-05-08 19:52:48,653 - INFO - Info:  [768/1080 (71%)]\t    adv_RMSE: 0.9211 adv_Recall: 30.7190 adv_MAP: 0.1333 adv_RCR: 0.6768 time:4.881\n",
      "2023-05-08 19:52:58,592 - INFO - Info:  [832/1080 (76%)]\t    adv_RMSE: 0.8802 adv_Recall: 26.8041 adv_MAP: 0.1614 adv_RCR: 0.7504 time:4.859\n",
      "2023-05-08 19:53:08,534 - INFO - Info:  [896/1080 (82%)]\t    adv_RMSE: 0.8406 adv_Recall: 29.0043 adv_MAP: 0.0981 adv_RCR: 0.7438 time:4.899\n",
      "2023-05-08 19:53:18,453 - INFO - Info:  [960/1080 (88%)]\t    adv_RMSE: 0.8461 adv_Recall: 24.4186 adv_MAP: 0.1037 adv_RCR: 0.7949 time:4.880\n",
      "2023-05-08 19:53:28,388 - INFO - Info:  [1024/1080 (94%)]\t    adv_RMSE: 0.7855 adv_Recall: 23.1156 adv_MAP: 0.1189 adv_RCR: 0.7643 time:4.922\n",
      "2023-05-08 19:53:37,069 - INFO - Info:  [1080/1080 (100%)]\t    adv_RMSE: 0.8743 adv_Recall: 21.1538 adv_MAP: 0.0666 adv_RCR: 0.7971 time:3.640\n",
      "2023-05-08 19:53:39,737 - INFO - Info:  不可感知性质：1.8259811401367188\n",
      "2023-05-08 19:53:39,738 - INFO - 攻击时间：Info:time:6.308 \t  clean_RMSE: 0.6847 clean_Recall: 32.4305 clean_MAP: 0.1856 clean_RCR: 0.6796   adv_RMSE: 0.8682 adv_Recall: 26.7326 adv_MAP: 0.1204 adv_RCR: 0.7442\n",
      "2023-05-08 19:53:43,433 - INFO - ten_ZINBSC_40_32\n"
     ]
    },
    {
     "name": "stdout",
     "output_type": "stream",
     "text": [
      "2023-05-08 19:53:39,0,NYC,Gsnet,ten,ZINBSC,40,32,0.6847454450474136,32.43045387994143,0.18557500325210685,0.6796269542597637,0.8681896224960208,26.732552464616887,0.12043618682207564,0.7442387596851225,0.5294402839050241,99.67077117666754,0.9925194774336709,0.0014097625706649202\n"
     ]
    },
    {
     "name": "stderr",
     "output_type": "stream",
     "text": [
      "2023-05-08 19:54:22,008 - INFO - Info:  [64/1080 (6%)]\t    adv_RMSE: 0.9286 adv_Recall: 29.2096 adv_MAP: 0.1253 adv_RCR: 0.7382 time:4.919\n",
      "2023-05-08 19:54:31,959 - INFO - Info:  [128/1080 (12%)]\t    adv_RMSE: 0.8684 adv_Recall: 27.9817 adv_MAP: 0.1207 adv_RCR: 0.7782 time:4.878\n",
      "2023-05-08 19:54:41,673 - INFO - Info:  [192/1080 (18%)]\t    adv_RMSE: 0.8536 adv_Recall: 27.3438 adv_MAP: 0.1529 adv_RCR: 0.7224 time:4.763\n",
      "2023-05-08 19:54:51,436 - INFO - Info:  [256/1080 (24%)]\t    adv_RMSE: 0.9458 adv_Recall: 32.6087 adv_MAP: 0.1597 adv_RCR: 0.6756 time:4.803\n",
      "2023-05-08 19:55:01,162 - INFO - Info:  [320/1080 (29%)]\t    adv_RMSE: 0.8515 adv_Recall: 20.6349 adv_MAP: 0.0879 adv_RCR: 0.8099 time:4.813\n",
      "2023-05-08 19:55:10,952 - INFO - Info:  [384/1080 (35%)]\t    adv_RMSE: 0.8874 adv_Recall: 27.2321 adv_MAP: 0.1278 adv_RCR: 0.7659 time:4.830\n",
      "2023-05-08 19:55:20,694 - INFO - Info:  [448/1080 (41%)]\t    adv_RMSE: 0.9062 adv_Recall: 26.3359 adv_MAP: 0.1303 adv_RCR: 0.7302 time:4.804\n",
      "2023-05-08 19:55:30,399 - INFO - Info:  [512/1080 (47%)]\t    adv_RMSE: 0.7881 adv_Recall: 23.8938 adv_MAP: 0.1328 adv_RCR: 0.7418 time:4.789\n",
      "2023-05-08 19:55:40,130 - INFO - Info:  [576/1080 (53%)]\t    adv_RMSE: 0.8924 adv_Recall: 24.7748 adv_MAP: 0.0990 adv_RCR: 0.7613 time:4.802\n",
      "2023-05-08 19:55:49,841 - INFO - Info:  [640/1080 (59%)]\t    adv_RMSE: 0.9379 adv_Recall: 28.4281 adv_MAP: 0.1334 adv_RCR: 0.7192 time:4.802\n",
      "2023-05-08 19:55:59,582 - INFO - Info:  [704/1080 (65%)]\t    adv_RMSE: 0.7887 adv_Recall: 20.2381 adv_MAP: 0.0939 adv_RCR: 0.7863 time:4.801\n",
      "2023-05-08 19:56:09,331 - INFO - Info:  [768/1080 (71%)]\t    adv_RMSE: 0.9226 adv_Recall: 30.3922 adv_MAP: 0.1493 adv_RCR: 0.6892 time:4.796\n",
      "2023-05-08 19:56:19,072 - INFO - Info:  [832/1080 (76%)]\t    adv_RMSE: 0.8762 adv_Recall: 28.5223 adv_MAP: 0.1711 adv_RCR: 0.6955 time:4.763\n",
      "2023-05-08 19:56:28,775 - INFO - Info:  [896/1080 (82%)]\t    adv_RMSE: 0.8372 adv_Recall: 32.4675 adv_MAP: 0.1145 adv_RCR: 0.6972 time:4.780\n",
      "2023-05-08 19:56:38,541 - INFO - Info:  [960/1080 (88%)]\t    adv_RMSE: 0.8556 adv_Recall: 24.4186 adv_MAP: 0.1281 adv_RCR: 0.7867 time:4.807\n",
      "2023-05-08 19:56:48,221 - INFO - Info:  [1024/1080 (94%)]\t    adv_RMSE: 0.7802 adv_Recall: 22.6131 adv_MAP: 0.1220 adv_RCR: 0.7753 time:4.757\n",
      "2023-05-08 19:56:56,753 - INFO - Info:  [1080/1080 (100%)]\t    adv_RMSE: 0.8749 adv_Recall: 20.5128 adv_MAP: 0.1004 adv_RCR: 0.7920 time:3.569\n",
      "2023-05-08 19:56:59,434 - INFO - Info:  不可感知性质：1.8524621725082397\n",
      "2023-05-08 19:56:59,434 - INFO - 攻击时间：Info:time:6.250 \t  clean_RMSE: 0.6847 clean_Recall: 32.4305 clean_MAP: 0.1856 clean_RCR: 0.6796   adv_RMSE: 0.8689 adv_Recall: 27.5622 adv_MAP: 0.1266 adv_RCR: 0.7365\n",
      "2023-05-08 19:57:03,132 - INFO - ten_ZINBSC_40_33\n"
     ]
    },
    {
     "name": "stdout",
     "output_type": "stream",
     "text": [
      "2023-05-08 19:56:59,0,NYC,Gsnet,ten,ZINBSC,40,32,0.6847454450474136,32.43045387994143,0.18557500325210685,0.6796269542597637,0.8689102272385789,27.562225475841874,0.12656596941193646,0.7365242053444582,0.5294376291987779,99.65961087757151,0.9926742645454285,0.001589407963576577\n"
     ]
    },
    {
     "name": "stderr",
     "output_type": "stream",
     "text": [
      "2023-05-08 19:57:41,787 - INFO - Info:  [64/1080 (6%)]\t    adv_RMSE: 0.9321 adv_Recall: 28.1787 adv_MAP: 0.1304 adv_RCR: 0.7507 time:4.916\n",
      "2023-05-08 19:57:51,723 - INFO - Info:  [128/1080 (12%)]\t    adv_RMSE: 0.8701 adv_Recall: 26.1468 adv_MAP: 0.1425 adv_RCR: 0.7568 time:4.897\n",
      "2023-05-08 19:58:01,653 - INFO - Info:  [192/1080 (18%)]\t    adv_RMSE: 0.8736 adv_Recall: 26.1719 adv_MAP: 0.1411 adv_RCR: 0.7758 time:4.860\n",
      "2023-05-08 19:58:11,563 - INFO - Info:  [256/1080 (24%)]\t    adv_RMSE: 0.9525 adv_Recall: 31.7935 adv_MAP: 0.1586 adv_RCR: 0.7105 time:4.872\n",
      "2023-05-08 19:58:21,447 - INFO - Info:  [320/1080 (29%)]\t    adv_RMSE: 0.8516 adv_Recall: 19.0476 adv_MAP: 0.0919 adv_RCR: 0.8366 time:4.871\n",
      "2023-05-08 19:58:31,430 - INFO - Info:  [384/1080 (35%)]\t    adv_RMSE: 0.8932 adv_Recall: 28.5714 adv_MAP: 0.1301 adv_RCR: 0.7606 time:4.940\n",
      "2023-05-08 19:58:41,320 - INFO - Info:  [448/1080 (41%)]\t    adv_RMSE: 0.9178 adv_Recall: 28.2443 adv_MAP: 0.1357 adv_RCR: 0.7320 time:4.882\n",
      "2023-05-08 19:58:51,176 - INFO - Info:  [512/1080 (47%)]\t    adv_RMSE: 0.7994 adv_Recall: 24.7788 adv_MAP: 0.1322 adv_RCR: 0.7602 time:4.832\n",
      "2023-05-08 19:59:01,082 - INFO - Info:  [576/1080 (53%)]\t    adv_RMSE: 0.8976 adv_Recall: 22.9730 adv_MAP: 0.0924 adv_RCR: 0.7691 time:4.903\n",
      "2023-05-08 19:59:10,937 - INFO - Info:  [640/1080 (59%)]\t    adv_RMSE: 0.9362 adv_Recall: 28.7625 adv_MAP: 0.1368 adv_RCR: 0.7219 time:4.858\n",
      "2023-05-08 19:59:20,847 - INFO - Info:  [704/1080 (65%)]\t    adv_RMSE: 0.7974 adv_Recall: 20.8333 adv_MAP: 0.1134 adv_RCR: 0.8008 time:4.897\n",
      "2023-05-08 19:59:30,734 - INFO - Info:  [768/1080 (71%)]\t    adv_RMSE: 0.9307 adv_Recall: 32.0261 adv_MAP: 0.1848 adv_RCR: 0.6329 time:4.869\n",
      "2023-05-08 19:59:40,748 - INFO - Info:  [832/1080 (76%)]\t    adv_RMSE: 0.8759 adv_Recall: 28.1787 adv_MAP: 0.1751 adv_RCR: 0.7362 time:4.943\n",
      "2023-05-08 19:59:50,651 - INFO - Info:  [896/1080 (82%)]\t    adv_RMSE: 0.8339 adv_Recall: 32.4675 adv_MAP: 0.1529 adv_RCR: 0.6798 time:4.868\n",
      "2023-05-08 20:00:00,632 - INFO - Info:  [960/1080 (88%)]\t    adv_RMSE: 0.8587 adv_Recall: 22.6744 adv_MAP: 0.1195 adv_RCR: 0.8171 time:4.896\n",
      "2023-05-08 20:00:10,537 - INFO - Info:  [1024/1080 (94%)]\t    adv_RMSE: 0.7886 adv_Recall: 21.6080 adv_MAP: 0.1140 adv_RCR: 0.7739 time:4.885\n",
      "2023-05-08 20:00:19,269 - INFO - Info:  [1080/1080 (100%)]\t    adv_RMSE: 0.8646 adv_Recall: 20.5128 adv_MAP: 0.1059 adv_RCR: 0.8233 time:3.658\n",
      "2023-05-08 20:00:22,104 - INFO - Info:  不可感知性质：1.8720548152923584\n",
      "2023-05-08 20:00:22,105 - INFO - 攻击时间：Info:time:6.494 \t  clean_RMSE: 0.6847 clean_Recall: 32.4305 clean_MAP: 0.1856 clean_RCR: 0.6796   adv_RMSE: 0.8753 adv_Recall: 26.8912 adv_MAP: 0.1263 adv_RCR: 0.7482\n",
      "2023-05-08 20:00:25,836 - INFO - ten_ZINBSC_40_34\n"
     ]
    },
    {
     "name": "stdout",
     "output_type": "stream",
     "text": [
      "2023-05-08 20:00:22,0,NYC,Gsnet,ten,ZINBSC,40,32,0.6847454450474136,32.43045387994143,0.18557500325210685,0.6796269542597637,0.8753129850536489,26.891166422645192,0.1262960493684522,0.7481934790169849,0.5483716717650029,99.69681187455824,0.993359313960796,0.001260133684010446\n"
     ]
    },
    {
     "name": "stderr",
     "output_type": "stream",
     "text": [
      "2023-05-08 20:01:04,423 - INFO - Info:  [64/1080 (6%)]\t    adv_RMSE: 0.9461 adv_Recall: 27.4914 adv_MAP: 0.1370 adv_RCR: 0.7843 time:4.923\n",
      "2023-05-08 20:01:14,372 - INFO - Info:  [128/1080 (12%)]\t    adv_RMSE: 0.8771 adv_Recall: 27.5229 adv_MAP: 0.1434 adv_RCR: 0.7480 time:4.922\n",
      "2023-05-08 20:01:24,246 - INFO - Info:  [192/1080 (18%)]\t    adv_RMSE: 0.8767 adv_Recall: 26.5625 adv_MAP: 0.1429 adv_RCR: 0.7423 time:4.830\n",
      "2023-05-08 20:01:34,147 - INFO - Info:  [256/1080 (24%)]\t    adv_RMSE: 0.9552 adv_Recall: 32.3370 adv_MAP: 0.1465 adv_RCR: 0.7210 time:4.883\n",
      "2023-05-08 20:01:44,076 - INFO - Info:  [320/1080 (29%)]\t    adv_RMSE: 0.8553 adv_Recall: 18.5185 adv_MAP: 0.0897 adv_RCR: 0.8352 time:4.933\n",
      "2023-05-08 20:01:53,976 - INFO - Info:  [384/1080 (35%)]\t    adv_RMSE: 0.8801 adv_Recall: 28.1250 adv_MAP: 0.1349 adv_RCR: 0.7507 time:4.881\n",
      "2023-05-08 20:02:03,838 - INFO - Info:  [448/1080 (41%)]\t    adv_RMSE: 0.9293 adv_Recall: 25.9542 adv_MAP: 0.1210 adv_RCR: 0.7425 time:4.873\n",
      "2023-05-08 20:02:13,747 - INFO - Info:  [512/1080 (47%)]\t    adv_RMSE: 0.8125 adv_Recall: 22.1239 adv_MAP: 0.1161 adv_RCR: 0.7804 time:4.861\n",
      "2023-05-08 20:02:23,666 - INFO - Info:  [576/1080 (53%)]\t    adv_RMSE: 0.9115 adv_Recall: 22.9730 adv_MAP: 0.0861 adv_RCR: 0.7748 time:4.891\n",
      "2023-05-08 20:02:33,546 - INFO - Info:  [640/1080 (59%)]\t    adv_RMSE: 0.9503 adv_Recall: 31.1037 adv_MAP: 0.1452 adv_RCR: 0.7118 time:4.856\n",
      "2023-05-08 20:02:43,421 - INFO - Info:  [704/1080 (65%)]\t    adv_RMSE: 0.7982 adv_Recall: 20.2381 adv_MAP: 0.0936 adv_RCR: 0.8166 time:4.887\n",
      "2023-05-08 20:02:53,280 - INFO - Info:  [768/1080 (71%)]\t    adv_RMSE: 0.9402 adv_Recall: 32.3529 adv_MAP: 0.1953 adv_RCR: 0.6547 time:4.840\n",
      "2023-05-08 20:03:03,195 - INFO - Info:  [832/1080 (76%)]\t    adv_RMSE: 0.8877 adv_Recall: 28.1787 adv_MAP: 0.1759 adv_RCR: 0.7412 time:4.851\n",
      "2023-05-08 20:03:13,059 - INFO - Info:  [896/1080 (82%)]\t    adv_RMSE: 0.8340 adv_Recall: 32.4675 adv_MAP: 0.1447 adv_RCR: 0.6946 time:4.855\n",
      "2023-05-08 20:03:22,989 - INFO - Info:  [960/1080 (88%)]\t    adv_RMSE: 0.8715 adv_Recall: 23.2558 adv_MAP: 0.1208 adv_RCR: 0.7989 time:4.883\n",
      "2023-05-08 20:03:32,845 - INFO - Info:  [1024/1080 (94%)]\t    adv_RMSE: 0.8026 adv_Recall: 23.6181 adv_MAP: 0.1256 adv_RCR: 0.7475 time:4.861\n",
      "2023-05-08 20:03:41,548 - INFO - Info:  [1080/1080 (100%)]\t    adv_RMSE: 0.8798 adv_Recall: 21.7949 adv_MAP: 0.1104 adv_RCR: 0.7910 time:3.652\n",
      "2023-05-08 20:03:44,277 - INFO - Info:  不可感知性质：1.889913558959961\n",
      "2023-05-08 20:03:44,278 - INFO - 攻击时间：Info:time:6.382 \t  clean_RMSE: 0.6847 clean_Recall: 32.4305 clean_MAP: 0.1856 clean_RCR: 0.6796   adv_RMSE: 0.8841 adv_Recall: 26.7692 adv_MAP: 0.1253 adv_RCR: 0.7521\n",
      "2023-05-08 20:03:47,981 - INFO - ten_ZINBSC_40_35\n"
     ]
    },
    {
     "name": "stdout",
     "output_type": "stream",
     "text": [
      "2023-05-08 20:03:44,0,NYC,Gsnet,ten,ZINBSC,40,32,0.6847454450474136,32.43045387994143,0.18557500325210685,0.6796269542597637,0.8840675447688545,26.76915568570034,0.12532779179778405,0.7520898453696451,0.5692740630543398,99.6949518247089,0.993446096575618,0.0014764343408118312\n"
     ]
    },
    {
     "name": "stderr",
     "output_type": "stream",
     "text": [
      "2023-05-08 20:04:26,449 - INFO - Info:  [64/1080 (6%)]\t    adv_RMSE: 0.9324 adv_Recall: 27.4914 adv_MAP: 0.1187 adv_RCR: 0.7743 time:4.918\n",
      "2023-05-08 20:04:36,416 - INFO - Info:  [128/1080 (12%)]\t    adv_RMSE: 0.8693 adv_Recall: 27.0642 adv_MAP: 0.1414 adv_RCR: 0.7642 time:4.918\n",
      "2023-05-08 20:04:46,343 - INFO - Info:  [192/1080 (18%)]\t    adv_RMSE: 0.8716 adv_Recall: 25.0000 adv_MAP: 0.1297 adv_RCR: 0.7692 time:4.897\n",
      "2023-05-08 20:04:56,233 - INFO - Info:  [256/1080 (24%)]\t    adv_RMSE: 0.9612 adv_Recall: 32.6087 adv_MAP: 0.1519 adv_RCR: 0.7030 time:4.889\n",
      "2023-05-08 20:05:06,142 - INFO - Info:  [320/1080 (29%)]\t    adv_RMSE: 0.8518 adv_Recall: 20.6349 adv_MAP: 0.1024 adv_RCR: 0.8225 time:4.910\n",
      "2023-05-08 20:05:16,083 - INFO - Info:  [384/1080 (35%)]\t    adv_RMSE: 0.8766 adv_Recall: 28.5714 adv_MAP: 0.1287 adv_RCR: 0.7616 time:4.910\n",
      "2023-05-08 20:05:26,014 - INFO - Info:  [448/1080 (41%)]\t    adv_RMSE: 0.9234 adv_Recall: 26.7176 adv_MAP: 0.1231 adv_RCR: 0.7364 time:4.912\n",
      "2023-05-08 20:05:35,944 - INFO - Info:  [512/1080 (47%)]\t    adv_RMSE: 0.7996 adv_Recall: 23.8938 adv_MAP: 0.1303 adv_RCR: 0.7779 time:4.860\n",
      "2023-05-08 20:05:45,886 - INFO - Info:  [576/1080 (53%)]\t    adv_RMSE: 0.9007 adv_Recall: 22.5225 adv_MAP: 0.0789 adv_RCR: 0.7813 time:4.933\n",
      "2023-05-08 20:05:55,785 - INFO - Info:  [640/1080 (59%)]\t    adv_RMSE: 0.9390 adv_Recall: 27.0903 adv_MAP: 0.1226 adv_RCR: 0.7271 time:4.853\n",
      "2023-05-08 20:06:05,700 - INFO - Info:  [704/1080 (65%)]\t    adv_RMSE: 0.7949 adv_Recall: 20.2381 adv_MAP: 0.1072 adv_RCR: 0.8165 time:4.886\n",
      "2023-05-08 20:06:15,572 - INFO - Info:  [768/1080 (71%)]\t    adv_RMSE: 0.9409 adv_Recall: 31.3725 adv_MAP: 0.1894 adv_RCR: 0.6581 time:4.866\n",
      "2023-05-08 20:06:25,499 - INFO - Info:  [832/1080 (76%)]\t    adv_RMSE: 0.8935 adv_Recall: 27.1478 adv_MAP: 0.1623 adv_RCR: 0.7666 time:4.871\n",
      "2023-05-08 20:06:35,406 - INFO - Info:  [896/1080 (82%)]\t    adv_RMSE: 0.8308 adv_Recall: 32.4675 adv_MAP: 0.1443 adv_RCR: 0.6861 time:4.874\n",
      "2023-05-08 20:06:45,363 - INFO - Info:  [960/1080 (88%)]\t    adv_RMSE: 0.8587 adv_Recall: 22.6744 adv_MAP: 0.0890 adv_RCR: 0.8200 time:4.878\n",
      "2023-05-08 20:06:55,244 - INFO - Info:  [1024/1080 (94%)]\t    adv_RMSE: 0.7880 adv_Recall: 25.6281 adv_MAP: 0.1381 adv_RCR: 0.7315 time:4.909\n",
      "2023-05-08 20:07:03,922 - INFO - Info:  [1080/1080 (100%)]\t    adv_RMSE: 0.8827 adv_Recall: 23.7179 adv_MAP: 0.1166 adv_RCR: 0.7573 time:3.647\n",
      "2023-05-08 20:07:06,668 - INFO - Info:  不可感知性质：1.8460338115692139\n",
      "2023-05-08 20:07:06,669 - INFO - 攻击时间：Info:time:6.394 \t  clean_RMSE: 0.6847 clean_Recall: 32.4305 clean_MAP: 0.1856 clean_RCR: 0.6796   adv_RMSE: 0.8773 adv_Recall: 26.8668 adv_MAP: 0.1230 adv_RCR: 0.7480\n",
      "2023-05-08 20:07:10,369 - INFO - ten_ZINBSC_40_36\n"
     ]
    },
    {
     "name": "stdout",
     "output_type": "stream",
     "text": [
      "2023-05-08 20:07:06,0,NYC,Gsnet,ten,ZINBSC,40,32,0.6847454450474136,32.43045387994143,0.18557500325210685,0.6796269542597637,0.87731978789432,26.866764275256223,0.12301444969594778,0.7480010366968474,0.5644104062550529,99.67821137606488,0.9933313281993622,0.0015676020609569012\n"
     ]
    },
    {
     "name": "stderr",
     "output_type": "stream",
     "text": [
      "2023-05-08 20:07:48,905 - INFO - Info:  [64/1080 (6%)]\t    adv_RMSE: 0.9332 adv_Recall: 27.4914 adv_MAP: 0.1275 adv_RCR: 0.7658 time:4.889\n",
      "2023-05-08 20:07:58,824 - INFO - Info:  [128/1080 (12%)]\t    adv_RMSE: 0.8724 adv_Recall: 27.5229 adv_MAP: 0.1595 adv_RCR: 0.7474 time:4.894\n",
      "2023-05-08 20:08:08,693 - INFO - Info:  [192/1080 (18%)]\t    adv_RMSE: 0.8763 adv_Recall: 25.7812 adv_MAP: 0.1228 adv_RCR: 0.7417 time:4.836\n",
      "2023-05-08 20:08:18,592 - INFO - Info:  [256/1080 (24%)]\t    adv_RMSE: 0.9683 adv_Recall: 31.5217 adv_MAP: 0.1408 adv_RCR: 0.6822 time:4.859\n",
      "2023-05-08 20:08:28,483 - INFO - Info:  [320/1080 (29%)]\t    adv_RMSE: 0.8562 adv_Recall: 19.5767 adv_MAP: 0.0867 adv_RCR: 0.8321 time:4.887\n",
      "2023-05-08 20:08:38,429 - INFO - Info:  [384/1080 (35%)]\t    adv_RMSE: 0.8803 adv_Recall: 28.5714 adv_MAP: 0.1130 adv_RCR: 0.7522 time:4.903\n",
      "2023-05-08 20:08:48,309 - INFO - Info:  [448/1080 (41%)]\t    adv_RMSE: 0.9314 adv_Recall: 25.5725 adv_MAP: 0.1176 adv_RCR: 0.7230 time:4.876\n",
      "2023-05-08 20:08:58,183 - INFO - Info:  [512/1080 (47%)]\t    adv_RMSE: 0.7954 adv_Recall: 23.8938 adv_MAP: 0.1185 adv_RCR: 0.7833 time:4.844\n",
      "2023-05-08 20:09:08,101 - INFO - Info:  [576/1080 (53%)]\t    adv_RMSE: 0.9083 adv_Recall: 25.2252 adv_MAP: 0.0935 adv_RCR: 0.7900 time:4.893\n",
      "2023-05-08 20:09:17,953 - INFO - Info:  [640/1080 (59%)]\t    adv_RMSE: 0.9412 adv_Recall: 28.0936 adv_MAP: 0.1252 adv_RCR: 0.7363 time:4.873\n",
      "2023-05-08 20:09:27,857 - INFO - Info:  [704/1080 (65%)]\t    adv_RMSE: 0.7962 adv_Recall: 22.6190 adv_MAP: 0.0984 adv_RCR: 0.7544 time:4.882\n",
      "2023-05-08 20:09:37,714 - INFO - Info:  [768/1080 (71%)]\t    adv_RMSE: 0.9454 adv_Recall: 30.7190 adv_MAP: 0.1581 adv_RCR: 0.6742 time:4.840\n",
      "2023-05-08 20:09:47,608 - INFO - Info:  [832/1080 (76%)]\t    adv_RMSE: 0.8945 adv_Recall: 30.5842 adv_MAP: 0.1739 adv_RCR: 0.7181 time:4.846\n",
      "2023-05-08 20:09:57,493 - INFO - Info:  [896/1080 (82%)]\t    adv_RMSE: 0.8292 adv_Recall: 29.8701 adv_MAP: 0.1244 adv_RCR: 0.7208 time:4.860\n",
      "2023-05-08 20:10:07,471 - INFO - Info:  [960/1080 (88%)]\t    adv_RMSE: 0.8803 adv_Recall: 23.2558 adv_MAP: 0.0955 adv_RCR: 0.8045 time:4.912\n",
      "2023-05-08 20:10:17,350 - INFO - Info:  [1024/1080 (94%)]\t    adv_RMSE: 0.7904 adv_Recall: 26.1307 adv_MAP: 0.1368 adv_RCR: 0.7211 time:4.886\n",
      "2023-05-08 20:10:26,027 - INFO - Info:  [1080/1080 (100%)]\t    adv_RMSE: 0.8850 adv_Recall: 25.0000 adv_MAP: 0.1234 adv_RCR: 0.7765 time:3.632\n",
      "2023-05-08 20:10:28,725 - INFO - Info:  不可感知性质：1.8490972518920898\n",
      "2023-05-08 20:10:28,726 - INFO - 攻击时间：Info:time:6.331 \t  clean_RMSE: 0.6847 clean_Recall: 32.4305 clean_MAP: 0.1856 clean_RCR: 0.6796   adv_RMSE: 0.8817 adv_Recall: 26.9156 adv_MAP: 0.1204 adv_RCR: 0.7454\n",
      "2023-05-08 20:10:32,459 - INFO - ten_ZINBSC_40_37\n"
     ]
    },
    {
     "name": "stdout",
     "output_type": "stream",
     "text": [
      "2023-05-08 20:10:28,0,NYC,Gsnet,ten,ZINBSC,40,32,0.6847454450474136,32.43045387994143,0.18557500325210685,0.6796269542597637,0.8816885998866509,26.915568570034164,0.12039790028039418,0.7453851011604204,0.5568346679201778,99.68751162531156,0.99320398518357,0.0017355986122516984\n"
     ]
    },
    {
     "name": "stderr",
     "output_type": "stream",
     "text": [
      "2023-05-08 20:11:10,972 - INFO - Info:  [64/1080 (6%)]\t    adv_RMSE: 0.9476 adv_Recall: 28.1787 adv_MAP: 0.1297 adv_RCR: 0.7466 time:4.919\n",
      "2023-05-08 20:11:20,923 - INFO - Info:  [128/1080 (12%)]\t    adv_RMSE: 0.8971 adv_Recall: 27.9817 adv_MAP: 0.1464 adv_RCR: 0.7476 time:4.901\n",
      "2023-05-08 20:11:30,811 - INFO - Info:  [192/1080 (18%)]\t    adv_RMSE: 0.8885 adv_Recall: 25.3906 adv_MAP: 0.1172 adv_RCR: 0.7245 time:4.846\n",
      "2023-05-08 20:11:40,698 - INFO - Info:  [256/1080 (24%)]\t    adv_RMSE: 0.9809 adv_Recall: 31.2500 adv_MAP: 0.1453 adv_RCR: 0.7205 time:4.864\n",
      "2023-05-08 20:11:50,581 - INFO - Info:  [320/1080 (29%)]\t    adv_RMSE: 0.8595 adv_Recall: 20.1058 adv_MAP: 0.0881 adv_RCR: 0.8181 time:4.914\n",
      "2023-05-08 20:12:00,527 - INFO - Info:  [384/1080 (35%)]\t    adv_RMSE: 0.8932 adv_Recall: 26.3393 adv_MAP: 0.1139 adv_RCR: 0.7627 time:4.892\n",
      "2023-05-08 20:12:10,404 - INFO - Info:  [448/1080 (41%)]\t    adv_RMSE: 0.9444 adv_Recall: 24.0458 adv_MAP: 0.1265 adv_RCR: 0.7346 time:4.897\n",
      "2023-05-08 20:12:20,268 - INFO - Info:  [512/1080 (47%)]\t    adv_RMSE: 0.8061 adv_Recall: 24.7788 adv_MAP: 0.1236 adv_RCR: 0.7586 time:4.840\n",
      "2023-05-08 20:12:30,221 - INFO - Info:  [576/1080 (53%)]\t    adv_RMSE: 0.9258 adv_Recall: 19.3694 adv_MAP: 0.0722 adv_RCR: 0.8053 time:4.903\n",
      "2023-05-08 20:12:40,110 - INFO - Info:  [640/1080 (59%)]\t    adv_RMSE: 0.9577 adv_Recall: 26.7559 adv_MAP: 0.1226 adv_RCR: 0.7499 time:4.884\n",
      "2023-05-08 20:12:50,013 - INFO - Info:  [704/1080 (65%)]\t    adv_RMSE: 0.8137 adv_Recall: 20.8333 adv_MAP: 0.1206 adv_RCR: 0.8091 time:4.892\n",
      "2023-05-08 20:12:59,875 - INFO - Info:  [768/1080 (71%)]\t    adv_RMSE: 0.9541 adv_Recall: 30.0654 adv_MAP: 0.1713 adv_RCR: 0.6747 time:4.837\n",
      "2023-05-08 20:13:09,779 - INFO - Info:  [832/1080 (76%)]\t    adv_RMSE: 0.8908 adv_Recall: 27.1478 adv_MAP: 0.1590 adv_RCR: 0.7699 time:4.861\n",
      "2023-05-08 20:13:19,647 - INFO - Info:  [896/1080 (82%)]\t    adv_RMSE: 0.8539 adv_Recall: 29.4372 adv_MAP: 0.1092 adv_RCR: 0.7321 time:4.856\n",
      "2023-05-08 20:13:29,581 - INFO - Info:  [960/1080 (88%)]\t    adv_RMSE: 0.9030 adv_Recall: 22.0930 adv_MAP: 0.0805 adv_RCR: 0.8167 time:4.897\n",
      "2023-05-08 20:13:39,466 - INFO - Info:  [1024/1080 (94%)]\t    adv_RMSE: 0.7898 adv_Recall: 26.1307 adv_MAP: 0.1392 adv_RCR: 0.7544 time:4.903\n",
      "2023-05-08 20:13:48,114 - INFO - Info:  [1080/1080 (100%)]\t    adv_RMSE: 0.8954 adv_Recall: 22.4359 adv_MAP: 0.1084 adv_RCR: 0.8099 time:3.624\n",
      "2023-05-08 20:13:50,827 - INFO - Info:  不可感知性质：1.8816276788711548\n",
      "2023-05-08 20:13:50,828 - INFO - 攻击时间：Info:time:6.339 \t  clean_RMSE: 0.6847 clean_Recall: 32.4305 clean_MAP: 0.1856 clean_RCR: 0.6796   adv_RMSE: 0.8937 adv_Recall: 26.2079 adv_MAP: 0.1170 adv_RCR: 0.7545\n",
      "2023-05-08 20:13:54,518 - INFO - ten_ZINBSC_40_38\n"
     ]
    },
    {
     "name": "stdout",
     "output_type": "stream",
     "text": [
      "2023-05-08 20:13:50,0,NYC,Gsnet,ten,ZINBSC,40,32,0.6847454450474136,32.43045387994143,0.18557500325210685,0.6796269542597637,0.8936740796818528,26.207906295754025,0.11698687656549338,0.7545121234009251,0.589081050623802,99.68379152561289,0.9934091143806997,0.0016149032096261754\n"
     ]
    },
    {
     "name": "stderr",
     "output_type": "stream",
     "text": [
      "2023-05-08 20:14:33,275 - INFO - Info:  [64/1080 (6%)]\t    adv_RMSE: 0.9430 adv_Recall: 29.8969 adv_MAP: 0.1324 adv_RCR: 0.7632 time:4.909\n",
      "2023-05-08 20:14:43,396 - INFO - Info:  [128/1080 (12%)]\t    adv_RMSE: 0.8966 adv_Recall: 27.5229 adv_MAP: 0.1140 adv_RCR: 0.7266 time:4.931\n",
      "2023-05-08 20:14:53,443 - INFO - Info:  [192/1080 (18%)]\t    adv_RMSE: 0.8913 adv_Recall: 24.6094 adv_MAP: 0.1257 adv_RCR: 0.7550 time:4.873\n",
      "2023-05-08 20:15:03,474 - INFO - Info:  [256/1080 (24%)]\t    adv_RMSE: 0.9725 adv_Recall: 32.3370 adv_MAP: 0.1483 adv_RCR: 0.6904 time:4.885\n",
      "2023-05-08 20:15:13,505 - INFO - Info:  [320/1080 (29%)]\t    adv_RMSE: 0.8765 adv_Recall: 20.6349 adv_MAP: 0.1249 adv_RCR: 0.7988 time:4.912\n",
      "2023-05-08 20:15:23,603 - INFO - Info:  [384/1080 (35%)]\t    adv_RMSE: 0.8975 adv_Recall: 25.8929 adv_MAP: 0.1130 adv_RCR: 0.7543 time:4.936\n",
      "2023-05-08 20:15:33,694 - INFO - Info:  [448/1080 (41%)]\t    adv_RMSE: 0.9364 adv_Recall: 25.9542 adv_MAP: 0.1248 adv_RCR: 0.7232 time:4.936\n",
      "2023-05-08 20:15:43,757 - INFO - Info:  [512/1080 (47%)]\t    adv_RMSE: 0.8073 adv_Recall: 24.3363 adv_MAP: 0.1272 adv_RCR: 0.7645 time:4.885\n",
      "2023-05-08 20:15:53,840 - INFO - Info:  [576/1080 (53%)]\t    adv_RMSE: 0.9243 adv_Recall: 22.5225 adv_MAP: 0.0803 adv_RCR: 0.7810 time:4.929\n",
      "2023-05-08 20:16:03,878 - INFO - Info:  [640/1080 (59%)]\t    adv_RMSE: 0.9546 adv_Recall: 28.0936 adv_MAP: 0.1250 adv_RCR: 0.7161 time:4.888\n",
      "2023-05-08 20:16:13,933 - INFO - Info:  [704/1080 (65%)]\t    adv_RMSE: 0.8205 adv_Recall: 20.8333 adv_MAP: 0.0973 adv_RCR: 0.8177 time:4.918\n",
      "2023-05-08 20:16:23,949 - INFO - Info:  [768/1080 (71%)]\t    adv_RMSE: 0.9484 adv_Recall: 28.4314 adv_MAP: 0.1387 adv_RCR: 0.7140 time:4.890\n",
      "2023-05-08 20:16:34,024 - INFO - Info:  [832/1080 (76%)]\t    adv_RMSE: 0.9006 adv_Recall: 26.4605 adv_MAP: 0.1640 adv_RCR: 0.7563 time:4.890\n",
      "2023-05-08 20:16:44,048 - INFO - Info:  [896/1080 (82%)]\t    adv_RMSE: 0.8518 adv_Recall: 31.1688 adv_MAP: 0.1259 adv_RCR: 0.7113 time:4.895\n",
      "2023-05-08 20:16:54,142 - INFO - Info:  [960/1080 (88%)]\t    adv_RMSE: 0.8912 adv_Recall: 20.9302 adv_MAP: 0.1151 adv_RCR: 0.8328 time:4.939\n",
      "2023-05-08 20:17:04,218 - INFO - Info:  [1024/1080 (94%)]\t    adv_RMSE: 0.8075 adv_Recall: 24.1206 adv_MAP: 0.1177 adv_RCR: 0.7713 time:4.933\n",
      "2023-05-08 20:17:12,988 - INFO - Info:  [1080/1080 (100%)]\t    adv_RMSE: 0.8932 adv_Recall: 24.3590 adv_MAP: 0.0772 adv_RCR: 0.7715 time:3.630\n",
      "2023-05-08 20:17:15,767 - INFO - Info:  不可感知性质：1.8252793550491333\n",
      "2023-05-08 20:17:15,768 - INFO - 攻击时间：Info:time:6.410 \t  clean_RMSE: 0.6847 clean_Recall: 32.4305 clean_MAP: 0.1856 clean_RCR: 0.6796   adv_RMSE: 0.8945 adv_Recall: 26.5251 adv_MAP: 0.1163 adv_RCR: 0.7478\n",
      "2023-05-08 20:17:19,469 - INFO - ten_ZINBSC_40_39\n"
     ]
    },
    {
     "name": "stdout",
     "output_type": "stream",
     "text": [
      "2023-05-08 20:17:15,0,NYC,Gsnet,ten,ZINBSC,40,32,0.6847454450474136,32.43045387994143,0.18557500325210685,0.6796269542597637,0.89446407754302,26.52513421181064,0.11631870842892905,0.7478368873970155,0.5803433006212829,99.68379152561289,0.993356023202895,0.0014198773989926754\n"
     ]
    },
    {
     "name": "stderr",
     "output_type": "stream",
     "text": [
      "2023-05-08 20:17:57,875 - INFO - Info:  [64/1080 (6%)]\t    adv_RMSE: 0.9500 adv_Recall: 27.4914 adv_MAP: 0.1179 adv_RCR: 0.7671 time:4.890\n",
      "2023-05-08 20:18:07,826 - INFO - Info:  [128/1080 (12%)]\t    adv_RMSE: 0.9123 adv_Recall: 28.8991 adv_MAP: 0.1277 adv_RCR: 0.7219 time:4.904\n",
      "2023-05-08 20:18:17,688 - INFO - Info:  [192/1080 (18%)]\t    adv_RMSE: 0.9012 adv_Recall: 23.8281 adv_MAP: 0.1127 adv_RCR: 0.7655 time:4.820\n",
      "2023-05-08 20:18:27,563 - INFO - Info:  [256/1080 (24%)]\t    adv_RMSE: 0.9661 adv_Recall: 32.0652 adv_MAP: 0.1528 adv_RCR: 0.7093 time:4.848\n",
      "2023-05-08 20:18:37,467 - INFO - Info:  [320/1080 (29%)]\t    adv_RMSE: 0.8758 adv_Recall: 20.1058 adv_MAP: 0.1269 adv_RCR: 0.8240 time:4.900\n",
      "2023-05-08 20:18:47,364 - INFO - Info:  [384/1080 (35%)]\t    adv_RMSE: 0.8951 adv_Recall: 27.6786 adv_MAP: 0.1125 adv_RCR: 0.7344 time:4.897\n",
      "2023-05-08 20:18:57,269 - INFO - Info:  [448/1080 (41%)]\t    adv_RMSE: 0.9421 adv_Recall: 24.4275 adv_MAP: 0.1142 adv_RCR: 0.7318 time:4.908\n",
      "2023-05-08 20:19:07,163 - INFO - Info:  [512/1080 (47%)]\t    adv_RMSE: 0.8154 adv_Recall: 24.7788 adv_MAP: 0.1320 adv_RCR: 0.7518 time:4.866\n",
      "2023-05-08 20:19:17,112 - INFO - Info:  [576/1080 (53%)]\t    adv_RMSE: 0.9278 adv_Recall: 22.0721 adv_MAP: 0.0820 adv_RCR: 0.7798 time:4.927\n",
      "2023-05-08 20:19:27,031 - INFO - Info:  [640/1080 (59%)]\t    adv_RMSE: 0.9599 adv_Recall: 27.7592 adv_MAP: 0.1270 adv_RCR: 0.7178 time:4.888\n",
      "2023-05-08 20:19:36,912 - INFO - Info:  [704/1080 (65%)]\t    adv_RMSE: 0.8274 adv_Recall: 17.2619 adv_MAP: 0.0669 adv_RCR: 0.8510 time:4.879\n",
      "2023-05-08 20:19:46,805 - INFO - Info:  [768/1080 (71%)]\t    adv_RMSE: 0.9491 adv_Recall: 30.3922 adv_MAP: 0.1279 adv_RCR: 0.7094 time:4.854\n",
      "2023-05-08 20:19:56,697 - INFO - Info:  [832/1080 (76%)]\t    adv_RMSE: 0.9056 adv_Recall: 26.4605 adv_MAP: 0.1573 adv_RCR: 0.7603 time:4.853\n",
      "2023-05-08 20:20:06,584 - INFO - Info:  [896/1080 (82%)]\t    adv_RMSE: 0.8491 adv_Recall: 30.3030 adv_MAP: 0.1090 adv_RCR: 0.7210 time:4.857\n",
      "2023-05-08 20:20:16,506 - INFO - Info:  [960/1080 (88%)]\t    adv_RMSE: 0.8928 adv_Recall: 23.2558 adv_MAP: 0.1049 adv_RCR: 0.8198 time:4.895\n",
      "2023-05-08 20:20:26,401 - INFO - Info:  [1024/1080 (94%)]\t    adv_RMSE: 0.8215 adv_Recall: 20.1005 adv_MAP: 0.0990 adv_RCR: 0.8058 time:4.875\n",
      "2023-05-08 20:20:35,011 - INFO - Info:  [1080/1080 (100%)]\t    adv_RMSE: 0.8908 adv_Recall: 24.3590 adv_MAP: 0.0804 adv_RCR: 0.7770 time:3.609\n",
      "2023-05-08 20:20:37,760 - INFO - Info:  不可感知性质：1.7947132587432861\n",
      "2023-05-08 20:20:37,761 - INFO - 攻击时间：Info:time:6.359 \t  clean_RMSE: 0.6847 clean_Recall: 32.4305 clean_MAP: 0.1856 clean_RCR: 0.6796   adv_RMSE: 0.8979 adv_Recall: 26.0249 adv_MAP: 0.1117 adv_RCR: 0.7522\n",
      "2023-05-08 20:20:41,502 - INFO - ten_ZINBSC_40_40\n"
     ]
    },
    {
     "name": "stdout",
     "output_type": "stream",
     "text": [
      "2023-05-08 20:20:37,0,NYC,Gsnet,ten,ZINBSC,40,32,0.6847454450474136,32.43045387994143,0.18557500325210685,0.6796269542597637,0.8978779679885918,26.024890190336748,0.11173605798874789,0.7522205813638755,0.5857710277551478,99.69309177485957,0.9934823954912245,0.0016240630983908957\n"
     ]
    },
    {
     "name": "stderr",
     "output_type": "stream",
     "text": [
      "2023-05-08 20:21:20,029 - INFO - Info:  [64/1080 (6%)]\t    adv_RMSE: 0.9435 adv_Recall: 27.4914 adv_MAP: 0.1196 adv_RCR: 0.7792 time:4.888\n",
      "2023-05-08 20:21:30,052 - INFO - Info:  [128/1080 (12%)]\t    adv_RMSE: 0.8924 adv_Recall: 28.8991 adv_MAP: 0.1279 adv_RCR: 0.7361 time:4.874\n",
      "2023-05-08 20:21:40,020 - INFO - Info:  [192/1080 (18%)]\t    adv_RMSE: 0.8867 adv_Recall: 24.2188 adv_MAP: 0.1188 adv_RCR: 0.7410 time:4.843\n",
      "2023-05-08 20:21:49,981 - INFO - Info:  [256/1080 (24%)]\t    adv_RMSE: 0.9707 adv_Recall: 32.3370 adv_MAP: 0.1351 adv_RCR: 0.6945 time:4.859\n",
      "2023-05-08 20:21:59,935 - INFO - Info:  [320/1080 (29%)]\t    adv_RMSE: 0.8749 adv_Recall: 17.9894 adv_MAP: 0.0822 adv_RCR: 0.8243 time:4.865\n",
      "2023-05-08 20:22:09,944 - INFO - Info:  [384/1080 (35%)]\t    adv_RMSE: 0.8963 adv_Recall: 26.7857 adv_MAP: 0.1218 adv_RCR: 0.7466 time:4.872\n",
      "2023-05-08 20:22:19,917 - INFO - Info:  [448/1080 (41%)]\t    adv_RMSE: 0.9474 adv_Recall: 25.1908 adv_MAP: 0.1202 adv_RCR: 0.7048 time:4.856\n",
      "2023-05-08 20:22:29,899 - INFO - Info:  [512/1080 (47%)]\t    adv_RMSE: 0.8101 adv_Recall: 23.4513 adv_MAP: 0.1213 adv_RCR: 0.7479 time:4.847\n",
      "2023-05-08 20:22:39,878 - INFO - Info:  [576/1080 (53%)]\t    adv_RMSE: 0.9181 adv_Recall: 23.8739 adv_MAP: 0.0930 adv_RCR: 0.7907 time:4.885\n",
      "2023-05-08 20:22:49,823 - INFO - Info:  [640/1080 (59%)]\t    adv_RMSE: 0.9558 adv_Recall: 28.0936 adv_MAP: 0.1258 adv_RCR: 0.7009 time:4.823\n",
      "2023-05-08 20:22:59,762 - INFO - Info:  [704/1080 (65%)]\t    adv_RMSE: 0.8242 adv_Recall: 18.4524 adv_MAP: 0.0795 adv_RCR: 0.8416 time:4.858\n",
      "2023-05-08 20:23:09,735 - INFO - Info:  [768/1080 (71%)]\t    adv_RMSE: 0.9527 adv_Recall: 30.0654 adv_MAP: 0.1411 adv_RCR: 0.7148 time:4.866\n",
      "2023-05-08 20:23:19,726 - INFO - Info:  [832/1080 (76%)]\t    adv_RMSE: 0.8984 adv_Recall: 27.1478 adv_MAP: 0.1611 adv_RCR: 0.7549 time:4.830\n",
      "2023-05-08 20:23:29,672 - INFO - Info:  [896/1080 (82%)]\t    adv_RMSE: 0.8516 adv_Recall: 29.8701 adv_MAP: 0.1039 adv_RCR: 0.7416 time:4.838\n",
      "2023-05-08 20:23:39,698 - INFO - Info:  [960/1080 (88%)]\t    adv_RMSE: 0.8931 adv_Recall: 23.8372 adv_MAP: 0.1141 adv_RCR: 0.8297 time:4.873\n",
      "2023-05-08 20:23:49,677 - INFO - Info:  [1024/1080 (94%)]\t    adv_RMSE: 0.8225 adv_Recall: 23.6181 adv_MAP: 0.1104 adv_RCR: 0.7931 time:4.867\n",
      "2023-05-08 20:23:58,415 - INFO - Info:  [1080/1080 (100%)]\t    adv_RMSE: 0.8982 adv_Recall: 25.6410 adv_MAP: 0.1244 adv_RCR: 0.7530 time:3.622\n",
      "2023-05-08 20:24:01,182 - INFO - Info:  不可感知性质：1.7772849798202515\n",
      "2023-05-08 20:24:01,183 - INFO - 攻击时间：Info:time:6.390 \t  clean_RMSE: 0.6847 clean_Recall: 32.4305 clean_MAP: 0.1856 clean_RCR: 0.6796   adv_RMSE: 0.8946 adv_Recall: 26.4763 adv_MAP: 0.1140 adv_RCR: 0.7454\n",
      "2023-05-08 20:24:04,889 - INFO - ten_ZINBSC_40_41\n"
     ]
    },
    {
     "name": "stdout",
     "output_type": "stream",
     "text": [
      "2023-05-08 20:24:01,0,NYC,Gsnet,ten,ZINBSC,40,32,0.6847454450474136,32.43045387994143,0.18557500325210685,0.6796269542597637,0.8945655618972391,26.476329917032697,0.1139831792054374,0.7454447755194548,0.5772054514478452,99.69867192440758,0.9933001016196291,0.001449553487223821\n"
     ]
    },
    {
     "name": "stderr",
     "output_type": "stream",
     "text": [
      "2023-05-08 20:24:42,727 - INFO - Info:  [64/1080 (6%)]\t    adv_RMSE: 0.9230 adv_Recall: 27.4914 adv_MAP: 0.1339 adv_RCR: 0.7570 time:4.774\n",
      "2023-05-08 20:24:52,464 - INFO - Info:  [128/1080 (12%)]\t    adv_RMSE: 0.8829 adv_Recall: 32.1101 adv_MAP: 0.1492 adv_RCR: 0.7105 time:4.782\n",
      "2023-05-08 20:25:02,175 - INFO - Info:  [192/1080 (18%)]\t    adv_RMSE: 0.8853 adv_Recall: 23.0469 adv_MAP: 0.1236 adv_RCR: 0.7565 time:4.784\n",
      "2023-05-08 20:25:11,882 - INFO - Info:  [256/1080 (24%)]\t    adv_RMSE: 0.9423 adv_Recall: 33.1522 adv_MAP: 0.1577 adv_RCR: 0.7019 time:4.764\n",
      "2023-05-08 20:25:21,551 - INFO - Info:  [320/1080 (29%)]\t    adv_RMSE: 0.8686 adv_Recall: 19.0476 adv_MAP: 0.0931 adv_RCR: 0.8280 time:4.789\n",
      "2023-05-08 20:25:31,297 - INFO - Info:  [384/1080 (35%)]\t    adv_RMSE: 0.8805 adv_Recall: 27.6786 adv_MAP: 0.1277 adv_RCR: 0.7409 time:4.785\n",
      "2023-05-08 20:25:40,970 - INFO - Info:  [448/1080 (41%)]\t    adv_RMSE: 0.9193 adv_Recall: 25.1908 adv_MAP: 0.1334 adv_RCR: 0.7307 time:4.787\n",
      "2023-05-08 20:25:50,703 - INFO - Info:  [512/1080 (47%)]\t    adv_RMSE: 0.8099 adv_Recall: 21.2389 adv_MAP: 0.1101 adv_RCR: 0.7671 time:4.790\n",
      "2023-05-08 20:26:00,431 - INFO - Info:  [576/1080 (53%)]\t    adv_RMSE: 0.9032 adv_Recall: 22.5225 adv_MAP: 0.0925 adv_RCR: 0.7919 time:4.801\n",
      "2023-05-08 20:26:10,050 - INFO - Info:  [640/1080 (59%)]\t    adv_RMSE: 0.9486 adv_Recall: 27.4247 adv_MAP: 0.1210 adv_RCR: 0.7560 time:4.736\n",
      "2023-05-08 20:26:19,785 - INFO - Info:  [704/1080 (65%)]\t    adv_RMSE: 0.8101 adv_Recall: 19.0476 adv_MAP: 0.0918 adv_RCR: 0.8385 time:4.807\n",
      "2023-05-08 20:26:29,561 - INFO - Info:  [768/1080 (71%)]\t    adv_RMSE: 0.9376 adv_Recall: 31.0458 adv_MAP: 0.1742 adv_RCR: 0.7056 time:4.790\n",
      "2023-05-08 20:26:39,250 - INFO - Info:  [832/1080 (76%)]\t    adv_RMSE: 0.8984 adv_Recall: 27.4914 adv_MAP: 0.1640 adv_RCR: 0.7356 time:4.737\n",
      "2023-05-08 20:26:48,954 - INFO - Info:  [896/1080 (82%)]\t    adv_RMSE: 0.8253 adv_Recall: 28.1385 adv_MAP: 0.1183 adv_RCR: 0.7581 time:4.768\n",
      "2023-05-08 20:26:58,686 - INFO - Info:  [960/1080 (88%)]\t    adv_RMSE: 0.8742 adv_Recall: 22.0930 adv_MAP: 0.1010 adv_RCR: 0.8343 time:4.792\n",
      "2023-05-08 20:27:08,395 - INFO - Info:  [1024/1080 (94%)]\t    adv_RMSE: 0.8045 adv_Recall: 21.1055 adv_MAP: 0.1086 adv_RCR: 0.7978 time:4.787\n",
      "2023-05-08 20:27:16,863 - INFO - Info:  [1080/1080 (100%)]\t    adv_RMSE: 0.8652 adv_Recall: 24.3590 adv_MAP: 0.1199 adv_RCR: 0.7592 time:3.560\n",
      "2023-05-08 20:27:19,549 - INFO - Info:  不可感知性质：1.7409086227416992\n",
      "2023-05-08 20:27:19,550 - INFO - 攻击时间：Info:time:6.247 \t  clean_RMSE: 0.6847 clean_Recall: 32.4305 clean_MAP: 0.1856 clean_RCR: 0.6796   adv_RMSE: 0.8801 adv_Recall: 26.5983 adv_MAP: 0.1218 adv_RCR: 0.7477\n",
      "2023-05-08 20:27:23,243 - INFO - ten_ZINBSC_40_42\n"
     ]
    },
    {
     "name": "stdout",
     "output_type": "stream",
     "text": [
      "2023-05-08 20:27:19,0,NYC,Gsnet,ten,ZINBSC,40,32,0.6847454450474136,32.43045387994143,0.18557500325210685,0.6796269542597637,0.8800625219416637,26.598340653977548,0.12182003229259966,0.747652252079087,0.5573906458288501,99.68565157546222,0.9932619266416027,0.0014754474496734944\n"
     ]
    },
    {
     "name": "stderr",
     "output_type": "stream",
     "text": [
      "2023-05-08 20:28:01,098 - INFO - Info:  [64/1080 (6%)]\t    adv_RMSE: 0.9077 adv_Recall: 28.1787 adv_MAP: 0.1271 adv_RCR: 0.7620 time:4.779\n",
      "2023-05-08 20:28:10,856 - INFO - Info:  [128/1080 (12%)]\t    adv_RMSE: 0.8634 adv_Recall: 30.7339 adv_MAP: 0.1483 adv_RCR: 0.7046 time:4.813\n",
      "2023-05-08 20:28:20,520 - INFO - Info:  [192/1080 (18%)]\t    adv_RMSE: 0.8690 adv_Recall: 25.3906 adv_MAP: 0.1338 adv_RCR: 0.7392 time:4.747\n",
      "2023-05-08 20:28:30,263 - INFO - Info:  [256/1080 (24%)]\t    adv_RMSE: 0.9347 adv_Recall: 34.7826 adv_MAP: 0.1623 adv_RCR: 0.7012 time:4.766\n",
      "2023-05-08 20:28:39,964 - INFO - Info:  [320/1080 (29%)]\t    adv_RMSE: 0.8379 adv_Recall: 21.6931 adv_MAP: 0.0938 adv_RCR: 0.7899 time:4.783\n",
      "2023-05-08 20:28:49,695 - INFO - Info:  [384/1080 (35%)]\t    adv_RMSE: 0.8547 adv_Recall: 28.1250 adv_MAP: 0.1292 adv_RCR: 0.7353 time:4.807\n",
      "2023-05-08 20:28:59,393 - INFO - Info:  [448/1080 (41%)]\t    adv_RMSE: 0.9091 adv_Recall: 28.6260 adv_MAP: 0.1422 adv_RCR: 0.6999 time:4.782\n",
      "2023-05-08 20:29:09,072 - INFO - Info:  [512/1080 (47%)]\t    adv_RMSE: 0.7972 adv_Recall: 25.6637 adv_MAP: 0.1252 adv_RCR: 0.7420 time:4.737\n",
      "2023-05-08 20:29:18,769 - INFO - Info:  [576/1080 (53%)]\t    adv_RMSE: 0.8787 adv_Recall: 24.3243 adv_MAP: 0.0983 adv_RCR: 0.7768 time:4.771\n",
      "2023-05-08 20:29:28,416 - INFO - Info:  [640/1080 (59%)]\t    adv_RMSE: 0.9255 adv_Recall: 30.4348 adv_MAP: 0.1350 adv_RCR: 0.6969 time:4.755\n",
      "2023-05-08 20:29:38,091 - INFO - Info:  [704/1080 (65%)]\t    adv_RMSE: 0.7838 adv_Recall: 20.8333 adv_MAP: 0.0986 adv_RCR: 0.8089 time:4.774\n",
      "2023-05-08 20:29:47,744 - INFO - Info:  [768/1080 (71%)]\t    adv_RMSE: 0.9157 adv_Recall: 33.3333 adv_MAP: 0.1766 adv_RCR: 0.6716 time:4.747\n",
      "2023-05-08 20:29:57,481 - INFO - Info:  [832/1080 (76%)]\t    adv_RMSE: 0.8730 adv_Recall: 26.1168 adv_MAP: 0.1614 adv_RCR: 0.7649 time:4.755\n",
      "2023-05-08 20:30:07,149 - INFO - Info:  [896/1080 (82%)]\t    adv_RMSE: 0.8116 adv_Recall: 28.5714 adv_MAP: 0.1285 adv_RCR: 0.7264 time:4.760\n",
      "2023-05-08 20:30:16,854 - INFO - Info:  [960/1080 (88%)]\t    adv_RMSE: 0.8538 adv_Recall: 23.8372 adv_MAP: 0.1306 adv_RCR: 0.7967 time:4.794\n",
      "2023-05-08 20:30:26,571 - INFO - Info:  [1024/1080 (94%)]\t    adv_RMSE: 0.7929 adv_Recall: 21.6080 adv_MAP: 0.1118 adv_RCR: 0.7835 time:4.810\n",
      "2023-05-08 20:30:35,061 - INFO - Info:  [1080/1080 (100%)]\t    adv_RMSE: 0.8542 adv_Recall: 24.3590 adv_MAP: 0.1187 adv_RCR: 0.7645 time:3.549\n",
      "2023-05-08 20:30:37,680 - INFO - Info:  不可感知性质：1.7186346054077148\n",
      "2023-05-08 20:30:37,681 - INFO - 攻击时间：Info:time:6.168 \t  clean_RMSE: 0.6847 clean_Recall: 32.4305 clean_MAP: 0.1856 clean_RCR: 0.6796   adv_RMSE: 0.8611 adv_Recall: 27.3182 adv_MAP: 0.1263 adv_RCR: 0.7412\n",
      "2023-05-08 20:30:41,405 - INFO - ten_ZINBSC_40_43\n"
     ]
    },
    {
     "name": "stdout",
     "output_type": "stream",
     "text": [
      "2023-05-08 20:30:37,0,NYC,Gsnet,ten,ZINBSC,40,32,0.6847454450474136,32.43045387994143,0.18557500325210685,0.6796269542597637,0.8611372987097479,27.318204001952175,0.12629451741097839,0.7412477712143604,0.5464631590680785,99.68565157546222,0.9934030306190615,0.0016247741261450708\n"
     ]
    },
    {
     "name": "stderr",
     "output_type": "stream",
     "text": [
      "2023-05-08 20:31:19,360 - INFO - Info:  [64/1080 (6%)]\t    adv_RMSE: 0.9192 adv_Recall: 28.1787 adv_MAP: 0.1211 adv_RCR: 0.7623 time:4.789\n",
      "2023-05-08 20:31:29,138 - INFO - Info:  [128/1080 (12%)]\t    adv_RMSE: 0.8686 adv_Recall: 30.7339 adv_MAP: 0.1742 adv_RCR: 0.6922 time:4.807\n",
      "2023-05-08 20:31:39,094 - INFO - Info:  [192/1080 (18%)]\t    adv_RMSE: 0.8847 adv_Recall: 25.3906 adv_MAP: 0.1243 adv_RCR: 0.7607 time:4.884\n",
      "2023-05-08 20:31:49,002 - INFO - Info:  [256/1080 (24%)]\t    adv_RMSE: 0.9542 adv_Recall: 33.6957 adv_MAP: 0.1704 adv_RCR: 0.6996 time:4.893\n",
      "2023-05-08 20:31:58,990 - INFO - Info:  [320/1080 (29%)]\t    adv_RMSE: 0.8499 adv_Recall: 19.5767 adv_MAP: 0.0990 adv_RCR: 0.8249 time:4.956\n",
      "2023-05-08 20:32:08,925 - INFO - Info:  [384/1080 (35%)]\t    adv_RMSE: 0.8628 adv_Recall: 26.7857 adv_MAP: 0.1281 adv_RCR: 0.7627 time:4.881\n",
      "2023-05-08 20:32:18,887 - INFO - Info:  [448/1080 (41%)]\t    adv_RMSE: 0.9264 adv_Recall: 27.0992 adv_MAP: 0.1345 adv_RCR: 0.7371 time:4.925\n",
      "2023-05-08 20:32:28,854 - INFO - Info:  [512/1080 (47%)]\t    adv_RMSE: 0.8034 adv_Recall: 22.5664 adv_MAP: 0.1187 adv_RCR: 0.7599 time:4.905\n",
      "2023-05-08 20:32:38,788 - INFO - Info:  [576/1080 (53%)]\t    adv_RMSE: 0.8931 adv_Recall: 23.4234 adv_MAP: 0.1000 adv_RCR: 0.7627 time:4.909\n",
      "2023-05-08 20:32:48,756 - INFO - Info:  [640/1080 (59%)]\t    adv_RMSE: 0.9462 adv_Recall: 30.1003 adv_MAP: 0.1323 adv_RCR: 0.7219 time:4.876\n",
      "2023-05-08 20:32:58,674 - INFO - Info:  [704/1080 (65%)]\t    adv_RMSE: 0.8033 adv_Recall: 19.0476 adv_MAP: 0.1292 adv_RCR: 0.8144 time:4.895\n",
      "2023-05-08 20:33:08,593 - INFO - Info:  [768/1080 (71%)]\t    adv_RMSE: 0.9324 adv_Recall: 33.9869 adv_MAP: 0.1707 adv_RCR: 0.6694 time:4.872\n",
      "2023-05-08 20:33:18,527 - INFO - Info:  [832/1080 (76%)]\t    adv_RMSE: 0.8866 adv_Recall: 27.1478 adv_MAP: 0.1615 adv_RCR: 0.7600 time:4.858\n",
      "2023-05-08 20:33:28,463 - INFO - Info:  [896/1080 (82%)]\t    adv_RMSE: 0.8172 adv_Recall: 29.4372 adv_MAP: 0.1191 adv_RCR: 0.7493 time:4.881\n",
      "2023-05-08 20:33:38,475 - INFO - Info:  [960/1080 (88%)]\t    adv_RMSE: 0.8814 adv_Recall: 20.3488 adv_MAP: 0.1278 adv_RCR: 0.8375 time:4.923\n",
      "2023-05-08 20:33:48,388 - INFO - Info:  [1024/1080 (94%)]\t    adv_RMSE: 0.8069 adv_Recall: 22.6131 adv_MAP: 0.1095 adv_RCR: 0.7783 time:4.895\n",
      "2023-05-08 20:33:57,077 - INFO - Info:  [1080/1080 (100%)]\t    adv_RMSE: 0.8654 adv_Recall: 23.0769 adv_MAP: 0.1119 adv_RCR: 0.7653 time:3.650\n",
      "2023-05-08 20:33:59,771 - INFO - Info:  不可感知性质：1.7712863683700562\n",
      "2023-05-08 20:33:59,772 - INFO - 攻击时间：Info:time:6.345 \t  clean_RMSE: 0.6847 clean_Recall: 32.4305 clean_MAP: 0.1856 clean_RCR: 0.6796   adv_RMSE: 0.8764 adv_Recall: 26.9888 adv_MAP: 0.1263 adv_RCR: 0.7467\n",
      "2023-05-08 20:34:03,468 - INFO - ten_ZINBSC_40_44\n"
     ]
    },
    {
     "name": "stdout",
     "output_type": "stream",
     "text": [
      "2023-05-08 20:33:59,0,NYC,Gsnet,ten,ZINBSC,40,32,0.6847454450474136,32.43045387994143,0.18557500325210685,0.6796269542597637,0.8764330723524666,26.98877501220107,0.12634511263920953,0.7467021461862293,0.5760345542371837,99.69123172501023,0.9934341187672567,0.0019098973711799872\n"
     ]
    },
    {
     "name": "stderr",
     "output_type": "stream",
     "text": [
      "2023-05-08 20:34:41,551 - INFO - Info:  [64/1080 (6%)]\t    adv_RMSE: 0.9063 adv_Recall: 28.1787 adv_MAP: 0.1198 adv_RCR: 0.7628 time:4.890\n",
      "2023-05-08 20:34:51,515 - INFO - Info:  [128/1080 (12%)]\t    adv_RMSE: 0.8591 adv_Recall: 31.1927 adv_MAP: 0.1655 adv_RCR: 0.7025 time:4.894\n",
      "2023-05-08 20:35:01,445 - INFO - Info:  [192/1080 (18%)]\t    adv_RMSE: 0.8711 adv_Recall: 25.0000 adv_MAP: 0.1378 adv_RCR: 0.7252 time:4.869\n",
      "2023-05-08 20:35:11,288 - INFO - Info:  [256/1080 (24%)]\t    adv_RMSE: 0.9383 adv_Recall: 33.4239 adv_MAP: 0.1581 adv_RCR: 0.7118 time:4.853\n",
      "2023-05-08 20:35:21,160 - INFO - Info:  [320/1080 (29%)]\t    adv_RMSE: 0.8334 adv_Recall: 23.8095 adv_MAP: 0.1134 adv_RCR: 0.7594 time:4.869\n",
      "2023-05-08 20:35:31,056 - INFO - Info:  [384/1080 (35%)]\t    adv_RMSE: 0.8566 adv_Recall: 27.2321 adv_MAP: 0.1560 adv_RCR: 0.7170 time:4.866\n",
      "2023-05-08 20:35:40,949 - INFO - Info:  [448/1080 (41%)]\t    adv_RMSE: 0.9097 adv_Recall: 25.5725 adv_MAP: 0.1341 adv_RCR: 0.7269 time:4.890\n",
      "2023-05-08 20:35:50,804 - INFO - Info:  [512/1080 (47%)]\t    adv_RMSE: 0.7961 adv_Recall: 26.9912 adv_MAP: 0.1303 adv_RCR: 0.7101 time:4.827\n",
      "2023-05-08 20:36:00,718 - INFO - Info:  [576/1080 (53%)]\t    adv_RMSE: 0.8811 adv_Recall: 22.9730 adv_MAP: 0.0964 adv_RCR: 0.7621 time:4.884\n",
      "2023-05-08 20:36:10,591 - INFO - Info:  [640/1080 (59%)]\t    adv_RMSE: 0.9348 adv_Recall: 30.1003 adv_MAP: 0.1390 adv_RCR: 0.7180 time:4.863\n",
      "2023-05-08 20:36:20,474 - INFO - Info:  [704/1080 (65%)]\t    adv_RMSE: 0.8013 adv_Recall: 18.4524 adv_MAP: 0.1020 adv_RCR: 0.8283 time:4.866\n",
      "2023-05-08 20:36:30,348 - INFO - Info:  [768/1080 (71%)]\t    adv_RMSE: 0.9189 adv_Recall: 31.0458 adv_MAP: 0.1609 adv_RCR: 0.6985 time:4.858\n",
      "2023-05-08 20:36:41,358 - INFO - Info:  [832/1080 (76%)]\t    adv_RMSE: 0.8732 adv_Recall: 27.1478 adv_MAP: 0.1744 adv_RCR: 0.7557 time:5.983\n",
      "2023-05-08 20:36:53,529 - INFO - Info:  [896/1080 (82%)]\t    adv_RMSE: 0.8162 adv_Recall: 29.0043 adv_MAP: 0.1068 adv_RCR: 0.7581 time:5.964\n",
      "2023-05-08 20:37:05,819 - INFO - Info:  [960/1080 (88%)]\t    adv_RMSE: 0.8538 adv_Recall: 22.0930 adv_MAP: 0.0907 adv_RCR: 0.8228 time:6.010\n",
      "2023-05-08 20:37:17,954 - INFO - Info:  [1024/1080 (94%)]\t    adv_RMSE: 0.7980 adv_Recall: 23.6181 adv_MAP: 0.1270 adv_RCR: 0.7538 time:6.003\n",
      "2023-05-08 20:37:28,599 - INFO - Info:  [1080/1080 (100%)]\t    adv_RMSE: 0.8513 adv_Recall: 22.4359 adv_MAP: 0.1090 adv_RCR: 0.7811 time:4.462\n",
      "2023-05-08 20:37:31,324 - INFO - Info:  不可感知性质：1.7365295886993408\n",
      "2023-05-08 20:37:31,325 - INFO - 攻击时间：Info:time:7.188 \t  clean_RMSE: 0.6847 clean_Recall: 32.4305 clean_MAP: 0.1856 clean_RCR: 0.6796   adv_RMSE: 0.8629 adv_Recall: 27.2938 adv_MAP: 0.1277 adv_RCR: 0.7399\n"
     ]
    },
    {
     "name": "stdout",
     "output_type": "stream",
     "text": [
      "2023-05-08 20:37:31,0,NYC,Gsnet,ten,ZINBSC,40,32,0.6847454450474136,32.43045387994143,0.18557500325210685,0.6796269542597637,0.8629145734873402,27.2938018545632,0.12771663779772197,0.7399409463051567,0.552780646829183,99.67635132621554,0.9934069489807621,0.001989377590228727\n"
     ]
    }
   ],
   "source": [
    "#攻击，并写入数据,20230315导入包修改为lib.utils_new_round\n",
    "import yaml\n",
    "from mmcv import Config\n",
    "from myfunction import log_test_results\n",
    "from lib.Imperceptible_attack import log_test_csv,node_map,prenoise_pgd,rcr_pgd,fgsm,min,kl_pgd,JS_pgd_impr,rand_attack,nonenoise_pgd\n",
    "from lib.Imperceptible_attack import ZINBSC,fgsm_impr,min_impr,pgd_impr,random_impr,log_test_csv_time_K,ZINBSC_geneater_kk\n",
    "from myfunction import get_root_logger, logger_info,kl_div_pro\n",
    "from lib.admm_atack_new import none_admm_attack\n",
    "from lib.distru_attack import none_distri_attack\n",
    "from lib.vers_attack import vers_attack\n",
    "from lib.select import select_attack\n",
    "#配置logo\n",
    "logger = get_root_logger('INFO', './logdata')\n",
    "logger.info(\"Loading config file from \")\n",
    "cfgin = Config.fromfile('attack_setting.yaml')\n",
    "#根据配置选择攻击方法\n",
    "if cfgin.attacker == 'white_attacker':\n",
    "    header = ['time','epoch','dataset', 'model','node_select', 'method', 'K','batch size', \n",
    "              'clean_RMSE', 'clean_recall', 'clean_MAP', 'clean_RCR',\n",
    "              'adv_RMSE', 'adv_recall', 'adv_MAP', 'adv_RCR',\n",
    "              'local_adv_RMSE', 'local_adv_recall', 'local_adv_MAP', 'local_adv_RCR',\n",
    "              '备注信息：特征分析，50']\n",
    "    #文件名\n",
    "    file_name = '第28次-{}-eps{}-model-{}'.format(\n",
    "        cfgin.dataset, cfgin.test_epsilon, cfgin.backbone)\n",
    "    log_test_results(cfgin.result_dir, header, file_name)\n",
    "    #可能的时间循环\n",
    "    #攻击方法+节点选择组合\n",
    "    for epoch in range(3):\n",
    "        #break\n",
    "        for out_K in cfgin.K:\n",
    "            for i in cfgin.select_node:\n",
    "                for j in cfgin.attack_method:\n",
    "                    for chi_k in range(35,36):\n",
    "                        logger.info(i+'_'+j+\"_\"+str(out_K)+\"_\"+str(chi_k))\n",
    "                        parm_att = j #攻击方法的函数名称\n",
    "                        parm_node = i #节点选择的方法\n",
    "                        #进行攻击,输出攻击日志\n",
    "                        # 1. 节点选择，返回攻击的节点\n",
    "                        ack_map = node_map(i,chi_k,out_K, cfgin, GSNet_Model, test_loader, risk_mask, road_adj, risk_adj, poi_adj,\n",
    "                                            grid_node_map, device, data_type='nyc')\n",
    "                        # 2. 攻击方法选择，返回未攻击后的预测值，标签值,攻击前的预测值，攻击过程打印每个信息\n",
    "                        adv_val_predict, val_target, val_predict = eval(\"{0}\".format(parm_att))(logger, cfgin, ack_map, GSNet_Model, test_loader,  road_adj, risk_adj, poi_adj,\n",
    "                                                                                                grid_node_map, scaler, risk_mask, device, data_type='nyc')\n",
    "                        #计算结果并打印、存储,注意表头信息需要传递参数\n",
    "                        log_test_csv_time_K(epoch,out_K,adv_val_predict, val_target,\n",
    "                                            val_predict,cfgin,i,j,file_name,risk_mask)\n",
    "                        torch.cuda.empty_cache()\n",
    "    for epoch in range(1):\n",
    "        for out_K in [20,30,40]:\n",
    "            i = 'ten'\n",
    "            j = 'ZINBSC'\n",
    "            for chi_k in range(26,45):\n",
    "                logger.info(i+'_'+j+\"_\"+str(out_K)+\"_\"+str(chi_k))\n",
    "                parm_att = j #攻击方法的函数名称\n",
    "                parm_node = i #节点选择的方法\n",
    "                #进行攻击,输出攻击日志\n",
    "                # 1. 节点选择，返回攻击的节点\n",
    "                ack_map = node_map(i,chi_k,out_K, cfgin, GSNet_Model, test_loader, risk_mask, road_adj, risk_adj, poi_adj,\n",
    "                                    grid_node_map, device, data_type='nyc')\n",
    "                # 2. 攻击方法选择，返回未攻击后的预测值，标签值,攻击前的预测值，攻击过程打印每个信息\n",
    "                adv_val_predict, val_target, val_predict = eval(\"{0}\".format(parm_att))(logger, cfgin, ack_map, GSNet_Model, test_loader,  road_adj, risk_adj, poi_adj,\n",
    "                                                                                        grid_node_map, scaler, risk_mask, device, data_type='nyc')\n",
    "                #计算结果并打印、存储,注意表头信息需要传递参数\n",
    "                log_test_csv_time_K(epoch,out_K,adv_val_predict, val_target,\n",
    "                                    val_predict,cfgin,i,j,file_name,risk_mask)\n",
    "                torch.cuda.empty_cache()\n",
    "           "
   ]
  },
  {
   "cell_type": "code",
   "execution_count": 11,
   "metadata": {},
   "outputs": [
    {
     "name": "stdout",
     "output_type": "stream",
     "text": [
      "[[1. 1. 1. 1. 1. 1. 1. 1. 1. 1. 1. 1. 1. 1. 1. 1. 1. 1. 1. 1.]\n",
      " [1. 1. 1. 1. 1. 1. 1. 1. 1. 1. 1. 1. 1. 1. 1. 1. 1. 1. 1. 1.]\n",
      " [1. 1. 1. 1. 1. 1. 1. 1. 1. 1. 1. 1. 1. 1. 1. 1. 1. 1. 1. 1.]\n",
      " [1. 1. 1. 1. 1. 1. 1. 1. 1. 1. 1. 1. 1. 1. 1. 1. 1. 1. 1. 1.]\n",
      " [1. 1. 1. 1. 1. 1. 1. 1. 1. 1. 1. 1. 1. 1. 1. 1. 1. 1. 1. 1.]\n",
      " [1. 1. 1. 1. 1. 1. 1. 1. 1. 1. 1. 1. 1. 1. 1. 1. 1. 1. 1. 1.]\n",
      " [1. 1. 1. 1. 1. 1. 1. 1. 1. 1. 1. 1. 1. 1. 1. 1. 1. 1. 1. 1.]\n",
      " [1. 1. 1. 1. 1. 1. 1. 1. 1. 1. 1. 1. 1. 1. 1. 1. 1. 1. 1. 1.]\n",
      " [1. 1. 1. 1. 1. 1. 1. 1. 1. 1. 1. 1. 1. 1. 1. 1. 1. 1. 1. 1.]\n",
      " [1. 1. 1. 1. 1. 1. 1. 1. 1. 1. 1. 1. 1. 1. 1. 1. 1. 1. 1. 1.]\n",
      " [1. 1. 1. 1. 1. 1. 1. 1. 1. 1. 1. 1. 1. 1. 1. 1. 1. 1. 1. 1.]\n",
      " [1. 1. 1. 1. 1. 1. 1. 1. 1. 1. 1. 1. 1. 1. 1. 1. 1. 1. 1. 1.]\n",
      " [1. 1. 1. 0. 0. 0. 0. 0. 0. 0. 0. 0. 0. 0. 0. 0. 0. 0. 0. 0.]\n",
      " [0. 0. 0. 0. 0. 0. 0. 0. 0. 0. 0. 0. 0. 0. 0. 0. 0. 0. 0. 0.]\n",
      " [0. 0. 0. 0. 0. 0. 0. 0. 0. 0. 0. 0. 0. 0. 0. 0. 0. 0. 0. 0.]\n",
      " [0. 0. 0. 0. 0. 0. 0. 0. 0. 0. 0. 0. 0. 0. 0. 0. 0. 0. 0. 0.]\n",
      " [0. 0. 0. 0. 0. 0. 0. 0. 0. 0. 0. 0. 0. 0. 0. 0. 0. 0. 0. 0.]\n",
      " [0. 0. 0. 0. 0. 0. 0. 0. 0. 0. 0. 0. 0. 0. 0. 0. 0. 0. 0. 0.]\n",
      " [0. 0. 0. 0. 0. 0. 0. 0. 0. 0. 0. 0. 0. 0. 0. 0. 0. 0. 0. 0.]\n",
      " [0. 0. 0. 0. 0. 0. 0. 0. 0. 0. 0. 0. 0. 0. 0. 0. 0. 0. 0. 0.]]\n"
     ]
    }
   ],
   "source": [
    "import pandas as pd\n",
    "aso = np.load('riak_243.npy')\n",
    "bso = np.load('map_0502.npy')\n",
    "\n",
    "print(aso)"
   ]
  },
  {
   "cell_type": "code",
   "execution_count": 12,
   "metadata": {},
   "outputs": [
    {
     "ename": "IndexError",
     "evalue": "too many indices for array: array is 2-dimensional, but 3 were indexed",
     "output_type": "error",
     "traceback": [
      "\u001b[0;31m---------------------------------------------------------------------------\u001b[0m",
      "\u001b[0;31mIndexError\u001b[0m                                Traceback (most recent call last)",
      "Cell \u001b[0;32mIn[12], line 1\u001b[0m\n\u001b[0;32m----> 1\u001b[0m \u001b[39mprint\u001b[39m(aso[\u001b[39m38\u001b[39;49m,:,:])\n\u001b[1;32m      2\u001b[0m \u001b[39mprint\u001b[39m(np\u001b[39m.\u001b[39msum(aso[\u001b[39m38\u001b[39m,:,:]))\n",
      "\u001b[0;31mIndexError\u001b[0m: too many indices for array: array is 2-dimensional, but 3 were indexed"
     ]
    }
   ],
   "source": [
    "print(aso[38,:,:])\n",
    "print(np.sum(aso[38,:,:]))"
   ]
  },
  {
   "cell_type": "code",
   "execution_count": null,
   "metadata": {},
   "outputs": [],
   "source": [
    "\n",
    "print(bso[100,1,0,:,:]*46.0)"
   ]
  },
  {
   "cell_type": "code",
   "execution_count": null,
   "metadata": {},
   "outputs": [],
   "source": [
    "map_243 = np.load(\"data/nyc/243nyc.npy\")\n",
    "print(map_243.shape)\n",
    "\n"
   ]
  },
  {
   "cell_type": "code",
   "execution_count": null,
   "metadata": {},
   "outputs": [],
   "source": [
    "import torch\n",
    "map_a = torch.randint(0,2,(20,20))\n",
    "map_b = torch.randint(10,11,(1,10))\n",
    "\n",
    "idx = torch.nonzero(map_a  == 1)\n",
    "if idx.shape[0]>20:\n",
    "    map_a[idx[:10,:]]==map_b \n",
    "print(map_a)\n",
    "\n"
   ]
  },
  {
   "cell_type": "code",
   "execution_count": null,
   "metadata": {},
   "outputs": [],
   "source": [
    "import torch\n",
    "a=torch.randint(1,3,(2,3))\n",
    "b=torch.randint(1,3,(2,3))\n",
    "c = []\n",
    "c.append(a)\n",
    "c.append(b)\n",
    "\n",
    "print(torch.stack(c).shape)"
   ]
  },
  {
   "cell_type": "code",
   "execution_count": null,
   "metadata": {},
   "outputs": [],
   "source": [
    "import  numpy as np\n",
    "a=np.random.randint(1,3,(2,3))\n",
    "b=np.random.randint(1,3,(2,3))\n",
    "c = []\n",
    "c.append(a)\n",
    "c.append(b)\n",
    "\n",
    "print(np.vstack(c))\n",
    "print(np.concatenate([a,b],axis=0))\n",
    "print(np.concatenate(c,axis=0))"
   ]
  }
 ],
 "metadata": {
  "kernelspec": {
   "display_name": "base",
   "language": "python",
   "name": "python3"
  },
  "language_info": {
   "codemirror_mode": {
    "name": "ipython",
    "version": 3
   },
   "file_extension": ".py",
   "mimetype": "text/x-python",
   "name": "python",
   "nbconvert_exporter": "python",
   "pygments_lexer": "ipython3",
   "version": "3.10.9"
  },
  "orig_nbformat": 4,
  "vscode": {
   "interpreter": {
    "hash": "2f394aca7ca06fed1e6064aef884364492d7cdda3614a461e02e6407fc40ba69"
   }
  }
 },
 "nbformat": 4,
 "nbformat_minor": 2
}
